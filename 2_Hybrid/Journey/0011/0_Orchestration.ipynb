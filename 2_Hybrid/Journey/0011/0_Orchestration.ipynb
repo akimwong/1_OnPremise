{
  "nbformat": 4,
  "nbformat_minor": 0,
  "metadata": {
    "colab": {
      "name": "0_Orchestration.ipynb",
      "provenance": [],
      "collapsed_sections": [],
      "authorship_tag": "ABX9TyM+ZOft2pl3Y2nWUdHz9AoY",
      "include_colab_link": true
    },
    "kernelspec": {
      "name": "python3",
      "display_name": "Python 3"
    },
    "language_info": {
      "name": "python"
    }
  },
  "cells": [
    {
      "cell_type": "markdown",
      "metadata": {
        "id": "view-in-github",
        "colab_type": "text"
      },
      "source": [
        "<a href=\"https://colab.research.google.com/github/akimwong/1_OnPremise/blob/main/2_Hybrid/Journey/0011/0_Orchestration.ipynb\" target=\"_parent\"><img src=\"https://colab.research.google.com/assets/colab-badge.svg\" alt=\"Open In Colab\"/></a>"
      ]
    },
    {
      "cell_type": "markdown",
      "metadata": {
        "id": "xqg5bkYGDLBq"
      },
      "source": [
        "## DIRECTED ACYCLIC GRAPH (DAG)\n",
        "Is a conceptual representation of a series of activities. The order of the activities is depicted by a graph, which is visually presented as a set of circles, each one representing an activity, some of which are connected by lines, which represent the flow from one activity to another.\n",
        "\n",
        "<p align=\"center\"><img src=\"https://drive.google.com/uc?export=view&id=1yvus6rzgENfwyIIKLG95dSfDwmfxqPPw\" width=250 height=150 />\n",
        "\n",
        "1. “Directed” means that each edge has a defined direction, so each edge necessarily represents a single directional flow from one vertex to another\n",
        "2. “Acyclic” means that there are no loops (i.e., “cycles”) in the graph, so that for any given vertex, if you follow an edge that connects that vertex to another, there is no path in the graph to get back to that initial vertex\n",
        "3. \"Graph\" is a collection of vertices (or point) and edges (or lines) that indicate connections between the vertices"
      ]
    },
    {
      "cell_type": "markdown",
      "metadata": {
        "id": "5vUfms_ePZK5"
      },
      "source": [
        "## DATA ORCHESTRATION\n",
        "When a person (or a team) wants to put a data asset (a table, a file, a lake) in production that's not done in a vacuum, data must come from somewhere and go somewhere.  \n",
        "You need a workflow manager or orchestration system to model those dependencies and ensure those computations that produce data are scheduled and orderly correctly.\n",
        "\n",
        "#### ROLES THAT ORCHESTRATION INVOLVES\n",
        "1. Practitioner: Responsible for the production of data assets (data engineer / data science)\n",
        "2. Stakeholders: Care about data assets and often are ops people business analysts, they care about the data consumed, a kind of self-serve on top of the platform and even do operational tasks\n",
        "3. Platform: Responsible for the data infrastructure and support practitioners and stakeholders.  One of their primary jobs are to enable end-to end ownership by practitioners over their data asset production\n",
        "\n",
        "#### The natural center of gravity between that roles is the \"orchestrator\"\n",
        "The dominant engines are Apache Airflow, Luigi, Kubeflow, MLflow, Argo, ... (and the new one [Dagster](https://docs.dagster.io/getting-started))  "
      ]
    },
    {
      "cell_type": "markdown",
      "metadata": {
        "id": "wp0KHpvkSZEW"
      },
      "source": [
        "## DAGSTER\n",
        "Is a data orchestrator for machine learning, analytics, and ETL\n",
        "\n",
        "A pipeline (@job) is a set of solids (@op) arranged into a DAG of computation. "
      ]
    },
    {
      "cell_type": "code",
      "metadata": {
        "id": "OKi0nb4tj7LZ"
      },
      "source": [
        "pip install dagster dagit requests"
      ],
      "execution_count": null,
      "outputs": []
    },
    {
      "cell_type": "code",
      "metadata": {
        "id": "15H6gwAqDH_s"
      },
      "source": [
        "from dagster import job, op\n",
        "\n",
        "@op\n",
        "def return_five():\n",
        "    return 5\n",
        "\n",
        "@op\n",
        "def add_one(arg):\n",
        "    return arg + 1\n",
        "\n",
        "@job\n",
        "def do_stuff():\n",
        "    add_one(return_five())"
      ],
      "execution_count": null,
      "outputs": []
    }
  ]
}