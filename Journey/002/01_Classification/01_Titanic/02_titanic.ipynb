{
 "cells": [
  {
   "cell_type": "markdown",
   "metadata": {},
   "source": [
    "# 02_titanic\n",
    "Autor: Carlos Wong <br/>\n",
    "Fecha: 2022_02_08 <br/>\n",
    "Tipo de problema: CLASIFICACIÓN <br/>\n",
    "Entradas: 'train' kaggle competition (titanic) <br/>\n",
    "Salidas: Submission ('PassengerId','Survived')  <br/>\n",
    "Propósito: Práctica de análisis, visualización, entrenamiento, predicción y documentación"
   ]
  },
  {
   "cell_type": "markdown",
   "metadata": {},
   "source": [
    "## 1. Librerías + Descarga de datos"
   ]
  },
  {
   "cell_type": "code",
   "execution_count": 3799,
   "metadata": {},
   "outputs": [],
   "source": [
    "# librerías estándar\n",
    "import pandas as pd\n",
    "import numpy as np\n",
    "import matplotlib.pyplot as plt\n",
    "import seaborn as sns\n",
    "from datetime import datetime"
   ]
  },
  {
   "cell_type": "code",
   "execution_count": 3800,
   "metadata": {},
   "outputs": [],
   "source": [
    "import warnings\n",
    "warnings.filterwarnings(\"ignore\")"
   ]
  },
  {
   "cell_type": "code",
   "execution_count": 3801,
   "metadata": {},
   "outputs": [],
   "source": [
    "# librerías sklearn\n",
    "# Se descargan librerías para realizar diferentes pruebas\n",
    "import sklearn\n",
    "from sklearn.model_selection import train_test_split\n",
    "from sklearn.model_selection import KFold, ShuffleSplit, LeaveOneOut, StratifiedKFold\n",
    "from sklearn.model_selection import cross_val_score, cross_val_predict\n",
    "from sklearn.model_selection import GridSearchCV \n",
    "from sklearn.compose import make_column_transformer, ColumnTransformer, make_column_selector\n",
    "from sklearn.preprocessing import OneHotEncoder, OrdinalEncoder, LabelEncoder\n",
    "from sklearn.preprocessing import MinMaxScaler, StandardScaler, Normalizer, Binarizer, RobustScaler\n",
    "from sklearn.preprocessing import KBinsDiscretizer \n",
    "from sklearn.preprocessing import FunctionTransformer,PowerTransformer\n",
    "from sklearn.pipeline import Pipeline, make_pipeline\n",
    "from sklearn.decomposition import PCA\n",
    "from sklearn.feature_selection import SelectKBest, chi2, SelectPercentile\n",
    "from sklearn.feature_selection import f_classif\n",
    "from sklearn.feature_selection import RFE\n",
    "from sklearn.feature_selection import SelectFromModel\n",
    "from sklearn.impute import SimpleImputer, KNNImputer"
   ]
  },
  {
   "cell_type": "code",
   "execution_count": 3802,
   "metadata": {},
   "outputs": [],
   "source": [
    "# librerías de modelos\n",
    "from sklearn.linear_model import LogisticRegression\n",
    "from sklearn.tree import DecisionTreeClassifier\n",
    "from sklearn.ensemble import ExtraTreesClassifier\n",
    "from sklearn.neighbors import KNeighborsClassifier\n",
    "from sklearn.discriminant_analysis import LinearDiscriminantAnalysis\n",
    "from sklearn.naive_bayes import GaussianNB\n",
    "from sklearn.ensemble import RandomForestClassifier\n",
    "from sklearn.svm import SVC"
   ]
  },
  {
   "cell_type": "code",
   "execution_count": 3803,
   "metadata": {},
   "outputs": [],
   "source": [
    "train = pd.read_csv(r'./datasets/train.csv', sep=',')\n",
    "test = pd.read_csv(r'./datasets/test.csv', sep=',')"
   ]
  },
  {
   "cell_type": "code",
   "execution_count": 3804,
   "metadata": {},
   "outputs": [],
   "source": [
    "X_train = train.drop(['PassengerId','Survived'], axis=1)\n",
    "y_train = train['Survived']\n",
    "X_test = test.drop(['PassengerId'], axis=1)"
   ]
  },
  {
   "cell_type": "markdown",
   "metadata": {},
   "source": [
    "## 2. EDA "
   ]
  },
  {
   "cell_type": "code",
   "execution_count": 3805,
   "metadata": {},
   "outputs": [
    {
     "data": {
      "text/html": [
       "<div>\n",
       "<style scoped>\n",
       "    .dataframe tbody tr th:only-of-type {\n",
       "        vertical-align: middle;\n",
       "    }\n",
       "\n",
       "    .dataframe tbody tr th {\n",
       "        vertical-align: top;\n",
       "    }\n",
       "\n",
       "    .dataframe thead th {\n",
       "        text-align: right;\n",
       "    }\n",
       "</style>\n",
       "<table border=\"1\" class=\"dataframe\">\n",
       "  <thead>\n",
       "    <tr style=\"text-align: right;\">\n",
       "      <th></th>\n",
       "      <th>Pclass</th>\n",
       "      <th>Name</th>\n",
       "      <th>Sex</th>\n",
       "      <th>Age</th>\n",
       "      <th>SibSp</th>\n",
       "      <th>Parch</th>\n",
       "      <th>Ticket</th>\n",
       "      <th>Fare</th>\n",
       "      <th>Cabin</th>\n",
       "      <th>Embarked</th>\n",
       "    </tr>\n",
       "  </thead>\n",
       "  <tbody>\n",
       "    <tr>\n",
       "      <th>0</th>\n",
       "      <td>3</td>\n",
       "      <td>Braund, Mr. Owen Harris</td>\n",
       "      <td>male</td>\n",
       "      <td>22.0</td>\n",
       "      <td>1</td>\n",
       "      <td>0</td>\n",
       "      <td>A/5 21171</td>\n",
       "      <td>7.2500</td>\n",
       "      <td>NaN</td>\n",
       "      <td>S</td>\n",
       "    </tr>\n",
       "    <tr>\n",
       "      <th>1</th>\n",
       "      <td>1</td>\n",
       "      <td>Cumings, Mrs. John Bradley (Florence Briggs Th...</td>\n",
       "      <td>female</td>\n",
       "      <td>38.0</td>\n",
       "      <td>1</td>\n",
       "      <td>0</td>\n",
       "      <td>PC 17599</td>\n",
       "      <td>71.2833</td>\n",
       "      <td>C85</td>\n",
       "      <td>C</td>\n",
       "    </tr>\n",
       "    <tr>\n",
       "      <th>2</th>\n",
       "      <td>3</td>\n",
       "      <td>Heikkinen, Miss. Laina</td>\n",
       "      <td>female</td>\n",
       "      <td>26.0</td>\n",
       "      <td>0</td>\n",
       "      <td>0</td>\n",
       "      <td>STON/O2. 3101282</td>\n",
       "      <td>7.9250</td>\n",
       "      <td>NaN</td>\n",
       "      <td>S</td>\n",
       "    </tr>\n",
       "  </tbody>\n",
       "</table>\n",
       "</div>"
      ],
      "text/plain": [
       "   Pclass                                               Name     Sex   Age  \\\n",
       "0       3                            Braund, Mr. Owen Harris    male  22.0   \n",
       "1       1  Cumings, Mrs. John Bradley (Florence Briggs Th...  female  38.0   \n",
       "2       3                             Heikkinen, Miss. Laina  female  26.0   \n",
       "\n",
       "   SibSp  Parch            Ticket     Fare Cabin Embarked  \n",
       "0      1      0         A/5 21171   7.2500   NaN        S  \n",
       "1      1      0          PC 17599  71.2833   C85        C  \n",
       "2      0      0  STON/O2. 3101282   7.9250   NaN        S  "
      ]
     },
     "execution_count": 3805,
     "metadata": {},
     "output_type": "execute_result"
    }
   ],
   "source": [
    "X_train.head(3)"
   ]
  },
  {
   "cell_type": "code",
   "execution_count": 3806,
   "metadata": {},
   "outputs": [
    {
     "data": {
      "text/html": [
       "<div>\n",
       "<style scoped>\n",
       "    .dataframe tbody tr th:only-of-type {\n",
       "        vertical-align: middle;\n",
       "    }\n",
       "\n",
       "    .dataframe tbody tr th {\n",
       "        vertical-align: top;\n",
       "    }\n",
       "\n",
       "    .dataframe thead th {\n",
       "        text-align: right;\n",
       "    }\n",
       "</style>\n",
       "<table border=\"1\" class=\"dataframe\">\n",
       "  <thead>\n",
       "    <tr style=\"text-align: right;\">\n",
       "      <th></th>\n",
       "      <th>Pclass</th>\n",
       "      <th>Name</th>\n",
       "      <th>Sex</th>\n",
       "      <th>Age</th>\n",
       "      <th>SibSp</th>\n",
       "      <th>Parch</th>\n",
       "      <th>Ticket</th>\n",
       "      <th>Fare</th>\n",
       "      <th>Cabin</th>\n",
       "      <th>Embarked</th>\n",
       "    </tr>\n",
       "  </thead>\n",
       "  <tbody>\n",
       "    <tr>\n",
       "      <th>0</th>\n",
       "      <td>3</td>\n",
       "      <td>Kelly, Mr. James</td>\n",
       "      <td>male</td>\n",
       "      <td>34.5</td>\n",
       "      <td>0</td>\n",
       "      <td>0</td>\n",
       "      <td>330911</td>\n",
       "      <td>7.8292</td>\n",
       "      <td>NaN</td>\n",
       "      <td>Q</td>\n",
       "    </tr>\n",
       "    <tr>\n",
       "      <th>1</th>\n",
       "      <td>3</td>\n",
       "      <td>Wilkes, Mrs. James (Ellen Needs)</td>\n",
       "      <td>female</td>\n",
       "      <td>47.0</td>\n",
       "      <td>1</td>\n",
       "      <td>0</td>\n",
       "      <td>363272</td>\n",
       "      <td>7.0000</td>\n",
       "      <td>NaN</td>\n",
       "      <td>S</td>\n",
       "    </tr>\n",
       "    <tr>\n",
       "      <th>2</th>\n",
       "      <td>2</td>\n",
       "      <td>Myles, Mr. Thomas Francis</td>\n",
       "      <td>male</td>\n",
       "      <td>62.0</td>\n",
       "      <td>0</td>\n",
       "      <td>0</td>\n",
       "      <td>240276</td>\n",
       "      <td>9.6875</td>\n",
       "      <td>NaN</td>\n",
       "      <td>Q</td>\n",
       "    </tr>\n",
       "  </tbody>\n",
       "</table>\n",
       "</div>"
      ],
      "text/plain": [
       "   Pclass                              Name     Sex   Age  SibSp  Parch  \\\n",
       "0       3                  Kelly, Mr. James    male  34.5      0      0   \n",
       "1       3  Wilkes, Mrs. James (Ellen Needs)  female  47.0      1      0   \n",
       "2       2         Myles, Mr. Thomas Francis    male  62.0      0      0   \n",
       "\n",
       "   Ticket    Fare Cabin Embarked  \n",
       "0  330911  7.8292   NaN        Q  \n",
       "1  363272  7.0000   NaN        S  \n",
       "2  240276  9.6875   NaN        Q  "
      ]
     },
     "execution_count": 3806,
     "metadata": {},
     "output_type": "execute_result"
    }
   ],
   "source": [
    "X_test.head(3)"
   ]
  },
  {
   "cell_type": "markdown",
   "metadata": {},
   "source": [
    "## 3. Feature Engineering"
   ]
  },
  {
   "cell_type": "markdown",
   "metadata": {},
   "source": [
    "Preprocessing with Pipe:\n",
    "1. Name: Extract 'Title' -> Group categories in 'Mr','Mrs','Miss','Master'\n",
    "2. Title: Se agrupan en clases\n",
    "3. Cabin (Imputation NaN=0) -> hasCabin (Transformation, (any_value != 0) == 1)\n",
    "4. Ticket, Name: Drop\n",
    "5. Cabin: Se comprueba Cabin NO aporta señal.  Se descarta. \n",
    "6. Parch,SibSp (Transformation, (any_value > 0) == 1)\n",
    "\n",
    "Preprocessing with Pipeline:\n",
    "1. Embarked (Imputation Categorical) -> Sex, Embarked, Pclass (OneHot, drop first)\n",
    "2. Age, Fare (Imputation Numerical KNN) -> Age, Fare (Binning, StandardScaler)\n",
    "3. Pclass: Remainder, sin cambios, variable numérica ordinal\n",
    "4. Sex: Muy alta correlación con Title, se elimina 'Sex'\n",
    "\n",
    "Modelo:\n",
    "1. Random Forest"
   ]
  },
  {
   "cell_type": "code",
   "execution_count": 3807,
   "metadata": {},
   "outputs": [],
   "source": [
    "csv_name = 'MrsOut'"
   ]
  },
  {
   "cell_type": "markdown",
   "metadata": {},
   "source": [
    "## Pipe"
   ]
  },
  {
   "cell_type": "code",
   "execution_count": 3808,
   "metadata": {},
   "outputs": [],
   "source": [
    "def extract_title (df_x,colname):\n",
    "    df_x['Title'] = df_x[colname].str.extract(' ([A-Za-z]+)\\.', expand=False)\n",
    "    df_x.drop([colname], 1, inplace=True)\n",
    "    return df_x"
   ]
  },
  {
   "cell_type": "code",
   "execution_count": 3809,
   "metadata": {},
   "outputs": [],
   "source": [
    "def map_title (df_x):\n",
    "    dct1 = dict.fromkeys(['Col','Jonkheer','Rev','Major','Capt','Sir','Don','Mr','Dr'],'Mr')\n",
    "    dct2 = dict.fromkeys(['Countess','Mme','Lady','Dona','Mrs'],'Mrs')\n",
    "    dct3 = dict.fromkeys(['Mlle','Ms','Miss'],'Miss')\n",
    "    dct4 = dict.fromkeys(['Master'],'Master')\n",
    "    dct = {**dct1,**dct2, **dct3, **dct4}\n",
    "    df_x['Title'] = df_x['Title'].map(dct)\n",
    "    return df_x"
   ]
  },
  {
   "cell_type": "code",
   "execution_count": 3810,
   "metadata": {},
   "outputs": [],
   "source": [
    "def map_cabin (df_x):\n",
    "    df_x['Cabin'] = df_x['Cabin'].fillna(0)\n",
    "    df_x['hasCabin'] = df_x['Cabin'].apply(lambda x: 0 if x==0 else 1)\n",
    "    df_x.drop(['Cabin'], 1, inplace=True)\n",
    "    return df_x"
   ]
  },
  {
   "cell_type": "code",
   "execution_count": 3811,
   "metadata": {},
   "outputs": [],
   "source": [
    "def parch_sibsp (df_x):\n",
    "    df_x['Parch'] = df_x['Parch'].apply(lambda x: 0 if x == 0 else 1)\n",
    "    df_x['SibSp'] = df_x['SibSp'].apply(lambda x: 0 if x == 0 else 1)\n",
    "    return df_x"
   ]
  },
  {
   "cell_type": "code",
   "execution_count": 3812,
   "metadata": {},
   "outputs": [],
   "source": [
    "def drop_col (df_x,*args):\n",
    "    df_x = df_x.drop(*args, axis=1)\n",
    "    return df_x"
   ]
  },
  {
   "cell_type": "code",
   "execution_count": 3813,
   "metadata": {},
   "outputs": [
    {
     "data": {
      "text/html": [
       "<div>\n",
       "<style scoped>\n",
       "    .dataframe tbody tr th:only-of-type {\n",
       "        vertical-align: middle;\n",
       "    }\n",
       "\n",
       "    .dataframe tbody tr th {\n",
       "        vertical-align: top;\n",
       "    }\n",
       "\n",
       "    .dataframe thead th {\n",
       "        text-align: right;\n",
       "    }\n",
       "</style>\n",
       "<table border=\"1\" class=\"dataframe\">\n",
       "  <thead>\n",
       "    <tr style=\"text-align: right;\">\n",
       "      <th></th>\n",
       "      <th>Pclass</th>\n",
       "      <th>Age</th>\n",
       "      <th>SibSp</th>\n",
       "      <th>Parch</th>\n",
       "      <th>Fare</th>\n",
       "      <th>Embarked</th>\n",
       "      <th>Title</th>\n",
       "    </tr>\n",
       "  </thead>\n",
       "  <tbody>\n",
       "    <tr>\n",
       "      <th>0</th>\n",
       "      <td>3</td>\n",
       "      <td>22.0</td>\n",
       "      <td>1</td>\n",
       "      <td>0</td>\n",
       "      <td>7.2500</td>\n",
       "      <td>S</td>\n",
       "      <td>Mr</td>\n",
       "    </tr>\n",
       "    <tr>\n",
       "      <th>1</th>\n",
       "      <td>1</td>\n",
       "      <td>38.0</td>\n",
       "      <td>1</td>\n",
       "      <td>0</td>\n",
       "      <td>71.2833</td>\n",
       "      <td>C</td>\n",
       "      <td>Mrs</td>\n",
       "    </tr>\n",
       "    <tr>\n",
       "      <th>2</th>\n",
       "      <td>3</td>\n",
       "      <td>26.0</td>\n",
       "      <td>0</td>\n",
       "      <td>0</td>\n",
       "      <td>7.9250</td>\n",
       "      <td>S</td>\n",
       "      <td>Miss</td>\n",
       "    </tr>\n",
       "  </tbody>\n",
       "</table>\n",
       "</div>"
      ],
      "text/plain": [
       "   Pclass   Age  SibSp  Parch     Fare Embarked Title\n",
       "0       3  22.0      1      0   7.2500        S    Mr\n",
       "1       1  38.0      1      0  71.2833        C   Mrs\n",
       "2       3  26.0      0      0   7.9250        S  Miss"
      ]
     },
     "execution_count": 3813,
     "metadata": {},
     "output_type": "execute_result"
    }
   ],
   "source": [
    "# Se aplican las mismas transformaciones a los conjuntos train y test\n",
    "# Se elimina 'Sex' porque tiene muy alta correlación con 'Title'\n",
    "# Se elimina hasCabin porque no da señal al modelo\n",
    "to_drop = ['Ticket','hasCabin','Sex']\n",
    "X_train = X_train.pipe(extract_title,'Name').pipe(map_title).pipe(map_cabin).pipe(parch_sibsp).pipe(drop_col,to_drop)\n",
    "X_test  = X_test.pipe(extract_title,'Name').pipe(map_title).pipe(map_cabin).pipe(parch_sibsp).pipe(drop_col,to_drop)\n",
    "X_train.head(3)"
   ]
  },
  {
   "cell_type": "markdown",
   "metadata": {},
   "source": [
    "## Pipeline"
   ]
  },
  {
   "cell_type": "code",
   "execution_count": 3814,
   "metadata": {},
   "outputs": [],
   "source": [
    "categoric = ['Embarked','Title']  # 'Sex',\n",
    "numeric_1 = ['Age']\n",
    "numeric_2 = ['Fare']\n",
    "numeric_3 = ['SibSp','Parch']"
   ]
  },
  {
   "cell_type": "code",
   "execution_count": 3815,
   "metadata": {},
   "outputs": [],
   "source": [
    "imp_cate = SimpleImputer(strategy='most_frequent')\n",
    "imp_num1 = KNNImputer(n_neighbors=7, weights='uniform', metric='nan_euclidean')\n",
    "scaler_1 = StandardScaler()\n",
    "scaler_2 = StandardScaler()\n",
    "bin_num1 = KBinsDiscretizer(n_bins=5, encode='ordinal', strategy='uniform')\n",
    "bin_num2 = KBinsDiscretizer(n_bins=11, encode='ordinal', strategy='uniform')\n",
    "encoder1 = OneHotEncoder(handle_unknown=\"ignore\", sparse=False, drop='first')\n",
    "power = PowerTransformer(method='yeo-johnson', standardize=True)"
   ]
  },
  {
   "cell_type": "code",
   "execution_count": 3816,
   "metadata": {},
   "outputs": [],
   "source": [
    "categoric_transformer = Pipeline(\n",
    "    steps=[(\"imp_cat\", imp_cate), \n",
    "           (\"encoder\", encoder1)]\n",
    ")"
   ]
  },
  {
   "cell_type": "code",
   "execution_count": 3817,
   "metadata": {},
   "outputs": [],
   "source": [
    "numeric_transformer1 = Pipeline(\n",
    "    steps=[(\"imputer\", imp_num1), \n",
    "           (\"binner1\", bin_num1),\n",
    "           (\"scaler\",  scaler_1)]\n",
    ")"
   ]
  },
  {
   "cell_type": "code",
   "execution_count": 3818,
   "metadata": {},
   "outputs": [],
   "source": [
    "numeric_transformer2 = Pipeline(\n",
    "    steps=[\n",
    "        (\"imputer\", imp_num1), \n",
    "        (\"binner2\", bin_num2),\n",
    "        (\"scaler\",  scaler_2)]\n",
    ")"
   ]
  },
  {
   "cell_type": "code",
   "execution_count": 3819,
   "metadata": {},
   "outputs": [],
   "source": [
    "preprocessor = ColumnTransformer(\n",
    "    transformers=[\n",
    "        (\"cat\", categoric_transformer, categoric),\n",
    "        (\"num1\", numeric_transformer1, numeric_1),\n",
    "        (\"num2\", numeric_transformer2, numeric_2),\n",
    "    ], remainder='passthrough'\n",
    ")"
   ]
  },
  {
   "cell_type": "code",
   "execution_count": 3820,
   "metadata": {},
   "outputs": [],
   "source": [
    "# 'fit_transform' de conjunto train\n",
    "a = preprocessor.fit_transform(X_train)\n",
    "X = pd.DataFrame(a,columns=preprocessor.get_feature_names_out())"
   ]
  },
  {
   "cell_type": "code",
   "execution_count": 3821,
   "metadata": {},
   "outputs": [],
   "source": [
    "# sólo 'transform' de conjunto test\n",
    "b = preprocessor.transform(X_test)\n",
    "test_X = pd.DataFrame(b,columns=preprocessor.get_feature_names_out())"
   ]
  },
  {
   "cell_type": "code",
   "execution_count": 3822,
   "metadata": {},
   "outputs": [
    {
     "data": {
      "text/html": [
       "<div>\n",
       "<style scoped>\n",
       "    .dataframe tbody tr th:only-of-type {\n",
       "        vertical-align: middle;\n",
       "    }\n",
       "\n",
       "    .dataframe tbody tr th {\n",
       "        vertical-align: top;\n",
       "    }\n",
       "\n",
       "    .dataframe thead th {\n",
       "        text-align: right;\n",
       "    }\n",
       "</style>\n",
       "<table border=\"1\" class=\"dataframe\">\n",
       "  <thead>\n",
       "    <tr style=\"text-align: right;\">\n",
       "      <th></th>\n",
       "      <th>cat__Embarked_Q</th>\n",
       "      <th>cat__Embarked_S</th>\n",
       "      <th>cat__Title_Miss</th>\n",
       "      <th>cat__Title_Mr</th>\n",
       "      <th>cat__Title_Mrs</th>\n",
       "      <th>num1__Age</th>\n",
       "      <th>num2__Fare</th>\n",
       "      <th>remainder__Pclass</th>\n",
       "      <th>remainder__SibSp</th>\n",
       "      <th>remainder__Parch</th>\n",
       "    </tr>\n",
       "  </thead>\n",
       "  <tbody>\n",
       "    <tr>\n",
       "      <th>0</th>\n",
       "      <td>0.0</td>\n",
       "      <td>1.0</td>\n",
       "      <td>0.0</td>\n",
       "      <td>1.0</td>\n",
       "      <td>0.0</td>\n",
       "      <td>-0.357914</td>\n",
       "      <td>-0.347772</td>\n",
       "      <td>3.0</td>\n",
       "      <td>1.0</td>\n",
       "      <td>0.0</td>\n",
       "    </tr>\n",
       "    <tr>\n",
       "      <th>1</th>\n",
       "      <td>0.0</td>\n",
       "      <td>0.0</td>\n",
       "      <td>0.0</td>\n",
       "      <td>0.0</td>\n",
       "      <td>1.0</td>\n",
       "      <td>0.873365</td>\n",
       "      <td>0.674884</td>\n",
       "      <td>1.0</td>\n",
       "      <td>1.0</td>\n",
       "      <td>0.0</td>\n",
       "    </tr>\n",
       "  </tbody>\n",
       "</table>\n",
       "</div>"
      ],
      "text/plain": [
       "   cat__Embarked_Q  cat__Embarked_S  cat__Title_Miss  cat__Title_Mr  \\\n",
       "0              0.0              1.0              0.0            1.0   \n",
       "1              0.0              0.0              0.0            0.0   \n",
       "\n",
       "   cat__Title_Mrs  num1__Age  num2__Fare  remainder__Pclass  remainder__SibSp  \\\n",
       "0             0.0  -0.357914   -0.347772                3.0               1.0   \n",
       "1             1.0   0.873365    0.674884                1.0               1.0   \n",
       "\n",
       "   remainder__Parch  \n",
       "0               0.0  \n",
       "1               0.0  "
      ]
     },
     "execution_count": 3822,
     "metadata": {},
     "output_type": "execute_result"
    }
   ],
   "source": [
    "X.head(2)"
   ]
  },
  {
   "cell_type": "code",
   "execution_count": 3823,
   "metadata": {},
   "outputs": [
    {
     "data": {
      "image/png": "[encoded data removed]",
      "text/plain": [
       "<Figure size 576x216 with 2 Axes>"
      ]
     },
     "metadata": {
      "needs_background": "light"
     },
     "output_type": "display_data"
    }
   ],
   "source": [
    "plt.figure(figsize = (8,3))\n",
    "plt.subplot(1,2,1)\n",
    "sns.histplot(X_train.Age)\n",
    "plt.subplot(1,2,2)\n",
    "sns.histplot(X.num1__Age)\n",
    "plt.show()"
   ]
  },
  {
   "cell_type": "code",
   "execution_count": 3824,
   "metadata": {},
   "outputs": [
    {
     "data": {
      "image/png": "[encoded data removed]",
      "text/plain": [
       "<Figure size 576x216 with 2 Axes>"
      ]
     },
     "metadata": {
      "needs_background": "light"
     },
     "output_type": "display_data"
    }
   ],
   "source": [
    "plt.figure(figsize = (8,3))\n",
    "plt.subplot(1,2,1)\n",
    "sns.histplot(X_train.Fare)\n",
    "plt.subplot(1,2,2)\n",
    "sns.histplot(X.num2__Fare)\n",
    "plt.show()"
   ]
  },
  {
   "cell_type": "code",
   "execution_count": 3825,
   "metadata": {
    "scrolled": true
   },
   "outputs": [
    {
     "data": {
      "image/png": "[encoded data removed]",
      "text/plain": [
       "<Figure size 576x360 with 2 Axes>"
      ]
     },
     "metadata": {
      "needs_background": "light"
     },
     "output_type": "display_data"
    }
   ],
   "source": [
    "# Se muestra la matriz de correlaciones (que incluye variable objetivo) con las\n",
    "# correlaciones que superan el (+/-) 50%\n",
    "Xcorr = pd.concat([y_train, X], axis=1).corr()\n",
    "filteredX = Xcorr[((Xcorr >= .5) | (Xcorr <= -.5)) & (Xcorr !=1.000)]\n",
    "plt.figure(figsize=(8,5))\n",
    "sns.heatmap(filteredX, annot=True, cmap=\"Reds\")\n",
    "plt.show()"
   ]
  },
  {
   "cell_type": "code",
   "execution_count": 3826,
   "metadata": {},
   "outputs": [],
   "source": [
    "# Se elimina 'cat__Title_Miss' en train y test por alta correlación con 'cat__Title_Mr'\n",
    "X      = X.drop(['cat__Title_Miss','cat__Title_Mrs'], axis=1)\n",
    "test_X = test_X.drop(['cat__Title_Miss','cat__Title_Mrs'], axis=1)"
   ]
  },
  {
   "cell_type": "markdown",
   "metadata": {},
   "source": [
    "## 4. Random Forest"
   ]
  },
  {
   "cell_type": "code",
   "execution_count": 3827,
   "metadata": {},
   "outputs": [
    {
     "name": "stdout",
     "output_type": "stream",
     "text": [
      "0.8608305274971941\n"
     ]
    }
   ],
   "source": [
    "model = RandomForestClassifier(max_depth=12, criterion='entropy', random_state=99)  # 0.8641975308641975\n",
    "model.fit(X, y_train)\n",
    "results = model.score(X, y_train)\n",
    "print(results)"
   ]
  },
  {
   "cell_type": "code",
   "execution_count": 3828,
   "metadata": {},
   "outputs": [
    {
     "data": {
      "text/plain": [
       "0.8126966292134832"
      ]
     },
     "execution_count": 3828,
     "metadata": {},
     "output_type": "execute_result"
    }
   ],
   "source": [
    "skf = StratifiedKFold(n_splits=10, shuffle=True, random_state=99)\n",
    "pipeline = make_pipeline(model)\n",
    "cv_results = cross_val_score (pipeline,                   # Pipeline\n",
    "                              X,                          # Feature matrix\n",
    "                              y_train,                    # Target vector\n",
    "                              cv=skf,\n",
    "                              scoring=\"accuracy\").mean()  # Cross-validation technique\n",
    "cv_results"
   ]
  },
  {
   "cell_type": "code",
   "execution_count": 3830,
   "metadata": {},
   "outputs": [
    {
     "data": {
      "image/png": "[encoded data removed]",
      "text/plain": [
       "<Figure size 432x360 with 1 Axes>"
      ]
     },
     "metadata": {
      "needs_background": "light"
     },
     "output_type": "display_data"
    }
   ],
   "source": [
    "plt.figure(figsize=(6,5))\n",
    "plt.barh(y=X.columns, width=model.feature_importances_)\n",
    "plt.show()"
   ]
  },
  {
   "cell_type": "code",
   "execution_count": 3831,
   "metadata": {},
   "outputs": [],
   "source": [
    "features = test.drop(['PassengerId'], axis=1)\n",
    "PassengerId = test.PassengerId"
   ]
  },
  {
   "cell_type": "code",
   "execution_count": 3832,
   "metadata": {},
   "outputs": [],
   "source": [
    "predictions = model.predict(test_X)"
   ]
  },
  {
   "cell_type": "code",
   "execution_count": 3833,
   "metadata": {},
   "outputs": [],
   "source": [
    "submission = pd.DataFrame({\n",
    "    \"PassengerId\": PassengerId,\n",
    "    \"Survived\": predictions\n",
    "    })"
   ]
  },
  {
   "cell_type": "code",
   "execution_count": 3834,
   "metadata": {},
   "outputs": [],
   "source": [
    "submission.to_csv(f'./submissions/titanic_rf_{csv_name}_{format(pd.datetime.now().strftime(\"%Y%m%d-%H%M\"))}.csv', index=False) "
   ]
  },
  {
   "cell_type": "code",
   "execution_count": 3835,
   "metadata": {},
   "outputs": [],
   "source": [
    "# sc:0.86419 kggl_sc:0.78229 titanic_rf_base_\n",
    "# sc:0.86307 kggl_sc:0.78947 titanic_rf_MissOut_\n",
    "# sc:0.86083 kggl_sc:0.78947 titanic_rf_MrsOut_"
   ]
  },
  {
   "cell_type": "code",
   "execution_count": null,
   "metadata": {},
   "outputs": [],
   "source": []
  }
 ],
 "metadata": {
  "kernelspec": {
   "display_name": "Python 3",
   "language": "python",
   "name": "python3"
  },
  "language_info": {
   "codemirror_mode": {
    "name": "ipython",
    "version": 3
   },
   "file_extension": ".py",
   "mimetype": "text/x-python",
   "name": "python",
   "nbconvert_exporter": "python",
   "pygments_lexer": "ipython3",
   "version": "3.8.5"
  }
 },
 "nbformat": 4,
 "nbformat_minor": 4
}
