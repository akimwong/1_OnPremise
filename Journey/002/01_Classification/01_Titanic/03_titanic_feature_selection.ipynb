{
 "cells": [
  {
   "cell_type": "markdown",
   "metadata": {},
   "source": [
    "# 03_titanic_feature_selection\n",
    "Autor: Carlos Wong <br/>\n",
    "Fecha: 2022_06_11 <br/>\n",
    "Tipo de problema: CLASIFICACIÓN <br/>\n",
    "Entradas: 'train' kaggle competition (titanic) <br/>\n",
    "Salidas: Submission ('PassengerId','Survived')  <br/>\n",
    "Propósito: Práctica de análisis, visualización, entrenamiento, predicción y documentación\n",
    "1. `Librerías + Descarga de datos <-------- `\n",
    "2. Exploración de la variable objetivo\n",
    "3. EDA (Exploración de datos)\n",
    "4. Feature Engineering (Transformación de variables)\n",
    "5. `Selección de variables <-------- `\n",
    "6. Modelos (pipeline, semilla en train_test split y modelos, comparación modelos)\n",
    "7. Métricas de evaluación\n",
    "8. Selección de algoritmo\n",
    "9. Parametrización de algoritmo\n",
    "10. Guardado del modelo"
   ]
  },
  {
   "cell_type": "markdown",
   "metadata": {},
   "source": [
    "## 1. LIBRERÍAS Y EXTRACCIÓN DE DATOS "
   ]
  },
  {
   "cell_type": "code",
   "execution_count": 99,
   "metadata": {},
   "outputs": [],
   "source": [
    "# librerías estándar\n",
    "import pandas as pd\n",
    "import numpy as np\n",
    "import matplotlib.pyplot as plt\n",
    "import seaborn as sns"
   ]
  },
  {
   "cell_type": "code",
   "execution_count": 100,
   "metadata": {},
   "outputs": [],
   "source": [
    "import warnings\n",
    "warnings.filterwarnings(\"ignore\")"
   ]
  },
  {
   "cell_type": "code",
   "execution_count": 101,
   "metadata": {},
   "outputs": [],
   "source": [
    "# librerías sklearn\n",
    "import sklearn\n",
    "from sklearn.feature_selection import SelectKBest, chi2\n",
    "from sklearn.model_selection import train_test_split\n",
    "from sklearn.model_selection import KFold, ShuffleSplit, LeaveOneOut\n",
    "from sklearn.model_selection import cross_val_score, cross_val_predict\n",
    "from sklearn.preprocessing import MinMaxScaler, StandardScaler, Normalizer, Binarizer\n",
    "from sklearn.preprocessing import OneHotEncoder\n",
    "from sklearn.pipeline import Pipeline, make_pipeline\n",
    "from sklearn.decomposition import PCA\n",
    "from sklearn.feature_selection import RFE\n",
    "from sklearn.compose import ColumnTransformer\n",
    "from sklearn.impute import SimpleImputer, KNNImputer"
   ]
  },
  {
   "cell_type": "code",
   "execution_count": 102,
   "metadata": {},
   "outputs": [],
   "source": [
    "# librerías de modelos\n",
    "from sklearn.linear_model import LogisticRegression\n",
    "from sklearn.tree import DecisionTreeClassifier\n",
    "from sklearn.ensemble import ExtraTreesClassifier\n",
    "from sklearn.neighbors import KNeighborsClassifier\n",
    "from sklearn.discriminant_analysis import LinearDiscriminantAnalysis\n",
    "from sklearn.naive_bayes import GaussianNB\n",
    "from sklearn.ensemble import RandomForestClassifier\n",
    "from sklearn.svm import SVC"
   ]
  },
  {
   "cell_type": "code",
   "execution_count": 103,
   "metadata": {},
   "outputs": [
    {
     "data": {
      "text/html": [
       "<div>\n",
       "<style scoped>\n",
       "    .dataframe tbody tr th:only-of-type {\n",
       "        vertical-align: middle;\n",
       "    }\n",
       "\n",
       "    .dataframe tbody tr th {\n",
       "        vertical-align: top;\n",
       "    }\n",
       "\n",
       "    .dataframe thead th {\n",
       "        text-align: right;\n",
       "    }\n",
       "</style>\n",
       "<table border=\"1\" class=\"dataframe\">\n",
       "  <thead>\n",
       "    <tr style=\"text-align: right;\">\n",
       "      <th></th>\n",
       "      <th>Survived</th>\n",
       "      <th>Pclass</th>\n",
       "      <th>Sex</th>\n",
       "      <th>Age</th>\n",
       "      <th>SibSp</th>\n",
       "      <th>Parch</th>\n",
       "      <th>Fare</th>\n",
       "      <th>Embarked</th>\n",
       "      <th>Title</th>\n",
       "      <th>hasCabin</th>\n",
       "    </tr>\n",
       "  </thead>\n",
       "  <tbody>\n",
       "    <tr>\n",
       "      <th>0</th>\n",
       "      <td>0</td>\n",
       "      <td>3.0</td>\n",
       "      <td>male</td>\n",
       "      <td>22.0</td>\n",
       "      <td>1.0</td>\n",
       "      <td>0.0</td>\n",
       "      <td>7.2500</td>\n",
       "      <td>S</td>\n",
       "      <td>Mr</td>\n",
       "      <td>0</td>\n",
       "    </tr>\n",
       "    <tr>\n",
       "      <th>1</th>\n",
       "      <td>1</td>\n",
       "      <td>1.0</td>\n",
       "      <td>female</td>\n",
       "      <td>38.0</td>\n",
       "      <td>1.0</td>\n",
       "      <td>0.0</td>\n",
       "      <td>71.2833</td>\n",
       "      <td>C</td>\n",
       "      <td>Mrs</td>\n",
       "      <td>1</td>\n",
       "    </tr>\n",
       "  </tbody>\n",
       "</table>\n",
       "</div>"
      ],
      "text/plain": [
       "   Survived  Pclass     Sex   Age  SibSp  Parch     Fare Embarked Title  \\\n",
       "0         0     3.0    male  22.0    1.0    0.0   7.2500        S    Mr   \n",
       "1         1     1.0  female  38.0    1.0    0.0  71.2833        C   Mrs   \n",
       "\n",
       "   hasCabin  \n",
       "0         0  \n",
       "1         1  "
      ]
     },
     "execution_count": 103,
     "metadata": {},
     "output_type": "execute_result"
    }
   ],
   "source": [
    "# extracción de datasets\n",
    "train = pd.read_csv(r'./output/FeatEngin_train_20220611_1.csv')\n",
    "train.head(2)"
   ]
  },
  {
   "cell_type": "code",
   "execution_count": 104,
   "metadata": {},
   "outputs": [],
   "source": [
    "X = train.drop(['Survived'], axis=1)\n",
    "y = train.Survived"
   ]
  },
  {
   "cell_type": "code",
   "execution_count": 105,
   "metadata": {},
   "outputs": [
    {
     "name": "stdout",
     "output_type": "stream",
     "text": [
      "['Pclass', 'Sex', 'Age', 'SibSp', 'Parch', 'Fare', 'Embarked', 'Title', 'hasCabin']\n"
     ]
    }
   ],
   "source": [
    "traincolumns = X.columns.tolist()\n",
    "print(traincolumns)"
   ]
  },
  {
   "cell_type": "code",
   "execution_count": 106,
   "metadata": {
    "scrolled": true
   },
   "outputs": [
    {
     "data": {
      "text/html": [
       "<div>\n",
       "<style scoped>\n",
       "    .dataframe tbody tr th:only-of-type {\n",
       "        vertical-align: middle;\n",
       "    }\n",
       "\n",
       "    .dataframe tbody tr th {\n",
       "        vertical-align: top;\n",
       "    }\n",
       "\n",
       "    .dataframe thead th {\n",
       "        text-align: right;\n",
       "    }\n",
       "</style>\n",
       "<table border=\"1\" class=\"dataframe\">\n",
       "  <thead>\n",
       "    <tr style=\"text-align: right;\">\n",
       "      <th></th>\n",
       "      <th>Pclass</th>\n",
       "      <th>Sex</th>\n",
       "      <th>Age</th>\n",
       "      <th>SibSp</th>\n",
       "      <th>Parch</th>\n",
       "      <th>Fare</th>\n",
       "      <th>Embarked</th>\n",
       "      <th>Title</th>\n",
       "      <th>hasCabin</th>\n",
       "    </tr>\n",
       "  </thead>\n",
       "  <tbody>\n",
       "    <tr>\n",
       "      <th>0</th>\n",
       "      <td>3.0</td>\n",
       "      <td>male</td>\n",
       "      <td>22.0</td>\n",
       "      <td>1.0</td>\n",
       "      <td>0.0</td>\n",
       "      <td>7.2500</td>\n",
       "      <td>S</td>\n",
       "      <td>Mr</td>\n",
       "      <td>0</td>\n",
       "    </tr>\n",
       "    <tr>\n",
       "      <th>1</th>\n",
       "      <td>1.0</td>\n",
       "      <td>female</td>\n",
       "      <td>38.0</td>\n",
       "      <td>1.0</td>\n",
       "      <td>0.0</td>\n",
       "      <td>71.2833</td>\n",
       "      <td>C</td>\n",
       "      <td>Mrs</td>\n",
       "      <td>1</td>\n",
       "    </tr>\n",
       "    <tr>\n",
       "      <th>2</th>\n",
       "      <td>3.0</td>\n",
       "      <td>female</td>\n",
       "      <td>26.0</td>\n",
       "      <td>0.0</td>\n",
       "      <td>0.0</td>\n",
       "      <td>7.9250</td>\n",
       "      <td>S</td>\n",
       "      <td>Miss</td>\n",
       "      <td>0</td>\n",
       "    </tr>\n",
       "  </tbody>\n",
       "</table>\n",
       "</div>"
      ],
      "text/plain": [
       "   Pclass     Sex   Age  SibSp  Parch     Fare Embarked Title  hasCabin\n",
       "0     3.0    male  22.0    1.0    0.0   7.2500        S    Mr         0\n",
       "1     1.0  female  38.0    1.0    0.0  71.2833        C   Mrs         1\n",
       "2     3.0  female  26.0    0.0    0.0   7.9250        S  Miss         0"
      ]
     },
     "execution_count": 106,
     "metadata": {},
     "output_type": "execute_result"
    }
   ],
   "source": [
    "X.head(3)"
   ]
  },
  {
   "cell_type": "markdown",
   "metadata": {},
   "source": [
    "## 4. Feature Selection"
   ]
  },
  {
   "cell_type": "markdown",
   "metadata": {},
   "source": [
    "Sólo se <b>eliminan</b> las siguientes variables:\n",
    "\n",
    "- `SexMale` - muy alta correlación (87%) con `Title_Mister`;\n",
    "- `hasCabin` - alta correlación (73%) con `Pclass`; <br/>\n",
    "\n",
    "(`Title_Mister` y `Pclass` no se eliminan por ser más predictoras de la variable objetivo)\n",
    "\n",
    "Resultados:\n",
    "\n",
    "1. <b>SelectKBest - Chi2:</b> Mejores: Mr, Mrs, Miss, Pclass | Peor: Embarqued Q \n",
    "2. <b>LogisticRegression - MinMaxScaler - SelectKBest - Chi2:</b> Mayor accuracy: con 11 variables\n",
    "3. <b>DecisionTree:</b> Mejores: Age, Fare, Mr, Pclass | Peor: Title_Other\n",
    "4. <b>ExtraTreeClassifier:</b> Mejores: Age, Fare, Mr, Pclass | Peor: Title_Other\n",
    "5. <b>LogisticRegression - MinMaxScaler:</b> Mejores: Mr, Pclass, Title_Other | Peor: Mrs"
   ]
  },
  {
   "cell_type": "code",
   "execution_count": 107,
   "metadata": {
    "scrolled": false
   },
   "outputs": [
    {
     "data": {
      "text/html": [
       "<div>\n",
       "<style scoped>\n",
       "    .dataframe tbody tr th:only-of-type {\n",
       "        vertical-align: middle;\n",
       "    }\n",
       "\n",
       "    .dataframe tbody tr th {\n",
       "        vertical-align: top;\n",
       "    }\n",
       "\n",
       "    .dataframe thead th {\n",
       "        text-align: right;\n",
       "    }\n",
       "</style>\n",
       "<table border=\"1\" class=\"dataframe\">\n",
       "  <thead>\n",
       "    <tr style=\"text-align: right;\">\n",
       "      <th></th>\n",
       "      <th>encod1__Sex_male</th>\n",
       "      <th>encod2__Embarked_Q</th>\n",
       "      <th>encod2__Embarked_S</th>\n",
       "      <th>encod2__Title_Miss</th>\n",
       "      <th>encod2__Title_Mr</th>\n",
       "      <th>encod2__Title_Mrs</th>\n",
       "      <th>encod2__Title_Other</th>\n",
       "      <th>minmax1__Fare</th>\n",
       "      <th>minmax1__Age</th>\n",
       "      <th>remainder__Pclass</th>\n",
       "      <th>remainder__SibSp</th>\n",
       "      <th>remainder__Parch</th>\n",
       "      <th>remainder__hasCabin</th>\n",
       "    </tr>\n",
       "  </thead>\n",
       "  <tbody>\n",
       "    <tr>\n",
       "      <th>0</th>\n",
       "      <td>1.0</td>\n",
       "      <td>0.0</td>\n",
       "      <td>1.0</td>\n",
       "      <td>0.0</td>\n",
       "      <td>1.0</td>\n",
       "      <td>0.0</td>\n",
       "      <td>0.0</td>\n",
       "      <td>0.014151</td>\n",
       "      <td>0.271174</td>\n",
       "      <td>3.0</td>\n",
       "      <td>1.0</td>\n",
       "      <td>0.0</td>\n",
       "      <td>0.0</td>\n",
       "    </tr>\n",
       "    <tr>\n",
       "      <th>1</th>\n",
       "      <td>0.0</td>\n",
       "      <td>0.0</td>\n",
       "      <td>0.0</td>\n",
       "      <td>0.0</td>\n",
       "      <td>0.0</td>\n",
       "      <td>1.0</td>\n",
       "      <td>0.0</td>\n",
       "      <td>0.139136</td>\n",
       "      <td>0.472229</td>\n",
       "      <td>1.0</td>\n",
       "      <td>1.0</td>\n",
       "      <td>0.0</td>\n",
       "      <td>1.0</td>\n",
       "    </tr>\n",
       "    <tr>\n",
       "      <th>2</th>\n",
       "      <td>0.0</td>\n",
       "      <td>0.0</td>\n",
       "      <td>1.0</td>\n",
       "      <td>1.0</td>\n",
       "      <td>0.0</td>\n",
       "      <td>0.0</td>\n",
       "      <td>0.0</td>\n",
       "      <td>0.015469</td>\n",
       "      <td>0.321438</td>\n",
       "      <td>3.0</td>\n",
       "      <td>0.0</td>\n",
       "      <td>0.0</td>\n",
       "      <td>0.0</td>\n",
       "    </tr>\n",
       "  </tbody>\n",
       "</table>\n",
       "</div>"
      ],
      "text/plain": [
       "   encod1__Sex_male  encod2__Embarked_Q  encod2__Embarked_S  \\\n",
       "0               1.0                 0.0                 1.0   \n",
       "1               0.0                 0.0                 0.0   \n",
       "2               0.0                 0.0                 1.0   \n",
       "\n",
       "   encod2__Title_Miss  encod2__Title_Mr  encod2__Title_Mrs  \\\n",
       "0                 0.0               1.0                0.0   \n",
       "1                 0.0               0.0                1.0   \n",
       "2                 1.0               0.0                0.0   \n",
       "\n",
       "   encod2__Title_Other  minmax1__Fare  minmax1__Age  remainder__Pclass  \\\n",
       "0                  0.0       0.014151      0.271174                3.0   \n",
       "1                  0.0       0.139136      0.472229                1.0   \n",
       "2                  0.0       0.015469      0.321438                3.0   \n",
       "\n",
       "   remainder__SibSp  remainder__Parch  remainder__hasCabin  \n",
       "0               1.0               0.0                  0.0  \n",
       "1               1.0               0.0                  1.0  \n",
       "2               0.0               0.0                  0.0  "
      ]
     },
     "execution_count": 107,
     "metadata": {},
     "output_type": "execute_result"
    }
   ],
   "source": [
    "# Paso 1: Transformación de variables: a valores numéricos entre 0 y 1\n",
    "# Se elimina una columna de cada variable transformada para evitar multicolinearidad\n",
    "transformer = ColumnTransformer([\n",
    "    (\"encod1\", OneHotEncoder(drop='if_binary'),['Sex']),\n",
    "    (\"encod2\", OneHotEncoder(drop='first'), ['Embarked', 'Title']),\n",
    "    (\"minmax1\", MinMaxScaler(), ['Fare','Age'])\n",
    "],remainder='passthrough')\n",
    "coltransform = transformer.fit_transform(X)\n",
    "\n",
    "X = pd.DataFrame(coltransform, columns=transformer.get_feature_names_out().tolist())\n",
    "X.head(3)"
   ]
  },
  {
   "cell_type": "code",
   "execution_count": 108,
   "metadata": {},
   "outputs": [
    {
     "data": {
      "image/png": "[encoded data removed]",
      "text/plain": [
       "<Figure size 576x360 with 2 Axes>"
      ]
     },
     "metadata": {
      "needs_background": "light"
     },
     "output_type": "display_data"
    }
   ],
   "source": [
    "# Se muestra la matriz de correlaciones (que incluye variable objetivo) con las\n",
    "# correlaciones que superan el (+/-) 50%\n",
    "Xcorr = pd.concat([y, X], axis=1).corr()\n",
    "filteredX = Xcorr[((Xcorr >= .5) | (Xcorr <= -.5)) & (Xcorr !=1.000)]\n",
    "plt.figure(figsize=(8,5))\n",
    "sns.heatmap(filteredX, annot=True, cmap=\"Reds\")\n",
    "plt.show()"
   ]
  },
  {
   "cell_type": "code",
   "execution_count": 128,
   "metadata": {},
   "outputs": [
    {
     "name": "stdout",
     "output_type": "stream",
     "text": [
      "['encod2__Embarked_Q', 'encod2__Embarked_S', 'encod2__Title_Miss', 'encod2__Title_Mr', 'encod2__Title_Mrs', 'encod2__Title_Other', 'minmax1__Fare', 'minmax1__Age', 'remainder__Pclass', 'remainder__SibSp', 'remainder__Parch']\n"
     ]
    }
   ],
   "source": [
    "print(X.columns.tolist())"
   ]
  },
  {
   "cell_type": "code",
   "execution_count": 110,
   "metadata": {},
   "outputs": [],
   "source": [
    "# Se eliminan las variables que tienen un nivel de correlación superior al 70%\n",
    "X.drop(['encod1__Sex_male','remainder__hasCabin'], 1, inplace=True)"
   ]
  },
  {
   "cell_type": "markdown",
   "metadata": {},
   "source": [
    "### 4.1. SelectKBest - Chi2"
   ]
  },
  {
   "cell_type": "code",
   "execution_count": 130,
   "metadata": {},
   "outputs": [],
   "source": [
    "# Selección del criterio de evaluación\n",
    "criteria = SelectKBest(score_func=chi2, k=4)   # <-----------\n",
    "results = criteria.fit(X, y)   # transformador   <-----------"
   ]
  },
  {
   "cell_type": "code",
   "execution_count": 113,
   "metadata": {},
   "outputs": [
    {
     "data": {
      "text/html": [
       "<div>\n",
       "<style scoped>\n",
       "    .dataframe tbody tr th:only-of-type {\n",
       "        vertical-align: middle;\n",
       "    }\n",
       "\n",
       "    .dataframe tbody tr th {\n",
       "        vertical-align: top;\n",
       "    }\n",
       "\n",
       "    .dataframe thead th {\n",
       "        text-align: right;\n",
       "    }\n",
       "</style>\n",
       "<table border=\"1\" class=\"dataframe\">\n",
       "  <thead>\n",
       "    <tr style=\"text-align: right;\">\n",
       "      <th></th>\n",
       "      <th>p-valor</th>\n",
       "      <th>score</th>\n",
       "      <th>feature</th>\n",
       "    </tr>\n",
       "  </thead>\n",
       "  <tbody>\n",
       "    <tr>\n",
       "      <th>3</th>\n",
       "      <td>2.379805e-26</td>\n",
       "      <td>112.805785</td>\n",
       "      <td>encod2__Title_Mr</td>\n",
       "    </tr>\n",
       "    <tr>\n",
       "      <th>4</th>\n",
       "      <td>6.380801e-21</td>\n",
       "      <td>88.050392</td>\n",
       "      <td>encod2__Title_Mrs</td>\n",
       "    </tr>\n",
       "    <tr>\n",
       "      <th>2</th>\n",
       "      <td>3.051887e-18</td>\n",
       "      <td>75.855581</td>\n",
       "      <td>encod2__Title_Miss</td>\n",
       "    </tr>\n",
       "    <tr>\n",
       "      <th>8</th>\n",
       "      <td>2.753786e-08</td>\n",
       "      <td>30.873699</td>\n",
       "      <td>remainder__Pclass</td>\n",
       "    </tr>\n",
       "    <tr>\n",
       "      <th>10</th>\n",
       "      <td>1.239091e-04</td>\n",
       "      <td>14.732242</td>\n",
       "      <td>remainder__Parch</td>\n",
       "    </tr>\n",
       "    <tr>\n",
       "      <th>6</th>\n",
       "      <td>2.980820e-03</td>\n",
       "      <td>8.819172</td>\n",
       "      <td>minmax1__Fare</td>\n",
       "    </tr>\n",
       "    <tr>\n",
       "      <th>9</th>\n",
       "      <td>4.276376e-03</td>\n",
       "      <td>8.162569</td>\n",
       "      <td>remainder__SibSp</td>\n",
       "    </tr>\n",
       "    <tr>\n",
       "      <th>1</th>\n",
       "      <td>1.913424e-02</td>\n",
       "      <td>5.489205</td>\n",
       "      <td>encod2__Embarked_S</td>\n",
       "    </tr>\n",
       "    <tr>\n",
       "      <th>5</th>\n",
       "      <td>5.172730e-01</td>\n",
       "      <td>0.419327</td>\n",
       "      <td>encod2__Title_Other</td>\n",
       "    </tr>\n",
       "    <tr>\n",
       "      <th>7</th>\n",
       "      <td>6.145086e-01</td>\n",
       "      <td>0.253662</td>\n",
       "      <td>minmax1__Age</td>\n",
       "    </tr>\n",
       "    <tr>\n",
       "      <th>0</th>\n",
       "      <td>9.170520e-01</td>\n",
       "      <td>0.010847</td>\n",
       "      <td>encod2__Embarked_Q</td>\n",
       "    </tr>\n",
       "  </tbody>\n",
       "</table>\n",
       "</div>"
      ],
      "text/plain": [
       "         p-valor       score              feature\n",
       "3   2.379805e-26  112.805785     encod2__Title_Mr\n",
       "4   6.380801e-21   88.050392    encod2__Title_Mrs\n",
       "2   3.051887e-18   75.855581   encod2__Title_Miss\n",
       "8   2.753786e-08   30.873699    remainder__Pclass\n",
       "10  1.239091e-04   14.732242     remainder__Parch\n",
       "6   2.980820e-03    8.819172        minmax1__Fare\n",
       "9   4.276376e-03    8.162569     remainder__SibSp\n",
       "1   1.913424e-02    5.489205   encod2__Embarked_S\n",
       "5   5.172730e-01    0.419327  encod2__Title_Other\n",
       "7   6.145086e-01    0.253662         minmax1__Age\n",
       "0   9.170520e-01    0.010847   encod2__Embarked_Q"
      ]
     },
     "execution_count": 113,
     "metadata": {},
     "output_type": "execute_result"
    }
   ],
   "source": [
    "aux = list(zip(results.pvalues_, results.scores_, X.columns))\n",
    "pd_results = pd.DataFrame(aux, columns = ['p-valor','score','feature'])\n",
    "pd_results.sort_values('score', ascending=False)"
   ]
  },
  {
   "cell_type": "markdown",
   "metadata": {},
   "source": [
    "### 4.2. LogisticRegression - MinMaxScaler - SelectKBest - Chi2"
   ]
  },
  {
   "cell_type": "code",
   "execution_count": 114,
   "metadata": {},
   "outputs": [
    {
     "name": "stdout",
     "output_type": "stream",
     "text": [
      "4, accuracy = 0.7443946188340808\n",
      "5, accuracy = 0.7443946188340808\n",
      "6, accuracy = 0.7443946188340808\n",
      "7, accuracy = 0.7354260089686099\n",
      "8, accuracy = 0.7354260089686099\n",
      "9, accuracy = 0.7668161434977578\n",
      "10, accuracy = 0.7802690582959642\n",
      "11, accuracy = 0.7757847533632287\n"
     ]
    }
   ],
   "source": [
    "X_train, X_test, y_train, y_test = train_test_split(X, y, random_state = 99)\n",
    "\n",
    "scaler = MinMaxScaler()   \n",
    "algorithm = LogisticRegression (random_state=99) \n",
    "\n",
    "for i in range(4,12):  # <-------------\n",
    "    selector = SelectKBest(score_func=chi2, k=i) \n",
    "    \n",
    "    pipeline = make_pipeline(scaler,selector,algorithm)\n",
    "    pipeline.fit(X_train, y_train)\n",
    "    results = pipeline.score(X_test, y_test)  # Se saca el resultado con el conjunto test\n",
    "\n",
    "    print(str(i) + ', accuracy = '+ str(results))"
   ]
  },
  {
   "cell_type": "code",
   "execution_count": 118,
   "metadata": {},
   "outputs": [
    {
     "data": {
      "image/png": "[encoded data removed]",
      "text/plain": [
       "<Figure size 432x288 with 1 Axes>"
      ]
     },
     "metadata": {
      "needs_background": "light"
     },
     "output_type": "display_data"
    }
   ],
   "source": [
    "X_train, X_test, y_train, y_test = train_test_split(X, y, random_state = 99)\n",
    "\n",
    "scaler = MinMaxScaler()   \n",
    "algorithm = LogisticRegression (random_state=99) \n",
    "\n",
    "accuracies = []  # \n",
    "n_features = []  # \n",
    "\n",
    "for i in range(4,12):\n",
    "    selector = SelectKBest(score_func=chi2, k=i) \n",
    "    \n",
    "    pipeline = make_pipeline(scaler,selector,algorithm)\n",
    "    pipeline.fit(X_train, y_train)\n",
    "    results = pipeline.score(X_test, y_test)\n",
    "\n",
    "    n_features.append(i)  # <-------------\n",
    "    accuracies.append(results)  # <-------------\n",
    "\n",
    "plt.plot(n_features, accuracies)\n",
    "plt.show()"
   ]
  },
  {
   "cell_type": "markdown",
   "metadata": {},
   "source": [
    "### 4.3. DecisionTree"
   ]
  },
  {
   "cell_type": "code",
   "execution_count": 119,
   "metadata": {},
   "outputs": [
    {
     "name": "stdout",
     "output_type": "stream",
     "text": [
      "0.8161434977578476\n"
     ]
    }
   ],
   "source": [
    "X_train, X_test, y_train, y_test = train_test_split(X, y, random_state = 99)\n",
    "\n",
    "model = DecisionTreeClassifier()\n",
    "model.fit(X_train, y_train)\n",
    "results = model.score(X_test, y_test)\n",
    "print(results)"
   ]
  },
  {
   "cell_type": "code",
   "execution_count": 124,
   "metadata": {},
   "outputs": [
    {
     "data": {
      "image/png": "[encoded data removed]",
      "text/plain": [
       "<Figure size 432x360 with 1 Axes>"
      ]
     },
     "metadata": {
      "needs_background": "light"
     },
     "output_type": "display_data"
    }
   ],
   "source": [
    "plt.figure(figsize=(6,5))\n",
    "plt.barh(y=X.columns, width=model.feature_importances_)\n",
    "plt.show()"
   ]
  },
  {
   "cell_type": "markdown",
   "metadata": {},
   "source": [
    "### 4.4. ExtraTreeClassifier"
   ]
  },
  {
   "cell_type": "code",
   "execution_count": 122,
   "metadata": {},
   "outputs": [
    {
     "name": "stdout",
     "output_type": "stream",
     "text": [
      "0.8026905829596412\n"
     ]
    }
   ],
   "source": [
    "X_train, X_test, y_train, y_test = train_test_split(X, y, random_state = 99)\n",
    "\n",
    "model = ExtraTreesClassifier()\n",
    "model.fit(X_train, y_train)\n",
    "results = model.score(X_test, y_test)\n",
    "print(results)"
   ]
  },
  {
   "cell_type": "code",
   "execution_count": 125,
   "metadata": {},
   "outputs": [
    {
     "data": {
      "image/png": "[encoded data removed]",
      "text/plain": [
       "<Figure size 432x360 with 1 Axes>"
      ]
     },
     "metadata": {
      "needs_background": "light"
     },
     "output_type": "display_data"
    }
   ],
   "source": [
    "plt.figure(figsize=(6,5))\n",
    "plt.barh(y=X.columns, width=model.feature_importances_)\n",
    "plt.show()"
   ]
  },
  {
   "cell_type": "markdown",
   "metadata": {},
   "source": [
    "### 4.5. LogisticRegression - MinMaxScaler"
   ]
  },
  {
   "cell_type": "code",
   "execution_count": 126,
   "metadata": {},
   "outputs": [
    {
     "name": "stdout",
     "output_type": "stream",
     "text": [
      "0.7757847533632287\n"
     ]
    },
    {
     "data": {
      "image/png": "[encoded data removed]",
      "text/plain": [
       "<Figure size 432x360 with 1 Axes>"
      ]
     },
     "metadata": {
      "needs_background": "light"
     },
     "output_type": "display_data"
    }
   ],
   "source": [
    "algorithm = LogisticRegression (random_state=99) \n",
    "scaler = MinMaxScaler()  # reescala los valores entre 0 y 1 \n",
    "pipeline = make_pipeline(scaler, algorithm)\n",
    "\n",
    "pipeline.fit(X_train,y_train)  # entrenamiemiento\n",
    "print(pipeline.score(X_test,y_test))\n",
    "\n",
    "plt.figure(figsize=(6,5))\n",
    "\n",
    "# !!!! los coeficientes '.coef_' NO se pueden preguntar al pipeline, sino al algoritmo !!!!\n",
    "# Se pueden sacar los '.coef_' porque el LogisticRegression tiene como atributo ese valor\n",
    "# 'plt.barh' hace un plot de barras horizontal\n",
    "# Se muestran los coeficientes normalizados\n",
    "# Que salgan valores (+) o (-) significan que están correlacionados positiva o negativamente\n",
    "# Se puede observar que la variable 'concave points_worst' está definida como más predictora por 2 algoritmos\n",
    "plt.barh(y=X_train.columns, width=algorithm.coef_[0])\n",
    "plt.show()"
   ]
  },
  {
   "cell_type": "code",
   "execution_count": 115,
   "metadata": {},
   "outputs": [],
   "source": [
    "# Para guardar el train después del feature engineering\n",
    "#train = pd.concat([train['Survived'], X], axis=1)\n",
    "#train.to_csv('./output/FeatSelect_train_20220613_1.csv', index = False)"
   ]
  }
 ],
 "metadata": {
  "kernelspec": {
   "display_name": "Python 3",
   "language": "python",
   "name": "python3"
  },
  "language_info": {
   "codemirror_mode": {
    "name": "ipython",
    "version": 3
   },
   "file_extension": ".py",
   "mimetype": "text/x-python",
   "name": "python",
   "nbconvert_exporter": "python",
   "pygments_lexer": "ipython3",
   "version": "3.8.5"
  }
 },
 "nbformat": 4,
 "nbformat_minor": 4
}
