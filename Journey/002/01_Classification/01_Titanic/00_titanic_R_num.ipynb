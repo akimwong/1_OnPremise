{
 "cells": [
  {
   "cell_type": "markdown",
   "metadata": {},
   "source": [
    "# 00_titanic_R_num\n",
    "Autor: Carlos Wong <br/>\n",
    "Fecha: 2022_01_30 <br/>\n",
    "Tipo de problema: CLASIFICACIÓN <br/>\n",
    "Entradas: 'train', 'test' kaggle competition (titanic) <br/>\n",
    "Salidas: Submission ('PassengerId','Survived')  <br/>\n",
    "Propósito: Práctica de análisis, visualización, entrenamiento, predicción y documentación"
   ]
  },
  {
   "cell_type": "code",
   "execution_count": 4,
   "metadata": {},
   "outputs": [
    {
     "name": "stderr",
     "output_type": "stream",
     "text": [
      "Installing package into 'C:/Users/Carlos/Documents/R/win-library/4.0'\n",
      "(as 'lib' is unspecified)\n",
      "\n"
     ]
    },
    {
     "name": "stdout",
     "output_type": "stream",
     "text": [
      "\n",
      "  There is a binary version available but the source version is later:\n",
      "      binary source needs_compilation\n",
      "Rcpp 1.0.8.3 1.0.10              TRUE\n",
      "\n"
     ]
    },
    {
     "name": "stderr",
     "output_type": "stream",
     "text": [
      "installing the source package 'Rcpp'\n",
      "\n",
      "\n",
      "Warning message in install.packages(\"Rcpp\"):\n",
      "\"installation of package 'Rcpp' had non-zero exit status\"\n",
      "Warning message:\n",
      "\"package 'data.table' is in use and will not be installed\"\n",
      "Warning message:\n",
      "\"package 'dplyr' is in use and will not be installed\"\n",
      "Warning message:\n",
      "\"package 'forcats' is in use and will not be installed\"\n",
      "Installing package into 'C:/Users/Carlos/Documents/R/win-library/4.0'\n",
      "(as 'lib' is unspecified)\n",
      "\n",
      "also installing the dependencies 'cli', 'lifecycle', 'rlang', 'scales', 'vctrs'\n",
      "\n",
      "\n"
     ]
    },
    {
     "name": "stdout",
     "output_type": "stream",
     "text": [
      "\n",
      "  There are binary versions available but the source versions are later:\n",
      "          binary source needs_compilation\n",
      "cli        3.2.0  3.6.0              TRUE\n",
      "lifecycle  1.0.1  1.0.3             FALSE\n",
      "rlang      1.0.2  1.0.6              TRUE\n",
      "scales     1.2.0  1.2.1             FALSE\n",
      "vctrs      0.4.1  0.5.2              TRUE\n",
      "ggplot2    3.3.5  3.4.0             FALSE\n",
      "\n"
     ]
    },
    {
     "name": "stderr",
     "output_type": "stream",
     "text": [
      "installing the source packages 'cli', 'lifecycle', 'rlang', 'scales', 'vctrs', 'ggplot2'\n",
      "\n",
      "\n",
      "Warning message in install.packages(\"ggplot2\"):\n",
      "\"installation of package 'cli' had non-zero exit status\"\n",
      "Warning message in install.packages(\"ggplot2\"):\n",
      "\"installation of package 'rlang' had non-zero exit status\"\n",
      "Warning message in install.packages(\"ggplot2\"):\n",
      "\"installation of package 'lifecycle' had non-zero exit status\"\n",
      "Warning message in install.packages(\"ggplot2\"):\n",
      "\"installation of package 'scales' had non-zero exit status\"\n",
      "Warning message in install.packages(\"ggplot2\"):\n",
      "\"installation of package 'vctrs' had non-zero exit status\"\n",
      "Warning message in install.packages(\"ggplot2\"):\n",
      "\"installation of package 'ggplot2' had non-zero exit status\"\n",
      "Installing package into 'C:/Users/Carlos/Documents/R/win-library/4.0'\n",
      "(as 'lib' is unspecified)\n",
      "\n",
      "also installing the dependency 'timechange'\n",
      "\n",
      "\n"
     ]
    },
    {
     "name": "stdout",
     "output_type": "stream",
     "text": [
      "\n",
      "  There are binary versions available but the source versions are later:\n",
      "           binary source needs_compilation\n",
      "timechange  0.0.2  0.2.0              TRUE\n",
      "lubridate   1.8.0  1.9.1              TRUE\n",
      "\n"
     ]
    },
    {
     "name": "stderr",
     "output_type": "stream",
     "text": [
      "installing the source packages 'timechange', 'lubridate'\n",
      "\n",
      "\n",
      "Warning message in install.packages(\"lubridate\"):\n",
      "\"installation of package 'timechange' had non-zero exit status\"\n",
      "Warning message in install.packages(\"lubridate\"):\n",
      "\"installation of package 'lubridate' had non-zero exit status\"\n",
      "Installing package into 'C:/Users/Carlos/Documents/R/win-library/4.0'\n",
      "(as 'lib' is unspecified)\n",
      "\n",
      "also installing the dependencies 'cli', 'lifecycle', 'rlang'\n",
      "\n",
      "\n"
     ]
    },
    {
     "name": "stdout",
     "output_type": "stream",
     "text": [
      "\n",
      "  There are binary versions available but the source versions are later:\n",
      "          binary source needs_compilation\n",
      "cli        3.2.0  3.6.0              TRUE\n",
      "lifecycle  1.0.1  1.0.3             FALSE\n",
      "rlang      1.0.2  1.0.6              TRUE\n",
      "stringr    1.4.0  1.5.0             FALSE\n",
      "\n"
     ]
    },
    {
     "name": "stderr",
     "output_type": "stream",
     "text": [
      "installing the source packages 'cli', 'lifecycle', 'rlang', 'stringr'\n",
      "\n",
      "\n",
      "Warning message in install.packages(\"stringr\"):\n",
      "\"installation of package 'cli' had non-zero exit status\"\n",
      "Warning message in install.packages(\"stringr\"):\n",
      "\"installation of package 'rlang' had non-zero exit status\"\n",
      "Warning message in install.packages(\"stringr\"):\n",
      "\"installation of package 'lifecycle' had non-zero exit status\"\n",
      "Warning message in install.packages(\"stringr\"):\n",
      "\"installation of package 'stringr' had non-zero exit status\"\n",
      "Installing package into 'C:/Users/Carlos/Documents/R/win-library/4.0'\n",
      "(as 'lib' is unspecified)\n",
      "\n",
      "also installing the dependencies 'cli', 'lifecycle', 'rlang', 'scales', 'vctrs', 'ggplot2'\n",
      "\n",
      "\n"
     ]
    },
    {
     "name": "stdout",
     "output_type": "stream",
     "text": [
      "\n",
      "  There are binary versions available but the source versions are later:\n",
      "          binary source needs_compilation\n",
      "cli        3.2.0  3.6.0              TRUE\n",
      "lifecycle  1.0.1  1.0.3             FALSE\n",
      "rlang      1.0.2  1.0.6              TRUE\n",
      "scales     1.2.0  1.2.1             FALSE\n",
      "vctrs      0.4.1  0.5.2              TRUE\n",
      "ggplot2    3.3.5  3.4.0             FALSE\n",
      "inspectdf 0.0.11 0.0.12              TRUE\n",
      "\n"
     ]
    },
    {
     "name": "stderr",
     "output_type": "stream",
     "text": [
      "installing the source packages 'cli', 'lifecycle', 'rlang', 'scales', 'vctrs', 'ggplot2', 'inspectdf'\n",
      "\n",
      "\n",
      "Warning message in install.packages(\"inspectdf\"):\n",
      "\"installation of package 'cli' had non-zero exit status\"\n",
      "Warning message in install.packages(\"inspectdf\"):\n",
      "\"installation of package 'rlang' had non-zero exit status\"\n",
      "Warning message in install.packages(\"inspectdf\"):\n",
      "\"installation of package 'lifecycle' had non-zero exit status\"\n",
      "Warning message in install.packages(\"inspectdf\"):\n",
      "\"installation of package 'scales' had non-zero exit status\"\n",
      "Warning message in install.packages(\"inspectdf\"):\n",
      "\"installation of package 'vctrs' had non-zero exit status\"\n",
      "Warning message in install.packages(\"inspectdf\"):\n",
      "\"installation of package 'ggplot2' had non-zero exit status\"\n",
      "Warning message in install.packages(\"inspectdf\"):\n",
      "\"installation of package 'inspectdf' had non-zero exit status\"\n",
      "Installing package into 'C:/Users/Carlos/Documents/R/win-library/4.0'\n",
      "(as 'lib' is unspecified)\n",
      "\n"
     ]
    },
    {
     "name": "stdout",
     "output_type": "stream",
     "text": [
      "\n",
      "  There is a binary version available but the source version is later:\n",
      "       binary source needs_compilation\n",
      "ranger 0.13.1 0.14.1              TRUE\n",
      "\n"
     ]
    },
    {
     "name": "stderr",
     "output_type": "stream",
     "text": [
      "installing the source package 'ranger'\n",
      "\n",
      "\n",
      "Warning message in install.packages(\"ranger\"):\n",
      "\"installation of package 'ranger' had non-zero exit status\"\n",
      "Installing package into 'C:/Users/Carlos/Documents/R/win-library/4.0'\n",
      "(as 'lib' is unspecified)\n",
      "\n"
     ]
    },
    {
     "name": "stdout",
     "output_type": "stream",
     "text": [
      "\n",
      "  There is a binary version available but the source version is later:\n",
      "       binary source needs_compilation\n",
      "tictoc  1.0.1    1.1             FALSE\n",
      "\n"
     ]
    },
    {
     "name": "stderr",
     "output_type": "stream",
     "text": [
      "installing the source package 'tictoc'\n",
      "\n",
      "\n",
      "Installing package into 'C:/Users/Carlos/Documents/R/win-library/4.0'\n",
      "(as 'lib' is unspecified)\n",
      "\n"
     ]
    },
    {
     "name": "stdout",
     "output_type": "stream",
     "text": [
      "\n",
      "  There is a binary version available but the source version is later:\n",
      "     binary source needs_compilation\n",
      "mice 3.14.0 3.15.0              TRUE\n",
      "\n"
     ]
    },
    {
     "name": "stderr",
     "output_type": "stream",
     "text": [
      "installing the source package 'mice'\n",
      "\n",
      "\n",
      "Warning message in install.packages(\"mice\"):\n",
      "\"installation of package 'mice' had non-zero exit status\"\n",
      "Installing package into 'C:/Users/Carlos/Documents/R/win-library/4.0'\n",
      "(as 'lib' is unspecified)\n",
      "\n"
     ]
    },
    {
     "name": "stdout",
     "output_type": "stream",
     "text": [
      "package 'missRanger' successfully unpacked and MD5 sums checked\n",
      "\n",
      "The downloaded binary packages are in\n",
      "\tC:\\Users\\Carlos\\AppData\\Local\\Temp\\RtmpQJKwXI\\downloaded_packages\n"
     ]
    }
   ],
   "source": [
    "install.packages(\"Rcpp\")\n",
    "install.packages(\"data.table\")\n",
    "install.packages(\"dplyr\")\n",
    "install.packages(\"forcats\")\n",
    "install.packages(\"ggplot2\")\n",
    "install.packages(\"lubridate\")\n",
    "install.packages(\"stringr\")\n",
    "install.packages(\"inspectdf\")\n",
    "install.packages(\"ranger\")\n",
    "install.packages(\"tictoc\")\n",
    "install.packages(\"mice\")\n",
    "install.packages(\"missRanger\")"
   ]
  },
  {
   "cell_type": "code",
   "execution_count": 3,
   "metadata": {},
   "outputs": [
    {
     "ename": "ERROR",
     "evalue": "Error in library(ggplot2): there is no package called 'ggplot2'\n",
     "output_type": "error",
     "traceback": [
      "Error in library(ggplot2): there is no package called 'ggplot2'\nTraceback:\n",
      "1. library(ggplot2)"
     ]
    }
   ],
   "source": [
    "library(data.table)    # Data Manipulation\n",
    "library(dplyr)         # Data Manipulation - RStudio\n",
    "library(forcats)       # Tratamiento de factores\n",
    "library(ggplot2)       # Graficos ggplot\n",
    "library(lubridate)     # ManipulaciÃ³n Fechas\n",
    "library(stringr)       # ManipulaciÃ³n Strings\n",
    "library(inspectdf)     # EDA automÃ¡ticos GrÃ¡ficos\n",
    "library(ranger)        # randomForest en C++ muy rÃ¡pido.\n",
    "library(tictoc)        # Medida tiempos de ejecuciÃ³n\n",
    "library(mice)          # imputation\n",
    "library(missRanger)    # Imputation of NAs using ranger"
   ]
  },
  {
   "cell_type": "code",
   "execution_count": null,
   "metadata": {},
   "outputs": [],
   "source": [
    "#---- Carga de librerias \n",
    "suppressPackageStartupMessages({\n",
    "    library(data.table)    # Data Manipulation\n",
    "    library(dplyr)         # Data Manipulation - RStudio\n",
    "    library(forcats)       # tratamiento de factores\n",
    "    library(ggplot2)       # ggplot graphics\n",
    "    library(lubridate)     # Date manipulation\n",
    "    library(stringr)       # String manipulation\n",
    "    library(inspectdf)     # Automatic EDA\n",
    "    library(ranger)        # Fast RandomForest\n",
    "    library(tictoc)        # Mesure of execution times\n",
    "    library(mice)          # imputation\n",
    "    library(missRanger)    # Imputation of NAs using ranger\n",
    "})"
   ]
  },
  {
   "cell_type": "code",
   "execution_count": 2,
   "metadata": {},
   "outputs": [
    {
     "ename": "ERROR",
     "evalue": "Error in tic(): no se pudo encontrar la función \"tic\"\n",
     "output_type": "error",
     "traceback": [
      "Error in tic(): no se pudo encontrar la función \"tic\"\nTraceback:\n"
     ]
    }
   ],
   "source": [
    "#---- upload data\n",
    "# We are going to use fread function from data.table package\n",
    "tic()\n",
    "trainOri   <- as.data.frame(fread(\"./dataset/train.csv\"))\n",
    "testOri    <- fread(\"./dataset/test.csv\", data.table = FALSE)\n",
    "submission  <- fread(\"./dataset/gender_submission.csv\", data.table = FALSE)\n",
    "toc()"
   ]
  },
  {
   "cell_type": "code",
   "execution_count": null,
   "metadata": {},
   "outputs": [],
   "source": []
  }
 ],
 "metadata": {
  "kernelspec": {
   "display_name": "R",
   "language": "R",
   "name": "ir"
  },
  "language_info": {
   "codemirror_mode": "r",
   "file_extension": ".r",
   "mimetype": "text/x-r-source",
   "name": "R",
   "pygments_lexer": "r",
   "version": "4.0.5"
  }
 },
 "nbformat": 4,
 "nbformat_minor": 4
}
