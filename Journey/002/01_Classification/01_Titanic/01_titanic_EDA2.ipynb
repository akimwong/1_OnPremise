{
 "cells": [
  {
   "cell_type": "markdown",
   "metadata": {},
   "source": [
    "# 01_titanic_EDA2\n",
    "Autor: Carlos Wong <br/>\n",
    "Fecha: 2022_01_16 <br/>\n",
    "Tipo de problema: CLASIFICACIÓN <br/>\n",
    "Entradas: 'train', 'test', 'gender_submission' kaggle competition (titanic) <br/>\n",
    "Salidas: Submission ('PassengerId','Survived')  <br/>\n",
    "Propósito: Práctica de análisis, visualización, entrenamiento, predicción y documentación"
   ]
  },
  {
   "cell_type": "markdown",
   "metadata": {},
   "source": [
    "## 1. LIBRERÍAS Y EXTRACCIÓN DE DATOS "
   ]
  },
  {
   "cell_type": "code",
   "execution_count": 709,
   "metadata": {},
   "outputs": [],
   "source": [
    "# librerías estándar\n",
    "import pandas as pd\n",
    "import numpy as np\n",
    "import matplotlib.pyplot as plt\n",
    "import seaborn as sns"
   ]
  },
  {
   "cell_type": "code",
   "execution_count": 710,
   "metadata": {},
   "outputs": [],
   "source": [
    "# extracción de datasets\n",
    "train = pd.read_excel(r'.\\train.xlsx')\n",
    "test = pd.read_csv(r'.\\test.csv')\n",
    "gender_submission = pd.read_csv(r'.\\gender_submission.csv')"
   ]
  },
  {
   "cell_type": "code",
   "execution_count": 711,
   "metadata": {},
   "outputs": [
    {
     "data": {
      "text/html": [
       "<div>\n",
       "<style scoped>\n",
       "    .dataframe tbody tr th:only-of-type {\n",
       "        vertical-align: middle;\n",
       "    }\n",
       "\n",
       "    .dataframe tbody tr th {\n",
       "        vertical-align: top;\n",
       "    }\n",
       "\n",
       "    .dataframe thead th {\n",
       "        text-align: right;\n",
       "    }\n",
       "</style>\n",
       "<table border=\"1\" class=\"dataframe\">\n",
       "  <thead>\n",
       "    <tr style=\"text-align: right;\">\n",
       "      <th></th>\n",
       "      <th>PassengerId</th>\n",
       "      <th>Survived</th>\n",
       "    </tr>\n",
       "  </thead>\n",
       "  <tbody>\n",
       "    <tr>\n",
       "      <th>0</th>\n",
       "      <td>892</td>\n",
       "      <td>0</td>\n",
       "    </tr>\n",
       "    <tr>\n",
       "      <th>1</th>\n",
       "      <td>893</td>\n",
       "      <td>1</td>\n",
       "    </tr>\n",
       "    <tr>\n",
       "      <th>2</th>\n",
       "      <td>894</td>\n",
       "      <td>0</td>\n",
       "    </tr>\n",
       "  </tbody>\n",
       "</table>\n",
       "</div>"
      ],
      "text/plain": [
       "   PassengerId  Survived\n",
       "0          892         0\n",
       "1          893         1\n",
       "2          894         0"
      ]
     },
     "execution_count": 711,
     "metadata": {},
     "output_type": "execute_result"
    }
   ],
   "source": [
    "# se muestra el tipo de submission: 'PassengerId' -> Id del pasajero / 'Survived' -> predicción (int) \n",
    "gender_submission.head(3)"
   ]
  },
  {
   "cell_type": "code",
   "execution_count": 712,
   "metadata": {},
   "outputs": [],
   "source": [
    "# Se extraen los PassengerId del dataset 'test' para completar fichero submission\n",
    "PassengerId = test['PassengerId']"
   ]
  },
  {
   "cell_type": "markdown",
   "metadata": {},
   "source": [
    "## 3. Exploratory Data Analysis (EDA)"
   ]
  },
  {
   "cell_type": "code",
   "execution_count": 713,
   "metadata": {},
   "outputs": [
    {
     "name": "stdout",
     "output_type": "stream",
     "text": [
      "['PassengerId', 'Survived', 'Pclass', 'Name', 'Sex', 'Age', 'SibSp', 'Parch', 'Ticket', 'Fare', 'Cabin', 'Embarked']\n",
      "['PassengerId', 'Pclass', 'Name', 'Sex', 'Age', 'SibSp', 'Parch', 'Ticket', 'Fare', 'Cabin', 'Embarked']\n"
     ]
    }
   ],
   "source": [
    "# test.survived no existe\n",
    "traincolumns = train.columns.tolist()\n",
    "testcolumns = test.columns.tolist()\n",
    "print(traincolumns)\n",
    "print(testcolumns)"
   ]
  },
  {
   "cell_type": "code",
   "execution_count": 714,
   "metadata": {},
   "outputs": [
    {
     "name": "stdout",
     "output_type": "stream",
     "text": [
      "<class 'pandas.core.frame.DataFrame'>\n",
      "RangeIndex: 891 entries, 0 to 890\n",
      "Data columns (total 12 columns):\n",
      " #   Column       Non-Null Count  Dtype  \n",
      "---  ------       --------------  -----  \n",
      " 0   PassengerId  891 non-null    int64  \n",
      " 1   Survived     891 non-null    int64  \n",
      " 2   Pclass       891 non-null    int64  \n",
      " 3   Name         891 non-null    object \n",
      " 4   Sex          891 non-null    object \n",
      " 5   Age          714 non-null    float64\n",
      " 6   SibSp        891 non-null    int64  \n",
      " 7   Parch        891 non-null    int64  \n",
      " 8   Ticket       891 non-null    object \n",
      " 9   Fare         891 non-null    float64\n",
      " 10  Cabin        204 non-null    object \n",
      " 11  Embarked     889 non-null    object \n",
      "dtypes: float64(2), int64(5), object(5)\n",
      "memory usage: 83.7+ KB\n"
     ]
    }
   ],
   "source": [
    "# (<-): Cambios\n",
    "# train.age: missings <-\n",
    "# train.cabin: missings <-\n",
    "# train.embarked: missings <-\n",
    "train.info()"
   ]
  },
  {
   "cell_type": "code",
   "execution_count": 715,
   "metadata": {},
   "outputs": [
    {
     "name": "stdout",
     "output_type": "stream",
     "text": [
      "<class 'pandas.core.frame.DataFrame'>\n",
      "RangeIndex: 418 entries, 0 to 417\n",
      "Data columns (total 11 columns):\n",
      " #   Column       Non-Null Count  Dtype  \n",
      "---  ------       --------------  -----  \n",
      " 0   PassengerId  418 non-null    int64  \n",
      " 1   Pclass       418 non-null    int64  \n",
      " 2   Name         418 non-null    object \n",
      " 3   Sex          418 non-null    object \n",
      " 4   Age          332 non-null    float64\n",
      " 5   SibSp        418 non-null    int64  \n",
      " 6   Parch        418 non-null    int64  \n",
      " 7   Ticket       418 non-null    object \n",
      " 8   Fare         417 non-null    float64\n",
      " 9   Cabin        91 non-null     object \n",
      " 10  Embarked     418 non-null    object \n",
      "dtypes: float64(2), int64(4), object(5)\n",
      "memory usage: 36.0+ KB\n"
     ]
    }
   ],
   "source": [
    "# (<-): Cambios\n",
    "# train.age: missings\n",
    "# train.cabin: missings\n",
    "# train.embarked: missings\n",
    "# test.age: missings <-\n",
    "# test.fare: missings <-\n",
    "# test.cabin: missings <-\n",
    "test.info()"
   ]
  },
  {
   "cell_type": "code",
   "execution_count": 716,
   "metadata": {},
   "outputs": [],
   "source": [
    "# Se unen ambos datasets para aplicar el mismo tratamiento de missings y extracciones\n",
    "# Al no tener las mismas columnas, los valores de 'Survived' se cumplimentan automáticamente con missing (NaN)\n",
    "full = pd.concat([train, test])"
   ]
  },
  {
   "cell_type": "code",
   "execution_count": 717,
   "metadata": {},
   "outputs": [
    {
     "name": "stdout",
     "output_type": "stream",
     "text": [
      "<class 'pandas.core.frame.DataFrame'>\n",
      "Int64Index: 1309 entries, 0 to 417\n",
      "Data columns (total 12 columns):\n",
      " #   Column       Non-Null Count  Dtype  \n",
      "---  ------       --------------  -----  \n",
      " 0   PassengerId  1309 non-null   int64  \n",
      " 1   Survived     891 non-null    float64\n",
      " 2   Pclass       1309 non-null   int64  \n",
      " 3   Name         1309 non-null   object \n",
      " 4   Sex          1309 non-null   object \n",
      " 5   Age          1046 non-null   float64\n",
      " 6   SibSp        1309 non-null   int64  \n",
      " 7   Parch        1309 non-null   int64  \n",
      " 8   Ticket       1309 non-null   object \n",
      " 9   Fare         1308 non-null   float64\n",
      " 10  Cabin        295 non-null    object \n",
      " 11  Embarked     1307 non-null   object \n",
      "dtypes: float64(3), int64(4), object(5)\n",
      "memory usage: 132.9+ KB\n"
     ]
    }
   ],
   "source": [
    "# (<-): Cambios\n",
    "# full.age: missings <-\n",
    "# full.cabin: missings <-\n",
    "# full.embarked: missings <-\n",
    "# full.fare: missings <-\n",
    "full.info()"
   ]
  },
  {
   "cell_type": "code",
   "execution_count": 718,
   "metadata": {},
   "outputs": [
    {
     "data": {
      "text/html": [
       "<div>\n",
       "<style scoped>\n",
       "    .dataframe tbody tr th:only-of-type {\n",
       "        vertical-align: middle;\n",
       "    }\n",
       "\n",
       "    .dataframe tbody tr th {\n",
       "        vertical-align: top;\n",
       "    }\n",
       "\n",
       "    .dataframe thead th {\n",
       "        text-align: right;\n",
       "    }\n",
       "</style>\n",
       "<table border=\"1\" class=\"dataframe\">\n",
       "  <thead>\n",
       "    <tr style=\"text-align: right;\">\n",
       "      <th></th>\n",
       "      <th>PassengerId</th>\n",
       "      <th>Survived</th>\n",
       "      <th>Pclass</th>\n",
       "      <th>Age</th>\n",
       "      <th>SibSp</th>\n",
       "      <th>Parch</th>\n",
       "      <th>Fare</th>\n",
       "    </tr>\n",
       "  </thead>\n",
       "  <tbody>\n",
       "    <tr>\n",
       "      <th>count</th>\n",
       "      <td>1309.000000</td>\n",
       "      <td>891.000000</td>\n",
       "      <td>1309.000000</td>\n",
       "      <td>1046.000000</td>\n",
       "      <td>1309.000000</td>\n",
       "      <td>1309.000000</td>\n",
       "      <td>1308.000000</td>\n",
       "    </tr>\n",
       "    <tr>\n",
       "      <th>mean</th>\n",
       "      <td>655.000000</td>\n",
       "      <td>0.383838</td>\n",
       "      <td>2.294882</td>\n",
       "      <td>29.881138</td>\n",
       "      <td>0.498854</td>\n",
       "      <td>0.385027</td>\n",
       "      <td>33.295479</td>\n",
       "    </tr>\n",
       "    <tr>\n",
       "      <th>std</th>\n",
       "      <td>378.020061</td>\n",
       "      <td>0.486592</td>\n",
       "      <td>0.837836</td>\n",
       "      <td>14.413493</td>\n",
       "      <td>1.041658</td>\n",
       "      <td>0.865560</td>\n",
       "      <td>51.758668</td>\n",
       "    </tr>\n",
       "    <tr>\n",
       "      <th>min</th>\n",
       "      <td>1.000000</td>\n",
       "      <td>0.000000</td>\n",
       "      <td>1.000000</td>\n",
       "      <td>0.170000</td>\n",
       "      <td>0.000000</td>\n",
       "      <td>0.000000</td>\n",
       "      <td>0.000000</td>\n",
       "    </tr>\n",
       "    <tr>\n",
       "      <th>25%</th>\n",
       "      <td>328.000000</td>\n",
       "      <td>0.000000</td>\n",
       "      <td>2.000000</td>\n",
       "      <td>21.000000</td>\n",
       "      <td>0.000000</td>\n",
       "      <td>0.000000</td>\n",
       "      <td>7.895800</td>\n",
       "    </tr>\n",
       "    <tr>\n",
       "      <th>50%</th>\n",
       "      <td>655.000000</td>\n",
       "      <td>0.000000</td>\n",
       "      <td>3.000000</td>\n",
       "      <td>28.000000</td>\n",
       "      <td>0.000000</td>\n",
       "      <td>0.000000</td>\n",
       "      <td>14.454200</td>\n",
       "    </tr>\n",
       "    <tr>\n",
       "      <th>75%</th>\n",
       "      <td>982.000000</td>\n",
       "      <td>1.000000</td>\n",
       "      <td>3.000000</td>\n",
       "      <td>39.000000</td>\n",
       "      <td>1.000000</td>\n",
       "      <td>0.000000</td>\n",
       "      <td>31.275000</td>\n",
       "    </tr>\n",
       "    <tr>\n",
       "      <th>max</th>\n",
       "      <td>1309.000000</td>\n",
       "      <td>1.000000</td>\n",
       "      <td>3.000000</td>\n",
       "      <td>80.000000</td>\n",
       "      <td>8.000000</td>\n",
       "      <td>9.000000</td>\n",
       "      <td>512.329200</td>\n",
       "    </tr>\n",
       "  </tbody>\n",
       "</table>\n",
       "</div>"
      ],
      "text/plain": [
       "       PassengerId    Survived       Pclass          Age        SibSp  \\\n",
       "count  1309.000000  891.000000  1309.000000  1046.000000  1309.000000   \n",
       "mean    655.000000    0.383838     2.294882    29.881138     0.498854   \n",
       "std     378.020061    0.486592     0.837836    14.413493     1.041658   \n",
       "min       1.000000    0.000000     1.000000     0.170000     0.000000   \n",
       "25%     328.000000    0.000000     2.000000    21.000000     0.000000   \n",
       "50%     655.000000    0.000000     3.000000    28.000000     0.000000   \n",
       "75%     982.000000    1.000000     3.000000    39.000000     1.000000   \n",
       "max    1309.000000    1.000000     3.000000    80.000000     8.000000   \n",
       "\n",
       "             Parch         Fare  \n",
       "count  1309.000000  1308.000000  \n",
       "mean      0.385027    33.295479  \n",
       "std       0.865560    51.758668  \n",
       "min       0.000000     0.000000  \n",
       "25%       0.000000     7.895800  \n",
       "50%       0.000000    14.454200  \n",
       "75%       0.000000    31.275000  \n",
       "max       9.000000   512.329200  "
      ]
     },
     "execution_count": 718,
     "metadata": {},
     "output_type": "execute_result"
    }
   ],
   "source": [
    "# SIN CAMBIOS\n",
    "# full.age: missings\n",
    "# full.cabin: missings\n",
    "# full.embarked: missings\n",
    "# full.fare: missings\n",
    "full.describe()"
   ]
  },
  {
   "cell_type": "code",
   "execution_count": 719,
   "metadata": {},
   "outputs": [
    {
     "data": {
      "text/html": [
       "<div>\n",
       "<style scoped>\n",
       "    .dataframe tbody tr th:only-of-type {\n",
       "        vertical-align: middle;\n",
       "    }\n",
       "\n",
       "    .dataframe tbody tr th {\n",
       "        vertical-align: top;\n",
       "    }\n",
       "\n",
       "    .dataframe thead th {\n",
       "        text-align: right;\n",
       "    }\n",
       "</style>\n",
       "<table border=\"1\" class=\"dataframe\">\n",
       "  <thead>\n",
       "    <tr style=\"text-align: right;\">\n",
       "      <th></th>\n",
       "      <th>Name</th>\n",
       "      <th>Sex</th>\n",
       "      <th>Ticket</th>\n",
       "      <th>Cabin</th>\n",
       "      <th>Embarked</th>\n",
       "    </tr>\n",
       "  </thead>\n",
       "  <tbody>\n",
       "    <tr>\n",
       "      <th>count</th>\n",
       "      <td>1309</td>\n",
       "      <td>1309</td>\n",
       "      <td>1309</td>\n",
       "      <td>295</td>\n",
       "      <td>1307</td>\n",
       "    </tr>\n",
       "    <tr>\n",
       "      <th>unique</th>\n",
       "      <td>1307</td>\n",
       "      <td>2</td>\n",
       "      <td>1003</td>\n",
       "      <td>186</td>\n",
       "      <td>3</td>\n",
       "    </tr>\n",
       "    <tr>\n",
       "      <th>top</th>\n",
       "      <td>Connolly, Miss. Kate</td>\n",
       "      <td>male</td>\n",
       "      <td>CA. 2343</td>\n",
       "      <td>C23 C25 C27</td>\n",
       "      <td>S</td>\n",
       "    </tr>\n",
       "    <tr>\n",
       "      <th>freq</th>\n",
       "      <td>2</td>\n",
       "      <td>843</td>\n",
       "      <td>11</td>\n",
       "      <td>6</td>\n",
       "      <td>914</td>\n",
       "    </tr>\n",
       "  </tbody>\n",
       "</table>\n",
       "</div>"
      ],
      "text/plain": [
       "                        Name   Sex    Ticket        Cabin Embarked\n",
       "count                   1309  1309      1309          295     1307\n",
       "unique                  1307     2      1003          186        3\n",
       "top     Connolly, Miss. Kate  male  CA. 2343  C23 C25 C27        S\n",
       "freq                       2   843        11            6      914"
      ]
     },
     "execution_count": 719,
     "metadata": {},
     "output_type": "execute_result"
    }
   ],
   "source": [
    "# (<-): Cambios\n",
    "# full.age: missings\n",
    "# full.sex: onehotencoder <-\n",
    "# full.cabin: missings\n",
    "# full.embarked: missings, onehotencoder <-\n",
    "# full.fare: missings\n",
    "full.describe()\n",
    "full.describe(exclude=\"number\")"
   ]
  },
  {
   "cell_type": "code",
   "execution_count": 720,
   "metadata": {},
   "outputs": [
    {
     "data": {
      "text/html": [
       "<div>\n",
       "<style scoped>\n",
       "    .dataframe tbody tr th:only-of-type {\n",
       "        vertical-align: middle;\n",
       "    }\n",
       "\n",
       "    .dataframe tbody tr th {\n",
       "        vertical-align: top;\n",
       "    }\n",
       "\n",
       "    .dataframe thead th {\n",
       "        text-align: right;\n",
       "    }\n",
       "</style>\n",
       "<table border=\"1\" class=\"dataframe\">\n",
       "  <thead>\n",
       "    <tr style=\"text-align: right;\">\n",
       "      <th></th>\n",
       "      <th>PassengerId</th>\n",
       "      <th>Survived</th>\n",
       "      <th>Pclass</th>\n",
       "      <th>Name</th>\n",
       "      <th>Sex</th>\n",
       "      <th>Age</th>\n",
       "      <th>SibSp</th>\n",
       "      <th>Parch</th>\n",
       "      <th>Ticket</th>\n",
       "      <th>Fare</th>\n",
       "      <th>Cabin</th>\n",
       "      <th>Embarked</th>\n",
       "    </tr>\n",
       "  </thead>\n",
       "  <tbody>\n",
       "    <tr>\n",
       "      <th>0</th>\n",
       "      <td>1</td>\n",
       "      <td>0.0</td>\n",
       "      <td>3</td>\n",
       "      <td>Braund, Mr. Owen Harris</td>\n",
       "      <td>male</td>\n",
       "      <td>22.0</td>\n",
       "      <td>1</td>\n",
       "      <td>0</td>\n",
       "      <td>A/5 21171</td>\n",
       "      <td>7.2500</td>\n",
       "      <td>NaN</td>\n",
       "      <td>S</td>\n",
       "    </tr>\n",
       "    <tr>\n",
       "      <th>1</th>\n",
       "      <td>2</td>\n",
       "      <td>1.0</td>\n",
       "      <td>1</td>\n",
       "      <td>Cumings, Mrs. John Bradley (Florence Briggs Th...</td>\n",
       "      <td>female</td>\n",
       "      <td>38.0</td>\n",
       "      <td>1</td>\n",
       "      <td>0</td>\n",
       "      <td>PC 17599</td>\n",
       "      <td>71.2833</td>\n",
       "      <td>C85</td>\n",
       "      <td>C</td>\n",
       "    </tr>\n",
       "    <tr>\n",
       "      <th>2</th>\n",
       "      <td>3</td>\n",
       "      <td>1.0</td>\n",
       "      <td>3</td>\n",
       "      <td>Heikkinen, Miss. Laina</td>\n",
       "      <td>female</td>\n",
       "      <td>26.0</td>\n",
       "      <td>0</td>\n",
       "      <td>0</td>\n",
       "      <td>STON/O2. 3101282</td>\n",
       "      <td>7.9250</td>\n",
       "      <td>NaN</td>\n",
       "      <td>S</td>\n",
       "    </tr>\n",
       "    <tr>\n",
       "      <th>3</th>\n",
       "      <td>4</td>\n",
       "      <td>1.0</td>\n",
       "      <td>1</td>\n",
       "      <td>Futrelle, Mrs. Jacques Heath (Lily May Peel)</td>\n",
       "      <td>female</td>\n",
       "      <td>35.0</td>\n",
       "      <td>1</td>\n",
       "      <td>0</td>\n",
       "      <td>113803</td>\n",
       "      <td>53.1000</td>\n",
       "      <td>C123</td>\n",
       "      <td>S</td>\n",
       "    </tr>\n",
       "    <tr>\n",
       "      <th>4</th>\n",
       "      <td>5</td>\n",
       "      <td>0.0</td>\n",
       "      <td>3</td>\n",
       "      <td>Allen, Mr. William Henry</td>\n",
       "      <td>male</td>\n",
       "      <td>35.0</td>\n",
       "      <td>0</td>\n",
       "      <td>0</td>\n",
       "      <td>373450</td>\n",
       "      <td>8.0500</td>\n",
       "      <td>NaN</td>\n",
       "      <td>S</td>\n",
       "    </tr>\n",
       "  </tbody>\n",
       "</table>\n",
       "</div>"
      ],
      "text/plain": [
       "   PassengerId  Survived  Pclass  \\\n",
       "0            1       0.0       3   \n",
       "1            2       1.0       1   \n",
       "2            3       1.0       3   \n",
       "3            4       1.0       1   \n",
       "4            5       0.0       3   \n",
       "\n",
       "                                                Name     Sex   Age  SibSp  \\\n",
       "0                            Braund, Mr. Owen Harris    male  22.0      1   \n",
       "1  Cumings, Mrs. John Bradley (Florence Briggs Th...  female  38.0      1   \n",
       "2                             Heikkinen, Miss. Laina  female  26.0      0   \n",
       "3       Futrelle, Mrs. Jacques Heath (Lily May Peel)  female  35.0      1   \n",
       "4                           Allen, Mr. William Henry    male  35.0      0   \n",
       "\n",
       "   Parch            Ticket     Fare Cabin Embarked  \n",
       "0      0         A/5 21171   7.2500   NaN        S  \n",
       "1      0          PC 17599  71.2833   C85        C  \n",
       "2      0  STON/O2. 3101282   7.9250   NaN        S  \n",
       "3      0            113803  53.1000  C123        S  \n",
       "4      0            373450   8.0500   NaN        S  "
      ]
     },
     "execution_count": 720,
     "metadata": {},
     "output_type": "execute_result"
    }
   ],
   "source": [
    "# (<-): Cambios\n",
    "# full.survived: floatToInt <-\n",
    "# full.pclass: \n",
    "# full.name: feature_split <-\n",
    "# full.sex: onehotencoder\n",
    "# full.age: missings\n",
    "# full.sibsp: \n",
    "# full.parch:\n",
    "# full.ticket: feature_split <-\n",
    "# full.fare: \n",
    "# full.cabin: missings, feature_split <-\n",
    "# full.embarked: missings, onehotencoder\n",
    "# full.fare: missings, normalization\n",
    "full.head(5)"
   ]
  },
  {
   "cell_type": "code",
   "execution_count": 721,
   "metadata": {},
   "outputs": [
    {
     "data": {
      "image/png": "[encoded data removed]",
      "text/plain": [
       "<Figure size 576x576 with 9 Axes>"
      ]
     },
     "metadata": {
      "needs_background": "light"
     },
     "output_type": "display_data"
    }
   ],
   "source": [
    "# (<-): Cambios\n",
    "# full.survived: floatToInt\n",
    "# full.pclass: ordinalencoder <- \n",
    "# full.name: feature_split\n",
    "# full.sex: onehotencoder\n",
    "# full.age: missings, outliers, binning/normalization <-\n",
    "# full.sibsp: grouping <-\n",
    "# full.parch: grouping <-\n",
    "# full.ticket: feature_split\n",
    "# full.fare: outliers, binning/normalization  <-\n",
    "# full.cabin: missings, feature_split\n",
    "# full.embarked: missings, onehotencoder\n",
    "# full.fare: missings, binning/normalization\n",
    "full.hist(figsize=(8,8)) \n",
    "plt.tight_layout()\n",
    "plt.show()"
   ]
  },
  {
   "cell_type": "code",
   "execution_count": 722,
   "metadata": {},
   "outputs": [
    {
     "data": {
      "image/png": "[encoded data removed]",
      "text/plain": [
       "<Figure size 432x288 with 1 Axes>"
      ]
     },
     "metadata": {
      "needs_background": "light"
     },
     "output_type": "display_data"
    },
    {
     "data": {
      "image/png": "[encoded data removed]",
      "text/plain": [
       "<Figure size 432x288 with 1 Axes>"
      ]
     },
     "metadata": {
      "needs_background": "light"
     },
     "output_type": "display_data"
    }
   ],
   "source": [
    "# SIN CAMBIOS\n",
    "# full.survived: floatToInt\n",
    "# full.pclass: ordinalencoder\n",
    "# full.name: feature_split\n",
    "# full.sex: onehotencoder\n",
    "# full.age: missings, outliers, binning/normalization \n",
    "# full.sibsp: grouping \n",
    "# full.parch: grouping \n",
    "# full.ticket: feature_split\n",
    "# full.fare: outliers, binning/normalization  \n",
    "# full.cabin: missings, feature_split\n",
    "# full.embarked: missings, onehotencoder\n",
    "# full.fare: missings, binning/normalization\n",
    "for column in full.select_dtypes(include='object'):\n",
    "    if full[column].nunique() < 10:\n",
    "        sns.countplot(y=column, data=full)\n",
    "        plt.show()"
   ]
  },
  {
   "cell_type": "code",
   "execution_count": 723,
   "metadata": {},
   "outputs": [
    {
     "data": {
      "image/png": "[encoded data removed]",
      "text/plain": [
       "<Figure size 1080x288 with 1 Axes>"
      ]
     },
     "metadata": {
      "needs_background": "light"
     },
     "output_type": "display_data"
    }
   ],
   "source": [
    "# SIN CAMBIOS\n",
    "# full.survived: floatToInt\n",
    "# full.pclass: ordinalencoder \n",
    "# full.name: feature_split\n",
    "# full.sex: onehotencoder\n",
    "# full.age: missings, outliers, binning/normalization \n",
    "# full.sibsp: grouping \n",
    "# full.parch: grouping \n",
    "# full.ticket: feature_split\n",
    "# full.fare: outliers, binning/normalization  \n",
    "# full.cabin: missings, feature_split\n",
    "# full.embarked: missings, onehotencoder\n",
    "# full.fare: missings, binning/normalization\n",
    "unique_values = full.select_dtypes(include=\"number\").nunique().sort_values()\n",
    "# Plot information with y-axis in log-scale\n",
    "unique_values.plot.bar(logy=True, figsize=(15, 4),title=\"Unique values per feature\");"
   ]
  },
  {
   "cell_type": "code",
   "execution_count": 724,
   "metadata": {},
   "outputs": [
    {
     "name": "stdout",
     "output_type": "stream",
     "text": [
      "You seem to have 0 duplicate(s) in your database.\n"
     ]
    }
   ],
   "source": [
    "# sin filas duplicadas\n",
    "n_duplicates = full.drop(labels=[\"PassengerId\"], axis=1).duplicated().sum()\n",
    "print(f\"You seem to have {n_duplicates} duplicate(s) in your database.\")"
   ]
  },
  {
   "cell_type": "code",
   "execution_count": 725,
   "metadata": {},
   "outputs": [],
   "source": [
    "# extracción de duplicados (en caso de que los hubiera)\n",
    "columns_to_consider = train.drop(labels=[\"PassengerId\"], axis=1).columns\n",
    "full = full.drop_duplicates(subset=columns_to_consider)"
   ]
  },
  {
   "cell_type": "markdown",
   "metadata": {},
   "source": [
    "## missings"
   ]
  },
  {
   "cell_type": "code",
   "execution_count": 726,
   "metadata": {},
   "outputs": [
    {
     "data": {
      "text/plain": [
       "PassengerId       0\n",
       "Survived        418\n",
       "Pclass            0\n",
       "Name              0\n",
       "Sex               0\n",
       "Age             263\n",
       "SibSp             0\n",
       "Parch             0\n",
       "Ticket            0\n",
       "Fare              1\n",
       "Cabin          1014\n",
       "Embarked          2\n",
       "dtype: int64"
      ]
     },
     "execution_count": 726,
     "metadata": {},
     "output_type": "execute_result"
    }
   ],
   "source": [
    "# volumen de missings (formato numérico)\n",
    "full.isnull().sum()"
   ]
  },
  {
   "cell_type": "code",
   "execution_count": 727,
   "metadata": {},
   "outputs": [
    {
     "data": {
      "image/png": "[encoded data removed]",
      "text/plain": [
       "<Figure size 1080x288 with 1 Axes>"
      ]
     },
     "metadata": {
      "needs_background": "light"
     },
     "output_type": "display_data"
    }
   ],
   "source": [
    "# % de missings (formato gráfico)\n",
    "full.isna().mean().sort_values().plot(\n",
    "    kind=\"bar\", figsize=(15, 4),\n",
    "    title=\"Percentage of missing values per feature\",\n",
    "    ylabel=\"Ratio of missing values per feature\");"
   ]
  },
  {
   "cell_type": "code",
   "execution_count": 728,
   "metadata": {},
   "outputs": [],
   "source": [
    "# Función para extracción de código de cabina\n",
    "def assignDeckValue(CabinCode):\n",
    "    '''No value=\"Unknown\" else extract the first letter of the cabin\n",
    "       Value= Fill with th word Unknown'''\n",
    "    if pd.isnull(CabinCode):\n",
    "        category = 'Unknown'\n",
    "    else:\n",
    "        category = CabinCode[0]\n",
    "    return category"
   ]
  },
  {
   "cell_type": "code",
   "execution_count": 729,
   "metadata": {},
   "outputs": [
    {
     "data": {
      "text/plain": [
       "array(['Unknown', 'C', 'Unknown', 'C', 'Unknown'], dtype='<U7')"
      ]
     },
     "execution_count": 729,
     "metadata": {},
     "output_type": "execute_result"
    }
   ],
   "source": [
    "# Creación de nueva columna 'Deck' a partir de 'Cabin' \n",
    "Deck = np.array([assignDeckValue(cabin) for cabin in full['Cabin'].values])\n",
    "Deck[0:5]"
   ]
  },
  {
   "cell_type": "code",
   "execution_count": 730,
   "metadata": {},
   "outputs": [
    {
     "data": {
      "text/html": [
       "<div>\n",
       "<style scoped>\n",
       "    .dataframe tbody tr th:only-of-type {\n",
       "        vertical-align: middle;\n",
       "    }\n",
       "\n",
       "    .dataframe tbody tr th {\n",
       "        vertical-align: top;\n",
       "    }\n",
       "\n",
       "    .dataframe thead th {\n",
       "        text-align: right;\n",
       "    }\n",
       "</style>\n",
       "<table border=\"1\" class=\"dataframe\">\n",
       "  <thead>\n",
       "    <tr style=\"text-align: right;\">\n",
       "      <th></th>\n",
       "      <th>PassengerId</th>\n",
       "      <th>Survived</th>\n",
       "      <th>Pclass</th>\n",
       "      <th>Name</th>\n",
       "      <th>Sex</th>\n",
       "      <th>Age</th>\n",
       "      <th>SibSp</th>\n",
       "      <th>Parch</th>\n",
       "      <th>Ticket</th>\n",
       "      <th>Fare</th>\n",
       "      <th>Cabin</th>\n",
       "      <th>Embarked</th>\n",
       "      <th>Deck</th>\n",
       "    </tr>\n",
       "  </thead>\n",
       "  <tbody>\n",
       "    <tr>\n",
       "      <th>0</th>\n",
       "      <td>1</td>\n",
       "      <td>0.0</td>\n",
       "      <td>3</td>\n",
       "      <td>Braund, Mr. Owen Harris</td>\n",
       "      <td>male</td>\n",
       "      <td>22.0</td>\n",
       "      <td>1</td>\n",
       "      <td>0</td>\n",
       "      <td>A/5 21171</td>\n",
       "      <td>7.2500</td>\n",
       "      <td>NaN</td>\n",
       "      <td>S</td>\n",
       "      <td>Unknown</td>\n",
       "    </tr>\n",
       "    <tr>\n",
       "      <th>1</th>\n",
       "      <td>2</td>\n",
       "      <td>1.0</td>\n",
       "      <td>1</td>\n",
       "      <td>Cumings, Mrs. John Bradley (Florence Briggs Th...</td>\n",
       "      <td>female</td>\n",
       "      <td>38.0</td>\n",
       "      <td>1</td>\n",
       "      <td>0</td>\n",
       "      <td>PC 17599</td>\n",
       "      <td>71.2833</td>\n",
       "      <td>C85</td>\n",
       "      <td>C</td>\n",
       "      <td>C</td>\n",
       "    </tr>\n",
       "  </tbody>\n",
       "</table>\n",
       "</div>"
      ],
      "text/plain": [
       "   PassengerId  Survived  Pclass  \\\n",
       "0            1       0.0       3   \n",
       "1            2       1.0       1   \n",
       "\n",
       "                                                Name     Sex   Age  SibSp  \\\n",
       "0                            Braund, Mr. Owen Harris    male  22.0      1   \n",
       "1  Cumings, Mrs. John Bradley (Florence Briggs Th...  female  38.0      1   \n",
       "\n",
       "   Parch     Ticket     Fare Cabin Embarked     Deck  \n",
       "0      0  A/5 21171   7.2500   NaN        S  Unknown  \n",
       "1      0   PC 17599  71.2833   C85        C        C  "
      ]
     },
     "execution_count": 730,
     "metadata": {},
     "output_type": "execute_result"
    }
   ],
   "source": [
    "full = full.assign(Deck = Deck)\n",
    "full.head(2)"
   ]
  },
  {
   "cell_type": "code",
   "execution_count": 731,
   "metadata": {},
   "outputs": [],
   "source": [
    "# (<-): Cambios\n",
    "# full.survived: floatToInt\n",
    "# full.pclass: ordinalencoder \n",
    "# full.name: feature_split\n",
    "# full.sex: onehotencoder\n",
    "# full.age: missings, outliers, binning/normalization \n",
    "# full.sibsp: grouping \n",
    "# full.parch: grouping \n",
    "# full.ticket: feature_split\n",
    "# full.fare: outliers, binning/normalization  \n",
    "# full.cabin: <-------------\n",
    "# full.embarked: missings, onehotencoder\n",
    "# full.fare: missings, binning/normalization\n",
    "# full.deck: feature_split\n",
    "full.drop(['Cabin'], 1, inplace=True) "
   ]
  },
  {
   "cell_type": "code",
   "execution_count": 732,
   "metadata": {},
   "outputs": [
    {
     "data": {
      "text/plain": [
       "Unknown    1014\n",
       "C            94\n",
       "B            65\n",
       "D            46\n",
       "E            41\n",
       "A            22\n",
       "F            21\n",
       "G             5\n",
       "T             1\n",
       "Name: Deck, dtype: int64"
      ]
     },
     "execution_count": 732,
     "metadata": {},
     "output_type": "execute_result"
    }
   ],
   "source": [
    "# (<-): Cambios\n",
    "# full.survived: floatToInt\n",
    "# full.pclass: ordinalencoder\n",
    "# full.name: feature_split\n",
    "# full.sex: onehotencoder\n",
    "# full.age: missings, outliers, binning/normalization \n",
    "# full.sibsp: grouping \n",
    "# full.parch: grouping \n",
    "# full.ticket: feature_split\n",
    "# full.fare: outliers, binning/normalization  \n",
    "# full.embarked: missings, onehotencoder\n",
    "# full.fare: missings, binning/normalization\n",
    "# full.deck: grouping  <-------------\n",
    "full['Deck'].value_counts()"
   ]
  },
  {
   "cell_type": "code",
   "execution_count": 733,
   "metadata": {},
   "outputs": [
    {
     "name": "stdout",
     "output_type": "stream",
     "text": [
      "Unknown    1014\n",
      "C            94\n",
      "B            65\n",
      "D            46\n",
      "E            41\n",
      "A            22\n",
      "F            21\n",
      "G             5\n",
      "T             1\n",
      "Name: Deck, dtype: int64\n"
     ]
    },
    {
     "name": "stderr",
     "output_type": "stream",
     "text": [
      "C:\\Users\\Carlos\\anaconda3\\lib\\site-packages\\seaborn\\categorical.py:3704: UserWarning: The `factorplot` function has been renamed to `catplot`. The original name will be removed in a future release. Please update your code. Note that the default `kind` in `factorplot` (`'point'`) has changed `'strip'` in `catplot`.\n",
      "  warnings.warn(msg)\n",
      "C:\\Users\\Carlos\\anaconda3\\lib\\site-packages\\seaborn\\categorical.py:3710: UserWarning: The `size` parameter has been renamed to `height`; please update your code.\n",
      "  warnings.warn(msg, UserWarning)\n",
      "C:\\Users\\Carlos\\anaconda3\\lib\\site-packages\\seaborn\\_decorators.py:36: FutureWarning: Pass the following variables as keyword args: x, y. From version 0.12, the only valid positional argument will be `data`, and passing other arguments without an explicit keyword will result in an error or misinterpretation.\n",
      "  warnings.warn(\n"
     ]
    },
    {
     "data": {
      "text/plain": [
       "<seaborn.axisgrid.FacetGrid at 0x2628d9e2c40>"
      ]
     },
     "execution_count": 733,
     "metadata": {},
     "output_type": "execute_result"
    },
    {
     "data": {
      "image/png": "[encoded data removed]",
      "text/plain": [
       "<Figure size 864x288 with 1 Axes>"
      ]
     },
     "metadata": {
      "needs_background": "light"
     },
     "output_type": "display_data"
    }
   ],
   "source": [
    "print(full[\"Deck\"].value_counts())\n",
    "sns.factorplot('Deck','Survived', data=full,size=4,aspect=3)"
   ]
  },
  {
   "cell_type": "code",
   "execution_count": 734,
   "metadata": {},
   "outputs": [],
   "source": [
    "# (<-): Cambios\n",
    "# full.survived: floatToInt\n",
    "# full.pclass: ordinalencoder \n",
    "# full.name: feature_split\n",
    "# full.sex: onehotencoder\n",
    "# full.age: missings, outliers, binning/normalization \n",
    "# full.sibsp: grouping \n",
    "# full.parch: grouping \n",
    "# full.ticket: feature_split\n",
    "# full.fare: outliers, binning/normalization  \n",
    "# full.embarked: missings, onehotencoder\n",
    "# full.fare: missings, binning/normalization\n",
    "# full.deck: onehotencoder  <-------------\n",
    "full['Deck'] = full['Deck'].replace(['A','B','C','D','E','F','G','T'], 'hascabin')\n",
    "full['Deck'] = full['Deck'].replace(['Unknown'], 'nocabin')"
   ]
  },
  {
   "cell_type": "code",
   "execution_count": 735,
   "metadata": {},
   "outputs": [
    {
     "data": {
      "text/plain": [
       "nocabin     1014\n",
       "hascabin     295\n",
       "Name: Deck, dtype: int64"
      ]
     },
     "execution_count": 735,
     "metadata": {},
     "output_type": "execute_result"
    }
   ],
   "source": [
    "full['Deck'].value_counts()"
   ]
  },
  {
   "cell_type": "code",
   "execution_count": 736,
   "metadata": {},
   "outputs": [
    {
     "data": {
      "text/html": [
       "<div>\n",
       "<style scoped>\n",
       "    .dataframe tbody tr th:only-of-type {\n",
       "        vertical-align: middle;\n",
       "    }\n",
       "\n",
       "    .dataframe tbody tr th {\n",
       "        vertical-align: top;\n",
       "    }\n",
       "\n",
       "    .dataframe thead th {\n",
       "        text-align: right;\n",
       "    }\n",
       "</style>\n",
       "<table border=\"1\" class=\"dataframe\">\n",
       "  <thead>\n",
       "    <tr style=\"text-align: right;\">\n",
       "      <th></th>\n",
       "      <th>PassengerId</th>\n",
       "      <th>Survived</th>\n",
       "      <th>Pclass</th>\n",
       "      <th>Name</th>\n",
       "      <th>Sex</th>\n",
       "      <th>Age</th>\n",
       "      <th>SibSp</th>\n",
       "      <th>Parch</th>\n",
       "      <th>Ticket</th>\n",
       "      <th>Fare</th>\n",
       "      <th>Embarked</th>\n",
       "      <th>Deck</th>\n",
       "    </tr>\n",
       "  </thead>\n",
       "  <tbody>\n",
       "    <tr>\n",
       "      <th>0</th>\n",
       "      <td>1</td>\n",
       "      <td>0.0</td>\n",
       "      <td>3</td>\n",
       "      <td>Braund, Mr. Owen Harris</td>\n",
       "      <td>male</td>\n",
       "      <td>22.0</td>\n",
       "      <td>1</td>\n",
       "      <td>0</td>\n",
       "      <td>A/5 21171</td>\n",
       "      <td>7.2500</td>\n",
       "      <td>S</td>\n",
       "      <td>nocabin</td>\n",
       "    </tr>\n",
       "    <tr>\n",
       "      <th>1</th>\n",
       "      <td>2</td>\n",
       "      <td>1.0</td>\n",
       "      <td>1</td>\n",
       "      <td>Cumings, Mrs. John Bradley (Florence Briggs Th...</td>\n",
       "      <td>female</td>\n",
       "      <td>38.0</td>\n",
       "      <td>1</td>\n",
       "      <td>0</td>\n",
       "      <td>PC 17599</td>\n",
       "      <td>71.2833</td>\n",
       "      <td>C</td>\n",
       "      <td>hascabin</td>\n",
       "    </tr>\n",
       "  </tbody>\n",
       "</table>\n",
       "</div>"
      ],
      "text/plain": [
       "   PassengerId  Survived  Pclass  \\\n",
       "0            1       0.0       3   \n",
       "1            2       1.0       1   \n",
       "\n",
       "                                                Name     Sex   Age  SibSp  \\\n",
       "0                            Braund, Mr. Owen Harris    male  22.0      1   \n",
       "1  Cumings, Mrs. John Bradley (Florence Briggs Th...  female  38.0      1   \n",
       "\n",
       "   Parch     Ticket     Fare Embarked      Deck  \n",
       "0      0  A/5 21171   7.2500        S   nocabin  \n",
       "1      0   PC 17599  71.2833        C  hascabin  "
      ]
     },
     "execution_count": 736,
     "metadata": {},
     "output_type": "execute_result"
    }
   ],
   "source": [
    "full.head(2)"
   ]
  },
  {
   "cell_type": "code",
   "execution_count": 737,
   "metadata": {},
   "outputs": [],
   "source": [
    "# (<-): Cambios\n",
    "# full.survived: floatToInt\n",
    "# full.pclass: ordinalencoder \n",
    "# full.name: feature_split  <-------------\n",
    "# full.sex: onehotencoder\n",
    "# full.age: missings, outliers, binning/normalization \n",
    "# full.sibsp: grouping \n",
    "# full.parch: grouping \n",
    "# full.ticket: feature_split\n",
    "# full.fare: outliers, binning/normalization  \n",
    "# full.embarked: missings, onehotencoder\n",
    "# full.fare: missings, binning/normalization\n",
    "# full.deck: onehotencoder  \n",
    "\n",
    "# Código para creación de columna 'Title' a partir de 'Name'\n",
    "full['Title'] = full.Name.str.extract(' ([A-Za-z]+)\\.', expand=False)"
   ]
  },
  {
   "cell_type": "code",
   "execution_count": 738,
   "metadata": {},
   "outputs": [],
   "source": [
    "# (<-): Cambios\n",
    "# full.survived: floatToInt\n",
    "# full.pclass: ordinalencoder\n",
    "# full.name:  <-------------\n",
    "# full.sex: onehotencoder\n",
    "# full.age: missings, outliers, binning/normalization \n",
    "# full.sibsp: grouping \n",
    "# full.parch: grouping \n",
    "# full.ticket: feature_split\n",
    "# full.fare: outliers, binning/normalization  \n",
    "# full.embarked: missings, onehotencoder\n",
    "# full.fare: missings, binning/normalization\n",
    "# full.deck: onehotencoder  \n",
    "full.drop(['Name'], 1, inplace=True) "
   ]
  },
  {
   "cell_type": "code",
   "execution_count": 739,
   "metadata": {},
   "outputs": [
    {
     "data": {
      "text/plain": [
       "Mr          757\n",
       "Miss        260\n",
       "Mrs         197\n",
       "Master       61\n",
       "Rev           8\n",
       "Dr            8\n",
       "Col           4\n",
       "Mlle          2\n",
       "Major         2\n",
       "Ms            2\n",
       "Countess      1\n",
       "Don           1\n",
       "Jonkheer      1\n",
       "Capt          1\n",
       "Dona          1\n",
       "Sir           1\n",
       "Lady          1\n",
       "Mme           1\n",
       "Name: Title, dtype: int64"
      ]
     },
     "execution_count": 739,
     "metadata": {},
     "output_type": "execute_result"
    }
   ],
   "source": [
    "# (<-): Cambios\n",
    "# full.survived: floatToInt\n",
    "# full.pclass: ordinalencoder \n",
    "# full.sex: onehotencoder\n",
    "# full.age: missings, outliers, binning/normalization \n",
    "# full.sibsp: grouping \n",
    "# full.parch: grouping \n",
    "# full.ticket: feature_split\n",
    "# full.fare: outliers, binning/normalization  \n",
    "# full.embarked: missings, onehotencoder\n",
    "# full.fare: missings, binning/normalization\n",
    "# full.deck: onehotencoder  \n",
    "# full.title: grouping <-------------\n",
    "full['Title'].value_counts()"
   ]
  },
  {
   "cell_type": "code",
   "execution_count": 740,
   "metadata": {},
   "outputs": [
    {
     "data": {
      "text/plain": [
       "<AxesSubplot:>"
      ]
     },
     "execution_count": 740,
     "metadata": {},
     "output_type": "execute_result"
    },
    {
     "data": {
      "image/png": "[encoded data removed]",
      "text/plain": [
       "<Figure size 432x288 with 1 Axes>"
      ]
     },
     "metadata": {
      "needs_background": "light"
     },
     "output_type": "display_data"
    }
   ],
   "source": [
    "full['Title'].value_counts().plot(kind='bar')"
   ]
  },
  {
   "cell_type": "code",
   "execution_count": 741,
   "metadata": {},
   "outputs": [
    {
     "data": {
      "text/plain": [
       "Title\n",
       "Capt        70.000000\n",
       "Col         54.000000\n",
       "Countess    33.000000\n",
       "Don         40.000000\n",
       "Dona        39.000000\n",
       "Dr          43.571429\n",
       "Jonkheer    38.000000\n",
       "Lady        48.000000\n",
       "Major       48.500000\n",
       "Master       5.482642\n",
       "Miss        21.774238\n",
       "Mlle        24.000000\n",
       "Mme         24.000000\n",
       "Mr          32.252151\n",
       "Mrs         36.994118\n",
       "Ms          28.000000\n",
       "Rev         41.250000\n",
       "Sir         49.000000\n",
       "Name: Age, dtype: float64"
      ]
     },
     "execution_count": 741,
     "metadata": {},
     "output_type": "execute_result"
    }
   ],
   "source": [
    "means = full.groupby('Title')['Age'].mean()\n",
    "means"
   ]
  },
  {
   "cell_type": "code",
   "execution_count": 742,
   "metadata": {},
   "outputs": [],
   "source": [
    "# extracción de lista de títulos\n",
    "title_list = list(set(full['Title'].to_list()))"
   ]
  },
  {
   "cell_type": "code",
   "execution_count": 743,
   "metadata": {},
   "outputs": [],
   "source": [
    "# función para asignar edad media a títulos con missings\n",
    "def age_missing_replace(means, dframe, title_list):\n",
    "    for title in title_list:\n",
    "        temp = dframe['Title'] == title \n",
    "        dframe.loc[temp, 'Age'] = dframe.loc[temp, 'Age'].fillna(means[title]) "
   ]
  },
  {
   "cell_type": "code",
   "execution_count": 744,
   "metadata": {},
   "outputs": [],
   "source": [
    "# (<-): Cambios\n",
    "# full.survived: floatToInt\n",
    "# full.pclass: ordinalencoder\n",
    "# full.sex: onehotencoder\n",
    "# full.age: missings, outliers, binning/normalization <-------------\n",
    "# full.sibsp: grouping \n",
    "# full.parch: grouping \n",
    "# full.ticket: feature_split\n",
    "# full.fare: outliers, binning/normalization  \n",
    "# full.embarked: missings, onehotencoder\n",
    "# full.fare: missings, binning/normalization\n",
    "# full.deck: onehotencoder  \n",
    "# full.title: grouping \n",
    "age_missing_replace(means, full, title_list)"
   ]
  },
  {
   "cell_type": "code",
   "execution_count": 745,
   "metadata": {},
   "outputs": [
    {
     "data": {
      "text/plain": [
       "<AxesSubplot:xlabel='Survived', ylabel='Age'>"
      ]
     },
     "execution_count": 745,
     "metadata": {},
     "output_type": "execute_result"
    },
    {
     "data": {
      "image/png": "[encoded data removed]",
      "text/plain": [
       "<Figure size 432x288 with 1 Axes>"
      ]
     },
     "metadata": {
      "needs_background": "light"
     },
     "output_type": "display_data"
    }
   ],
   "source": [
    "# observación de outliers\n",
    "# no se pueden eliminar outliers porque pueden aplicar a filas del dataset 'test' \n",
    "sns.boxplot(x=\"Survived\", y=\"Age\",data= full)"
   ]
  },
  {
   "cell_type": "code",
   "execution_count": 746,
   "metadata": {},
   "outputs": [],
   "source": [
    "# Se agrupa Dr_female a 'Mrs' y Dr_male a 'Mr'\n",
    "# (<-): Cambios\n",
    "# full.survived: floatToInt\n",
    "# full.pclass: ordinalencoder \n",
    "# full.sex: onehotencoder\n",
    "# full.age: outliers, binning/normalization \n",
    "# full.sibsp: grouping \n",
    "# full.parch: grouping \n",
    "# full.ticket: feature_split\n",
    "# full.fare: outliers, binning/normalization  \n",
    "# full.embarked: missings, onehotencoder\n",
    "# full.fare: missings, binning/normalization\n",
    "# full.deck: onehotencoder  \n",
    "# full.title: grouping  <-------------\n",
    "full['Title'] = np.where((full['Title'] == 'Dr') & (full['Sex'] == 'female') , 'Mrs', full['Title'])\n",
    "full['Title'] = np.where((full['Title'] == 'Dr') & (full['Sex'] == 'male') , 'Mr', full['Title'])"
   ]
  },
  {
   "cell_type": "code",
   "execution_count": 747,
   "metadata": {},
   "outputs": [],
   "source": [
    "# Se agrupan el resto de titles con las siguientes categorías\n",
    "# (<-): Cambios\n",
    "# full.survived: floatToInt\n",
    "# full.pclass: ordinalencoder \n",
    "# full.sex: onehotencoder\n",
    "# full.age: outliers, binning/normalization \n",
    "# full.sibsp: grouping \n",
    "# full.parch: grouping \n",
    "# full.ticket: feature_split\n",
    "# full.fare: outliers, binning/normalization  \n",
    "# full.embarked: missings, onehotencoder\n",
    "# full.fare: missings, binning/normalization\n",
    "# full.deck: onehotencoder  \n",
    "# full.title: grouping  <-------------\n",
    "full['Title'] = full['Title'].replace(['Rev','Col','Major','Sir','Jonkheer','Capt','Don'], 'Mr')\n",
    "full['Title'] = full['Title'].replace(['Mme','Lady','Dona','Countess'], 'Mrs')\n",
    "full['Title'] = full['Title'].replace(['Mlle','Ms'], 'Miss')"
   ]
  },
  {
   "cell_type": "code",
   "execution_count": 748,
   "metadata": {},
   "outputs": [
    {
     "data": {
      "text/plain": [
       "<AxesSubplot:>"
      ]
     },
     "execution_count": 748,
     "metadata": {},
     "output_type": "execute_result"
    },
    {
     "data": {
      "image/png": "[encoded data removed]",
      "text/plain": [
       "<Figure size 432x288 with 1 Axes>"
      ]
     },
     "metadata": {
      "needs_background": "light"
     },
     "output_type": "display_data"
    }
   ],
   "source": [
    "# (<-): Cambios\n",
    "# full.survived: floatToInt\n",
    "# full.pclass: ordinalencoder \n",
    "# full.sex: onehotencoder\n",
    "# full.age: outliers, binning/normalization \n",
    "# full.sibsp: grouping \n",
    "# full.parch: grouping \n",
    "# full.ticket: feature_split\n",
    "# full.fare: outliers, binning/normalization  \n",
    "# full.embarked: missings, onehotencoder\n",
    "# full.fare: missings, binning/normalization\n",
    "# full.deck: onehotencoder  \n",
    "# full.title: onehotencoder  <-------------\n",
    "full['Title'].value_counts().plot(kind='bar')"
   ]
  },
  {
   "cell_type": "code",
   "execution_count": 775,
   "metadata": {},
   "outputs": [
    {
     "data": {
      "text/plain": [
       "<AxesSubplot:xlabel='Survived', ylabel='count'>"
      ]
     },
     "execution_count": 775,
     "metadata": {},
     "output_type": "execute_result"
    },
    {
     "data": {
      "image/png": "[encoded data removed]",
      "text/plain": [
       "<Figure size 432x288 with 1 Axes>"
      ]
     },
     "metadata": {},
     "output_type": "display_data"
    }
   ],
   "source": [
    "sns.set_style('whitegrid')\n",
    "sns.countplot(x='Survived',hue='Title', data=full, palette='RdBu_r')"
   ]
  },
  {
   "cell_type": "code",
   "execution_count": 749,
   "metadata": {},
   "outputs": [],
   "source": [
    "# (<-): Cambios\n",
    "# full.survived: floatToInt\n",
    "# full.pclass: ordinalencoder \n",
    "# full.sex: onehotencoder\n",
    "# full.age: outliers, binning/normalization \n",
    "# full.sibsp: grouping \n",
    "# full.parch: grouping \n",
    "# full.ticket: feature_split\n",
    "# full.fare: outliers, binning/normalization  \n",
    "# full.embarked: onehotencoder   <-------------\n",
    "# full.fare: binning/normalization   <-------------\n",
    "# full.deck: onehotencoder  \n",
    "# full.title: onehotencoder  \n",
    "full['Fare'].fillna(full['Fare'].mode()[0], inplace = True)\n",
    "full['Embarked'].fillna(full['Embarked'].mode()[0], inplace = True)"
   ]
  },
  {
   "cell_type": "code",
   "execution_count": 750,
   "metadata": {},
   "outputs": [
    {
     "data": {
      "text/plain": [
       "<AxesSubplot:>"
      ]
     },
     "execution_count": 750,
     "metadata": {},
     "output_type": "execute_result"
    },
    {
     "data": {
      "image/png": "[encoded data removed]",
      "text/plain": [
       "<Figure size 432x288 with 1 Axes>"
      ]
     },
     "metadata": {
      "needs_background": "light"
     },
     "output_type": "display_data"
    }
   ],
   "source": [
    "full['SibSp'].value_counts().plot(kind='bar')"
   ]
  },
  {
   "cell_type": "code",
   "execution_count": 751,
   "metadata": {},
   "outputs": [
    {
     "data": {
      "text/plain": [
       "<AxesSubplot:>"
      ]
     },
     "execution_count": 751,
     "metadata": {},
     "output_type": "execute_result"
    },
    {
     "data": {
      "image/png": "[encoded data removed]",
      "text/plain": [
       "<Figure size 432x288 with 1 Axes>"
      ]
     },
     "metadata": {
      "needs_background": "light"
     },
     "output_type": "display_data"
    }
   ],
   "source": [
    "full['Parch'].value_counts().plot(kind='bar')"
   ]
  },
  {
   "cell_type": "code",
   "execution_count": 752,
   "metadata": {},
   "outputs": [
    {
     "data": {
      "text/html": [
       "<div>\n",
       "<style scoped>\n",
       "    .dataframe tbody tr th:only-of-type {\n",
       "        vertical-align: middle;\n",
       "    }\n",
       "\n",
       "    .dataframe tbody tr th {\n",
       "        vertical-align: top;\n",
       "    }\n",
       "\n",
       "    .dataframe thead th {\n",
       "        text-align: right;\n",
       "    }\n",
       "</style>\n",
       "<table border=\"1\" class=\"dataframe\">\n",
       "  <thead>\n",
       "    <tr style=\"text-align: right;\">\n",
       "      <th></th>\n",
       "      <th>PassengerId</th>\n",
       "      <th>Survived</th>\n",
       "      <th>Pclass</th>\n",
       "      <th>Sex</th>\n",
       "      <th>Age</th>\n",
       "      <th>SibSp</th>\n",
       "      <th>Parch</th>\n",
       "      <th>Ticket</th>\n",
       "      <th>Fare</th>\n",
       "      <th>Embarked</th>\n",
       "      <th>Deck</th>\n",
       "      <th>Title</th>\n",
       "    </tr>\n",
       "  </thead>\n",
       "  <tbody>\n",
       "    <tr>\n",
       "      <th>0</th>\n",
       "      <td>1</td>\n",
       "      <td>0.0</td>\n",
       "      <td>3</td>\n",
       "      <td>male</td>\n",
       "      <td>22.0</td>\n",
       "      <td>1</td>\n",
       "      <td>0</td>\n",
       "      <td>A/5 21171</td>\n",
       "      <td>7.2500</td>\n",
       "      <td>S</td>\n",
       "      <td>nocabin</td>\n",
       "      <td>Mr</td>\n",
       "    </tr>\n",
       "    <tr>\n",
       "      <th>1</th>\n",
       "      <td>2</td>\n",
       "      <td>1.0</td>\n",
       "      <td>1</td>\n",
       "      <td>female</td>\n",
       "      <td>38.0</td>\n",
       "      <td>1</td>\n",
       "      <td>0</td>\n",
       "      <td>PC 17599</td>\n",
       "      <td>71.2833</td>\n",
       "      <td>C</td>\n",
       "      <td>hascabin</td>\n",
       "      <td>Mrs</td>\n",
       "    </tr>\n",
       "    <tr>\n",
       "      <th>2</th>\n",
       "      <td>3</td>\n",
       "      <td>1.0</td>\n",
       "      <td>3</td>\n",
       "      <td>female</td>\n",
       "      <td>26.0</td>\n",
       "      <td>0</td>\n",
       "      <td>0</td>\n",
       "      <td>STON/O2. 3101282</td>\n",
       "      <td>7.9250</td>\n",
       "      <td>S</td>\n",
       "      <td>nocabin</td>\n",
       "      <td>Miss</td>\n",
       "    </tr>\n",
       "    <tr>\n",
       "      <th>3</th>\n",
       "      <td>4</td>\n",
       "      <td>1.0</td>\n",
       "      <td>1</td>\n",
       "      <td>female</td>\n",
       "      <td>35.0</td>\n",
       "      <td>1</td>\n",
       "      <td>0</td>\n",
       "      <td>113803</td>\n",
       "      <td>53.1000</td>\n",
       "      <td>S</td>\n",
       "      <td>hascabin</td>\n",
       "      <td>Mrs</td>\n",
       "    </tr>\n",
       "    <tr>\n",
       "      <th>4</th>\n",
       "      <td>5</td>\n",
       "      <td>0.0</td>\n",
       "      <td>3</td>\n",
       "      <td>male</td>\n",
       "      <td>35.0</td>\n",
       "      <td>0</td>\n",
       "      <td>0</td>\n",
       "      <td>373450</td>\n",
       "      <td>8.0500</td>\n",
       "      <td>S</td>\n",
       "      <td>nocabin</td>\n",
       "      <td>Mr</td>\n",
       "    </tr>\n",
       "  </tbody>\n",
       "</table>\n",
       "</div>"
      ],
      "text/plain": [
       "   PassengerId  Survived  Pclass     Sex   Age  SibSp  Parch  \\\n",
       "0            1       0.0       3    male  22.0      1      0   \n",
       "1            2       1.0       1  female  38.0      1      0   \n",
       "2            3       1.0       3  female  26.0      0      0   \n",
       "3            4       1.0       1  female  35.0      1      0   \n",
       "4            5       0.0       3    male  35.0      0      0   \n",
       "\n",
       "             Ticket     Fare Embarked      Deck Title  \n",
       "0         A/5 21171   7.2500        S   nocabin    Mr  \n",
       "1          PC 17599  71.2833        C  hascabin   Mrs  \n",
       "2  STON/O2. 3101282   7.9250        S   nocabin  Miss  \n",
       "3            113803  53.1000        S  hascabin   Mrs  \n",
       "4            373450   8.0500        S   nocabin    Mr  "
      ]
     },
     "execution_count": 752,
     "metadata": {},
     "output_type": "execute_result"
    }
   ],
   "source": [
    "full.head()"
   ]
  },
  {
   "cell_type": "code",
   "execution_count": 753,
   "metadata": {},
   "outputs": [],
   "source": [
    "# (<-): Cambios\n",
    "# full.survived: floatToInt\n",
    "# full.pclass: ordinalencoder \n",
    "# full.sex: onehotencoder\n",
    "# full.age: outliers, binning/normalization \n",
    "# full.sibsp: onehotencoder   <-------------\n",
    "# full.parch: onehotencoder   <-------------\n",
    "# full.ticket: feature_split\n",
    "# full.fare: outliers, binning/normalization  \n",
    "# full.embarked: onehotencoder\n",
    "# full.fare: binning/normalization\n",
    "# full.deck: onehotencoder  \n",
    "# full.title: onehotencoder  \n",
    "full['SibSp'] = full['SibSp'].replace([0], 'SibSpNo')\n",
    "full['SibSp'] = full['SibSp'].replace([1,2,3,4,5,8], 'SibSpYes')\n",
    "full['Parch'] = full['Parch'].replace([0], 'ParchNo')\n",
    "full['Parch'] = full['Parch'].replace([1,2,3,4,5,6,9], 'ParchYes')"
   ]
  },
  {
   "cell_type": "code",
   "execution_count": 754,
   "metadata": {},
   "outputs": [
    {
     "data": {
      "text/plain": [
       "CA. 2343        11\n",
       "CA 2144          8\n",
       "PC 17608         7\n",
       "S.O.C. 14879     7\n",
       "1601             7\n",
       "                ..\n",
       "343275           1\n",
       "2678             1\n",
       "PC 17609         1\n",
       "330979           1\n",
       "36864            1\n",
       "Name: Ticket, Length: 1003, dtype: int64"
      ]
     },
     "execution_count": 754,
     "metadata": {},
     "output_type": "execute_result"
    }
   ],
   "source": [
    "full['Ticket'].value_counts()"
   ]
  },
  {
   "cell_type": "code",
   "execution_count": 756,
   "metadata": {},
   "outputs": [],
   "source": [
    "# (<-): Cambios\n",
    "# full.survived: floatToInt\n",
    "# full.pclass: ordinalencoder\n",
    "# full.sex: onehotencoder\n",
    "# full.age: outliers, binning/normalization \n",
    "# full.sibsp: onehotencoder\n",
    "# full.parch: onehotencoder\n",
    "# full.ticket: feature_split   <-------------\n",
    "# full.fare: outliers, binning/normalization  \n",
    "# full.embarked: onehotencoder\n",
    "# full.fare: binning/normalization\n",
    "# full.deck: onehotencoder  \n",
    "# full.title: onehotencoder  \n",
    "# full.ticket_type:   <-------------\n",
    "# full.ticket_num:   <-------------\n",
    "full[['Ticket_type', 'Ticket_num']] = full['Ticket'].str.split(' ', 1, expand=True)\n",
    "full['Ticket_num'].fillna(full['Ticket'], inplace = True)"
   ]
  },
  {
   "cell_type": "code",
   "execution_count": 757,
   "metadata": {},
   "outputs": [],
   "source": [
    "# (<-): Cambios\n",
    "# full.survived: floatToInt\n",
    "# full.pclass: ordinalencoder\n",
    "# full.sex: onehotencoder\n",
    "# full.age: outliers, binning/normalization \n",
    "# full.sibsp: onehotencoder\n",
    "# full.parch: onehotencoder\n",
    "# full.ticket: feature_split   <-------------\n",
    "# full.fare: outliers, binning/normalization  \n",
    "# full.embarked: onehotencoder\n",
    "# full.fare: binning/normalization\n",
    "# full.deck: onehotencoder  \n",
    "# full.title: onehotencoder  \n",
    "# full.ticket_type: \n",
    "# full.ticket_num: \n",
    "full.drop(['Ticket'], 1, inplace=True) "
   ]
  },
  {
   "cell_type": "code",
   "execution_count": 758,
   "metadata": {},
   "outputs": [],
   "source": [
    "# (<-): Cambios\n",
    "# full.survived: floatToInt\n",
    "# full.pclass: ordinalencoder\n",
    "# full.sex: onehotencoder\n",
    "# full.age: outliers, binning/normalization \n",
    "# full.sibsp: onehotencoder\n",
    "# full.parch: onehotencoder\n",
    "# full.fare: outliers, binning/normalization  \n",
    "# full.embarked: onehotencoder\n",
    "# full.fare: binning/normalization\n",
    "# full.deck: onehotencoder  \n",
    "# full.title: onehotencoder  \n",
    "# full.ticket_type (first part of 'Ticket'): grouping\n",
    "# full.ticket_num (second part of 'Ticket'): to_drop   <-------------\n",
    "# full.ticket_num_1 (first part of 'Ticket_num'): to_drop   <-------------\n",
    "# full.ticket_num_2 (second part of 'Ticket_num'): feature_split   <-------------\n",
    "full[['Ticket_num_1', 'Ticket_num_2']] = full['Ticket_num'].str.split(' ', 1, expand=True)\n",
    "full['Ticket_num_2'].fillna(full['Ticket_num'], inplace = True)"
   ]
  },
  {
   "cell_type": "code",
   "execution_count": 759,
   "metadata": {},
   "outputs": [],
   "source": [
    "# (<-): Cambios\n",
    "# full.survived: floatToInt\n",
    "# full.pclass: ordinalencoder \n",
    "# full.sex: onehotencoder\n",
    "# full.age: outliers, binning/normalization \n",
    "# full.sibsp: onehotencoder\n",
    "# full.parch: onehotencoder\n",
    "# full.fare: outliers, binning/normalization  \n",
    "# full.embarked: onehotencoder\n",
    "# full.fare: binning/normalization\n",
    "# full.deck: onehotencoder  \n",
    "# full.title: onehotencoder  \n",
    "# full.ticket1 (first part of 'Ticket'): grouping\n",
    "# full.ticket2_2 (second part of 'Ticket_2'): binning/normalization   <-------------\n",
    "full.drop(['Ticket_num','Ticket_num_1'], 1, inplace=True) "
   ]
  },
  {
   "cell_type": "code",
   "execution_count": 760,
   "metadata": {},
   "outputs": [
    {
     "data": {
      "text/html": [
       "<div>\n",
       "<style scoped>\n",
       "    .dataframe tbody tr th:only-of-type {\n",
       "        vertical-align: middle;\n",
       "    }\n",
       "\n",
       "    .dataframe tbody tr th {\n",
       "        vertical-align: top;\n",
       "    }\n",
       "\n",
       "    .dataframe thead th {\n",
       "        text-align: right;\n",
       "    }\n",
       "</style>\n",
       "<table border=\"1\" class=\"dataframe\">\n",
       "  <thead>\n",
       "    <tr style=\"text-align: right;\">\n",
       "      <th></th>\n",
       "      <th>PassengerId</th>\n",
       "      <th>Survived</th>\n",
       "      <th>Pclass</th>\n",
       "      <th>Sex</th>\n",
       "      <th>Age</th>\n",
       "      <th>SibSp</th>\n",
       "      <th>Parch</th>\n",
       "      <th>Fare</th>\n",
       "      <th>Embarked</th>\n",
       "      <th>Deck</th>\n",
       "      <th>Title</th>\n",
       "      <th>Ticket_type</th>\n",
       "      <th>Ticket_num_2</th>\n",
       "    </tr>\n",
       "  </thead>\n",
       "  <tbody>\n",
       "    <tr>\n",
       "      <th>0</th>\n",
       "      <td>1</td>\n",
       "      <td>0.0</td>\n",
       "      <td>3</td>\n",
       "      <td>male</td>\n",
       "      <td>22.0</td>\n",
       "      <td>SibSpYes</td>\n",
       "      <td>ParchNo</td>\n",
       "      <td>7.2500</td>\n",
       "      <td>S</td>\n",
       "      <td>nocabin</td>\n",
       "      <td>Mr</td>\n",
       "      <td>A/5</td>\n",
       "      <td>21171</td>\n",
       "    </tr>\n",
       "    <tr>\n",
       "      <th>1</th>\n",
       "      <td>2</td>\n",
       "      <td>1.0</td>\n",
       "      <td>1</td>\n",
       "      <td>female</td>\n",
       "      <td>38.0</td>\n",
       "      <td>SibSpYes</td>\n",
       "      <td>ParchNo</td>\n",
       "      <td>71.2833</td>\n",
       "      <td>C</td>\n",
       "      <td>hascabin</td>\n",
       "      <td>Mrs</td>\n",
       "      <td>PC</td>\n",
       "      <td>17599</td>\n",
       "    </tr>\n",
       "    <tr>\n",
       "      <th>2</th>\n",
       "      <td>3</td>\n",
       "      <td>1.0</td>\n",
       "      <td>3</td>\n",
       "      <td>female</td>\n",
       "      <td>26.0</td>\n",
       "      <td>SibSpNo</td>\n",
       "      <td>ParchNo</td>\n",
       "      <td>7.9250</td>\n",
       "      <td>S</td>\n",
       "      <td>nocabin</td>\n",
       "      <td>Miss</td>\n",
       "      <td>STON/O2.</td>\n",
       "      <td>3101282</td>\n",
       "    </tr>\n",
       "    <tr>\n",
       "      <th>3</th>\n",
       "      <td>4</td>\n",
       "      <td>1.0</td>\n",
       "      <td>1</td>\n",
       "      <td>female</td>\n",
       "      <td>35.0</td>\n",
       "      <td>SibSpYes</td>\n",
       "      <td>ParchNo</td>\n",
       "      <td>53.1000</td>\n",
       "      <td>S</td>\n",
       "      <td>hascabin</td>\n",
       "      <td>Mrs</td>\n",
       "      <td>NaN</td>\n",
       "      <td>113803</td>\n",
       "    </tr>\n",
       "    <tr>\n",
       "      <th>4</th>\n",
       "      <td>5</td>\n",
       "      <td>0.0</td>\n",
       "      <td>3</td>\n",
       "      <td>male</td>\n",
       "      <td>35.0</td>\n",
       "      <td>SibSpNo</td>\n",
       "      <td>ParchNo</td>\n",
       "      <td>8.0500</td>\n",
       "      <td>S</td>\n",
       "      <td>nocabin</td>\n",
       "      <td>Mr</td>\n",
       "      <td>NaN</td>\n",
       "      <td>373450</td>\n",
       "    </tr>\n",
       "  </tbody>\n",
       "</table>\n",
       "</div>"
      ],
      "text/plain": [
       "   PassengerId  Survived  Pclass     Sex   Age     SibSp    Parch     Fare  \\\n",
       "0            1       0.0       3    male  22.0  SibSpYes  ParchNo   7.2500   \n",
       "1            2       1.0       1  female  38.0  SibSpYes  ParchNo  71.2833   \n",
       "2            3       1.0       3  female  26.0   SibSpNo  ParchNo   7.9250   \n",
       "3            4       1.0       1  female  35.0  SibSpYes  ParchNo  53.1000   \n",
       "4            5       0.0       3    male  35.0   SibSpNo  ParchNo   8.0500   \n",
       "\n",
       "  Embarked      Deck Title Ticket_type Ticket_num_2  \n",
       "0        S   nocabin    Mr         A/5        21171  \n",
       "1        C  hascabin   Mrs          PC        17599  \n",
       "2        S   nocabin  Miss    STON/O2.      3101282  \n",
       "3        S  hascabin   Mrs         NaN       113803  \n",
       "4        S   nocabin    Mr         NaN       373450  "
      ]
     },
     "execution_count": 760,
     "metadata": {},
     "output_type": "execute_result"
    }
   ],
   "source": [
    "full.head()"
   ]
  },
  {
   "cell_type": "code",
   "execution_count": 761,
   "metadata": {},
   "outputs": [
    {
     "data": {
      "text/plain": [
       "PC            92\n",
       "C.A.          46\n",
       "SOTON/O.Q.    16\n",
       "W./C.         14\n",
       "STON/O        14\n",
       "              ..\n",
       "364858         1\n",
       "SC/A4          1\n",
       "228414         1\n",
       "349220         1\n",
       "3470           1\n",
       "Name: Ticket_type, Length: 315, dtype: int64"
      ]
     },
     "execution_count": 761,
     "metadata": {},
     "output_type": "execute_result"
    }
   ],
   "source": [
    "full['Ticket_type'].value_counts()"
   ]
  },
  {
   "cell_type": "code",
   "execution_count": 765,
   "metadata": {},
   "outputs": [
    {
     "data": {
      "text/plain": [
       "PC        92\n",
       "113503     4\n",
       "F.C.       3\n",
       "16966      3\n",
       "13236      2\n",
       "W.E.P.     2\n",
       "21228      2\n",
       "112378     2\n",
       "33638      2\n",
       "WE/P       2\n",
       "19950      2\n",
       "13050      2\n",
       "36928      2\n",
       "11778      2\n",
       "12749      2\n",
       "113781     2\n",
       "13508      2\n",
       "13695      2\n",
       "112051     1\n",
       "19924      1\n",
       "111163     1\n",
       "113796     1\n",
       "17463      1\n",
       "112377     1\n",
       "19877      1\n",
       "11813      1\n",
       "694        1\n",
       "113778     1\n",
       "113780     1\n",
       "11753      1\n",
       "19928      1\n",
       "113054     1\n",
       "113038     1\n",
       "112901     1\n",
       "11769      1\n",
       "113791     1\n",
       "113044     1\n",
       "110489     1\n",
       "17770      1\n",
       "113773     1\n",
       "11765      1\n",
       "110469     1\n",
       "17475      1\n",
       "113801     1\n",
       "24160      1\n",
       "112058     1\n",
       "680        1\n",
       "17464      1\n",
       "113790     1\n",
       "11770      1\n",
       "17765      1\n",
       "13567      1\n",
       "113059     1\n",
       "113795     1\n",
       "13905      1\n",
       "11767      1\n",
       "113509     1\n",
       "2543       1\n",
       "110813     1\n",
       "Name: Ticket_type, dtype: int64"
      ]
     },
     "execution_count": 765,
     "metadata": {},
     "output_type": "execute_result"
    }
   ],
   "source": [
    "full[full['Pclass'] == 1]['Ticket_type'].value_counts()"
   ]
  },
  {
   "cell_type": "code",
   "execution_count": 766,
   "metadata": {},
   "outputs": [
    {
     "data": {
      "text/plain": [
       "C.A.        31\n",
       "SC/PARIS    11\n",
       "F.C.C.       9\n",
       "S.O.C.       7\n",
       "SC/Paris     5\n",
       "            ..\n",
       "SC/A.3       1\n",
       "244358       1\n",
       "248738       1\n",
       "237249       1\n",
       "W/C          1\n",
       "Name: Ticket_type, Length: 71, dtype: int64"
      ]
     },
     "execution_count": 766,
     "metadata": {},
     "output_type": "execute_result"
    }
   ],
   "source": [
    "full[full['Pclass'] == 2]['Ticket_type'].value_counts()"
   ]
  },
  {
   "cell_type": "code",
   "execution_count": 767,
   "metadata": {},
   "outputs": [
    {
     "data": {
      "text/plain": [
       "SOTON/O.Q.    16\n",
       "C.A.          15\n",
       "STON/O        14\n",
       "A/5           12\n",
       "CA.           12\n",
       "              ..\n",
       "349910         1\n",
       "2688           1\n",
       "330971         1\n",
       "349232         1\n",
       "3470           1\n",
       "Name: Ticket_type, Length: 189, dtype: int64"
      ]
     },
     "execution_count": 767,
     "metadata": {},
     "output_type": "execute_result"
    }
   ],
   "source": [
    "full[full['Pclass'] == 3]['Ticket_type'].value_counts()"
   ]
  },
  {
   "cell_type": "code",
   "execution_count": 768,
   "metadata": {},
   "outputs": [
    {
     "data": {
      "text/plain": [
       "17608     7\n",
       "17757     5\n",
       "19950     4\n",
       "17421     4\n",
       "113760    4\n",
       "         ..\n",
       "111426    1\n",
       "17318     1\n",
       "113795    1\n",
       "17605     1\n",
       "13568     1\n",
       "Name: Ticket_num_2, Length: 211, dtype: int64"
      ]
     },
     "execution_count": 768,
     "metadata": {},
     "output_type": "execute_result"
    }
   ],
   "source": [
    "full[full['Pclass'] == 1]['Ticket_num_2'].value_counts()"
   ]
  },
  {
   "cell_type": "code",
   "execution_count": 769,
   "metadata": {},
   "outputs": [
    {
     "data": {
      "text/plain": [
       "14879     7\n",
       "34651     4\n",
       "2123      4\n",
       "33112     4\n",
       "239853    3\n",
       "         ..\n",
       "13531     1\n",
       "244358    1\n",
       "236853    1\n",
       "751       1\n",
       "2168      1\n",
       "Name: Ticket_num_2, Length: 210, dtype: int64"
      ]
     },
     "execution_count": 769,
     "metadata": {},
     "output_type": "execute_result"
    }
   ],
   "source": [
    "full[full['Pclass'] == 2]['Ticket_num_2'].value_counts()"
   ]
  },
  {
   "cell_type": "code",
   "execution_count": 770,
   "metadata": {},
   "outputs": [
    {
     "data": {
      "text/plain": [
       "2343      11\n",
       "2144       8\n",
       "1601       7\n",
       "347082     7\n",
       "347088     6\n",
       "          ..\n",
       "345778     1\n",
       "345779     1\n",
       "345780     1\n",
       "345781     1\n",
       "36864      1\n",
       "Name: Ticket_num_2, Length: 580, dtype: int64"
      ]
     },
     "execution_count": 770,
     "metadata": {},
     "output_type": "execute_result"
    }
   ],
   "source": [
    "full[full['Pclass'] == 3]['Ticket_num_2'].value_counts()"
   ]
  },
  {
   "cell_type": "code",
   "execution_count": 705,
   "metadata": {},
   "outputs": [
    {
     "data": {
      "text/html": [
       "<div>\n",
       "<style scoped>\n",
       "    .dataframe tbody tr th:only-of-type {\n",
       "        vertical-align: middle;\n",
       "    }\n",
       "\n",
       "    .dataframe tbody tr th {\n",
       "        vertical-align: top;\n",
       "    }\n",
       "\n",
       "    .dataframe thead th {\n",
       "        text-align: right;\n",
       "    }\n",
       "</style>\n",
       "<table border=\"1\" class=\"dataframe\">\n",
       "  <thead>\n",
       "    <tr style=\"text-align: right;\">\n",
       "      <th></th>\n",
       "      <th>Ticket_num_2</th>\n",
       "      <th>Pclass</th>\n",
       "    </tr>\n",
       "  </thead>\n",
       "  <tbody>\n",
       "    <tr>\n",
       "      <th>0</th>\n",
       "      <td>21171</td>\n",
       "      <td>3</td>\n",
       "    </tr>\n",
       "    <tr>\n",
       "      <th>1</th>\n",
       "      <td>17599</td>\n",
       "      <td>1</td>\n",
       "    </tr>\n",
       "    <tr>\n",
       "      <th>2</th>\n",
       "      <td>3101282</td>\n",
       "      <td>3</td>\n",
       "    </tr>\n",
       "    <tr>\n",
       "      <th>3</th>\n",
       "      <td>113803</td>\n",
       "      <td>1</td>\n",
       "    </tr>\n",
       "    <tr>\n",
       "      <th>4</th>\n",
       "      <td>373450</td>\n",
       "      <td>3</td>\n",
       "    </tr>\n",
       "    <tr>\n",
       "      <th>...</th>\n",
       "      <td>...</td>\n",
       "      <td>...</td>\n",
       "    </tr>\n",
       "    <tr>\n",
       "      <th>413</th>\n",
       "      <td>3236</td>\n",
       "      <td>3</td>\n",
       "    </tr>\n",
       "    <tr>\n",
       "      <th>414</th>\n",
       "      <td>17758</td>\n",
       "      <td>1</td>\n",
       "    </tr>\n",
       "    <tr>\n",
       "      <th>415</th>\n",
       "      <td>3101262</td>\n",
       "      <td>3</td>\n",
       "    </tr>\n",
       "    <tr>\n",
       "      <th>416</th>\n",
       "      <td>359309</td>\n",
       "      <td>3</td>\n",
       "    </tr>\n",
       "    <tr>\n",
       "      <th>417</th>\n",
       "      <td>2668</td>\n",
       "      <td>3</td>\n",
       "    </tr>\n",
       "  </tbody>\n",
       "</table>\n",
       "<p>1309 rows × 2 columns</p>\n",
       "</div>"
      ],
      "text/plain": [
       "    Ticket_num_2  Pclass\n",
       "0          21171       3\n",
       "1          17599       1\n",
       "2        3101282       3\n",
       "3         113803       1\n",
       "4         373450       3\n",
       "..           ...     ...\n",
       "413         3236       3\n",
       "414        17758       1\n",
       "415      3101262       3\n",
       "416       359309       3\n",
       "417         2668       3\n",
       "\n",
       "[1309 rows x 2 columns]"
      ]
     },
     "execution_count": 705,
     "metadata": {},
     "output_type": "execute_result"
    }
   ],
   "source": [
    "# El ticket_type y ticket_num hacen referencia a la clase, pero las clases ya están claramente difinidas\n",
    "# Se eliminan las nuevas variables\n",
    "full[['Ticket_num_2','Pclass']]"
   ]
  },
  {
   "cell_type": "code",
   "execution_count": 771,
   "metadata": {},
   "outputs": [],
   "source": [
    "# (<-): Cambios\n",
    "# full.survived: floatToInt\n",
    "# full.pclass: ordinalencoder\n",
    "# full.sex: onehotencoder\n",
    "# full.age: outliers, binning/normalization \n",
    "# full.sibsp: onehotencoder\n",
    "# full.parch: onehotencoder\n",
    "# full.fare: outliers, binning/normalization  \n",
    "# full.embarked: onehotencoder\n",
    "# full.fare: binning/normalization\n",
    "# full.deck: onehotencoder  \n",
    "# full.title: onehotencoder  \n",
    "# full.ticket1 (first part of 'Ticket'): grouping    <-------------\n",
    "# full.ticket2_2 (second part of 'Ticket_2'): binning/normalization   <-------------\n",
    "full.drop(['Ticket_type','Ticket_num_2'], 1, inplace=True) "
   ]
  },
  {
   "cell_type": "code",
   "execution_count": 772,
   "metadata": {},
   "outputs": [
    {
     "data": {
      "text/plain": [
       "PassengerId      0\n",
       "Survived       418\n",
       "Pclass           0\n",
       "Sex              0\n",
       "Age              0\n",
       "SibSp            0\n",
       "Parch            0\n",
       "Fare             0\n",
       "Embarked         0\n",
       "Deck             0\n",
       "Title            0\n",
       "dtype: int64"
      ]
     },
     "execution_count": 772,
     "metadata": {},
     "output_type": "execute_result"
    }
   ],
   "source": [
    "full.isnull().sum()"
   ]
  },
  {
   "cell_type": "code",
   "execution_count": 773,
   "metadata": {},
   "outputs": [
    {
     "data": {
      "text/html": [
       "<div>\n",
       "<style scoped>\n",
       "    .dataframe tbody tr th:only-of-type {\n",
       "        vertical-align: middle;\n",
       "    }\n",
       "\n",
       "    .dataframe tbody tr th {\n",
       "        vertical-align: top;\n",
       "    }\n",
       "\n",
       "    .dataframe thead th {\n",
       "        text-align: right;\n",
       "    }\n",
       "</style>\n",
       "<table border=\"1\" class=\"dataframe\">\n",
       "  <thead>\n",
       "    <tr style=\"text-align: right;\">\n",
       "      <th></th>\n",
       "      <th>PassengerId</th>\n",
       "      <th>Survived</th>\n",
       "      <th>Pclass</th>\n",
       "      <th>Sex</th>\n",
       "      <th>Age</th>\n",
       "      <th>SibSp</th>\n",
       "      <th>Parch</th>\n",
       "      <th>Fare</th>\n",
       "      <th>Embarked</th>\n",
       "      <th>Deck</th>\n",
       "      <th>Title</th>\n",
       "    </tr>\n",
       "  </thead>\n",
       "  <tbody>\n",
       "    <tr>\n",
       "      <th>0</th>\n",
       "      <td>1</td>\n",
       "      <td>0.0</td>\n",
       "      <td>3</td>\n",
       "      <td>male</td>\n",
       "      <td>22.0</td>\n",
       "      <td>SibSpYes</td>\n",
       "      <td>ParchNo</td>\n",
       "      <td>7.2500</td>\n",
       "      <td>S</td>\n",
       "      <td>nocabin</td>\n",
       "      <td>Mr</td>\n",
       "    </tr>\n",
       "    <tr>\n",
       "      <th>1</th>\n",
       "      <td>2</td>\n",
       "      <td>1.0</td>\n",
       "      <td>1</td>\n",
       "      <td>female</td>\n",
       "      <td>38.0</td>\n",
       "      <td>SibSpYes</td>\n",
       "      <td>ParchNo</td>\n",
       "      <td>71.2833</td>\n",
       "      <td>C</td>\n",
       "      <td>hascabin</td>\n",
       "      <td>Mrs</td>\n",
       "    </tr>\n",
       "    <tr>\n",
       "      <th>2</th>\n",
       "      <td>3</td>\n",
       "      <td>1.0</td>\n",
       "      <td>3</td>\n",
       "      <td>female</td>\n",
       "      <td>26.0</td>\n",
       "      <td>SibSpNo</td>\n",
       "      <td>ParchNo</td>\n",
       "      <td>7.9250</td>\n",
       "      <td>S</td>\n",
       "      <td>nocabin</td>\n",
       "      <td>Miss</td>\n",
       "    </tr>\n",
       "    <tr>\n",
       "      <th>3</th>\n",
       "      <td>4</td>\n",
       "      <td>1.0</td>\n",
       "      <td>1</td>\n",
       "      <td>female</td>\n",
       "      <td>35.0</td>\n",
       "      <td>SibSpYes</td>\n",
       "      <td>ParchNo</td>\n",
       "      <td>53.1000</td>\n",
       "      <td>S</td>\n",
       "      <td>hascabin</td>\n",
       "      <td>Mrs</td>\n",
       "    </tr>\n",
       "  </tbody>\n",
       "</table>\n",
       "</div>"
      ],
      "text/plain": [
       "   PassengerId  Survived  Pclass     Sex   Age     SibSp    Parch     Fare  \\\n",
       "0            1       0.0       3    male  22.0  SibSpYes  ParchNo   7.2500   \n",
       "1            2       1.0       1  female  38.0  SibSpYes  ParchNo  71.2833   \n",
       "2            3       1.0       3  female  26.0   SibSpNo  ParchNo   7.9250   \n",
       "3            4       1.0       1  female  35.0  SibSpYes  ParchNo  53.1000   \n",
       "\n",
       "  Embarked      Deck Title  \n",
       "0        S   nocabin    Mr  \n",
       "1        C  hascabin   Mrs  \n",
       "2        S   nocabin  Miss  \n",
       "3        S  hascabin   Mrs  "
      ]
     },
     "execution_count": 773,
     "metadata": {},
     "output_type": "execute_result"
    }
   ],
   "source": [
    "full.head(4)"
   ]
  },
  {
   "cell_type": "code",
   "execution_count": 774,
   "metadata": {},
   "outputs": [],
   "source": [
    "full.to_csv('TitanicFullEdaOutput_20220611.csv', index = False)"
   ]
  }
 ],
 "metadata": {
  "kernelspec": {
   "display_name": "Python 3",
   "language": "python",
   "name": "python3"
  },
  "language_info": {
   "codemirror_mode": {
    "name": "ipython",
    "version": 3
   },
   "file_extension": ".py",
   "mimetype": "text/x-python",
   "name": "python",
   "nbconvert_exporter": "python",
   "pygments_lexer": "ipython3",
   "version": "3.8.5"
  }
 },
 "nbformat": 4,
 "nbformat_minor": 4
}
