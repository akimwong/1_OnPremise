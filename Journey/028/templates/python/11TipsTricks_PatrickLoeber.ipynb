{
 "cells": [
  {
   "cell_type": "markdown",
   "metadata": {},
   "source": [
    "## 1. Iterate with enumerate instead of range(len(x))\n",
    "La función enumerate() es especialmente útil cuando al emplear un bucle for se precisa tanto de los elementos de un iterable como de su posición."
   ]
  },
  {
   "cell_type": "code",
   "execution_count": 1,
   "metadata": {},
   "outputs": [
    {
     "name": "stdout",
     "output_type": "stream",
     "text": [
      "[1, 2, 0, 0]\n"
     ]
    }
   ],
   "source": [
    "# using range:\n",
    "data = [1,2,-4,-3]\n",
    "for i in range(len(data)):\n",
    "    if data[i] < 0:\n",
    "        data[i] = 0\n",
    "print(data)"
   ]
  },
  {
   "cell_type": "code",
   "execution_count": 3,
   "metadata": {},
   "outputs": [
    {
     "name": "stdout",
     "output_type": "stream",
     "text": [
      "[1, 2, 0, 0]\n"
     ]
    }
   ],
   "source": [
    "# using enumerate:\n",
    "data = [1,2,-4,-3]\n",
    "for idx,num in enumerate(data):\n",
    "    if num < 0:\n",
    "        data[idx] = 0\n",
    "print(data)"
   ]
  },
  {
   "cell_type": "markdown",
   "metadata": {},
   "source": [
    "### Another example"
   ]
  },
  {
   "cell_type": "code",
   "execution_count": 4,
   "metadata": {},
   "outputs": [
    {
     "data": {
      "text/plain": [
       "[(0, 'Java'), (1, 'C'), (2, 'C++'), (3, 'Rust'), (4, 'Elixir')]"
      ]
     },
     "execution_count": 4,
     "metadata": {},
     "output_type": "execute_result"
    }
   ],
   "source": [
    "lenguajes = [\"Java\", \"C\", \"C++\", \"Rust\", \"Elixir\"]\n",
    "list(enumerate(lenguajes))"
   ]
  },
  {
   "cell_type": "markdown",
   "metadata": {},
   "source": [
    "El resultado es un objeto iterable que contiene tuplas, dentro de las cuales el primer valor es un número correspondiente a la posición del lenguaje en la lista lenguajes, y el segundo es el nombre del lenguaje mismo.\n",
    "\n",
    "`Por defecto las posiciones empiezan desde el cero`, pero puede indicarse el número de inicio como segundo argumento."
   ]
  },
  {
   "cell_type": "code",
   "execution_count": 5,
   "metadata": {},
   "outputs": [
    {
     "data": {
      "text/plain": [
       "[(1, 'Java'), (2, 'C'), (3, 'C++'), (4, 'Rust'), (5, 'Elixir')]"
      ]
     },
     "execution_count": 5,
     "metadata": {},
     "output_type": "execute_result"
    }
   ],
   "source": [
    "list(enumerate(lenguajes, 1))"
   ]
  },
  {
   "cell_type": "code",
   "execution_count": 6,
   "metadata": {},
   "outputs": [
    {
     "name": "stdout",
     "output_type": "stream",
     "text": [
      "0 Java\n",
      "1 C\n",
      "2 C++\n",
      "3 Rust\n",
      "4 Elixir\n"
     ]
    }
   ],
   "source": [
    "for i, lenguaje in enumerate(lenguajes):\n",
    "    print(i, lenguaje)"
   ]
  },
  {
   "cell_type": "code",
   "execution_count": 7,
   "metadata": {},
   "outputs": [
    {
     "name": "stdout",
     "output_type": "stream",
     "text": [
      "0 Java\n",
      "1 C\n",
      "2 C++\n",
      "3 Rust\n",
      "4 Elixir\n"
     ]
    }
   ],
   "source": [
    "for a, b in enumerate(lenguajes):\n",
    "    print(a, b)"
   ]
  },
  {
   "cell_type": "markdown",
   "metadata": {},
   "source": [
    "## 2. List comprehension instead of raw for loops"
   ]
  },
  {
   "cell_type": "code",
   "execution_count": 8,
   "metadata": {},
   "outputs": [
    {
     "name": "stdout",
     "output_type": "stream",
     "text": [
      "[0, 1, 4, 9, 16, 25, 36, 49, 64, 81]\n"
     ]
    }
   ],
   "source": [
    "# using for loop\n",
    "squares = []\n",
    "for i in range(10):\n",
    "    squares.append(i*i)\n",
    "print(squares)"
   ]
  },
  {
   "cell_type": "markdown",
   "metadata": {},
   "source": [
    "###  the program in only one line"
   ]
  },
  {
   "cell_type": "code",
   "execution_count": 11,
   "metadata": {},
   "outputs": [
    {
     "name": "stdout",
     "output_type": "stream",
     "text": [
      "[0, 1, 4, 9, 16, 25, 36, 49, 64, 81]\n"
     ]
    }
   ],
   "source": [
    "# using list comprehension\n",
    "squares = [i*i for i in range (10)]\n",
    "print(squares)"
   ]
  },
  {
   "cell_type": "markdown",
   "metadata": {},
   "source": [
    "## 3. Sort complex iterables with sorted()"
   ]
  },
  {
   "cell_type": "code",
   "execution_count": 13,
   "metadata": {},
   "outputs": [
    {
     "name": "stdout",
     "output_type": "stream",
     "text": [
      "[1, 3, 5, 9, 10]\n"
     ]
    }
   ],
   "source": [
    "data = [3,5,1,10,9]\n",
    "sorted_data = sorted(data)\n",
    "print(sorted_data)"
   ]
  },
  {
   "cell_type": "code",
   "execution_count": 14,
   "metadata": {},
   "outputs": [
    {
     "name": "stdout",
     "output_type": "stream",
     "text": [
      "[10, 9, 5, 3, 1]\n"
     ]
    }
   ],
   "source": [
    "sorted_data = sorted(data, reverse=True)\n",
    "print(sorted_data)"
   ]
  },
  {
   "cell_type": "code",
   "execution_count": 15,
   "metadata": {},
   "outputs": [
    {
     "name": "stdout",
     "output_type": "stream",
     "text": [
      "[1, 3, 5, 9, 10]\n"
     ]
    }
   ],
   "source": [
    "# Cuando se ordena una tupla el resultado es una lista ordenada\n",
    "data = (3,5,1,10,9)\n",
    "sorted_data = sorted(data)\n",
    "print(sorted_data)"
   ]
  },
  {
   "cell_type": "code",
   "execution_count": 16,
   "metadata": {},
   "outputs": [
    {
     "name": "stdout",
     "output_type": "stream",
     "text": [
      "[{'name': 'Max', 'age': 6}, {'name': 'Ben', 'age': 9}, {'name': 'Lisa', 'age': 20}]\n"
     ]
    }
   ],
   "source": [
    "data = [{'name':'Max','age':6},\n",
    "       {'name':'Lisa','age':20},\n",
    "       {'name':'Ben','age':9}]\n",
    "sorted_data = sorted(data, key= lambda x: x['age'])\n",
    "print(sorted_data)"
   ]
  },
  {
   "cell_type": "markdown",
   "metadata": {},
   "source": [
    "## 4. Store unique values with Sets"
   ]
  },
  {
   "cell_type": "code",
   "execution_count": 17,
   "metadata": {},
   "outputs": [
    {
     "name": "stdout",
     "output_type": "stream",
     "text": [
      "{1, 2, 3, 4, 5, 6, 7}\n"
     ]
    }
   ],
   "source": [
    "my_list = [1,2,3,4,5,6,7,7,7]\n",
    "my_list = set(my_list)\n",
    "print(my_list)"
   ]
  },
  {
   "cell_type": "code",
   "execution_count": 18,
   "metadata": {},
   "outputs": [
    {
     "name": "stdout",
     "output_type": "stream",
     "text": [
      "{2, 3, 5, 7, 11, 13, 19}\n"
     ]
    }
   ],
   "source": [
    "primes = {2,3,5,7,11,11,13,19,19}\n",
    "print(primes)"
   ]
  },
  {
   "cell_type": "markdown",
   "metadata": {},
   "source": [
    "## 5. Save memory with generators"
   ]
  },
  {
   "cell_type": "code",
   "execution_count": 24,
   "metadata": {},
   "outputs": [
    {
     "name": "stdout",
     "output_type": "stream",
     "text": [
      "49995000\n"
     ]
    }
   ],
   "source": [
    "# using list\n",
    "my_list = [i for i in range(10000)]\n",
    "print(sum(my_list))"
   ]
  },
  {
   "cell_type": "code",
   "execution_count": 27,
   "metadata": {},
   "outputs": [
    {
     "name": "stdout",
     "output_type": "stream",
     "text": [
      "49995000\n"
     ]
    }
   ],
   "source": [
    "# usando generators (parentesis) en lugar de [corchetes]\n",
    "# Los Generadores son simples funciones las cuales devuelven un numero de elementos (items) iterables, uno a la vez, \n",
    "# de forma especial.\n",
    "my_gen = (i for i in range(10000))\n",
    "print(sum(my_gen))"
   ]
  },
  {
   "cell_type": "markdown",
   "metadata": {},
   "source": [
    "#### Se muestra la cantidad de memoria utilizada para una misma operación"
   ]
  },
  {
   "cell_type": "code",
   "execution_count": 31,
   "metadata": {},
   "outputs": [
    {
     "name": "stdout",
     "output_type": "stream",
     "text": [
      "87616 bytes\n",
      "112 bytes\n"
     ]
    }
   ],
   "source": [
    "import sys\n",
    "print(sys.getsizeof(my_list),'bytes')\n",
    "print(sys.getsizeof(my_gen),'bytes')"
   ]
  },
  {
   "cell_type": "markdown",
   "metadata": {},
   "source": [
    "## 6. Define default values in Dictionaries with .get() and .setdefault()"
   ]
  },
  {
   "cell_type": "code",
   "execution_count": 54,
   "metadata": {},
   "outputs": [
    {
     "name": "stdout",
     "output_type": "stream",
     "text": [
      "None\n"
     ]
    }
   ],
   "source": [
    "# el método .get() sirve para extraer valores de un diccionario \n",
    "my_dict = {'item':'football','price':10.00}\n",
    "count = my_dict.get('count')\n",
    "print(count)"
   ]
  },
  {
   "cell_type": "code",
   "execution_count": 55,
   "metadata": {},
   "outputs": [
    {
     "name": "stdout",
     "output_type": "stream",
     "text": [
      "0\n"
     ]
    }
   ],
   "source": [
    "# los métodos '.setdefault()' y el método get () son similares, pero si la clave no existe en el diccionario, en lugar \n",
    "# de  retornar None, la clave se agregará asignándole el valor predeterminado. \n",
    "count = my_dict.setdefault('count',0)\n",
    "print(count)"
   ]
  },
  {
   "cell_type": "code",
   "execution_count": 52,
   "metadata": {},
   "outputs": [
    {
     "name": "stdout",
     "output_type": "stream",
     "text": [
      "{'item': 'football', 'price': 10.0, 'count': 0}\n"
     ]
    }
   ],
   "source": [
    "print(my_dict)"
   ]
  },
  {
   "cell_type": "code",
   "execution_count": 53,
   "metadata": {},
   "outputs": [
    {
     "name": "stdout",
     "output_type": "stream",
     "text": [
      "0\n"
     ]
    }
   ],
   "source": [
    "count2 = my_dict.get('count')\n",
    "print(count2)"
   ]
  },
  {
   "cell_type": "markdown",
   "metadata": {},
   "source": [
    "## 7. Count hashable objects with collections.Counter"
   ]
  },
  {
   "cell_type": "code",
   "execution_count": 56,
   "metadata": {},
   "outputs": [
    {
     "name": "stdout",
     "output_type": "stream",
     "text": [
      "Counter({9: 7, 10: 3, 5: 2, 2: 1})\n"
     ]
    }
   ],
   "source": [
    "# se ordena desde el valor que más se repite hasta el menor\n",
    "from collections import Counter\n",
    "my_list = [10,10,10,5,5,2,9,9,9,9,9,9,9]\n",
    "counter = Counter(my_list)\n",
    "print(counter)"
   ]
  },
  {
   "cell_type": "code",
   "execution_count": 57,
   "metadata": {},
   "outputs": [
    {
     "name": "stdout",
     "output_type": "stream",
     "text": [
      "7\n"
     ]
    }
   ],
   "source": [
    "# Se puede seleccionar la cantidad de veces que se repite un valor concreto\n",
    "print(counter[9])"
   ]
  },
  {
   "cell_type": "code",
   "execution_count": 58,
   "metadata": {},
   "outputs": [
    {
     "name": "stdout",
     "output_type": "stream",
     "text": [
      "0\n"
     ]
    }
   ],
   "source": [
    "# Se el valor no existe en la lista se retorna 0\n",
    "print(counter[8])"
   ]
  },
  {
   "cell_type": "code",
   "execution_count": 60,
   "metadata": {},
   "outputs": [
    {
     "name": "stdout",
     "output_type": "stream",
     "text": [
      "[(9, 7), (10, 3)]\n"
     ]
    }
   ],
   "source": [
    "# para mostrar los 2 valores que más se reiten\n",
    "most_common = counter.most_common(2)\n",
    "print(most_common)"
   ]
  },
  {
   "cell_type": "code",
   "execution_count": 61,
   "metadata": {},
   "outputs": [
    {
     "name": "stdout",
     "output_type": "stream",
     "text": [
      "[(9, 7)]\n"
     ]
    }
   ],
   "source": [
    "most_common = counter.most_common(1)\n",
    "print(most_common)"
   ]
  },
  {
   "cell_type": "code",
   "execution_count": 63,
   "metadata": {},
   "outputs": [
    {
     "name": "stdout",
     "output_type": "stream",
     "text": [
      "9\n"
     ]
    }
   ],
   "source": [
    "most_common = counter.most_common(2)\n",
    "print(most_common[0][0])"
   ]
  },
  {
   "cell_type": "code",
   "execution_count": 64,
   "metadata": {},
   "outputs": [
    {
     "name": "stdout",
     "output_type": "stream",
     "text": [
      "3\n"
     ]
    }
   ],
   "source": [
    "most_common = counter.most_common(2)\n",
    "print(most_common[1][1])"
   ]
  },
  {
   "cell_type": "markdown",
   "metadata": {},
   "source": [
    "## 8. Format Strings with f-Strings"
   ]
  },
  {
   "cell_type": "code",
   "execution_count": 66,
   "metadata": {},
   "outputs": [
    {
     "name": "stdout",
     "output_type": "stream",
     "text": [
      "Hello Alex\n"
     ]
    }
   ],
   "source": [
    "name = 'Alex'\n",
    "my_string = f'Hello {name}'\n",
    "print(my_string)"
   ]
  },
  {
   "cell_type": "markdown",
   "metadata": {},
   "source": [
    "## 9. Concatenate Strings with .join()"
   ]
  },
  {
   "cell_type": "code",
   "execution_count": 68,
   "metadata": {},
   "outputs": [],
   "source": [
    "list_of_strings = ['Hello','my','friend']"
   ]
  },
  {
   "cell_type": "code",
   "execution_count": 69,
   "metadata": {},
   "outputs": [
    {
     "name": "stdout",
     "output_type": "stream",
     "text": [
      "Hello my friend \n"
     ]
    }
   ],
   "source": [
    "# la forma mala de unir los strings en una oración es\n",
    "my_string = ''\n",
    "for i in list_of_strings:\n",
    "    my_string += i + ' '\n",
    "print(my_string)"
   ]
  },
  {
   "cell_type": "code",
   "execution_count": 70,
   "metadata": {},
   "outputs": [
    {
     "name": "stdout",
     "output_type": "stream",
     "text": [
      "Hello my friend\n"
     ]
    }
   ],
   "source": [
    "# la forma CORRECTA de unir strings es\n",
    "my_string = ' '.join(list_of_strings)\n",
    "print(my_string)"
   ]
  },
  {
   "cell_type": "markdown",
   "metadata": {},
   "source": [
    "## 10. Merge Dictionaries with {**d1, **d2}"
   ]
  },
  {
   "cell_type": "code",
   "execution_count": 74,
   "metadata": {},
   "outputs": [
    {
     "name": "stdout",
     "output_type": "stream",
     "text": [
      "{'name': 'Alex', 'age': 25, 'city': 'New York'}\n"
     ]
    }
   ],
   "source": [
    "# Para unir 2 diccionarios con un valor en común\n",
    "d1 = {'name':'Alex', 'age':25}\n",
    "d2 = {'name':'Alex', 'city':'New York'}\n",
    "merged_dict = {**d1, **d2}\n",
    "print(merged_dict)"
   ]
  },
  {
   "cell_type": "markdown",
   "metadata": {},
   "source": [
    "## 11. Simplify if-Statement with if x in [a,b,c]"
   ]
  },
  {
   "cell_type": "code",
   "execution_count": 75,
   "metadata": {},
   "outputs": [
    {
     "name": "stdout",
     "output_type": "stream",
     "text": [
      "is main color\n"
     ]
    }
   ],
   "source": [
    "colors = ['red','green','blue']\n",
    "c = 'red'\n",
    "if c == 'red' or c == 'green' or c == 'blue':\n",
    "    print('is main color')"
   ]
  },
  {
   "cell_type": "code",
   "execution_count": 76,
   "metadata": {},
   "outputs": [
    {
     "name": "stdout",
     "output_type": "stream",
     "text": [
      "is main color\n"
     ]
    }
   ],
   "source": [
    "if c in colors:\n",
    "    print('is main color')"
   ]
  },
  {
   "cell_type": "code",
   "execution_count": null,
   "metadata": {},
   "outputs": [],
   "source": []
  },
  {
   "cell_type": "code",
   "execution_count": null,
   "metadata": {},
   "outputs": [],
   "source": []
  }
 ],
 "metadata": {
  "kernelspec": {
   "display_name": "Python 3",
   "language": "python",
   "name": "python3"
  },
  "language_info": {
   "codemirror_mode": {
    "name": "ipython",
    "version": 3
   },
   "file_extension": ".py",
   "mimetype": "text/x-python",
   "name": "python",
   "nbconvert_exporter": "python",
   "pygments_lexer": "ipython3",
   "version": "3.8.5"
  }
 },
 "nbformat": 4,
 "nbformat_minor": 4
}
