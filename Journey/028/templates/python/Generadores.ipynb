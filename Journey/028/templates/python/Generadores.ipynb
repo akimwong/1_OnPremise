{
 "cells": [
  {
   "cell_type": "markdown",
   "metadata": {},
   "source": [
    "# Generadores\n",
    "Una función generadora se diferencia de una función normal en que tras ejecutar el `yield`, la función devuelve el control a quién la llamó, pero la función es pausada y el estado (valor de las variables) es guardado. Esto permite que su ejecución pueda ser reanudada más adelante. <br/>\n",
    "Permiten hacer un iterador de una manera rápida, fácil y limpia. Puede verlos como un objeto sobre el que puede hacer un bucle o iterar muy fácilmente."
   ]
  },
  {
   "cell_type": "code",
   "execution_count": 16,
   "metadata": {},
   "outputs": [],
   "source": [
    "# Función estandar\n",
    "def funcion():\n",
    "    return 5"
   ]
  },
  {
   "cell_type": "code",
   "execution_count": 17,
   "metadata": {},
   "outputs": [],
   "source": [
    "# Función generador\n",
    "def generador():\n",
    "    yield 5"
   ]
  },
  {
   "cell_type": "code",
   "execution_count": 18,
   "metadata": {},
   "outputs": [
    {
     "name": "stdout",
     "output_type": "stream",
     "text": [
      "5\n",
      "<generator object generador at 0x0000024BD1F45CF0>\n"
     ]
    }
   ],
   "source": [
    "# El generador (yield) crea un objeto\n",
    "print(funcion())\n",
    "print(generador())"
   ]
  },
  {
   "cell_type": "markdown",
   "metadata": {},
   "source": [
    "## 1. Iterando los Generadores\n",
    "Cada vez que usamos `next()` sobre el generador, se llama y se continúa su ejecución después del último `yield`. <br/>\n",
    "Y en este caso cómo no hay más código, no se generan más valores."
   ]
  },
  {
   "cell_type": "code",
   "execution_count": null,
   "metadata": {},
   "outputs": [],
   "source": [
    "# al no haber más que un valor en la función generador(), next permite sólo una iteración\n",
    "a = generador()\n",
    "print(next(a))\n",
    "print(next(a))\n",
    "# Salida: 5\n",
    "# Salida: Error! StopIteration:"
   ]
  },
  {
   "cell_type": "markdown",
   "metadata": {},
   "source": [
    "## 2. Creando Generadores"
   ]
  },
  {
   "cell_type": "code",
   "execution_count": 20,
   "metadata": {},
   "outputs": [],
   "source": [
    "# yield: simplifica el código de los generadores en caso de utilizar bucles anidados\n",
    "def generador():\n",
    "    n = 1\n",
    "    yield n\n",
    "\n",
    "    n += 1\n",
    "    yield n\n",
    "\n",
    "    n += 1\n",
    "    yield n"
   ]
  },
  {
   "cell_type": "code",
   "execution_count": 21,
   "metadata": {},
   "outputs": [
    {
     "name": "stdout",
     "output_type": "stream",
     "text": [
      "1\n",
      "2\n",
      "3\n"
     ]
    }
   ],
   "source": [
    "g = generador()\n",
    "print(next(g))\n",
    "print(next(g))\n",
    "print(next(g))"
   ]
  },
  {
   "cell_type": "code",
   "execution_count": 42,
   "metadata": {},
   "outputs": [
    {
     "name": "stdout",
     "output_type": "stream",
     "text": [
      "1\n",
      "2\n",
      "3\n"
     ]
    }
   ],
   "source": [
    "# Otra forma más cómoda de realizar lo mismo, sería usando un simple bucle for, ya que el generador es iterable.\n",
    "# Con bucles for ya no se usa la sentencia next()\n",
    "for i in generador():\n",
    "    print(i)"
   ]
  },
  {
   "cell_type": "markdown",
   "metadata": {},
   "source": [
    "## 3. Forma alternativa\n",
    "Los generadores también pueden ser creados de una forma mucho más sencilla y en una sola línea de código. <br/>\n",
    "Su sintaxis es similar a las list comprehension, pero cambiando el corchete [] por paréntesis ()."
   ]
  },
  {
   "cell_type": "code",
   "execution_count": 28,
   "metadata": {},
   "outputs": [
    {
     "name": "stdout",
     "output_type": "stream",
     "text": [
      "[4, 16, 36, 64, 100]\n"
     ]
    }
   ],
   "source": [
    "lista = [2, 4, 6, 8, 10]"
   ]
  },
  {
   "cell_type": "code",
   "execution_count": 30,
   "metadata": {},
   "outputs": [
    {
     "name": "stdout",
     "output_type": "stream",
     "text": [
      "[4, 16, 36, 64, 100]\n"
     ]
    }
   ],
   "source": [
    "# list comprehension normal\n",
    "al_cuadrado = [x**2 for x in lista]\n",
    "print(al_cuadrado)"
   ]
  },
  {
   "cell_type": "code",
   "execution_count": 40,
   "metadata": {},
   "outputs": [],
   "source": [
    "# generador usando ()\n",
    "generador_al_cuadrado = (x**2 for x in lista)"
   ]
  },
  {
   "cell_type": "code",
   "execution_count": 34,
   "metadata": {},
   "outputs": [
    {
     "name": "stdout",
     "output_type": "stream",
     "text": [
      "<generator object <genexpr> at 0x0000024BD1F5F510>\n"
     ]
    }
   ],
   "source": [
    "print(generador_al_cuadrado)"
   ]
  },
  {
   "cell_type": "code",
   "execution_count": 35,
   "metadata": {},
   "outputs": [
    {
     "name": "stdout",
     "output_type": "stream",
     "text": [
      "4\n",
      "16\n",
      "36\n",
      "64\n",
      "100\n"
     ]
    }
   ],
   "source": [
    "print(next(generador_al_cuadrado))\n",
    "print(next(generador_al_cuadrado))\n",
    "print(next(generador_al_cuadrado))\n",
    "print(next(generador_al_cuadrado))\n",
    "print(next(generador_al_cuadrado))"
   ]
  },
  {
   "cell_type": "code",
   "execution_count": 38,
   "metadata": {},
   "outputs": [],
   "source": [
    "generador_al_cuadrado = (x**2 for x in lista)"
   ]
  },
  {
   "cell_type": "code",
   "execution_count": 39,
   "metadata": {},
   "outputs": [
    {
     "name": "stdout",
     "output_type": "stream",
     "text": [
      "4\n",
      "16\n",
      "36\n",
      "64\n",
      "100\n"
     ]
    }
   ],
   "source": [
    "for i in generador_al_cuadrado:\n",
    "    print(i)"
   ]
  },
  {
   "cell_type": "markdown",
   "metadata": {},
   "source": [
    "La diferencia entre el ejemplo usando list comprehensions y generators es que en el caso de los `generadores`, `los valores no están almacenados en memoria, sino que se van generando al vuelo`. Esta es una de las principales ventajas de los generadores, ya que `los elementos sólo son generados cuando se piden,` lo que `hace que sean mucho más eficientes en lo relativo a la memoria`."
   ]
  },
  {
   "cell_type": "markdown",
   "metadata": {},
   "source": [
    "## 4. Más Ejemplos (1)"
   ]
  },
  {
   "cell_type": "code",
   "execution_count": 50,
   "metadata": {},
   "outputs": [
    {
     "name": "stdout",
     "output_type": "stream",
     "text": [
      "45\n"
     ]
    }
   ],
   "source": [
    "def primerosn(n):\n",
    "    num = 0\n",
    "    for i in range(n):\n",
    "        yield num\n",
    "        num += 1\n",
    "print(sum(primerosn(10)))"
   ]
  },
  {
   "cell_type": "code",
   "execution_count": 51,
   "metadata": {},
   "outputs": [
    {
     "name": "stdout",
     "output_type": "stream",
     "text": [
      "<generator object primerosn at 0x0000024BD1F5F970>\n"
     ]
    }
   ],
   "source": [
    "print(primerosn(10))"
   ]
  },
  {
   "cell_type": "code",
   "execution_count": 52,
   "metadata": {},
   "outputs": [],
   "source": [
    "primeros = primerosn(10)"
   ]
  },
  {
   "cell_type": "code",
   "execution_count": 53,
   "metadata": {},
   "outputs": [
    {
     "name": "stdout",
     "output_type": "stream",
     "text": [
      "0\n",
      "1\n",
      "2\n",
      "3\n",
      "4\n",
      "5\n"
     ]
    }
   ],
   "source": [
    "print(next(primeros))\n",
    "print(next(primeros))\n",
    "print(next(primeros))\n",
    "print(next(primeros))\n",
    "print(next(primeros))\n",
    "print(next(primeros))"
   ]
  },
  {
   "cell_type": "markdown",
   "metadata": {},
   "source": [
    "## 4. Más Ejemplos (2)"
   ]
  },
  {
   "cell_type": "code",
   "execution_count": 66,
   "metadata": {},
   "outputs": [],
   "source": [
    "def devuelve_ciudades(*args):\n",
    "    for letra in args:\n",
    "        yield from letra\n",
    "\n",
    "ciudades_devueltas = devuelve_ciudades('Oslo','Lima','Macao')"
   ]
  },
  {
   "cell_type": "code",
   "execution_count": 67,
   "metadata": {},
   "outputs": [
    {
     "name": "stdout",
     "output_type": "stream",
     "text": [
      "O\n",
      "s\n",
      "l\n",
      "o\n",
      "L\n",
      "i\n",
      "m\n",
      "a\n",
      "M\n",
      "a\n",
      "c\n",
      "a\n"
     ]
    }
   ],
   "source": [
    "print(next(ciudades_devueltas))\n",
    "print(next(ciudades_devueltas))\n",
    "print(next(ciudades_devueltas))\n",
    "print(next(ciudades_devueltas))\n",
    "print(next(ciudades_devueltas))\n",
    "print(next(ciudades_devueltas))\n",
    "print(next(ciudades_devueltas))\n",
    "print(next(ciudades_devueltas))\n",
    "print(next(ciudades_devueltas))\n",
    "print(next(ciudades_devueltas))\n",
    "print(next(ciudades_devueltas))\n",
    "print(next(ciudades_devueltas))"
   ]
  },
  {
   "cell_type": "code",
   "execution_count": 68,
   "metadata": {},
   "outputs": [
    {
     "name": "stdout",
     "output_type": "stream",
     "text": [
      "o\n"
     ]
    }
   ],
   "source": [
    "for i in ciudades_devueltas:\n",
    "    print(i)"
   ]
  },
  {
   "cell_type": "code",
   "execution_count": null,
   "metadata": {},
   "outputs": [],
   "source": []
  }
 ],
 "metadata": {
  "kernelspec": {
   "display_name": "Python 3",
   "language": "python",
   "name": "python3"
  },
  "language_info": {
   "codemirror_mode": {
    "name": "ipython",
    "version": 3
   },
   "file_extension": ".py",
   "mimetype": "text/x-python",
   "name": "python",
   "nbconvert_exporter": "python",
   "pygments_lexer": "ipython3",
   "version": "3.8.5"
  }
 },
 "nbformat": 4,
 "nbformat_minor": 4
}
