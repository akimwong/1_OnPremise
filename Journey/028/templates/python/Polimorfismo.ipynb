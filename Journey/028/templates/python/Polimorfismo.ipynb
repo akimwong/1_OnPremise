{
 "cells": [
  {
   "cell_type": "markdown",
   "metadata": {},
   "source": [
    "# Polimorfismo\n",
    "Es la capacidad para hacer que, al enviar el mismo mensaje (o, en otras palabras, invocar al mismo método) desde distintos objetos, cada uno de esos objetos pueda responder a ese mensaje (o a esa invocación) de forma distinta"
   ]
  },
  {
   "cell_type": "code",
   "execution_count": 1,
   "metadata": {},
   "outputs": [],
   "source": [
    "class Coche():\n",
    "    def desplazamiento(self):\n",
    "        print('Uso 4 ruedas')\n",
    "class Moto():\n",
    "    def desplazamiento(self):\n",
    "        print('Uso 2 ruedas')\n",
    "class Camion():\n",
    "    def desplazamiento(self):\n",
    "        print('Uso 6 ruedas')"
   ]
  },
  {
   "cell_type": "code",
   "execution_count": 2,
   "metadata": {},
   "outputs": [
    {
     "name": "stdout",
     "output_type": "stream",
     "text": [
      "Uso 2 ruedas\n"
     ]
    }
   ],
   "source": [
    "mivehiculo1 = Moto()\n",
    "mivehiculo1.desplazamiento()"
   ]
  },
  {
   "cell_type": "code",
   "execution_count": 6,
   "metadata": {},
   "outputs": [
    {
     "name": "stdout",
     "output_type": "stream",
     "text": [
      "Uso 4 ruedas\n"
     ]
    }
   ],
   "source": [
    "mivehiculo2 = Coche()\n",
    "mivehiculo2.desplazamiento()"
   ]
  },
  {
   "cell_type": "code",
   "execution_count": 7,
   "metadata": {},
   "outputs": [
    {
     "name": "stdout",
     "output_type": "stream",
     "text": [
      "Uso 6 ruedas\n"
     ]
    }
   ],
   "source": [
    "mivehiculo3 = Camion()\n",
    "mivehiculo3.desplazamiento()"
   ]
  },
  {
   "cell_type": "code",
   "execution_count": 8,
   "metadata": {},
   "outputs": [],
   "source": [
    "def desplazamientovehiculo(vehiculo):\n",
    "    vehiculo.desplazamiento()"
   ]
  },
  {
   "cell_type": "code",
   "execution_count": 9,
   "metadata": {},
   "outputs": [
    {
     "name": "stdout",
     "output_type": "stream",
     "text": [
      "Uso 6 ruedas\n"
     ]
    }
   ],
   "source": [
    "mivehiculo4 = Camion()\n",
    "desplazamientovehiculo(mivehiculo4)"
   ]
  },
  {
   "cell_type": "code",
   "execution_count": 10,
   "metadata": {},
   "outputs": [
    {
     "name": "stdout",
     "output_type": "stream",
     "text": [
      "Uso 4 ruedas\n"
     ]
    }
   ],
   "source": [
    "desplazamientovehiculo(Coche())"
   ]
  },
  {
   "cell_type": "code",
   "execution_count": 11,
   "metadata": {},
   "outputs": [
    {
     "name": "stdout",
     "output_type": "stream",
     "text": [
      "Uso 2 ruedas\n"
     ]
    }
   ],
   "source": [
    "desplazamientovehiculo(Moto())"
   ]
  },
  {
   "cell_type": "code",
   "execution_count": 12,
   "metadata": {},
   "outputs": [
    {
     "name": "stdout",
     "output_type": "stream",
     "text": [
      "Uso 4 ruedas\n"
     ]
    }
   ],
   "source": [
    "Coche().desplazamiento()"
   ]
  },
  {
   "cell_type": "code",
   "execution_count": 13,
   "metadata": {},
   "outputs": [
    {
     "name": "stdout",
     "output_type": "stream",
     "text": [
      "Uso 6 ruedas\n"
     ]
    }
   ],
   "source": [
    "Camion().desplazamiento()"
   ]
  },
  {
   "cell_type": "code",
   "execution_count": 15,
   "metadata": {},
   "outputs": [
    {
     "name": "stdout",
     "output_type": "stream",
     "text": [
      "Uso 2 ruedas\n"
     ]
    }
   ],
   "source": [
    "Moto().desplazamiento()"
   ]
  },
  {
   "cell_type": "code",
   "execution_count": null,
   "metadata": {},
   "outputs": [],
   "source": []
  }
 ],
 "metadata": {
  "kernelspec": {
   "display_name": "Python 3",
   "language": "python",
   "name": "python3"
  },
  "language_info": {
   "codemirror_mode": {
    "name": "ipython",
    "version": 3
   },
   "file_extension": ".py",
   "mimetype": "text/x-python",
   "name": "python",
   "nbconvert_exporter": "python",
   "pygments_lexer": "ipython3",
   "version": "3.8.5"
  }
 },
 "nbformat": 4,
 "nbformat_minor": 4
}
