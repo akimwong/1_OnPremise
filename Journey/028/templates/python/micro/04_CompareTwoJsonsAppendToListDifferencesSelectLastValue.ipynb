{
 "cells": [
  {
   "cell_type": "markdown",
   "id": "a6a5ae67",
   "metadata": {},
   "source": [
    "## 04_CompareTwoJsonsAppendToListDifferencesSelectLastValue\n",
    "\n",
    "Autor: Carlos Wong <br/>\n",
    "email: carlosawongca@gmail.com <br/>\n",
    "Fecha: 2023_03_20 <br/>\n",
    "Objetivo: Comparación con respecto al dato json más reciente <br/>\n",
    "Entrada: 'df_base_4.xlsx', 'main2.json' <br/>\n",
    "Salida: main3.json <br/>\n",
    "Propósito: Prueba diferentes componentes del proyecto Project Management_Data Analyst <br/>"
   ]
  },
  {
   "cell_type": "code",
   "execution_count": 1,
   "id": "a8475a29",
   "metadata": {},
   "outputs": [],
   "source": [
    "# librerías estándar\n",
    "import pandas as pd\n",
    "import numpy as np\n",
    "import matplotlib.pyplot as plt\n",
    "import seaborn as sns\n",
    "from datetime import datetime\n",
    "import json\n",
    "import os"
   ]
  },
  {
   "cell_type": "code",
   "execution_count": 2,
   "id": "88c714ab",
   "metadata": {},
   "outputs": [],
   "source": [
    "import warnings\n",
    "warnings.filterwarnings(\"ignore\")"
   ]
  },
  {
   "cell_type": "code",
   "execution_count": 3,
   "id": "178b52e0",
   "metadata": {},
   "outputs": [
    {
     "data": {
      "text/plain": [
       "[{'Col0 - Ref1': {'value': 'Ref1', 'date_time': '2023-03-20 14:47'}},\n",
       " {'Col0 - Ref2': {'value': 'Ref2', 'date_time': '2023-03-20 14:47'}},\n",
       " {'Col1 - Ref1': {'value': 'Water', 'date_time': '2023-03-20 14:47'}},\n",
       " {'Col1 - Ref2': {'value': 'Fire', 'date_time': '2023-03-20 14:47'}},\n",
       " {'Col2 - Ref1': {'value': 'Jhon', 'date_time': '2023-03-20 14:47'}},\n",
       " {'Col2 - Ref2': {'value': 'Mike', 'date_time': '2023-03-20 14:47'}},\n",
       " {'Col2 - Ref2': {'value': 'Peter', 'date_time': '2023-03-20 15:19'}}]"
      ]
     },
     "execution_count": 3,
     "metadata": {},
     "output_type": "execute_result"
    }
   ],
   "source": [
    "# extracción de json de referencia\n",
    "with open(\".\\jsons\\main2.json\") as f:\n",
    "    json_list1 = json.load(f)\n",
    "json_list1"
   ]
  },
  {
   "cell_type": "markdown",
   "id": "e1c3d6d8",
   "metadata": {},
   "source": [
    "## 01_Conversión de datos nuevos en nuevo json_list2"
   ]
  },
  {
   "cell_type": "code",
   "execution_count": 14,
   "id": "1851d360",
   "metadata": {},
   "outputs": [
    {
     "data": {
      "text/html": [
       "<div>\n",
       "<style scoped>\n",
       "    .dataframe tbody tr th:only-of-type {\n",
       "        vertical-align: middle;\n",
       "    }\n",
       "\n",
       "    .dataframe tbody tr th {\n",
       "        vertical-align: top;\n",
       "    }\n",
       "\n",
       "    .dataframe thead th {\n",
       "        text-align: right;\n",
       "    }\n",
       "</style>\n",
       "<table border=\"1\" class=\"dataframe\">\n",
       "  <thead>\n",
       "    <tr style=\"text-align: right;\">\n",
       "      <th></th>\n",
       "      <th>Col0</th>\n",
       "      <th>Col1</th>\n",
       "      <th>Col2</th>\n",
       "    </tr>\n",
       "  </thead>\n",
       "  <tbody>\n",
       "    <tr>\n",
       "      <th>0</th>\n",
       "      <td>Ref1</td>\n",
       "      <td>Water</td>\n",
       "      <td>Jhon</td>\n",
       "    </tr>\n",
       "    <tr>\n",
       "      <th>1</th>\n",
       "      <td>Ref2</td>\n",
       "      <td>Wind</td>\n",
       "      <td>Rose</td>\n",
       "    </tr>\n",
       "  </tbody>\n",
       "</table>\n",
       "</div>"
      ],
      "text/plain": [
       "   Col0   Col1  Col2\n",
       "0  Ref1  Water  Jhon\n",
       "1  Ref2   Wind  Rose"
      ]
     },
     "execution_count": 14,
     "metadata": {},
     "output_type": "execute_result"
    }
   ],
   "source": [
    "# extracción de dataset con dos modificaciones: \n",
    "# Col2 - Ref2: 'Rose' \n",
    "# Col1 - Ref2: 'Wind'\n",
    "data = pd.read_excel(r'.\\df_base_4.xlsx')\n",
    "data"
   ]
  },
  {
   "cell_type": "code",
   "execution_count": 6,
   "id": "00993e5d",
   "metadata": {},
   "outputs": [],
   "source": [
    "# Función que convierte una entrada de tres elementos en un diccionario de un solo elemento que contiene el valor original, \n",
    "# la fecha y la hora.\n",
    "def convert_to_json(col_name, row_name, value):\n",
    "    now = datetime.now()\n",
    "    date_time = now.strftime(\"%Y-%m-%d %H:%M\")\n",
    "    json_dict = {f\"{col_name} - {row_name}\": {\"value\": value, \"date_time\": date_time}}\n",
    "    return json_dict"
   ]
  },
  {
   "cell_type": "code",
   "execution_count": 7,
   "id": "3642aa37",
   "metadata": {},
   "outputs": [
    {
     "data": {
      "text/plain": [
       "[{'Col0 - Ref1': {'value': 'Ref1', 'date_time': '2023-03-20 16:18'}},\n",
       " {'Col0 - Ref2': {'value': 'Ref2', 'date_time': '2023-03-20 16:18'}},\n",
       " {'Col1 - Ref1': {'value': 'Water', 'date_time': '2023-03-20 16:18'}},\n",
       " {'Col1 - Ref2': {'value': 'Wind', 'date_time': '2023-03-20 16:18'}},\n",
       " {'Col2 - Ref1': {'value': 'Jhon', 'date_time': '2023-03-20 16:18'}},\n",
       " {'Col2 - Ref2': {'value': 'Rose', 'date_time': '2023-03-20 16:18'}}]"
      ]
     },
     "execution_count": 7,
     "metadata": {},
     "output_type": "execute_result"
    }
   ],
   "source": [
    "# convierte cada celda del DataFrame df en un diccionario en formato JSON y lo agrega a la lista json_list.\n",
    "json_list2 = []\n",
    "for col_name in data.columns:\n",
    "    for index, row in data.iterrows():\n",
    "        row_name = row['Col0']\n",
    "        value = row[col_name]\n",
    "        json_dict = convert_to_json(col_name, row_name, value)\n",
    "        json_list2.append(json_dict)\n",
    "json_list2      "
   ]
  },
  {
   "cell_type": "markdown",
   "id": "c50ac06a",
   "metadata": {},
   "source": [
    "## 02_Comparación json_list1 y json_list2"
   ]
  },
  {
   "cell_type": "code",
   "execution_count": 8,
   "id": "ba778590",
   "metadata": {},
   "outputs": [],
   "source": [
    "differences = []\n",
    "\n",
    "for item in json_list2:\n",
    "    for key, value in item.items():\n",
    "        col_ref = key.split(' - ')[0] + ' - ' + value['value']\n",
    "        # buscar solo en el valor, excluyendo la fecha\n",
    "        ref_value = {'value': value['value']}\n",
    "        if not any(d.get(key, {}).get('value') == value['value'] for d in json_list1):\n",
    "            differences.append({key: value})           "
   ]
  },
  {
   "cell_type": "code",
   "execution_count": 9,
   "id": "b35adf5a",
   "metadata": {},
   "outputs": [
    {
     "data": {
      "text/plain": [
       "[{'Col1 - Ref2': {'value': 'Wind', 'date_time': '2023-03-20 16:18'}},\n",
       " {'Col2 - Ref2': {'value': 'Rose', 'date_time': '2023-03-20 16:18'}}]"
      ]
     },
     "execution_count": 9,
     "metadata": {},
     "output_type": "execute_result"
    }
   ],
   "source": [
    "differences"
   ]
  },
  {
   "cell_type": "markdown",
   "id": "4ad53832",
   "metadata": {},
   "source": [
    "## 03_Agrego las diferencias a la lista json original"
   ]
  },
  {
   "cell_type": "code",
   "execution_count": 10,
   "id": "41782240",
   "metadata": {},
   "outputs": [
    {
     "data": {
      "text/plain": [
       "[{'Col0 - Ref1': {'value': 'Ref1', 'date_time': '2023-03-20 14:47'}},\n",
       " {'Col0 - Ref2': {'value': 'Ref2', 'date_time': '2023-03-20 14:47'}},\n",
       " {'Col1 - Ref1': {'value': 'Water', 'date_time': '2023-03-20 14:47'}},\n",
       " {'Col1 - Ref2': {'value': 'Fire', 'date_time': '2023-03-20 14:47'}},\n",
       " {'Col2 - Ref1': {'value': 'Jhon', 'date_time': '2023-03-20 14:47'}},\n",
       " {'Col2 - Ref2': {'value': 'Mike', 'date_time': '2023-03-20 14:47'}},\n",
       " {'Col2 - Ref2': {'value': 'Peter', 'date_time': '2023-03-20 15:19'}},\n",
       " {'Col1 - Ref2': {'value': 'Wind', 'date_time': '2023-03-20 16:18'}},\n",
       " {'Col2 - Ref2': {'value': 'Rose', 'date_time': '2023-03-20 16:18'}}]"
      ]
     },
     "execution_count": 10,
     "metadata": {},
     "output_type": "execute_result"
    }
   ],
   "source": [
    "json_list1.extend(differences)\n",
    "json_list1"
   ]
  },
  {
   "cell_type": "markdown",
   "id": "9e34673e",
   "metadata": {},
   "source": [
    "## 04_Guardo nuevo fichero json"
   ]
  },
  {
   "cell_type": "code",
   "execution_count": 13,
   "id": "4f9f5556",
   "metadata": {},
   "outputs": [],
   "source": [
    "with open(f\".\\jsons\\main_{pd.datetime.now().strftime('%Y%m%d_%H%M')}.json\", \"w\") as f:\n",
    "    json.dump(json_list1, f)"
   ]
  }
 ],
 "metadata": {
  "kernelspec": {
   "display_name": "Python 3 (ipykernel)",
   "language": "python",
   "name": "python3"
  },
  "language_info": {
   "codemirror_mode": {
    "name": "ipython",
    "version": 3
   },
   "file_extension": ".py",
   "mimetype": "text/x-python",
   "name": "python",
   "nbconvert_exporter": "python",
   "pygments_lexer": "ipython3",
   "version": "3.9.13"
  }
 },
 "nbformat": 4,
 "nbformat_minor": 5
}
