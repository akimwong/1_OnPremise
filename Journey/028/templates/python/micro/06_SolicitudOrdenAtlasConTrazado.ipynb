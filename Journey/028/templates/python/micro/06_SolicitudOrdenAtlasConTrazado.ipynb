{
 "cells": [
  {
   "cell_type": "markdown",
   "id": "3176ac3b",
   "metadata": {},
   "source": [
    "## 01_SolicitudOrdenAtlasConTrazado\n",
    "Autor: Carlos Wong <br/>\n",
    "email: carlosawongca@gmail.com <br/>\n",
    "Fecha: 2023_04_08 <br/>\n",
    "Objetivo: Edición automática email <br/>\n",
    "Entrada: 'content.xlsx' <br/>\n",
    "Salida: - <br/>\n",
    "Propósito: Prueba edición automática de emails <br/>"
   ]
  },
  {
   "cell_type": "code",
   "execution_count": 1,
   "id": "7568d458",
   "metadata": {},
   "outputs": [],
   "source": [
    "# librerías estándar\n",
    "import pandas as pd\n",
    "import numpy as np\n",
    "import matplotlib.pyplot as plt\n",
    "from datetime import datetime\n",
    "import win32com.client as win32\n",
    "from tabulate import tabulate"
   ]
  },
  {
   "cell_type": "code",
   "execution_count": 2,
   "id": "e1bfbe05",
   "metadata": {},
   "outputs": [],
   "source": [
    "import warnings\n",
    "warnings.filterwarnings(\"ignore\")"
   ]
  },
  {
   "cell_type": "code",
   "execution_count": 3,
   "id": "e2d41a3f",
   "metadata": {},
   "outputs": [],
   "source": [
    "# Ruta del archivo Excel\n",
    "ruta_archivo = r'.\\trazado_STa.xlsx'\n",
    "\n",
    "# Leer el archivo Excel\n",
    "excel_file = pd.ExcelFile(ruta_archivo)"
   ]
  },
  {
   "cell_type": "code",
   "execution_count": 4,
   "id": "56c8b643",
   "metadata": {},
   "outputs": [],
   "source": [
    "# Crear un diccionario vacío para almacenar los dataframes de cada hoja\n",
    "dataframes_por_hoja = {}\n",
    "# Iterar a través de cada hoja del archivo Excel\n",
    "for nombre_hoja in excel_file.sheet_names:\n",
    "    \n",
    "    # Leer la hoja y seleccionar las columnas a partir de la tercera columna\n",
    "    hoja = pd.read_excel(excel_file, sheet_name=nombre_hoja, header=1)\n",
    "    hoja = hoja.iloc[:, 2:]\n",
    "    \n",
    "    # Eliminar filas con valores nulos\n",
    "    hoja = hoja.dropna(subset=['Codificación Común'])\n",
    "    \n",
    "    # Agregar el dataframe a nuestro diccionario con el nombre de la hoja como clave\n",
    "    dataframes_por_hoja[nombre_hoja] = hoja"
   ]
  },
  {
   "cell_type": "code",
   "execution_count": 156,
   "id": "5ac0cb44",
   "metadata": {},
   "outputs": [],
   "source": [
    "def emailer(asignaciones):\n",
    "    df = pd.read_excel(r'.\\Seguimiento_CCVV_HUAWEI_S.TA_RI.xlsx', header=1, sheet_name='RI_FO')\n",
    "    cuerpo_email = \"Buenas, <br/><br/> La central de SEVILLA TABLADILLA (4110008 – S.TA) se encuentra en fase de repliegue tras ser <b>CERRADA POR FARO</b>. <br/><br/> Solicitamos la creación de las órdenes de REASIGNACIÓN INTERNA para los siguientes circuitos: <br/><br/>\"\n",
    "    contador = 1\n",
    "    for asigna in asignaciones:\n",
    "        cuerpo_email += f\"<b>RI {contador}</b> <br/><br/>\"\n",
    "\n",
    "        contador += 1\n",
    "        row = df.loc[df['ASIGNACION'] == asigna]\n",
    "        if len(row) == 0:\n",
    "            print(f\"No se encontró la asignación {asigna} en la tabla\")\n",
    "            continue\n",
    "        \n",
    "        admntvo = int(row['ADMINISTRATIVO'].values[0])\n",
    "        Cr = int(row['Cr'].values[0])\n",
    "        Ptro = int(row['Ptro'].values[0])\n",
    "        Arbol = row['Arbol'].values[0]\n",
    "        FacActual = row['FacActual'].values[0]\n",
    "        FacNueva = row['FacNueva'].values[0]\n",
    "        Fusion = row['Fusion'].values[0]\n",
    "        CorteEnCaliente = row['CorteEnCaliente'].values[0]\n",
    "        \n",
    "        dataframe = dataframes_por_hoja[str(admntvo)]\n",
    "        datos = dataframe.values.tolist()\n",
    "        longitudes_maximas = [max([len(str(row[i])) for row in datos]) for i in range(len(dataframe.columns))]\n",
    "        tabla = tabulate(datos, tablefmt=\"plain\", maxcolwidths=longitudes_maximas)\n",
    "        tabla_html = tabulate(datos, tablefmt=\"html\") # Convertir la tabla a formato HTML\n",
    "        cuerpo_email += f\"1. Ordenes CON cambio de terminal Z <br/>{asigna}{'' if pd.isna(admntvo) else f'  -  {admntvo}'} <br/><br/>\"\n",
    "        cuerpo_email += f\"\\nTRAZADO ACTUAL:<br/>- Facilidad actual: {FacActual} (se requiere liberar los puertos de ésta facilidad)<br/><br/>\"\n",
    "        cuerpo_email += f\"{tabla_html}<br/>\" # Agregar la tabla al cuerpo\n",
    "        cuerpo_email += f\"TRAZADO NUEVO :<br/>- Facilidad nueva: {FacNueva} a PTRO {Ptro}<br/>- Fusión en CR {Cr}<br/>- Fusión: {Fusion}<br/>- Corte en Caliente: {CorteEnCaliente}<br/><br/>2. Ordenes CON cambio de terminal Z <br/><br/><br/>\"\n",
    "        \n",
    "    cuerpo_email += \"Estas órdenes deben ser creadas con alternativa de jalonamiento “FARH”. En caso de no ser posible, por favor, jalonar con alternativa genérica.<br/><br/>Adicionalmente, las órdenes deben ser marcadas como grupo de órdenes con la denominación HSTA – #TOR# FABRICA REPLIEGUES HUAWEI.<br/><br/>Un saludo,<br/><br/>Carlos Wong\"\n",
    "    \n",
    "    outlook = win32.Dispatch('outlook.application')\n",
    "    mail = outlook.CreateItem(0)\n",
    "    mail.Subject = f\"FRHUA - Solicitud creación RI SEVILLA TABLADILLA (4110008 - S.TA)\"\n",
    "    mail.HTMLBody = cuerpo_email\n",
    "    mail.Display(True)  # muestra la previsualización del correo"
   ]
  },
  {
   "cell_type": "code",
   "execution_count": 157,
   "id": "9c9e95ba",
   "metadata": {},
   "outputs": [],
   "source": [
    "emailer(['S.RD0016FO03 /S.TA ETH 1/DP /X0ETHD/40984559/CONSTAECA', 'S.TA0300 /S.NE ETH 1/DP /U3OENM/10766067/LINCETELE'])"
   ]
  },
  {
   "cell_type": "code",
   "execution_count": null,
   "id": "20e90b09",
   "metadata": {},
   "outputs": [],
   "source": []
  }
 ],
 "metadata": {
  "kernelspec": {
   "display_name": "Python 3 (ipykernel)",
   "language": "python",
   "name": "python3"
  },
  "language_info": {
   "codemirror_mode": {
    "name": "ipython",
    "version": 3
   },
   "file_extension": ".py",
   "mimetype": "text/x-python",
   "name": "python",
   "nbconvert_exporter": "python",
   "pygments_lexer": "ipython3",
   "version": "3.9.13"
  }
 },
 "nbformat": 4,
 "nbformat_minor": 5
}
