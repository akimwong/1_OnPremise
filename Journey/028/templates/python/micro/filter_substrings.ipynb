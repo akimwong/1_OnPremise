{
 "cells": [
  {
   "cell_type": "markdown",
   "id": "9ec80cbc",
   "metadata": {},
   "source": [
    "# filter_substrings\n",
    "\n",
    "Autor: Carlos Wong <br/>\n",
    "Fecha: 2023_03_14  <br/>\n",
    "Tipo de problema: FILTRADO de datos <br/>\n",
    "Entrada: prueba_1.xlsx  <br/>\n",
    "Salidas: prueba_1_1.xlsx  <br/>\n",
    "Propósito: Diseño y Control  "
   ]
  },
  {
   "cell_type": "code",
   "execution_count": 1,
   "id": "5b50e5ee",
   "metadata": {},
   "outputs": [],
   "source": [
    "# librerías estándar\n",
    "import pandas as pd\n",
    "import numpy as np\n",
    "import matplotlib.pyplot as plt\n",
    "import seaborn as sns"
   ]
  },
  {
   "cell_type": "code",
   "execution_count": 2,
   "id": "fba9601b",
   "metadata": {},
   "outputs": [],
   "source": [
    "# extracción de datasets (ri: reasignación interna)\n",
    "ri = pd.read_excel(r'.\\prueba_1.xlsx')"
   ]
  },
  {
   "cell_type": "code",
   "execution_count": 3,
   "id": "a99b613e",
   "metadata": {},
   "outputs": [
    {
     "data": {
      "text/html": [
       "<div>\n",
       "<style scoped>\n",
       "    .dataframe tbody tr th:only-of-type {\n",
       "        vertical-align: middle;\n",
       "    }\n",
       "\n",
       "    .dataframe tbody tr th {\n",
       "        vertical-align: top;\n",
       "    }\n",
       "\n",
       "    .dataframe thead th {\n",
       "        text-align: right;\n",
       "    }\n",
       "</style>\n",
       "<table border=\"1\" class=\"dataframe\">\n",
       "  <thead>\n",
       "    <tr style=\"text-align: right;\">\n",
       "      <th></th>\n",
       "      <th>nombre</th>\n",
       "      <th>cable_fibra</th>\n",
       "    </tr>\n",
       "  </thead>\n",
       "  <tbody>\n",
       "    <tr>\n",
       "      <th>0</th>\n",
       "      <td>a</td>\n",
       "      <td>Z.TO RO01 /Z.001094EN001/00064/F/001/00064'</td>\n",
       "    </tr>\n",
       "    <tr>\n",
       "      <th>1</th>\n",
       "      <td>b</td>\n",
       "      <td>Z.TO RO01 /Z.TO RO02 /00128/F/001/00017'</td>\n",
       "    </tr>\n",
       "    <tr>\n",
       "      <th>2</th>\n",
       "      <td>c</td>\n",
       "      <td>Z.TO ADO 4/Z.TO ADO 5/00064/F/001/00041'</td>\n",
       "    </tr>\n",
       "    <tr>\n",
       "      <th>3</th>\n",
       "      <td>d</td>\n",
       "      <td>Z.BR RO05 /Z.TO RO01 /00256/F/003/00008'</td>\n",
       "    </tr>\n",
       "    <tr>\n",
       "      <th>4</th>\n",
       "      <td>e</td>\n",
       "      <td>Z.TO RO08 /Z.TO RO01 /00128/F/005/00033'</td>\n",
       "    </tr>\n",
       "  </tbody>\n",
       "</table>\n",
       "</div>"
      ],
      "text/plain": [
       "  nombre                                   cable_fibra\n",
       "0       a  Z.TO RO01 /Z.001094EN001/00064/F/001/00064'\n",
       "1       b     Z.TO RO01 /Z.TO RO02 /00128/F/001/00017'\n",
       "2       c     Z.TO ADO 4/Z.TO ADO 5/00064/F/001/00041'\n",
       "3       d     Z.BR RO05 /Z.TO RO01 /00256/F/003/00008'\n",
       "4       e     Z.TO RO08 /Z.TO RO01 /00128/F/005/00033'"
      ]
     },
     "execution_count": 3,
     "metadata": {},
     "output_type": "execute_result"
    }
   ],
   "source": [
    "ri.head()"
   ]
  },
  {
   "cell_type": "markdown",
   "id": "fe0aa203",
   "metadata": {},
   "source": [
    "### Se desea filtrar las filas que contengan el sub string 'Z.TO ' repetido 2 veces"
   ]
  },
  {
   "cell_type": "code",
   "execution_count": 4,
   "id": "40a068b2",
   "metadata": {},
   "outputs": [
    {
     "data": {
      "text/html": [
       "<div>\n",
       "<style scoped>\n",
       "    .dataframe tbody tr th:only-of-type {\n",
       "        vertical-align: middle;\n",
       "    }\n",
       "\n",
       "    .dataframe tbody tr th {\n",
       "        vertical-align: top;\n",
       "    }\n",
       "\n",
       "    .dataframe thead th {\n",
       "        text-align: right;\n",
       "    }\n",
       "</style>\n",
       "<table border=\"1\" class=\"dataframe\">\n",
       "  <thead>\n",
       "    <tr style=\"text-align: right;\">\n",
       "      <th></th>\n",
       "      <th>nombre</th>\n",
       "      <th>cable_fibra</th>\n",
       "    </tr>\n",
       "  </thead>\n",
       "  <tbody>\n",
       "    <tr>\n",
       "      <th>0</th>\n",
       "      <td>a</td>\n",
       "      <td>Z.TO RO01 /Z.001094EN001/00064/F/001/00064'</td>\n",
       "    </tr>\n",
       "    <tr>\n",
       "      <th>3</th>\n",
       "      <td>d</td>\n",
       "      <td>Z.BR RO05 /Z.TO RO01 /00256/F/003/00008'</td>\n",
       "    </tr>\n",
       "  </tbody>\n",
       "</table>\n",
       "</div>"
      ],
      "text/plain": [
       "  nombre                                   cable_fibra\n",
       "0       a  Z.TO RO01 /Z.001094EN001/00064/F/001/00064'\n",
       "3       d     Z.BR RO05 /Z.TO RO01 /00256/F/003/00008'"
      ]
     },
     "execution_count": 4,
     "metadata": {},
     "output_type": "execute_result"
    }
   ],
   "source": [
    "filtro = ri['cable_fibra'].str.count('Z.TO ') == 2\n",
    "ri_filtrado = ri[~filtro]\n",
    "ri_filtrado"
   ]
  },
  {
   "cell_type": "code",
   "execution_count": null,
   "id": "34cdefca",
   "metadata": {},
   "outputs": [],
   "source": []
  },
  {
   "cell_type": "code",
   "execution_count": null,
   "id": "b611effa",
   "metadata": {},
   "outputs": [],
   "source": []
  },
  {
   "cell_type": "code",
   "execution_count": null,
   "id": "50e1fb1e",
   "metadata": {},
   "outputs": [],
   "source": []
  },
  {
   "cell_type": "code",
   "execution_count": null,
   "id": "1b11786b",
   "metadata": {},
   "outputs": [],
   "source": []
  },
  {
   "cell_type": "code",
   "execution_count": null,
   "id": "76739bfe",
   "metadata": {},
   "outputs": [],
   "source": []
  },
  {
   "cell_type": "code",
   "execution_count": null,
   "id": "cacff31b",
   "metadata": {},
   "outputs": [],
   "source": []
  },
  {
   "cell_type": "code",
   "execution_count": null,
   "id": "26216380",
   "metadata": {},
   "outputs": [],
   "source": []
  },
  {
   "cell_type": "code",
   "execution_count": 10,
   "id": "38a87eef",
   "metadata": {},
   "outputs": [
    {
     "name": "stdout",
     "output_type": "stream",
     "text": [
      "                TIPO PORTADOR ACCESSO  TIPO PORTADOR TRANSPORTE\n",
      "arbol_cable                                                    \n",
      "A                                   1                       0.0\n",
      "A-10/TR.1                           8                       0.0\n",
      "A-11/TR.1                          20                       0.0\n",
      "A-11/TR.2                          20                       0.0\n",
      "A-4/CR.451                          1                       0.0\n",
      "A-4/PTRO-1830                       1                       0.0\n",
      "A-7/TR.1                           17                       0.0\n",
      "A-8/TR.1                            4                       0.0\n",
      "A-9/TR.1                           29                       0.0\n",
      "A11                                 1                       0.0\n",
      "A114                                1                       0.0\n",
      "ADO2-GALC                           2                       0.0\n",
      "ADO2/PTRO-1234                      2                       0.0\n",
      "ADO2/PTRO-1442                      1                       0.0\n",
      "BT PTRO 2837                        1                       0.0\n",
      "CRMO-GALC                           2                       0.0\n",
      "E-1                                24                       3.0\n",
      "E-1 IRIS                           17                       2.0\n",
      "E-3 OBAS                            1                       0.0\n",
      "ENLACE                             21                      11.0\n",
      "PTR0-1896                           1                       0.0\n",
      "PTR0-1896/1897                      1                       0.0\n",
      "PTR0-680                            1                       0.0\n",
      "PTRO-1414                           1                       0.0\n",
      "PTRO-605                            3                       0.0\n",
      "PTRO-872                            1                       0.0\n",
      "PTRO-88                             1                       0.0\n",
      "TR-1                               17                       0.0\n",
      "TR-1 TR-2                          73                       0.0\n",
      "TR-1 TR-2 TR-3                     20                       0.0\n",
      "TR-18                              14                       0.0\n"
     ]
    }
   ],
   "source": [
    "# Cruzar las tablas por la columna 'asigna'\n",
    "df_merged = pd.merge(ro, ri, left_on='asigna', right_on='ASIGNACION')\n",
    "\n",
    "# Filtrar y contar los valores únicos\n",
    "df_access = df_merged.loc[df_merged['TIPO PORTADOR'] == 'ACCESO'].groupby('arbol_cable').nunique()\n",
    "df_transp = df_merged.loc[df_merged['TIPO PORTADOR'] == 'TRANSPORTE'].groupby('arbol_cable').nunique()\n",
    "\n",
    "# Unir las dos tablas resultantes\n",
    "df_result = pd.concat([df_access['asigna'], df_transp['asigna']], axis=1, keys=['TIPO PORTADOR ACCESSO', 'TIPO PORTADOR TRANSPORTE'])\n",
    "\n",
    "# Rellenar los valores nulos con 0\n",
    "df_result.fillna(0, inplace=True)\n",
    "\n",
    "# Imprimir la tabla resultante\n",
    "print(df_result)"
   ]
  },
  {
   "cell_type": "code",
   "execution_count": 11,
   "id": "9157957c",
   "metadata": {},
   "outputs": [
    {
     "name": "stdout",
     "output_type": "stream",
     "text": [
      "                TIPO PORTADOR ACCESSO  TIPO PORTADOR TRANSPORTE\n",
      "arbol_cable                                                    \n",
      "TR-1 TR-2                          73                       0.0\n",
      "A-9/TR.1                           29                       0.0\n",
      "E-1                                24                       3.0\n",
      "ENLACE                             21                      11.0\n",
      "A-11/TR.1                          20                       0.0\n",
      "A-11/TR.2                          20                       0.0\n",
      "TR-1 TR-2 TR-3                     20                       0.0\n",
      "A-7/TR.1                           17                       0.0\n",
      "TR-1                               17                       0.0\n",
      "E-1 IRIS                           17                       2.0\n",
      "TR-18                              14                       0.0\n",
      "A-10/TR.1                           8                       0.0\n",
      "A-8/TR.1                            4                       0.0\n",
      "PTRO-605                            3                       0.0\n",
      "CRMO-GALC                           2                       0.0\n",
      "ADO2/PTRO-1234                      2                       0.0\n",
      "ADO2-GALC                           2                       0.0\n",
      "BT PTRO 2837                        1                       0.0\n",
      "ADO2/PTRO-1442                      1                       0.0\n",
      "E-3 OBAS                            1                       0.0\n",
      "PTR0-1896                           1                       0.0\n",
      "PTR0-1896/1897                      1                       0.0\n",
      "PTR0-680                            1                       0.0\n",
      "PTRO-1414                           1                       0.0\n",
      "A114                                1                       0.0\n",
      "PTRO-872                            1                       0.0\n",
      "PTRO-88                             1                       0.0\n",
      "A11                                 1                       0.0\n",
      "A-4/PTRO-1830                       1                       0.0\n",
      "A-4/CR.451                          1                       0.0\n",
      "A                                   1                       0.0\n"
     ]
    }
   ],
   "source": [
    "df_result = df_result.sort_values(by=['TIPO PORTADOR ACCESSO'], ascending=False)\n",
    "print(df_result)"
   ]
  },
  {
   "cell_type": "code",
   "execution_count": 12,
   "id": "0b4b7024",
   "metadata": {},
   "outputs": [
    {
     "data": {
      "text/plain": [
       "arbol_cable\n",
       "TR-1 TR-2         73\n",
       "A-9/TR.1          29\n",
       "E-1               24\n",
       "ENLACE            21\n",
       "A-11/TR.1         20\n",
       "A-11/TR.2         20\n",
       "TR-1 TR-2 TR-3    20\n",
       "A-7/TR.1          17\n",
       "TR-1              17\n",
       "E-1 IRIS          17\n",
       "TR-18             14\n",
       "A-10/TR.1          8\n",
       "A-8/TR.1           4\n",
       "PTRO-605           3\n",
       "CRMO-GALC          2\n",
       "ADO2/PTRO-1234     2\n",
       "ADO2-GALC          2\n",
       "BT PTRO 2837       1\n",
       "ADO2/PTRO-1442     1\n",
       "E-3 OBAS           1\n",
       "PTR0-1896          1\n",
       "PTR0-1896/1897     1\n",
       "PTR0-680           1\n",
       "PTRO-1414          1\n",
       "A114               1\n",
       "PTRO-872           1\n",
       "PTRO-88            1\n",
       "A11                1\n",
       "A-4/PTRO-1830      1\n",
       "A-4/CR.451         1\n",
       "A                  1\n",
       "Name: TIPO PORTADOR ACCESSO, dtype: int64"
      ]
     },
     "execution_count": 12,
     "metadata": {},
     "output_type": "execute_result"
    }
   ],
   "source": [
    "df_result['TIPO PORTADOR ACCESSO']"
   ]
  },
  {
   "cell_type": "code",
   "execution_count": 15,
   "id": "58d55a6f",
   "metadata": {},
   "outputs": [
    {
     "name": "stdout",
     "output_type": "stream",
     "text": [
      "['S.TA000SFO01 /S.OR FUS 1/DP /U3OENM/00044905/BTTELECOM', 'S.TA0012 /S.TA0035 /DP /XXILFO/39860693/UNIVESEVI', 'S.TA0012 /S.TA0035 /DP /XXILFO/39860693/UNIVESEVI', 'S.TA0005 /S.TA ETH 1/DP /T1ETH /33246502/LQ2900463G', 'S.BE0014 /S.TA ETH 1/DP /T1ETHT/22421905/MINISDEFE', 'S.TA /S.TA /DP /X0ETHD/24810596/ESTRATEL', 'S.TA /S.TA /DP /X0ETHD/24810596/ESTRATEL', 'S.TA0271 /S.TA ETH 1/DP /T1ETH /29366400/MINISDEFE', 'S.TA0170FO01 /S.TA ETH 1/DP /FCETH /14152397/SERVIANSA3', 'S.TA0170FO01 /S.TA ETH 1/DP /FCETH /14152784/SERVIANSA3', 'S.TA /S.TA /DP /T1MTH /11747013/SERVIANSA3', 'S.TA /S.TA /DP /T1MTH /11747013/SERVIANSA3', 'S.TA0137 /S.TA ETH 1/DP /FCETH /67534032/SERVIANSA3', 'S.TA0290FO01 /S.TA ETH 1/DP /U3MTH /35061617/LG41029331', 'S.TA0290FO01 /S.TA ETH 1/DP /U3MTH /35061617/LG41029331', 'S.TA /S.TA /DP /FCETH /78114647/LA63749816', 'S.TA /S.TA ETH 1/DP /X0AETH/73699194/TELEFSEMO', 'S.OR0007 /S.TA0010 /DP /WD4H /01275741/LA58443060', 'S.OR0007 /S.TA0010 /DP /WD4H /01275741/LA58443060', 'S.TA0052FO01 /S.TA ETH 1/DP /X0ETH /23368889/LB87324844', 'S.TA0055TX01 /S.TA ETH 1/DP /X0AETH/25361900/TELEFSEMO', 'S.TA0055TX01 /S.TA ETH 1/DP /X0AETH/25361900/TELEFSEMO', 'S.TA0055TX01 /S.TA ETH 1/DP /X0AETH/25361900/TELEFSEMO', 'S.TA0055TX01 /S.TA ETH 1/DP /X0AETH/25361900/TELEFSEMO', 'S.TA0215FO01 /S.TA ETH 1/DP /FCETH /34611180/LA58443060', 'S.TA0215FO01 /S.TA ETH 1/DP /FCETH /34611180/LA58443060', 'S.TA0238FO01 /S.TA ETH 1/DP /FCETH /37365061/SERVIANSA3', 'S.TA0238FO01 /S.TA ETH 1/DP /FCETH /37365061/SERVIANSA3', 'S.TA0320FO02 /S.TA ETH 1/DP /X0MCC /60425143/LQ2800041B', 'S.TA0320FO02 /S.TA ETH 1/DP /X0MCC /60425143/LQ2800041B', 'S.TA TR01 /S.TA0027TX01 /SF/P/N4X2 /0001', 'S.TA TR01 /S.TA0027TX01 /SF/P/N4X2 /0001', 'S.TA TR01 /S.TA0027TX01 /SF/P/N4X2 /0001', 'S.TA TR01 /S.TA0027TX01 /SF/P/N4X2 /0001', 'S.TA0027FO02 /S.TA ETH 1/DP /FCETH /60002934/LA28425270', 'S.TA0027FO02 /S.TA ETH 1/DP /FCETH /60002934/LA28425270', 'S.TA0120TX01 /S.TA ETH 1/DP /X0AETH/25359495/TELEFSEMO', 'S.TA0120TX01 /S.TA ETH 1/DP /X0AETH/25359495/TELEFSEMO', 'S.TA0120TX01 /S.TA ETH 1/DP /X0AETH/25359495/TELEFSEMO', 'S.TA0120TX01 /S.TA ETH 1/DP /X0AETH/25359495/TELEFSEMO', 'S.TA TR01 /S.TA0006TX01 /SF/S/N51 /0001', 'S.TA TR01 /S.TA0006TX01 /SF/S/N51 /0001', 'S.TA TR01 /S.TA0006TX01 /SF/S/N51 /0001', 'S.TA TR01 /S.TA0006TX01 /SF/S/N51 /0001', 'S.TA /S.TA /DP /FCETH /33309910/LB87850749', 'S.TA /S.TA /DP /FCETH /33309910/LB87850749', 'S.TA /S.TA /DP /X0ETH /17784505/DIRECGEPO', 'S.TA /S.TA /DP /X0ETH /17784505/DIRECGEPO', 'S.TA /S.TA ETH 1/DP /X0AETH/25360579/TELEFSEMO', 'S.TA /S.TA ETH 1/DP /X0AETH/25360579/TELEFSEMO', 'S.TA0050 /S.TA ETH 1/DP /X0ETHD/14033787/JUNTAANDA', 'S.TA0050FO01 /S.SB FUS 1/DP /X0ETH /12498800/JUNTAANDA', 'S.TA TR01 /S.TA0081TX01 /SF/P/N16X2 /0001', 'S.TA TR01 /S.TA0081TX01 /SF/P/N16X2 /0001', 'S.TA0153 /S.TA ETH 1/DP /FCETH /47560896/LB86107406', 'S.TA0273 /S.TA ETH 1/DP /U3ETH /29232869/LB81709081', 'S.TA0134FO01 /S.TA ETH 1/DP /FCETH /14471226/LA85982411', 'S.TA0043TX01 /S.OR FUS 1/DP /X5AETN/23851805/TELEFSEMO', 'S.TA0043TX01 /S.OR FUS 1/DP /X5AETN/23851805/TELEFSEMO', 'S.TA0022 /S.TA ETH 1/DP /X0ETH /36778013/JUNTAANDA', 'S.TA0022 /S.TA ETH 1/DP /X0ETH /36778013/JUNTAANDA', 'S.TA ETH 1/S.TA0043ETH 1/ETH1/N2MMTU/ 000001/TELEFESPA', 'S.TA /S.TA ETH 1/DP /U3BEM /29343753/XFERAMOVI', 'S.TA0023FO01 /S.TA ETH 1/DP /T1MTH /11964258/JUNTAANDA', 'S.TA0023 /S.TA ETH 1/DP /X0ETHD/04431784/JUNTAANDA', 'S.TA0023 /S.TA ETH 1/DP /X0ETHD/04431784/JUNTAANDA', 'S.TA TR01 /S.TA0063TX02 /SF/S/N155 /0001', 'S.TA TR01 /S.TA0063TX02 /SF/S/N155 /0001', 'S.TA0063FO01 /S.TA ETH 1/DP /U3ETH /22421881/MINISDEFE', 'S.TA0310FO01 /S.TA ETH 1/DP /T1ETH /24995979/TECNOSEAG', 'S.TA0260 /S.TA ETH 1/DP /T1ETH /28410718/MINISDEFE', 'S.TA /S.TA ETH 1/DP /X0ETH /47986343/JUNTAANDA', 'S.TA0316 /S.TA ETH 1/DP /FCETH /47228440/JUNTAANDA', 'S.TA0053FO01 /S.TA ETH 1/DP /T1ETH /22067117/LS2801213F', 'S.TA0305TX01 /S.TA ETH 1/DP /U3MTH /42945138/LN0661109I', 'S.TA0310 /S.SB FUS 1/DP /FCETH /40831478/EMPRETRAG', 'S.TA TR01 /S.TA0005TX01 /SF/S/N155 /0001', 'S.TA TR01 /S.TA0005TX01 /SF/S/N155 /0001', 'S.TA /S.TA ETH 1/DP /U3ETH /27035516/LB25352170', 'S.TA0279FO01 /S.TA ETH 1/DP /X0AETH/30950482/TELEFSEMO', 'S.TA0279FO01 /S.TA ETH 1/DP /X0AETH/30950482/TELEFSEMO', 'S.TA TR01 /S.TA0008TX01 /SF/P/N4X2 /0001', 'S.TA TR01 /S.TA0008TX01 /SF/P/N4X2 /0001', 'S.TA0003TX01 /S.TA ETH 1/DP /X0AETH/23849151/TELEFSEMO', 'S.TA0003TX01 /S.TA ETH 1/DP /X0AETH/23849151/TELEFSEMO', 'S.TA /S.TA /DP /X0ETH /24810616/ESTRATEL', 'S.TA /S.TA /DP /X0ETH /24810616/ESTRATEL', 'S.TA FO01 /S.TA ETH 1/DP /FCETH /60949638/JUNTAANDA', 'S.TA0171 /S.SB FUS 1/DP /FCETH /18424152/LS2801213F', 'S.TA0060 /S.TA /DP /X0ETH /11041762/SERVIANSA3', 'S.TA0041 /S.NE ETH 1/DP /FCEBAD/74601091/LS2801213F', 'S.TA /S.TA ETH 1/DP /FCETH /15391262/LS2801213F', 'S.RD0123FO01 /S.TA ETH 1/DP /T1ETHT/22443521/MINISDEFE', 'S.RD0121FO01 /S.TR FUS 2/DP /FCETH /22445477/MINISDEFE', 'S.RD /S.PO ETH 1/DP /T1OENM/69319149/LINCETELE', 'S.TA0326 /S.TA ETH 1/DP /X0ETH /47967876/JUNTAANDA', 'S.TA TR01 /S.TA0039TX01 /SF/P/N16X2 /0001', 'S.TA TR01 /S.TA0039TX01 /SF/P/N16X2 /0001', 'S.RD0016 /PSM.A018 /DP /X0LIPP/34696436/CFR8938347', 'S.RD0016 /PSM.A018 /DP /X0LIPP/34696436/CFR8938347', 'S.RD0016FO03 /S.TA ETH 1/DP /X0ETHD/40984559/CONSTAECA', 'S.RD0016FO03 /S.TA ETH 1/DP /X0ETHD/40984559/CONSTAECA', 'S.TA /S.TA /DP /X0ETH /64471993/JUNTAANDA', 'S.TA0191 /S.TA ETH 1/DP /FCETH /19062871/LS2801213F', 'S.TA0117FO01 /S.TA ETH 1/DP /X0ETH /63137009/AGEESADTR1', 'S.TA0015 /S.TA ETH 1/DP /FCETH /49823582/AUTORPOSE', 'S.TA TR01 /S.TA0117TX01 /SF/S/N155 /0001', 'S.TA TR01 /S.TA0117TX01 /SF/S/N155 /0001', 'S.TA /S.TA /DP /X0AETH/25360577/TELEFSEMO', 'S.TA /S.TA /DP /X0AETH/25360577/TELEFSEMO', 'S.RD /S.TA /DP /WD4H /01120509/TELEFESPA', 'S.RD /S.TA /DP /WD4H /01120509/TELEFESPA', 'S.SB TR01 /S.TA0048TX01 /SF/V/N270 /0001', 'S.SB TR01 /S.TA0048TX01 /SF/V/N270 /0001']\n"
     ]
    }
   ],
   "source": [
    "arbol_cable = 'TR-1 TR-2'\n",
    "tipo_portador = 'ACCESO'\n",
    "\n",
    "codigos = df_merged.loc[(df_merged['arbol_cable'] == arbol_cable) & (df_merged['TIPO PORTADOR'] == tipo_portador), 'asigna'].tolist()\n",
    "\n",
    "print(codigos)"
   ]
  },
  {
   "cell_type": "code",
   "execution_count": 16,
   "id": "ecd8031f",
   "metadata": {},
   "outputs": [
    {
     "data": {
      "text/plain": [
       "114"
      ]
     },
     "execution_count": 16,
     "metadata": {},
     "output_type": "execute_result"
    }
   ],
   "source": [
    "len(codigos)"
   ]
  },
  {
   "cell_type": "code",
   "execution_count": 24,
   "id": "44c50b1e",
   "metadata": {},
   "outputs": [
    {
     "data": {
      "text/html": [
       "<div>\n",
       "<style scoped>\n",
       "    .dataframe tbody tr th:only-of-type {\n",
       "        vertical-align: middle;\n",
       "    }\n",
       "\n",
       "    .dataframe tbody tr th {\n",
       "        vertical-align: top;\n",
       "    }\n",
       "\n",
       "    .dataframe thead th {\n",
       "        text-align: right;\n",
       "    }\n",
       "</style>\n",
       "<table border=\"1\" class=\"dataframe\">\n",
       "  <thead>\n",
       "    <tr style=\"text-align: right;\">\n",
       "      <th></th>\n",
       "      <th>ID.</th>\n",
       "      <th>TIPO</th>\n",
       "      <th>ASIGNACION</th>\n",
       "      <th>ARBOL</th>\n",
       "      <th>ADMINISTRATIVO</th>\n",
       "      <th>Cliente\\ndomicilio</th>\n",
       "      <th>Estado\\ntrabajos</th>\n",
       "      <th>Fecha \\nFinalizado</th>\n",
       "      <th>TIPO PORTADOR</th>\n",
       "      <th>COMENTARIOS</th>\n",
       "      <th>ORDEN_EN_VUELO</th>\n",
       "      <th>PEP_Número</th>\n",
       "      <th>SGIPE_Actuación</th>\n",
       "      <th>nº BTP</th>\n",
       "      <th>Fecha Corte</th>\n",
       "      <th>Diversificación</th>\n",
       "    </tr>\n",
       "  </thead>\n",
       "  <tbody>\n",
       "    <tr>\n",
       "      <th>0</th>\n",
       "      <td>0.00001</td>\n",
       "      <td>CLIENTES</td>\n",
       "      <td>PYV.AV /S.TA0020 /DP /OPPEFO/02745413/TELEFESPA</td>\n",
       "      <td>E-1 IRIS</td>\n",
       "      <td>6.010503e+13</td>\n",
       "      <td>NaN</td>\n",
       "      <td>NaN</td>\n",
       "      <td>NaN</td>\n",
       "      <td>ACCESO</td>\n",
       "      <td>NaN</td>\n",
       "      <td>NaN</td>\n",
       "      <td>NaN</td>\n",
       "      <td>NaN</td>\n",
       "      <td>NaN</td>\n",
       "      <td>NaN</td>\n",
       "      <td>NaN</td>\n",
       "    </tr>\n",
       "    <tr>\n",
       "      <th>1</th>\n",
       "      <td>0.00002</td>\n",
       "      <td>CLIENTES</td>\n",
       "      <td>S.AE0088 /S.TA0020CTJ 1/DP /X0ILPP/61335291/JU...</td>\n",
       "      <td>A-9/TR.1</td>\n",
       "      <td>4.110000e+13</td>\n",
       "      <td>NaN</td>\n",
       "      <td>NaN</td>\n",
       "      <td>NaN</td>\n",
       "      <td>ACCESO</td>\n",
       "      <td>NaN</td>\n",
       "      <td>NaN</td>\n",
       "      <td>NaN</td>\n",
       "      <td>NaN</td>\n",
       "      <td>NaN</td>\n",
       "      <td>NaN</td>\n",
       "      <td>NaN</td>\n",
       "    </tr>\n",
       "  </tbody>\n",
       "</table>\n",
       "</div>"
      ],
      "text/plain": [
       "       ID.      TIPO                                         ASIGNACION  \\\n",
       "0  0.00001  CLIENTES    PYV.AV /S.TA0020 /DP /OPPEFO/02745413/TELEFESPA   \n",
       "1  0.00002  CLIENTES  S.AE0088 /S.TA0020CTJ 1/DP /X0ILPP/61335291/JU...   \n",
       "\n",
       "      ARBOL  ADMINISTRATIVO Cliente\\ndomicilio Estado\\ntrabajos  \\\n",
       "0  E-1 IRIS    6.010503e+13                NaN              NaN   \n",
       "1  A-9/TR.1    4.110000e+13                NaN              NaN   \n",
       "\n",
       "   Fecha \\nFinalizado TIPO PORTADOR COMENTARIOS ORDEN_EN_VUELO  PEP_Número  \\\n",
       "0                 NaN        ACCESO         NaN            NaN         NaN   \n",
       "1                 NaN        ACCESO         NaN            NaN         NaN   \n",
       "\n",
       "   SGIPE_Actuación  nº BTP  Fecha Corte Diversificación  \n",
       "0              NaN     NaN          NaN             NaN  \n",
       "1              NaN     NaN          NaN             NaN  "
      ]
     },
     "execution_count": 24,
     "metadata": {},
     "output_type": "execute_result"
    }
   ],
   "source": [
    "ro_ri = pd.read_excel(r'.\\ro_ri.xlsx', header=1)\n",
    "ro_ri.head(2)"
   ]
  },
  {
   "cell_type": "code",
   "execution_count": 28,
   "id": "f32ec335",
   "metadata": {},
   "outputs": [
    {
     "name": "stdout",
     "output_type": "stream",
     "text": [
      "73\n",
      "69\n"
     ]
    }
   ],
   "source": [
    "arbol_cable = 'TR-1 TR-2'\n",
    "tipo_portador = 'ACCESO'\n",
    "\n",
    "asigna_unique = set(df_merged.loc[(df_merged['arbol_cable'] == 'TR-1 TR-2') & (df_merged['TIPO PORTADOR'] == 'ACCESO'), 'asigna'])\n",
    "\n",
    "filtro = (ro_ri['ARBOL'] == arbol_cable) & (ro_ri['TIPO PORTADOR'] == tipo_portador)\n",
    "resultados = ro_ri.loc[filtro, 'ASIGNACION']\n",
    "\n",
    "print(len(asigna_unique))\n",
    "print(len(resultados))"
   ]
  },
  {
   "cell_type": "code",
   "execution_count": 29,
   "id": "fef18b83",
   "metadata": {},
   "outputs": [],
   "source": [
    "diferencia = asigna_unique - set(resultados)"
   ]
  },
  {
   "cell_type": "code",
   "execution_count": 30,
   "id": "c25e971c",
   "metadata": {},
   "outputs": [
    {
     "data": {
      "text/plain": [
       "{'S.RD /S.TA /DP /WD4H /01120509/TELEFESPA',\n",
       " 'S.SB TR01 /S.TA0048TX01 /SF/V/N270 /0001',\n",
       " 'S.TA0005 /S.TA ETH 1/DP /T1ETH /33246502/LQ2900463G',\n",
       " 'S.TA0012 /S.TA0035 /DP /XXILFO/39860693/UNIVESEVI'}"
      ]
     },
     "execution_count": 30,
     "metadata": {},
     "output_type": "execute_result"
    }
   ],
   "source": [
    "diferencia"
   ]
  },
  {
   "cell_type": "code",
   "execution_count": null,
   "id": "177981d2",
   "metadata": {},
   "outputs": [],
   "source": []
  }
 ],
 "metadata": {
  "kernelspec": {
   "display_name": "Python 3 (ipykernel)",
   "language": "python",
   "name": "python3"
  },
  "language_info": {
   "codemirror_mode": {
    "name": "ipython",
    "version": 3
   },
   "file_extension": ".py",
   "mimetype": "text/x-python",
   "name": "python",
   "nbconvert_exporter": "python",
   "pygments_lexer": "ipython3",
   "version": "3.9.13"
  }
 },
 "nbformat": 4,
 "nbformat_minor": 5
}
