{
 "cells": [
  {
   "cell_type": "markdown",
   "id": "accc53d2",
   "metadata": {},
   "source": [
    "## 09_tkinter_basic_with_email_function\n",
    "Autor: Carlos Wong <br/>\n",
    "email: carlosawongca@gmail.com <br/>\n",
    "Fecha: 2023_04_21 <br/>\n",
    "Objetivo: Edición automática email usando GUI CustomTkinter <br/>\n",
    "Entrada: 'content.xlsx' <br/>\n",
    "Salida: - <br/>\n",
    "Propósito: Prueba edición automática de emails <br/>"
   ]
  },
  {
   "cell_type": "code",
   "execution_count": 2,
   "id": "6b745012",
   "metadata": {},
   "outputs": [],
   "source": [
    "# librerías estándar\n",
    "import pandas as pd\n",
    "import numpy as np\n",
    "import matplotlib.pyplot as plt\n",
    "from datetime import datetime\n",
    "import win32com.client as win32\n",
    "import tkinter as tk\n",
    "import customtkinter"
   ]
  },
  {
   "cell_type": "code",
   "execution_count": 3,
   "id": "a830ecda",
   "metadata": {},
   "outputs": [],
   "source": [
    "import warnings\n",
    "warnings.filterwarnings(\"ignore\")"
   ]
  },
  {
   "cell_type": "code",
   "execution_count": 4,
   "id": "24477873",
   "metadata": {},
   "outputs": [
    {
     "data": {
      "text/plain": [
       "''"
      ]
     },
     "execution_count": 4,
     "metadata": {},
     "output_type": "execute_result"
    }
   ],
   "source": [
    "app = customtkinter.CTk()\n",
    "app.geometry('400x400')\n",
    "app.title('FaroCGM')\n",
    "#customtkinter.set_appearance_mode('dark')\n",
    "app.resizable(width=False, height=False)"
   ]
  },
  {
   "cell_type": "code",
   "execution_count": 15,
   "id": "a6d8127a",
   "metadata": {},
   "outputs": [],
   "source": [
    "def emailer(asigna):\n",
    "    df = pd.read_excel(r'.\\content.xlsx')\n",
    "    row = df.loc[df['asigna'] == asigna]\n",
    "    if len(row) == 0:\n",
    "        print(f\"No se encontró la asignación {asigna} en la tabla\")\n",
    "        return\n",
    "    \n",
    "    fab = row['fab'].values[0]\n",
    "    nomCentral = row['nomCentral'].values[0]\n",
    "    miga = row['miga'].values[0]\n",
    "    admntvo = row['admntvo'].values[0]\n",
    "    codCentral = row['codCentral'].values[0]\n",
    "    To = row['To'].values[0]\n",
    "    cc1 = row['cc1'].values[0]\n",
    "    cc2 = row['cc2'].values[0]\n",
    "    body_text = 'Hola'\n",
    "    \n",
    "    outlook = win32.Dispatch('outlook.application')\n",
    "    mail = outlook.CreateItem(0)\n",
    "    mail.Subject = f\"{fab} - Solicitud creación RI {nomCentral} ({miga} - {codCentral}) {'Administrativo: ' + str(admntvo) if pd.notnull(admntvo) else 'Asignación: ' + asigna}\"\n",
    "    #f'{fab} - Solicitud creación RI {nomCentral} ({miga} - {codCentral}) Admtvo. {admntvo}'\n",
    "    mail.Body = body_text\n",
    "    mail.Display(True)  # muestra la previsualización del correo"
   ]
  },
  {
   "cell_type": "code",
   "execution_count": 6,
   "id": "f8ae9a80",
   "metadata": {},
   "outputs": [],
   "source": [
    "Button_1 = customtkinter.CTkButton(master=app, text='Button 1',command=emailer)\n",
    "Button_1.place(relx=0.5,rely=0.3,anchor='center')"
   ]
  },
  {
   "cell_type": "code",
   "execution_count": 7,
   "id": "0c000790",
   "metadata": {},
   "outputs": [
    {
     "name": "stderr",
     "output_type": "stream",
     "text": [
      "Exception in Tkinter callback\n",
      "Traceback (most recent call last):\n",
      "  File \"C:\\Users\\CGM\\anaconda3\\lib\\tkinter\\__init__.py\", line 1892, in __call__\n",
      "    return self.func(*args)\n",
      "  File \"C:\\Users\\CGM\\anaconda3\\lib\\site-packages\\customtkinter\\windows\\widgets\\ctk_button.py\", line 553, in _clicked\n",
      "    self._command()\n",
      "TypeError: emailer() missing 1 required positional argument: 'asigna'\n",
      "Exception in Tkinter callback\n",
      "Traceback (most recent call last):\n",
      "  File \"C:\\Users\\CGM\\anaconda3\\lib\\tkinter\\__init__.py\", line 1892, in __call__\n",
      "    return self.func(*args)\n",
      "  File \"C:\\Users\\CGM\\anaconda3\\lib\\site-packages\\customtkinter\\windows\\widgets\\ctk_button.py\", line 553, in _clicked\n",
      "    self._command()\n",
      "TypeError: emailer() missing 1 required positional argument: 'asigna'\n"
     ]
    }
   ],
   "source": [
    "app.mainloop()"
   ]
  },
  {
   "cell_type": "code",
   "execution_count": null,
   "id": "7de960d5",
   "metadata": {},
   "outputs": [],
   "source": [
    "emailer('S.BE0008 /S.BE ETH 1/DP /X0ETH /11041759/SERVIANSA3')"
   ]
  },
  {
   "cell_type": "code",
   "execution_count": null,
   "id": "2716437f",
   "metadata": {},
   "outputs": [],
   "source": []
  },
  {
   "cell_type": "code",
   "execution_count": null,
   "id": "b9d11d80",
   "metadata": {},
   "outputs": [],
   "source": []
  },
  {
   "cell_type": "code",
   "execution_count": null,
   "id": "598020cc",
   "metadata": {},
   "outputs": [],
   "source": []
  }
 ],
 "metadata": {
  "kernelspec": {
   "display_name": "Python 3 (ipykernel)",
   "language": "python",
   "name": "python3"
  },
  "language_info": {
   "codemirror_mode": {
    "name": "ipython",
    "version": 3
   },
   "file_extension": ".py",
   "mimetype": "text/x-python",
   "name": "python",
   "nbconvert_exporter": "python",
   "pygments_lexer": "ipython3",
   "version": "3.9.13"
  }
 },
 "nbformat": 4,
 "nbformat_minor": 5
}
