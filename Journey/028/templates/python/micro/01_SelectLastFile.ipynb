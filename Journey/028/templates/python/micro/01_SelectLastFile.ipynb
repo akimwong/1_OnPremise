{
 "cells": [
  {
   "cell_type": "markdown",
   "id": "a6a5ae67",
   "metadata": {},
   "source": [
    "## 01_SelectLastFile\n",
    "\n",
    "Autor: Carlos Wong <br/>\n",
    "email: carlosawongca@gmail.com <br/>\n",
    "Fecha: 2023_03_19 <br/>\n",
    "Objetivo: Guardado de fichero base con fecha y hora en el nombre, recuperación del más reciente <br/>\n",
    "Entrada: 'df_base.xlsx' <br/>\n",
    "Salida: df_base_20230304_1544.xlsx <br/>\n",
    "Propósito: Prueba diferentes componentes del proyecto Project Management_Data Analyst <br/>"
   ]
  },
  {
   "cell_type": "code",
   "execution_count": 11,
   "id": "a8475a29",
   "metadata": {},
   "outputs": [],
   "source": [
    "# librerías estándar\n",
    "import pandas as pd\n",
    "import numpy as np\n",
    "import matplotlib.pyplot as plt\n",
    "import seaborn as sns\n",
    "from datetime import datetime\n",
    "import os"
   ]
  },
  {
   "cell_type": "code",
   "execution_count": 2,
   "id": "88c714ab",
   "metadata": {},
   "outputs": [],
   "source": [
    "import warnings\n",
    "warnings.filterwarnings(\"ignore\")"
   ]
  },
  {
   "cell_type": "code",
   "execution_count": 3,
   "id": "1851d360",
   "metadata": {},
   "outputs": [
    {
     "data": {
      "text/html": [
       "<div>\n",
       "<style scoped>\n",
       "    .dataframe tbody tr th:only-of-type {\n",
       "        vertical-align: middle;\n",
       "    }\n",
       "\n",
       "    .dataframe tbody tr th {\n",
       "        vertical-align: top;\n",
       "    }\n",
       "\n",
       "    .dataframe thead th {\n",
       "        text-align: right;\n",
       "    }\n",
       "</style>\n",
       "<table border=\"1\" class=\"dataframe\">\n",
       "  <thead>\n",
       "    <tr style=\"text-align: right;\">\n",
       "      <th></th>\n",
       "      <th>Col0</th>\n",
       "      <th>Col1</th>\n",
       "      <th>Col2</th>\n",
       "      <th>Col3</th>\n",
       "    </tr>\n",
       "  </thead>\n",
       "  <tbody>\n",
       "    <tr>\n",
       "      <th>0</th>\n",
       "      <td>Row0</td>\n",
       "      <td>Agua</td>\n",
       "      <td>Ana</td>\n",
       "      <td>1</td>\n",
       "    </tr>\n",
       "    <tr>\n",
       "      <th>1</th>\n",
       "      <td>Row1</td>\n",
       "      <td>Fuego</td>\n",
       "      <td>Valeria</td>\n",
       "      <td>2</td>\n",
       "    </tr>\n",
       "    <tr>\n",
       "      <th>2</th>\n",
       "      <td>Row2</td>\n",
       "      <td>Tierra</td>\n",
       "      <td>Amparo</td>\n",
       "      <td>3</td>\n",
       "    </tr>\n",
       "    <tr>\n",
       "      <th>3</th>\n",
       "      <td>Row3</td>\n",
       "      <td>Aire</td>\n",
       "      <td>Carlos</td>\n",
       "      <td>4</td>\n",
       "    </tr>\n",
       "  </tbody>\n",
       "</table>\n",
       "</div>"
      ],
      "text/plain": [
       "   Col0    Col1     Col2  Col3\n",
       "0  Row0    Agua      Ana     1\n",
       "1  Row1   Fuego  Valeria     2\n",
       "2  Row2  Tierra   Amparo     3\n",
       "3  Row3    Aire   Carlos     4"
      ]
     },
     "execution_count": 3,
     "metadata": {},
     "output_type": "execute_result"
    }
   ],
   "source": [
    "# extracción de datasets (ri: reasignación interna)\n",
    "df = pd.read_excel(r'.\\df_base.xlsx')\n",
    "df"
   ]
  },
  {
   "cell_type": "code",
   "execution_count": 21,
   "id": "7e98d612",
   "metadata": {},
   "outputs": [],
   "source": [
    "df.to_excel(f'./dataset/df_base_{format(pd.datetime.now().strftime(\"%Y%m%d_%H%M\"))}.xlsx', index=False)"
   ]
  },
  {
   "cell_type": "markdown",
   "id": "e1c3d6d8",
   "metadata": {},
   "source": [
    "## Programa"
   ]
  },
  {
   "cell_type": "code",
   "execution_count": 22,
   "id": "203e24ed",
   "metadata": {},
   "outputs": [
    {
     "data": {
      "text/plain": [
       "['df_base_20230316_1605.xlsx',\n",
       " 'df_base_20230318_1556.xlsx',\n",
       " 'df_base_20230319_1555.xlsx',\n",
       " 'df_base_20230319_1606.xlsx']"
      ]
     },
     "execution_count": 22,
     "metadata": {},
     "output_type": "execute_result"
    }
   ],
   "source": [
    "# Especifica el directorio donde se encuentran los archivos Excel\n",
    "dir_path = '.\\dataset'\n",
    "\n",
    "# Obtiene la lista de archivos en el directorio\n",
    "file_list = os.listdir(dir_path)\n",
    "file_list"
   ]
  },
  {
   "cell_type": "code",
   "execution_count": 23,
   "id": "01dd2f54",
   "metadata": {},
   "outputs": [
    {
     "data": {
      "text/plain": [
       "['df_base_20230316_1605.xlsx',\n",
       " 'df_base_20230318_1556.xlsx',\n",
       " 'df_base_20230319_1555.xlsx',\n",
       " 'df_base_20230319_1606.xlsx']"
      ]
     },
     "execution_count": 23,
     "metadata": {},
     "output_type": "execute_result"
    }
   ],
   "source": [
    "# Filtra la lista para obtener solo los archivos de Excel con el prefijo 'df_base'\n",
    "excel_files = [f for f in file_list if f.startswith('df_base') and f.endswith('.xlsx')]\n",
    "excel_files"
   ]
  },
  {
   "cell_type": "code",
   "execution_count": 25,
   "id": "ae7a59eb",
   "metadata": {},
   "outputs": [
    {
     "data": {
      "text/plain": [
       "['df_base_20230319_1555.xlsx',\n",
       " 'df_base_20230318_1556.xlsx',\n",
       " 'df_base_20230316_1605.xlsx',\n",
       " 'df_base_20230319_1606.xlsx']"
      ]
     },
     "execution_count": 25,
     "metadata": {},
     "output_type": "execute_result"
    }
   ],
   "source": [
    "# Si no se encontraron archivos de Excel, muestra un mensaje y termina el programa\n",
    "if len(excel_files) == 0:\n",
    "    print('No se encontraron archivos de Excel.')\n",
    "    quit()\n",
    "\n",
    "# Ordena la lista de archivos por fecha de modificación (la fecha más reciente al final)\n",
    "excel_files.sort(key=lambda x: os.path.getmtime(os.path.join(dir_path, x)))\n",
    "excel_files"
   ]
  },
  {
   "cell_type": "code",
   "execution_count": 26,
   "id": "65b1d533",
   "metadata": {},
   "outputs": [],
   "source": [
    "# Lee el archivo de Excel más reciente en un DataFrame de pandas\n",
    "# Se cambian manualmente los datos del último fichero para comprobar que carga éstos datos\n",
    "df = pd.read_excel(os.path.join(dir_path, excel_files[-1]))"
   ]
  },
  {
   "cell_type": "code",
   "execution_count": 28,
   "id": "20e9bc2d",
   "metadata": {},
   "outputs": [
    {
     "data": {
      "text/html": [
       "<div>\n",
       "<style scoped>\n",
       "    .dataframe tbody tr th:only-of-type {\n",
       "        vertical-align: middle;\n",
       "    }\n",
       "\n",
       "    .dataframe tbody tr th {\n",
       "        vertical-align: top;\n",
       "    }\n",
       "\n",
       "    .dataframe thead th {\n",
       "        text-align: right;\n",
       "    }\n",
       "</style>\n",
       "<table border=\"1\" class=\"dataframe\">\n",
       "  <thead>\n",
       "    <tr style=\"text-align: right;\">\n",
       "      <th></th>\n",
       "      <th>Col0</th>\n",
       "      <th>Col1</th>\n",
       "      <th>Col2</th>\n",
       "      <th>Col3</th>\n",
       "    </tr>\n",
       "  </thead>\n",
       "  <tbody>\n",
       "    <tr>\n",
       "      <th>0</th>\n",
       "      <td>Row0</td>\n",
       "      <td>Coche</td>\n",
       "      <td>Jhon</td>\n",
       "      <td>6</td>\n",
       "    </tr>\n",
       "    <tr>\n",
       "      <th>1</th>\n",
       "      <td>Row1</td>\n",
       "      <td>Avion</td>\n",
       "      <td>Mike</td>\n",
       "      <td>7</td>\n",
       "    </tr>\n",
       "    <tr>\n",
       "      <th>2</th>\n",
       "      <td>Row2</td>\n",
       "      <td>Canica</td>\n",
       "      <td>Patty</td>\n",
       "      <td>8</td>\n",
       "    </tr>\n",
       "    <tr>\n",
       "      <th>3</th>\n",
       "      <td>Row3</td>\n",
       "      <td>Lata</td>\n",
       "      <td>Charles</td>\n",
       "      <td>9</td>\n",
       "    </tr>\n",
       "  </tbody>\n",
       "</table>\n",
       "</div>"
      ],
      "text/plain": [
       "   Col0    Col1     Col2  Col3\n",
       "0  Row0   Coche     Jhon     6\n",
       "1  Row1   Avion     Mike     7\n",
       "2  Row2  Canica    Patty     8\n",
       "3  Row3    Lata  Charles     9"
      ]
     },
     "execution_count": 28,
     "metadata": {},
     "output_type": "execute_result"
    }
   ],
   "source": [
    "# Ahora puedes usar el DataFrame 'df' para hacer lo que necesites\n",
    "df"
   ]
  }
 ],
 "metadata": {
  "kernelspec": {
   "display_name": "Python 3 (ipykernel)",
   "language": "python",
   "name": "python3"
  },
  "language_info": {
   "codemirror_mode": {
    "name": "ipython",
    "version": 3
   },
   "file_extension": ".py",
   "mimetype": "text/x-python",
   "name": "python",
   "nbconvert_exporter": "python",
   "pygments_lexer": "ipython3",
   "version": "3.9.13"
  }
 },
 "nbformat": 4,
 "nbformat_minor": 5
}
