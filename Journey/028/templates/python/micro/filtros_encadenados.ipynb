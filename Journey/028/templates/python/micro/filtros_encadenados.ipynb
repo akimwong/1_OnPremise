{
 "cells": [
  {
   "cell_type": "markdown",
   "id": "9ec80cbc",
   "metadata": {},
   "source": [
    "# torrero_odf\n",
    "\n",
    "Autor: Carlos Wong <br/>\n",
    "Fecha: 2023_03_15  <br/>\n",
    "Tipo de problema: CLASIFICACIÓN  <br/>\n",
    "Entrada: ocupación Z.TO estudio_JRL ESTUDIO_3 lunes.xlsx  <br/>\n",
    "Salidas: RI  <br/>\n",
    "Propósito: Diseño y Control  "
   ]
  },
  {
   "cell_type": "code",
   "execution_count": 79,
   "id": "5b50e5ee",
   "metadata": {},
   "outputs": [],
   "source": [
    "# librerías estándar\n",
    "import pandas as pd\n",
    "import numpy as np\n",
    "import matplotlib.pyplot as plt\n",
    "import seaborn as sns"
   ]
  },
  {
   "cell_type": "code",
   "execution_count": 80,
   "id": "f0c972db",
   "metadata": {},
   "outputs": [],
   "source": [
    "import warnings\n",
    "warnings.filterwarnings(\"ignore\")"
   ]
  },
  {
   "cell_type": "code",
   "execution_count": 81,
   "id": "fba9601b",
   "metadata": {},
   "outputs": [],
   "source": [
    "# extracción de datasets (ri:reasignación interna)\n",
    "ri = pd.read_excel(r'.\\ocupación Z.TO estudio_JRL ESTUDIO_3 lunes.xlsx', sheet_name='BBDD')"
   ]
  },
  {
   "cell_type": "code",
   "execution_count": 103,
   "id": "a99b613e",
   "metadata": {},
   "outputs": [],
   "source": [
    "#ri.head(2)"
   ]
  },
  {
   "cell_type": "code",
   "execution_count": 83,
   "id": "2bb6c7be",
   "metadata": {},
   "outputs": [
    {
     "data": {
      "text/plain": [
       "(11135, 42)"
      ]
     },
     "execution_count": 83,
     "metadata": {},
     "output_type": "execute_result"
    }
   ],
   "source": [
    "ri.shape"
   ]
  },
  {
   "cell_type": "code",
   "execution_count": 84,
   "id": "7eef31ec",
   "metadata": {},
   "outputs": [],
   "source": [
    "#ri['administrativo'] = ri['administrativo'].astype(str)"
   ]
  },
  {
   "cell_type": "markdown",
   "id": "437c482c",
   "metadata": {},
   "source": [
    "### Código Integrado"
   ]
  },
  {
   "cell_type": "code",
   "execution_count": 102,
   "id": "3c36ae69",
   "metadata": {},
   "outputs": [
    {
     "data": {
      "text/plain": [
       "(97, 42)"
      ]
     },
     "execution_count": 102,
     "metadata": {},
     "output_type": "execute_result"
    }
   ],
   "source": [
    "ri['asigna'] = ri['asigna'].fillna('')\n",
    "filtro = (\n",
    "    ~ri['haz_fibra'].str.count('Z.TO ').eq(2) & \n",
    "    (ri['estado_fibra'] != 'VACANTE') & \n",
    "    (~ri['ASIGNA_ESTADO'].isin(['SISTEMA VACANTE', 'VACANTE'])) & \n",
    "    (~ri['tipo'].isin(['SISTEMA', 'SUPERVISION'])) &\n",
    "    (~ri['asigna'].str.contains('OBES'))\n",
    ")\n",
    "\n",
    "df_sin_duplicados = ri[filtro].drop_duplicates(subset=['asigna'])\n",
    "df_sin_duplicados.shape"
   ]
  },
  {
   "cell_type": "markdown",
   "id": "4e2d95a2",
   "metadata": {},
   "source": [
    "### Código de Prueba 1"
   ]
  },
  {
   "cell_type": "code",
   "execution_count": 85,
   "id": "40a068b2",
   "metadata": {},
   "outputs": [
    {
     "data": {
      "text/plain": [
       "(7187, 42)"
      ]
     },
     "execution_count": 85,
     "metadata": {},
     "output_type": "execute_result"
    }
   ],
   "source": [
    "filtro1 = ri['haz_fibra'].str.count('Z.TO ') == 2\n",
    "ri_filtro1 = ri[~filtro1] \n",
    "ri_filtro1.shape"
   ]
  },
  {
   "cell_type": "code",
   "execution_count": 86,
   "id": "34cdefca",
   "metadata": {},
   "outputs": [],
   "source": [
    "ri_filtro1.to_excel('zto_filtro1.xlsx', index=False)"
   ]
  },
  {
   "cell_type": "code",
   "execution_count": 87,
   "id": "db16231f",
   "metadata": {},
   "outputs": [
    {
     "data": {
      "text/plain": [
       "(410, 42)"
      ]
     },
     "execution_count": 87,
     "metadata": {},
     "output_type": "execute_result"
    }
   ],
   "source": [
    "filtro = (ri_filtro1['estado_fibra'] != 'VACANTE') & \\\n",
    "         ((ri_filtro1['ASIGNA_ESTADO'] != 'SISTEMA VACANTE') & (ri_filtro1['ASIGNA_ESTADO'] != 'VACANTE')) & \\\n",
    "         ((ri_filtro1['tipo'] != 'SISTEMA') & (ri_filtro1['tipo'] != 'SUPERVISION'))\n",
    "         \n",
    "ri_filtro2 = ri_filtro1[filtro]\n",
    "ri_filtro2.shape"
   ]
  },
  {
   "cell_type": "code",
   "execution_count": 88,
   "id": "391e3c08",
   "metadata": {},
   "outputs": [],
   "source": [
    "ri_filtro2.to_excel('zto_filtro2.xlsx', index=False)"
   ]
  },
  {
   "cell_type": "code",
   "execution_count": 89,
   "id": "c70db179",
   "metadata": {},
   "outputs": [
    {
     "data": {
      "text/plain": [
       "(103, 42)"
      ]
     },
     "execution_count": 89,
     "metadata": {},
     "output_type": "execute_result"
    }
   ],
   "source": [
    "df_sin_duplicados = ri_filtro2.drop_duplicates(subset=['asigna'])\n",
    "df_sin_duplicados.shape"
   ]
  },
  {
   "cell_type": "code",
   "execution_count": 91,
   "id": "f976ba26",
   "metadata": {},
   "outputs": [],
   "source": [
    "df_sin_duplicados.to_excel('zto_filtro3.xlsx', index=False)"
   ]
  },
  {
   "cell_type": "markdown",
   "id": "c629aa5a",
   "metadata": {},
   "source": [
    "### Código de Prueba 2"
   ]
  },
  {
   "cell_type": "code",
   "execution_count": 97,
   "id": "1b11786b",
   "metadata": {},
   "outputs": [
    {
     "data": {
      "text/plain": [
       "(103, 42)"
      ]
     },
     "execution_count": 97,
     "metadata": {},
     "output_type": "execute_result"
    }
   ],
   "source": [
    "filtro = (\n",
    "    ~ri['haz_fibra'].str.count('Z.TO ').eq(2) & \n",
    "    (ri['estado_fibra'] != 'VACANTE') & \n",
    "    (~ri['ASIGNA_ESTADO'].isin(['SISTEMA VACANTE', 'VACANTE'])) & \n",
    "    (~ri['tipo'].isin(['SISTEMA', 'SUPERVISION'])) \n",
    ")\n",
    "\n",
    "df_sin_duplicados = ri[filtro].drop_duplicates(subset=['asigna'])\n",
    "df_sin_duplicados.shape"
   ]
  },
  {
   "cell_type": "code",
   "execution_count": 99,
   "id": "9264ea79",
   "metadata": {},
   "outputs": [
    {
     "data": {
      "text/plain": [
       "(97, 42)"
      ]
     },
     "execution_count": 99,
     "metadata": {},
     "output_type": "execute_result"
    }
   ],
   "source": [
    "filtro2 = df_sin_duplicados['asigna'].str.contains('OBES')\n",
    "dfSinObes = df_sin_duplicados.loc[~filtro2]\n",
    "dfSinObes.shape"
   ]
  },
  {
   "cell_type": "code",
   "execution_count": null,
   "id": "da6104f8",
   "metadata": {},
   "outputs": [],
   "source": []
  },
  {
   "cell_type": "code",
   "execution_count": null,
   "id": "8dc160a2",
   "metadata": {},
   "outputs": [],
   "source": []
  },
  {
   "cell_type": "code",
   "execution_count": null,
   "id": "76739bfe",
   "metadata": {},
   "outputs": [],
   "source": []
  },
  {
   "cell_type": "code",
   "execution_count": null,
   "id": "cacff31b",
   "metadata": {},
   "outputs": [],
   "source": []
  },
  {
   "cell_type": "code",
   "execution_count": null,
   "id": "26216380",
   "metadata": {},
   "outputs": [],
   "source": []
  },
  {
   "cell_type": "code",
   "execution_count": null,
   "id": "177981d2",
   "metadata": {},
   "outputs": [],
   "source": []
  }
 ],
 "metadata": {
  "kernelspec": {
   "display_name": "Python 3 (ipykernel)",
   "language": "python",
   "name": "python3"
  },
  "language_info": {
   "codemirror_mode": {
    "name": "ipython",
    "version": 3
   },
   "file_extension": ".py",
   "mimetype": "text/x-python",
   "name": "python",
   "nbconvert_exporter": "python",
   "pygments_lexer": "ipython3",
   "version": "3.9.13"
  }
 },
 "nbformat": 4,
 "nbformat_minor": 5
}
