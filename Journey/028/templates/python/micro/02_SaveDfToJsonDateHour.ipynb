{
 "cells": [
  {
   "cell_type": "markdown",
   "id": "a6a5ae67",
   "metadata": {},
   "source": [
    "## 02_SaveDfToJsonDateHour\n",
    "\n",
    "Autor: Carlos Wong <br/>\n",
    "email: carlosawongca@gmail.com <br/>\n",
    "Fecha: 2023_03_19 <br/>\n",
    "Objetivo: Guardado de datos de un DF en formato JSON incluyendo fecha_hora de cada registro <br/>\n",
    "Entrada: 'df_base.xlsx' <br/>\n",
    "Salida: df_base.json <br/>\n",
    "Propósito: Prueba diferentes componentes del proyecto Project Management_Data Analyst <br/>"
   ]
  },
  {
   "cell_type": "code",
   "execution_count": 45,
   "id": "a8475a29",
   "metadata": {},
   "outputs": [],
   "source": [
    "# librerías estándar\n",
    "import pandas as pd\n",
    "import numpy as np\n",
    "import matplotlib.pyplot as plt\n",
    "import seaborn as sns\n",
    "from datetime import datetime\n",
    "import json\n",
    "import os"
   ]
  },
  {
   "cell_type": "code",
   "execution_count": 46,
   "id": "88c714ab",
   "metadata": {},
   "outputs": [],
   "source": [
    "import warnings\n",
    "warnings.filterwarnings(\"ignore\")"
   ]
  },
  {
   "cell_type": "code",
   "execution_count": 47,
   "id": "1851d360",
   "metadata": {},
   "outputs": [
    {
     "data": {
      "text/html": [
       "<div>\n",
       "<style scoped>\n",
       "    .dataframe tbody tr th:only-of-type {\n",
       "        vertical-align: middle;\n",
       "    }\n",
       "\n",
       "    .dataframe tbody tr th {\n",
       "        vertical-align: top;\n",
       "    }\n",
       "\n",
       "    .dataframe thead th {\n",
       "        text-align: right;\n",
       "    }\n",
       "</style>\n",
       "<table border=\"1\" class=\"dataframe\">\n",
       "  <thead>\n",
       "    <tr style=\"text-align: right;\">\n",
       "      <th></th>\n",
       "      <th>Col0</th>\n",
       "      <th>Col1</th>\n",
       "      <th>Col2</th>\n",
       "    </tr>\n",
       "  </thead>\n",
       "  <tbody>\n",
       "    <tr>\n",
       "      <th>0</th>\n",
       "      <td>Ref1</td>\n",
       "      <td>Water</td>\n",
       "      <td>Jhon</td>\n",
       "    </tr>\n",
       "    <tr>\n",
       "      <th>1</th>\n",
       "      <td>Ref2</td>\n",
       "      <td>Fire</td>\n",
       "      <td>Mike</td>\n",
       "    </tr>\n",
       "    <tr>\n",
       "      <th>2</th>\n",
       "      <td>Ref3</td>\n",
       "      <td>Wind</td>\n",
       "      <td>Arnold</td>\n",
       "    </tr>\n",
       "  </tbody>\n",
       "</table>\n",
       "</div>"
      ],
      "text/plain": [
       "   Col0   Col1    Col2\n",
       "0  Ref1  Water    Jhon\n",
       "1  Ref2   Fire    Mike\n",
       "2  Ref3   Wind  Arnold"
      ]
     },
     "execution_count": 47,
     "metadata": {},
     "output_type": "execute_result"
    }
   ],
   "source": [
    "# extracción de dataset\n",
    "df = pd.read_excel(r'.\\df_base_2.xlsx')\n",
    "df"
   ]
  },
  {
   "cell_type": "markdown",
   "id": "e1c3d6d8",
   "metadata": {},
   "source": [
    "## 01_Extracción de datos de forma individual"
   ]
  },
  {
   "cell_type": "code",
   "execution_count": 53,
   "id": "00993e5d",
   "metadata": {},
   "outputs": [],
   "source": [
    "# Función que convierte una entrada de tres elementos en un diccionario de un solo elemento que contiene el valor original, \n",
    "# la fecha y la hora.\n",
    "def convert_to_json(col_name, row_name, value):\n",
    "    now = datetime.now()\n",
    "    date_time = now.strftime(\"%Y-%m-%d %H:%M\")\n",
    "    json_dict = {f\"{col_name} - {row_name}\": {\"value\": value, \"date_time\": date_time}}\n",
    "    return json_dict"
   ]
  },
  {
   "cell_type": "code",
   "execution_count": 58,
   "id": "f3a539b5",
   "metadata": {},
   "outputs": [
    {
     "data": {
      "text/plain": [
       "[{'Col0 - Ref1': {'value': 'Ref1', 'date_time': '2023-03-20 12:12'}},\n",
       " {'Col0 - Ref2': {'value': 'Ref2', 'date_time': '2023-03-20 12:12'}},\n",
       " {'Col0 - Ref3': {'value': 'Ref3', 'date_time': '2023-03-20 12:12'}},\n",
       " {'Col1 - Ref1': {'value': 'Water', 'date_time': '2023-03-20 12:12'}},\n",
       " {'Col1 - Ref2': {'value': 'Fire', 'date_time': '2023-03-20 12:12'}},\n",
       " {'Col1 - Ref3': {'value': 'Wind', 'date_time': '2023-03-20 12:12'}},\n",
       " {'Col2 - Ref1': {'value': 'Jhon', 'date_time': '2023-03-20 12:12'}},\n",
       " {'Col2 - Ref2': {'value': 'Mike', 'date_time': '2023-03-20 12:12'}},\n",
       " {'Col2 - Ref3': {'value': 'Arnold', 'date_time': '2023-03-20 12:12'}}]"
      ]
     },
     "execution_count": 58,
     "metadata": {},
     "output_type": "execute_result"
    }
   ],
   "source": [
    "# convierte cada celda del DataFrame df en un diccionario en formato JSON y lo agrega a la lista json_list.\n",
    "json_list = []\n",
    "for col_name in df.columns:\n",
    "    for index, row in df.iterrows():\n",
    "        row_name = row['Col0']\n",
    "        value = row[col_name]\n",
    "        json_dict = convert_to_json(col_name, row_name, value)\n",
    "        json_list.append(json_dict)\n",
    "json_list       "
   ]
  },
  {
   "cell_type": "markdown",
   "id": "74d37f92",
   "metadata": {},
   "source": [
    "## 02_Creación de un fichero .json tomando como base una lista"
   ]
  },
  {
   "cell_type": "code",
   "execution_count": 63,
   "id": "4a7d8be1",
   "metadata": {},
   "outputs": [],
   "source": [
    "with open(f\".\\jsons\\data.json\", \"w\") as outfile:\n",
    "    json.dump(json_list, outfile)"
   ]
  },
  {
   "cell_type": "markdown",
   "id": "b7247457",
   "metadata": {},
   "source": [
    "## 03_Extracción del fichero JSON"
   ]
  },
  {
   "cell_type": "code",
   "execution_count": 56,
   "id": "178b52e0",
   "metadata": {},
   "outputs": [
    {
     "data": {
      "text/plain": [
       "[{'Col0 - Ref1': {'value': 'Ref1', 'date_time': '2023-03-20 12:06'}},\n",
       " {'Col0 - Ref2': {'value': 'Ref2', 'date_time': '2023-03-20 12:06'}},\n",
       " {'Col0 - Ref3': {'value': 'Ref3', 'date_time': '2023-03-20 12:06'}},\n",
       " {'Col1 - Ref1': {'value': 'Water', 'date_time': '2023-03-20 12:06'}},\n",
       " {'Col1 - Ref2': {'value': 'Fire', 'date_time': '2023-03-20 12:06'}},\n",
       " {'Col1 - Ref3': {'value': 'Wind', 'date_time': '2023-03-20 12:06'}},\n",
       " {'Col2 - Ref1': {'value': 'Jhon', 'date_time': '2023-03-20 12:06'}},\n",
       " {'Col2 - Ref2': {'value': 'Mike', 'date_time': '2023-03-20 12:06'}},\n",
       " {'Col2 - Ref3': {'value': 'Arnold', 'date_time': '2023-03-20 12:06'}}]"
      ]
     },
     "execution_count": 56,
     "metadata": {},
     "output_type": "execute_result"
    }
   ],
   "source": [
    "with open(\".\\jsons\\data.json\") as f:\n",
    "    data = json.load(f)\n",
    "data"
   ]
  },
  {
   "cell_type": "markdown",
   "id": "17652e7f",
   "metadata": {},
   "source": [
    "## 04_Conversión del fichero JSON en un dataframe"
   ]
  },
  {
   "cell_type": "code",
   "execution_count": 57,
   "id": "ce9373a3",
   "metadata": {},
   "outputs": [
    {
     "data": {
      "text/html": [
       "<div>\n",
       "<style scoped>\n",
       "    .dataframe tbody tr th:only-of-type {\n",
       "        vertical-align: middle;\n",
       "    }\n",
       "\n",
       "    .dataframe tbody tr th {\n",
       "        vertical-align: top;\n",
       "    }\n",
       "\n",
       "    .dataframe thead th {\n",
       "        text-align: right;\n",
       "    }\n",
       "</style>\n",
       "<table border=\"1\" class=\"dataframe\">\n",
       "  <thead>\n",
       "    <tr style=\"text-align: right;\">\n",
       "      <th></th>\n",
       "      <th>Col0</th>\n",
       "      <th>Col1</th>\n",
       "      <th>Col2</th>\n",
       "    </tr>\n",
       "  </thead>\n",
       "  <tbody>\n",
       "    <tr>\n",
       "      <th>0</th>\n",
       "      <td>Ref1</td>\n",
       "      <td>Water</td>\n",
       "      <td>Jhon</td>\n",
       "    </tr>\n",
       "    <tr>\n",
       "      <th>1</th>\n",
       "      <td>Ref2</td>\n",
       "      <td>Fire</td>\n",
       "      <td>Mike</td>\n",
       "    </tr>\n",
       "    <tr>\n",
       "      <th>2</th>\n",
       "      <td>Ref3</td>\n",
       "      <td>Wind</td>\n",
       "      <td>Arnold</td>\n",
       "    </tr>\n",
       "  </tbody>\n",
       "</table>\n",
       "</div>"
      ],
      "text/plain": [
       "   Col0   Col1    Col2\n",
       "0  Ref1  Water    Jhon\n",
       "1  Ref2   Fire    Mike\n",
       "2  Ref3   Wind  Arnold"
      ]
     },
     "execution_count": 57,
     "metadata": {},
     "output_type": "execute_result"
    }
   ],
   "source": [
    "# Crear un diccionario para cada fila del DataFrame\n",
    "rows_dict = {}\n",
    "for d in data:\n",
    "    for k, v in d.items():\n",
    "        col_name, row_name = k.split(' - ')\n",
    "        if row_name not in rows_dict:\n",
    "            rows_dict[row_name] = {}\n",
    "        rows_dict[row_name][col_name] = v['value']\n",
    "\n",
    "# Crear el DataFrame a partir del diccionario\n",
    "df = pd.DataFrame.from_dict(rows_dict, orient='index')\n",
    "\n",
    "# establecer el índice\n",
    "df = df.set_index([pd.Index([i for i in range(len(df))])])\n",
    "\n",
    "df"
   ]
  },
  {
   "cell_type": "code",
   "execution_count": null,
   "id": "f2e59070",
   "metadata": {},
   "outputs": [],
   "source": []
  }
 ],
 "metadata": {
  "kernelspec": {
   "display_name": "Python 3 (ipykernel)",
   "language": "python",
   "name": "python3"
  },
  "language_info": {
   "codemirror_mode": {
    "name": "ipython",
    "version": 3
   },
   "file_extension": ".py",
   "mimetype": "text/x-python",
   "name": "python",
   "nbconvert_exporter": "python",
   "pygments_lexer": "ipython3",
   "version": "3.9.13"
  }
 },
 "nbformat": 4,
 "nbformat_minor": 5
}
