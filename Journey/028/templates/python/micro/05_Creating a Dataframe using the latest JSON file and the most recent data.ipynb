{
 "cells": [
  {
   "cell_type": "markdown",
   "id": "a6a5ae67",
   "metadata": {},
   "source": [
    "## 05_Creating a Dataframe using the latest JSON file and the most recent data\n",
    "\n",
    "Autor: Carlos Wong <br/>\n",
    "email: carlosawongca@gmail.com <br/>\n",
    "Fecha: 2023_03_20 <br/>\n",
    "Objetivo: Creación de dataframe usando el fichero json más reciente y los datos más recientes <br/>\n",
    "Entrada: 'main_20230320_1636.json' <br/>\n",
    "Salida: - <br/>\n",
    "Propósito: Prueba diferentes componentes del proyecto Project Management_Data Analyst <br/>"
   ]
  },
  {
   "cell_type": "code",
   "execution_count": 1,
   "id": "a8475a29",
   "metadata": {},
   "outputs": [],
   "source": [
    "# librerías estándar\n",
    "import pandas as pd\n",
    "import numpy as np\n",
    "import matplotlib.pyplot as plt\n",
    "import seaborn as sns\n",
    "from datetime import datetime\n",
    "import json\n",
    "import os\n",
    "import glob  # devuelve una lista de nombres de archivo que coinciden con un patrón"
   ]
  },
  {
   "cell_type": "code",
   "execution_count": 2,
   "id": "88c714ab",
   "metadata": {},
   "outputs": [],
   "source": [
    "import warnings\n",
    "warnings.filterwarnings(\"ignore\")"
   ]
  },
  {
   "cell_type": "markdown",
   "id": "9d416b1d",
   "metadata": {},
   "source": [
    "## 01_Extracción de fichero json más reciente"
   ]
  },
  {
   "cell_type": "code",
   "execution_count": 3,
   "id": "057a25ce",
   "metadata": {},
   "outputs": [],
   "source": [
    "# Especifica el directorio donde se encuentran los archivos json\n",
    "dir_path = './jsons'\n",
    "\n",
    "# Busca todos los archivos que empiezan con 'main' y terminan con '.json'\n",
    "json_files = glob.glob(f'{dir_path}/main*.json')\n",
    "\n",
    "# Si no se encontraron archivos json, muestra un mensaje y termina el programa\n",
    "if not json_files:\n",
    "    print('No se encontraron archivos de Json.')\n",
    "    quit()\n",
    "\n",
    "# Ordena la lista de archivos por fecha de modificación (la fecha más reciente al final)\n",
    "latest_json = max(json_files, key=os.path.getmtime)\n",
    "\n",
    "# Abrir el archivo json más reciente\n",
    "with open(latest_json) as f:\n",
    "    json_list1 = json.load(f)"
   ]
  },
  {
   "cell_type": "code",
   "execution_count": 4,
   "id": "5581ef7c",
   "metadata": {},
   "outputs": [
    {
     "data": {
      "text/plain": [
       "[{'Col0 - Ref1': {'value': 'Ref1', 'date_time': '2023-03-20 14:47'}},\n",
       " {'Col0 - Ref2': {'value': 'Ref2', 'date_time': '2023-03-20 14:47'}},\n",
       " {'Col1 - Ref1': {'value': 'Water', 'date_time': '2023-03-20 14:47'}},\n",
       " {'Col1 - Ref2': {'value': 'Fire', 'date_time': '2023-03-20 14:47'}},\n",
       " {'Col2 - Ref1': {'value': 'Jhon', 'date_time': '2023-03-20 14:47'}},\n",
       " {'Col2 - Ref2': {'value': 'Mike', 'date_time': '2023-03-20 14:47'}},\n",
       " {'Col2 - Ref2': {'value': 'Peter', 'date_time': '2023-03-20 15:19'}},\n",
       " {'Col1 - Ref2': {'value': 'Wind', 'date_time': '2023-03-20 16:18'}},\n",
       " {'Col2 - Ref2': {'value': 'Rose', 'date_time': '2023-03-20 16:18'}},\n",
       " {'Col1 - Ref1': {'value': 'Sun', 'date_time': '2023-03-20 17:15'}},\n",
       " {'Col2 - Ref1': {'value': 'Melissa', 'date_time': '2023-03-20 17:15'}}]"
      ]
     },
     "execution_count": 4,
     "metadata": {},
     "output_type": "execute_result"
    }
   ],
   "source": [
    "json_list1"
   ]
  },
  {
   "cell_type": "markdown",
   "id": "e1c3d6d8",
   "metadata": {},
   "source": [
    "## 02_Conversión de datos nuevos en nuevo json_list2"
   ]
  },
  {
   "cell_type": "code",
   "execution_count": 5,
   "id": "1851d360",
   "metadata": {},
   "outputs": [
    {
     "data": {
      "text/html": [
       "<div>\n",
       "<style scoped>\n",
       "    .dataframe tbody tr th:only-of-type {\n",
       "        vertical-align: middle;\n",
       "    }\n",
       "\n",
       "    .dataframe tbody tr th {\n",
       "        vertical-align: top;\n",
       "    }\n",
       "\n",
       "    .dataframe thead th {\n",
       "        text-align: right;\n",
       "    }\n",
       "</style>\n",
       "<table border=\"1\" class=\"dataframe\">\n",
       "  <thead>\n",
       "    <tr style=\"text-align: right;\">\n",
       "      <th></th>\n",
       "      <th>Col0</th>\n",
       "      <th>Col1</th>\n",
       "      <th>Col2</th>\n",
       "    </tr>\n",
       "  </thead>\n",
       "  <tbody>\n",
       "    <tr>\n",
       "      <th>0</th>\n",
       "      <td>Ref1</td>\n",
       "      <td>Sun</td>\n",
       "      <td>Melissa</td>\n",
       "    </tr>\n",
       "    <tr>\n",
       "      <th>1</th>\n",
       "      <td>Ref2</td>\n",
       "      <td>Wind</td>\n",
       "      <td>Rose</td>\n",
       "    </tr>\n",
       "  </tbody>\n",
       "</table>\n",
       "</div>"
      ],
      "text/plain": [
       "   Col0  Col1     Col2\n",
       "0  Ref1   Sun  Melissa\n",
       "1  Ref2  Wind     Rose"
      ]
     },
     "execution_count": 5,
     "metadata": {},
     "output_type": "execute_result"
    }
   ],
   "source": [
    "# extracción de dataset con dos modificaciones: \n",
    "# Col2 - Ref2: 'Rose' \n",
    "# Col1 - Ref2: 'Wind'\n",
    "data = pd.read_excel(r'.\\df_base_5.xlsx')\n",
    "data"
   ]
  },
  {
   "cell_type": "code",
   "execution_count": 6,
   "id": "00993e5d",
   "metadata": {},
   "outputs": [],
   "source": [
    "# Función que convierte una entrada de tres elementos en un diccionario de un solo elemento que contiene el valor original, \n",
    "# la fecha y la hora.\n",
    "def convert_to_json(col_name, row_name, value):\n",
    "    now = datetime.now()\n",
    "    date_time = now.strftime(\"%Y-%m-%d %H:%M\")\n",
    "    json_dict = {f\"{col_name} - {row_name}\": {\"value\": value, \"date_time\": date_time}}\n",
    "    return json_dict"
   ]
  },
  {
   "cell_type": "code",
   "execution_count": 7,
   "id": "3642aa37",
   "metadata": {},
   "outputs": [
    {
     "data": {
      "text/plain": [
       "[{'Col0 - Ref1': {'value': 'Ref1', 'date_time': '2023-03-20 21:52'}},\n",
       " {'Col0 - Ref2': {'value': 'Ref2', 'date_time': '2023-03-20 21:52'}},\n",
       " {'Col1 - Ref1': {'value': 'Sun', 'date_time': '2023-03-20 21:52'}},\n",
       " {'Col1 - Ref2': {'value': 'Wind', 'date_time': '2023-03-20 21:52'}},\n",
       " {'Col2 - Ref1': {'value': 'Melissa', 'date_time': '2023-03-20 21:52'}},\n",
       " {'Col2 - Ref2': {'value': 'Rose', 'date_time': '2023-03-20 21:52'}}]"
      ]
     },
     "execution_count": 7,
     "metadata": {},
     "output_type": "execute_result"
    }
   ],
   "source": [
    "# convierte cada celda del DataFrame df en un diccionario en formato JSON y lo agrega a la lista json_list.\n",
    "json_list2 = []\n",
    "for col_name in data.columns:\n",
    "    for index, row in data.iterrows():\n",
    "        row_name = row['Col0']\n",
    "        value = row[col_name]\n",
    "        json_dict = convert_to_json(col_name, row_name, value)\n",
    "        json_list2.append(json_dict)\n",
    "json_list2      "
   ]
  },
  {
   "cell_type": "markdown",
   "id": "c50ac06a",
   "metadata": {},
   "source": [
    "## 03_Comparación json_list1 y json_list2"
   ]
  },
  {
   "cell_type": "code",
   "execution_count": 8,
   "id": "ba778590",
   "metadata": {},
   "outputs": [],
   "source": [
    "differences = []\n",
    "\n",
    "for item in json_list2:\n",
    "    for key, value in item.items():\n",
    "        col_ref = key.split(' - ')[0] + ' - ' + value['value']\n",
    "        # buscar solo en el valor, excluyendo la fecha\n",
    "        ref_value = {'value': value['value']}\n",
    "        if not any(d.get(key, {}).get('value') == value['value'] for d in json_list1):\n",
    "            differences.append({key: value})           "
   ]
  },
  {
   "cell_type": "code",
   "execution_count": 9,
   "id": "b35adf5a",
   "metadata": {},
   "outputs": [
    {
     "data": {
      "text/plain": [
       "[]"
      ]
     },
     "execution_count": 9,
     "metadata": {},
     "output_type": "execute_result"
    }
   ],
   "source": [
    "differences"
   ]
  },
  {
   "cell_type": "markdown",
   "id": "4ad53832",
   "metadata": {},
   "source": [
    "## 03_Agrego las diferencias a la lista json original"
   ]
  },
  {
   "cell_type": "code",
   "execution_count": 10,
   "id": "41782240",
   "metadata": {},
   "outputs": [
    {
     "data": {
      "text/plain": [
       "[{'Col0 - Ref1': {'value': 'Ref1', 'date_time': '2023-03-20 14:47'}},\n",
       " {'Col0 - Ref2': {'value': 'Ref2', 'date_time': '2023-03-20 14:47'}},\n",
       " {'Col1 - Ref1': {'value': 'Water', 'date_time': '2023-03-20 14:47'}},\n",
       " {'Col1 - Ref2': {'value': 'Fire', 'date_time': '2023-03-20 14:47'}},\n",
       " {'Col2 - Ref1': {'value': 'Jhon', 'date_time': '2023-03-20 14:47'}},\n",
       " {'Col2 - Ref2': {'value': 'Mike', 'date_time': '2023-03-20 14:47'}},\n",
       " {'Col2 - Ref2': {'value': 'Peter', 'date_time': '2023-03-20 15:19'}},\n",
       " {'Col1 - Ref2': {'value': 'Wind', 'date_time': '2023-03-20 16:18'}},\n",
       " {'Col2 - Ref2': {'value': 'Rose', 'date_time': '2023-03-20 16:18'}},\n",
       " {'Col1 - Ref1': {'value': 'Sun', 'date_time': '2023-03-20 17:15'}},\n",
       " {'Col2 - Ref1': {'value': 'Melissa', 'date_time': '2023-03-20 17:15'}}]"
      ]
     },
     "execution_count": 10,
     "metadata": {},
     "output_type": "execute_result"
    }
   ],
   "source": [
    "json_list1.extend(differences)\n",
    "json_list1"
   ]
  },
  {
   "cell_type": "markdown",
   "id": "9e34673e",
   "metadata": {},
   "source": [
    "## 04_Guardo nuevo fichero json con fecha"
   ]
  },
  {
   "cell_type": "code",
   "execution_count": 11,
   "id": "4f9f5556",
   "metadata": {},
   "outputs": [],
   "source": [
    "with open(f\".\\jsons\\main_{pd.datetime.now().strftime('%Y%m%d_%H%M')}.json\", \"w\") as f:\n",
    "    json.dump(json_list1, f)"
   ]
  },
  {
   "cell_type": "markdown",
   "id": "a75d2bc3",
   "metadata": {},
   "source": [
    "## 05_Generación de Dataframe con los datos json más recientes"
   ]
  },
  {
   "cell_type": "code",
   "execution_count": 23,
   "id": "0256d84f",
   "metadata": {},
   "outputs": [
    {
     "data": {
      "text/plain": [
       "[{'Col0 - Ref1': {'value': 'Ref1', 'date_time': '2023-03-20 14:47'}},\n",
       " {'Col0 - Ref2': {'value': 'Ref2', 'date_time': '2023-03-20 14:47'}},\n",
       " {'Col1 - Ref1': {'value': 'Sun', 'date_time': '2023-03-20 17:15'}},\n",
       " {'Col1 - Ref2': {'value': 'Wind', 'date_time': '2023-03-20 16:18'}},\n",
       " {'Col2 - Ref1': {'value': 'Melissa', 'date_time': '2023-03-20 17:15'}},\n",
       " {'Col2 - Ref2': {'value': 'Rose', 'date_time': '2023-03-20 16:18'}}]"
      ]
     },
     "execution_count": 23,
     "metadata": {},
     "output_type": "execute_result"
    }
   ],
   "source": [
    "json_list2 = []\n",
    "unique_combinations = {}\n",
    "\n",
    "for item in json_list1:\n",
    "    # obtener la clave y el valor del diccionario del elemento actual\n",
    "    key = list(item.keys())[0]\n",
    "    value = item[key]\n",
    "    \n",
    "    # separar la clave en Col y Ref\n",
    "    col, ref = key.split(' - ')\n",
    "    \n",
    "    # verificar si la combinación Col - Ref ya está en el diccionario de combinaciones únicas\n",
    "    if (col, ref) not in unique_combinations:\n",
    "        # si no está en el diccionario, agregarlo y agregar el valor actual\n",
    "        unique_combinations[(col, ref)] = value\n",
    "    else:\n",
    "        # si ya está en el diccionario, comparar las fechas y reemplazar si el valor actual es más reciente\n",
    "        current_value = unique_combinations[(col, ref)]\n",
    "        current_date = current_value['date_time']\n",
    "        new_date = value['date_time']\n",
    "        if new_date > current_date:\n",
    "            unique_combinations[(col, ref)] = value\n",
    "\n",
    "# convertir el diccionario de combinaciones únicas en una lista de diccionarios\n",
    "for key, value in unique_combinations.items():\n",
    "    col, ref = key\n",
    "    json_list2.append({f\"{col} - {ref}\": value})\n",
    "\n",
    "# imprimir el nuevo json_list\n",
    "json_list2"
   ]
  },
  {
   "cell_type": "code",
   "execution_count": 24,
   "id": "f65944c7",
   "metadata": {},
   "outputs": [
    {
     "data": {
      "text/html": [
       "<div>\n",
       "<style scoped>\n",
       "    .dataframe tbody tr th:only-of-type {\n",
       "        vertical-align: middle;\n",
       "    }\n",
       "\n",
       "    .dataframe tbody tr th {\n",
       "        vertical-align: top;\n",
       "    }\n",
       "\n",
       "    .dataframe thead th {\n",
       "        text-align: right;\n",
       "    }\n",
       "</style>\n",
       "<table border=\"1\" class=\"dataframe\">\n",
       "  <thead>\n",
       "    <tr style=\"text-align: right;\">\n",
       "      <th></th>\n",
       "      <th>Col0</th>\n",
       "      <th>Col1</th>\n",
       "      <th>Col2</th>\n",
       "    </tr>\n",
       "  </thead>\n",
       "  <tbody>\n",
       "    <tr>\n",
       "      <th>0</th>\n",
       "      <td>Ref1</td>\n",
       "      <td>Sun</td>\n",
       "      <td>Melissa</td>\n",
       "    </tr>\n",
       "    <tr>\n",
       "      <th>1</th>\n",
       "      <td>Ref2</td>\n",
       "      <td>Wind</td>\n",
       "      <td>Rose</td>\n",
       "    </tr>\n",
       "  </tbody>\n",
       "</table>\n",
       "</div>"
      ],
      "text/plain": [
       "   Col0  Col1     Col2\n",
       "0  Ref1   Sun  Melissa\n",
       "1  Ref2  Wind     Rose"
      ]
     },
     "execution_count": 24,
     "metadata": {},
     "output_type": "execute_result"
    }
   ],
   "source": [
    "# Crear un diccionario para cada fila del DataFrame\n",
    "rows_dict = {}\n",
    "for d in json_list2:\n",
    "    for k, v in d.items():\n",
    "        col_name, row_name = k.split(' - ')\n",
    "        if row_name not in rows_dict:\n",
    "            rows_dict[row_name] = {}\n",
    "        rows_dict[row_name][col_name] = v['value']\n",
    "\n",
    "# Crear el DataFrame a partir del diccionario\n",
    "df = pd.DataFrame.from_dict(rows_dict, orient='index')\n",
    "\n",
    "# establecer el índice\n",
    "df = df.set_index([pd.Index([i for i in range(len(df))])])\n",
    "\n",
    "df"
   ]
  }
 ],
 "metadata": {
  "kernelspec": {
   "display_name": "Python 3 (ipykernel)",
   "language": "python",
   "name": "python3"
  },
  "language_info": {
   "codemirror_mode": {
    "name": "ipython",
    "version": 3
   },
   "file_extension": ".py",
   "mimetype": "text/x-python",
   "name": "python",
   "nbconvert_exporter": "python",
   "pygments_lexer": "ipython3",
   "version": "3.9.13"
  }
 },
 "nbformat": 4,
 "nbformat_minor": 5
}
