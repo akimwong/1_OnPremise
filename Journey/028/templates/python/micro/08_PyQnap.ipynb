{
 "cells": [
  {
   "cell_type": "markdown",
   "id": "07e36a85",
   "metadata": {},
   "source": [
    "## 08_PyQnapCloud\n",
    "Autor: Carlos Wong <br/>\n",
    "email: carlosawongca@gmail.com <br/>\n",
    "Fecha: 2023_04_14 <br/>\n",
    "Objetivo: Conexión con Qnap Cloud Connect <br/>\n",
    "Entrada: different files <br/>\n",
    "Salida: - <br/>\n",
    "Propósito: Establecer conexión con myQnapCloudConnect <br/>"
   ]
  },
  {
   "cell_type": "code",
   "execution_count": 26,
   "id": "ca766bec",
   "metadata": {},
   "outputs": [],
   "source": [
    "# librerías estándar\n",
    "import pandas as pd\n",
    "import numpy as np\n",
    "import matplotlib.pyplot as plt\n",
    "from datetime import datetime\n",
    "import win32com.client as win32\n",
    "from tabulate import tabulate"
   ]
  },
  {
   "cell_type": "code",
   "execution_count": 27,
   "id": "1ffcd445",
   "metadata": {},
   "outputs": [],
   "source": [
    "import warnings\n",
    "warnings.filterwarnings(\"ignore\")"
   ]
  },
  {
   "cell_type": "code",
   "execution_count": 28,
   "id": "028e7d12",
   "metadata": {},
   "outputs": [],
   "source": [
    "ruta_archivo = r'\\\\'\n",
    "# Leer el archivo Excel\n",
    "excel_file = pd.ExcelFile(ruta_archivo)"
   ]
  },
  {
   "cell_type": "code",
   "execution_count": 29,
   "id": "97c4b857",
   "metadata": {},
   "outputs": [],
   "source": [
    "# Crear un diccionario vacío para almacenar los dataframes de cada hoja\n",
    "dataframes_por_hoja = {}\n",
    "# Iterar a través de cada hoja del archivo Excel\n",
    "for nombre_hoja in excel_file.sheet_names:\n",
    "    \n",
    "    # Leer la hoja y seleccionar las columnas a partir de la tercera columna\n",
    "    hoja = pd.read_excel(excel_file, sheet_name=nombre_hoja, header=1)\n",
    "    hoja = hoja.iloc[:, 2:]\n",
    "    \n",
    "    # Eliminar filas con valores nulos\n",
    "    hoja = hoja.dropna(subset=['Codificación Común'])\n",
    "    \n",
    "    # Agregar el dataframe a nuestro diccionario con el nombre de la hoja como clave\n",
    "    dataframes_por_hoja[nombre_hoja] = hoja"
   ]
  },
  {
   "cell_type": "code",
   "execution_count": 30,
   "id": "6a7ec952",
   "metadata": {},
   "outputs": [],
   "source": [
    "#dataframes_por_hoja"
   ]
  },
  {
   "cell_type": "code",
   "execution_count": null,
   "id": "b322b8d5",
   "metadata": {},
   "outputs": [],
   "source": []
  }
 ],
 "metadata": {
  "kernelspec": {
   "display_name": "Python 3 (ipykernel)",
   "language": "python",
   "name": "python3"
  },
  "language_info": {
   "codemirror_mode": {
    "name": "ipython",
    "version": 3
   },
   "file_extension": ".py",
   "mimetype": "text/x-python",
   "name": "python",
   "nbconvert_exporter": "python",
   "pygments_lexer": "ipython3",
   "version": "3.9.13"
  }
 },
 "nbformat": 4,
 "nbformat_minor": 5
}
