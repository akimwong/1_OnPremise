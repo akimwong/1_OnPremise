{
 "cells": [
  {
   "cell_type": "markdown",
   "id": "0bbfa6f4",
   "metadata": {},
   "source": [
    "## 05_AtlasComprobacionDescargas\n",
    "Autor: Carlos Wong <br/>\n",
    "email: carlosawongca@gmail.com <br/>\n",
    "Fecha: 2023_04_19 <br/>\n",
    "Objetivo: Comprobación trazados faltantes <br/>\n",
    "Entrada: 'content.xlsx' <br/>\n",
    "Salida: - <br/>\n",
    "Propósito: Prueba edición automática de emails <br/>"
   ]
  },
  {
   "cell_type": "code",
   "execution_count": 1,
   "id": "7089da0b",
   "metadata": {},
   "outputs": [],
   "source": [
    "import pandas as pd\n",
    "import openpyxl"
   ]
  },
  {
   "cell_type": "code",
   "execution_count": 1,
   "id": "f14d0fa9",
   "metadata": {},
   "outputs": [],
   "source": [
    "# Ruta del archivo Excel\n",
    "ruta_archivo = r'\\trazados_STa.xlsx'\n",
    "\n",
    "# Leer el archivo Excel y crear un diccionario vacío para almacenar los dataframes de cada hoja\n",
    "dataframes_por_hoja = {}\n",
    "excel_file = pd.ExcelFile(ruta_archivo)\n",
    "for nombre_hoja in excel_file.sheet_names:\n",
    "    # Leer la hoja y seleccionar las columnas a partir de la tercera columna\n",
    "    hoja = pd.read_excel(ruta_archivo, sheet_name=nombre_hoja, header=1)\n",
    "    if 'Codificación Común' not in hoja.columns:\n",
    "        continue  # Saltar esta hoja si no existe la columna 'Codificación Común'\n",
    "    hoja = hoja.iloc[:, 2:]\n",
    "    \n",
    "    # Eliminar filas con valores nulos\n",
    "    hoja = hoja.dropna(subset=['Codificación Común'])\n",
    "    \n",
    "    # Agregar el dataframe a nuestro diccionario con el nombre de la hoja como clave\n",
    "    dataframes_por_hoja[nombre_hoja] = hoja\n",
    "\n",
    "# Crear el dataframe df_descargado con las claves de las hojas descargadas\n",
    "trazados_descargados = pd.DataFrame(list(dataframes_por_hoja.keys()), columns=['Claves'])\n",
    "\n",
    "# Leer el archivo Excel 'Seguimiento_CCVV_HUAWEI_S.TA_RI.xlsx'\n",
    "df = pd.read_excel(r'\\Seguimiento_CCVV_HUAWEI_S.TA_RI.xlsx', header=1, sheet_name='RI_FO')\n",
    "\n",
    "# Filtrar las filas de la columna 'ADMINISTRATIVO' que cumplen cierta condición\n",
    "admin_list_filtered_str = [str(i) for i in df.loc[df['ADMINISTRATIVO'].isin(df['ADMINISTRATIVO'].dropna().tolist()) & df['TipoDeCorte'].str.contains('Corte en caliente', na=False), 'ADMINISTRATIVO'].tolist()]\n",
    "\n",
    "# Crear el dataframe df_total con las claves filtradas\n",
    "df_total = pd.DataFrame(admin_list_filtered_str, columns=['Claves'])\n",
    "\n",
    "# Obtener las claves faltantes\n",
    "faltantes = set(admin_list_filtered_str) - set(trazados_descargados['Claves'].tolist())\n",
    "\n",
    "# Convertir las claves faltantes a una lista y crear el dataframe df_faltantes con ellas\n",
    "df_faltantes = pd.DataFrame({'Faltantes': list(faltantes)})\n",
    "\n",
    "# Guardar el dataframe df_faltantes como un archivo de Excel\n",
    "df_faltantes.to_excel(r'\\trazados_STa_faltantes.xlsx', index=False)\n"
   ]
  },
  {
   "cell_type": "code",
   "execution_count": null,
   "id": "1fbcd580",
   "metadata": {},
   "outputs": [],
   "source": []
  }
 ],
 "metadata": {
  "kernelspec": {
   "display_name": "Python 3 (ipykernel)",
   "language": "python",
   "name": "python3"
  },
  "language_info": {
   "codemirror_mode": {
    "name": "ipython",
    "version": 3
   },
   "file_extension": ".py",
   "mimetype": "text/x-python",
   "name": "python",
   "nbconvert_exporter": "python",
   "pygments_lexer": "ipython3",
   "version": "3.9.13"
  }
 },
 "nbformat": 4,
 "nbformat_minor": 5
}
