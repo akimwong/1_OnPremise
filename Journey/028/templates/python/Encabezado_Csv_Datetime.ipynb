{
 "cells": [
  {
   "cell_type": "markdown",
   "metadata": {},
   "source": [
    "# Encabezado_Csv_Datetime\n",
    "\n",
    "Autor: Carlos Wong <br/>\n",
    "email: carlosawongca@gmail.com <br/>\n",
    "Fecha: 2023_MM_DD <br/>\n",
    "Objetivo: Interfaz adaptación formato SPSS para visualización con TABLEAU <br/>\n",
    "Entrada: '17-201 - VIAJES  (SPSS)v.2.xlsx' <br/>\n",
    "Salida: VIAJES_TB_202303.xlsx <br/>\n",
    "Propósito: Adaptación formato SPSS/EXCEL > PYTHON > EXCEL > TABLEAU <br/>"
   ]
  },
  {
   "cell_type": "code",
   "execution_count": 7,
   "metadata": {},
   "outputs": [],
   "source": [
    "# librerías estándar\n",
    "import pandas as pd\n",
    "import numpy as np\n",
    "import matplotlib.pyplot as plt\n",
    "import seaborn as sns\n",
    "from datetime import datetime"
   ]
  },
  {
   "cell_type": "code",
   "execution_count": 8,
   "metadata": {},
   "outputs": [],
   "source": [
    "import warnings\n",
    "warnings.filterwarnings(\"ignore\")"
   ]
  },
  {
   "cell_type": "code",
   "execution_count": 9,
   "metadata": {},
   "outputs": [
    {
     "data": {
      "text/html": [
       "<div>\n",
       "<style scoped>\n",
       "    .dataframe tbody tr th:only-of-type {\n",
       "        vertical-align: middle;\n",
       "    }\n",
       "\n",
       "    .dataframe tbody tr th {\n",
       "        vertical-align: top;\n",
       "    }\n",
       "\n",
       "    .dataframe thead th {\n",
       "        text-align: right;\n",
       "    }\n",
       "</style>\n",
       "<table border=\"1\" class=\"dataframe\">\n",
       "  <thead>\n",
       "    <tr style=\"text-align: right;\">\n",
       "      <th></th>\n",
       "      <th>prompt</th>\n",
       "      <th>completion</th>\n",
       "    </tr>\n",
       "  </thead>\n",
       "  <tbody>\n",
       "    <tr>\n",
       "      <th>0</th>\n",
       "      <td>Where is the billing -&gt;</td>\n",
       "      <td>You find the billing in the left-hand side me...</td>\n",
       "    </tr>\n",
       "    <tr>\n",
       "      <th>1</th>\n",
       "      <td>How do I upgrade my account -&gt;</td>\n",
       "      <td>Visit you user settings in the left-hand side...</td>\n",
       "    </tr>\n",
       "  </tbody>\n",
       "</table>\n",
       "</div>"
      ],
      "text/plain": [
       "                           prompt  \\\n",
       "0         Where is the billing ->   \n",
       "1  How do I upgrade my account ->   \n",
       "\n",
       "                                          completion  \n",
       "0   You find the billing in the left-hand side me...  \n",
       "1   Visit you user settings in the left-hand side...  "
      ]
     },
     "execution_count": 9,
     "metadata": {},
     "output_type": "execute_result"
    }
   ],
   "source": [
    "df = pd.DataFrame([{\n",
    "    \"prompt\": \"Where is the billing ->\",\n",
    "    \"completion\": \" You find the billing in the left-hand side menu.\\n\"\n",
    "},{\n",
    "    \"prompt\":\"How do I upgrade my account ->\",\n",
    "    \"completion\": \" Visit you user settings in the left-hand side menu, then click 'upgrade account' button at the top.\\n\"\n",
    "}])\n",
    "df"
   ]
  },
  {
   "cell_type": "code",
   "execution_count": 10,
   "metadata": {},
   "outputs": [],
   "source": [
    "df.to_csv(f'./dataset/prompt_{format(pd.datetime.now().strftime(\"%Y%m%d-%H%M\"))}.csv', index=False)"
   ]
  },
  {
   "cell_type": "code",
   "execution_count": null,
   "metadata": {},
   "outputs": [],
   "source": []
  }
 ],
 "metadata": {
  "kernelspec": {
   "display_name": "Python 3",
   "language": "python",
   "name": "python3"
  },
  "language_info": {
   "codemirror_mode": {
    "name": "ipython",
    "version": 3
   },
   "file_extension": ".py",
   "mimetype": "text/x-python",
   "name": "python",
   "nbconvert_exporter": "python",
   "pygments_lexer": "ipython3",
   "version": "3.8.5"
  }
 },
 "nbformat": 4,
 "nbformat_minor": 4
}
