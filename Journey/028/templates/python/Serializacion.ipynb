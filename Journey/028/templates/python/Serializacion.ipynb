{
 "cells": [
  {
   "cell_type": "markdown",
   "metadata": {},
   "source": [
    "# Serialización\n",
    "La serialización es el proceso de convertir un objeto en una secuencia de bytes para almacenarlo o transmitirlo a la memoria, a una base de datos o a un archivo. Su propósito principal es guardar el estado de un objeto para poder volver a crearlo cuando sea necesario. El proceso inverso se denomina deserialización."
   ]
  },
  {
   "cell_type": "code",
   "execution_count": 172,
   "metadata": {},
   "outputs": [],
   "source": [
    "import pickle"
   ]
  },
  {
   "cell_type": "markdown",
   "metadata": {},
   "source": [
    "### Creación y carga de información en el fichero binario (pickle.dump)"
   ]
  },
  {
   "cell_type": "code",
   "execution_count": 173,
   "metadata": {},
   "outputs": [],
   "source": [
    "# Creación de lista\n",
    "lista = ['Pedro','Ana','María','Isabel']"
   ]
  },
  {
   "cell_type": "code",
   "execution_count": 174,
   "metadata": {},
   "outputs": [],
   "source": [
    "# Creación de fichero externo / wb: write binary\n",
    "fichero_binario = open('lista','wb')"
   ]
  },
  {
   "cell_type": "code",
   "execution_count": 175,
   "metadata": {},
   "outputs": [],
   "source": [
    "# volcado de información\n",
    "# dump: método / lista: arg1 / fichero_binario: arg2\n",
    "pickle.dump(lista,fichero_binario)"
   ]
  },
  {
   "cell_type": "code",
   "execution_count": 176,
   "metadata": {},
   "outputs": [],
   "source": [
    "# cerrado de fichero binario\n",
    "fichero_binario.close()"
   ]
  },
  {
   "cell_type": "code",
   "execution_count": 177,
   "metadata": {},
   "outputs": [],
   "source": [
    "# borrado de fichero de la memoria del pc\n",
    "del(fichero_binario)"
   ]
  },
  {
   "cell_type": "markdown",
   "metadata": {},
   "source": [
    "### Lectura de fichero binario (pickle.load)"
   ]
  },
  {
   "cell_type": "code",
   "execution_count": 178,
   "metadata": {},
   "outputs": [],
   "source": [
    "# Apertura de fichero binario / rb: read binary\n",
    "fichero = open('lista','rb')"
   ]
  },
  {
   "cell_type": "code",
   "execution_count": 179,
   "metadata": {},
   "outputs": [
    {
     "name": "stdout",
     "output_type": "stream",
     "text": [
      "['Pedro', 'Ana', 'María', 'Isabel']\n"
     ]
    }
   ],
   "source": [
    "# Asignación de datos a una variable\n",
    "lista = pickle.load(fichero)\n",
    "print(lista)"
   ]
  },
  {
   "cell_type": "markdown",
   "metadata": {},
   "source": [
    "# Serialización de Objetos"
   ]
  },
  {
   "cell_type": "code",
   "execution_count": 180,
   "metadata": {},
   "outputs": [],
   "source": [
    "import pickle"
   ]
  },
  {
   "cell_type": "code",
   "execution_count": 181,
   "metadata": {},
   "outputs": [],
   "source": [
    "class Vehiculos():\n",
    "    def __init__(self,marca,modelo):\n",
    "        self.marca = marca\n",
    "        self.modelo = modelo\n",
    "        self.enMarcha = False\n",
    "        self.acelera = False\n",
    "        self.frena = False\n",
    "    \n",
    "    def arrancar(self):\n",
    "        self.enMarcha = True\n",
    "    \n",
    "    def acelerar(self):\n",
    "        self.acelera = True\n",
    "        \n",
    "    def frenar(self):\n",
    "        self.frena = True\n",
    "        \n",
    "    def estado(self):\n",
    "        print(f\"Marca:{self.marca} \\nModelo:{self.modelo} \\nEn Marcha:{self.enMarcha} \\nAcelera:{self.acelera} \\nFrena:{self.frena}\")"
   ]
  },
  {
   "cell_type": "code",
   "execution_count": 182,
   "metadata": {},
   "outputs": [],
   "source": [
    "class Moto(Vehiculos):\n",
    "    pass"
   ]
  },
  {
   "cell_type": "code",
   "execution_count": 183,
   "metadata": {},
   "outputs": [
    {
     "name": "stdout",
     "output_type": "stream",
     "text": [
      "Marca:Honda \n",
      "Modelo:CBR \n",
      "En Marcha:False \n",
      "Acelera:False \n",
      "Frena:False\n"
     ]
    }
   ],
   "source": [
    "miMoto = Moto('Honda','CBR')\n",
    "miMoto.estado()"
   ]
  },
  {
   "cell_type": "code",
   "execution_count": 184,
   "metadata": {},
   "outputs": [],
   "source": [
    "coche1 = Vehiculos('Mazda','MX5')\n",
    "coche2 = Vehiculos('Seat','León')\n",
    "coche3 = Vehiculos('Renault','Megane')"
   ]
  },
  {
   "cell_type": "code",
   "execution_count": 185,
   "metadata": {},
   "outputs": [],
   "source": [
    "coches = [coche1,coche2,coche3]"
   ]
  },
  {
   "cell_type": "code",
   "execution_count": 186,
   "metadata": {},
   "outputs": [
    {
     "data": {
      "text/plain": [
       "[<__main__.Vehiculos at 0x21bb243a190>,\n",
       " <__main__.Vehiculos at 0x21bb243a790>,\n",
       " <__main__.Vehiculos at 0x21bb243a490>]"
      ]
     },
     "execution_count": 186,
     "metadata": {},
     "output_type": "execute_result"
    }
   ],
   "source": [
    "coches"
   ]
  },
  {
   "cell_type": "code",
   "execution_count": 205,
   "metadata": {},
   "outputs": [
    {
     "name": "stdout",
     "output_type": "stream",
     "text": [
      "Marca:Mazda \n",
      "Modelo:MX5 \n",
      "En Marcha:False \n",
      "Acelera:False \n",
      "Frena:False\n",
      "None\n"
     ]
    }
   ],
   "source": [
    "print(coches[0].estado())"
   ]
  },
  {
   "cell_type": "markdown",
   "metadata": {},
   "source": [
    "## Carga de objeto binario"
   ]
  },
  {
   "cell_type": "code",
   "execution_count": 187,
   "metadata": {},
   "outputs": [],
   "source": [
    "ficheroCoche = open('LosCoches', 'wb')  # apertura de fichero binario / wb: write binary"
   ]
  },
  {
   "cell_type": "code",
   "execution_count": 188,
   "metadata": {},
   "outputs": [],
   "source": [
    "pickle.dump(coches,ficheroCoche)        # carga de info de lista en fichero binario"
   ]
  },
  {
   "cell_type": "code",
   "execution_count": 189,
   "metadata": {},
   "outputs": [],
   "source": [
    "ficheroCoche.close()                    # cierre de objeto binario, para liberar la memoria"
   ]
  },
  {
   "cell_type": "markdown",
   "metadata": {},
   "source": [
    "## Lectura de objeto binario"
   ]
  },
  {
   "cell_type": "code",
   "execution_count": 190,
   "metadata": {},
   "outputs": [],
   "source": [
    "ficheroApertura = open('LosCoches','rb')"
   ]
  },
  {
   "cell_type": "code",
   "execution_count": 191,
   "metadata": {},
   "outputs": [],
   "source": [
    "misCoches = pickle.load(ficheroApertura)"
   ]
  },
  {
   "cell_type": "code",
   "execution_count": 192,
   "metadata": {},
   "outputs": [],
   "source": [
    "ficheroApertura.close()"
   ]
  },
  {
   "cell_type": "code",
   "execution_count": 193,
   "metadata": {},
   "outputs": [
    {
     "data": {
      "text/plain": [
       "[<__main__.Vehiculos at 0x21bb23148e0>,\n",
       " <__main__.Vehiculos at 0x21bb2310dc0>,\n",
       " <__main__.Vehiculos at 0x21bb2452f70>]"
      ]
     },
     "execution_count": 193,
     "metadata": {},
     "output_type": "execute_result"
    }
   ],
   "source": [
    "misCoches"
   ]
  },
  {
   "cell_type": "code",
   "execution_count": 194,
   "metadata": {},
   "outputs": [
    {
     "name": "stdout",
     "output_type": "stream",
     "text": [
      "Marca:Mazda \n",
      "Modelo:MX5 \n",
      "En Marcha:False \n",
      "Acelera:False \n",
      "Frena:False\n",
      "None\n",
      "Marca:Seat \n",
      "Modelo:León \n",
      "En Marcha:False \n",
      "Acelera:False \n",
      "Frena:False\n",
      "None\n",
      "Marca:Renault \n",
      "Modelo:Megane \n",
      "En Marcha:False \n",
      "Acelera:False \n",
      "Frena:False\n",
      "None\n"
     ]
    }
   ],
   "source": [
    "for x in misCoches:\n",
    "    print(x.estado())"
   ]
  },
  {
   "cell_type": "code",
   "execution_count": null,
   "metadata": {},
   "outputs": [],
   "source": []
  }
 ],
 "metadata": {
  "kernelspec": {
   "display_name": "Python 3",
   "language": "python",
   "name": "python3"
  },
  "language_info": {
   "codemirror_mode": {
    "name": "ipython",
    "version": 3
   },
   "file_extension": ".py",
   "mimetype": "text/x-python",
   "name": "python",
   "nbconvert_exporter": "python",
   "pygments_lexer": "ipython3",
   "version": "3.8.5"
  }
 },
 "nbformat": 4,
 "nbformat_minor": 4
}
