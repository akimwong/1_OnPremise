{
 "cells": [
  {
   "cell_type": "markdown",
   "metadata": {},
   "source": [
    "# 02_MasterBDMl_modelo1_regression_comparacion_modelos\n",
    "Autor: Carlos Wong <br/>\n",
    "Fecha: 2022_04_15 <br/>\n",
    "Tipo de problema: `REGRESIÓN` <br/>\n",
    "Entradas: `dataset: Boston_housing` <br/>\n",
    "Salidas: -  <br/>\n",
    "Propósito: Descarga, entrenamiento, predicción y documentación con `SKLEARN` <br/>\n",
    "1. `Librerías + Descarga de datos <-------- `\n",
    "2. Exploración de la variable objetivo\n",
    "3. EDA\n",
    "4. Feature Engineering\n",
    "5. `Modelos (pipeline, semilla en train_test split y modelos, comparación modelos) <-------- `\n",
    "6. Guardado del modelo"
   ]
  },
  {
   "cell_type": "markdown",
   "metadata": {},
   "source": [
    "# 1. Librerías + Descarga de datos"
   ]
  },
  {
   "cell_type": "code",
   "execution_count": 33,
   "metadata": {},
   "outputs": [],
   "source": [
    "# librerías estándar\n",
    "import pandas as pd\n",
    "import numpy as np\n",
    "import matplotlib.pyplot as plt\n",
    "import seaborn as sns\n",
    "\n",
    "sns.set_style('darkgrid')\n",
    "np.set_printoptions(precision=2)"
   ]
  },
  {
   "cell_type": "code",
   "execution_count": 34,
   "metadata": {},
   "outputs": [],
   "source": [
    "import warnings\n",
    "warnings.filterwarnings(\"ignore\")"
   ]
  },
  {
   "cell_type": "code",
   "execution_count": 35,
   "metadata": {},
   "outputs": [],
   "source": [
    "# librerías de modelos\n",
    "import sklearn\n",
    "from sklearn.model_selection import train_test_split\n",
    "from sklearn.preprocessing import MinMaxScaler, StandardScaler, Normalizer, Binarizer\n",
    "from sklearn.pipeline import Pipeline, make_pipeline"
   ]
  },
  {
   "cell_type": "code",
   "execution_count": 36,
   "metadata": {},
   "outputs": [],
   "source": [
    "# algoritmos ML (para regresión, en lugar de 'Classifier' se usa 'Regressor')\n",
    "from sklearn.linear_model import LinearRegression, Lasso   # <----------\n",
    "from sklearn.ensemble import RandomForestRegressor   # <----------\n",
    "from sklearn.neighbors import KNeighborsRegressor   # <----------\n",
    "from sklearn.tree import DecisionTreeRegressor   # <----------"
   ]
  },
  {
   "cell_type": "markdown",
   "metadata": {},
   "source": [
    "# 5. Modelo"
   ]
  },
  {
   "cell_type": "code",
   "execution_count": 37,
   "metadata": {},
   "outputs": [],
   "source": [
    "column_names = ['CRIM', 'ZN', 'INDUS', 'CHAS', 'NOX', 'RM', 'AGE', 'DIS', 'RAD', 'TAX', 'PTRATIO', 'B', 'LSTAT', 'MEDV']\n",
    "data = pd.read_csv(r'.\\datasets\\housing.xls', header=None, delimiter=r\"\\s+\", names=column_names)\n",
    "features = data.drop('MEDV', axis=1)\n",
    "target = data.MEDV"
   ]
  },
  {
   "cell_type": "code",
   "execution_count": 38,
   "metadata": {},
   "outputs": [],
   "source": [
    "# Se marca semilla en train_test split\n",
    "X_train, X_test, y_train, y_test = train_test_split(features, target, random_state = 99)"
   ]
  },
  {
   "cell_type": "code",
   "execution_count": 43,
   "metadata": {},
   "outputs": [],
   "source": [
    "# se aplica random_state a los algoritmos que permiten hacerlo\n",
    "models = []\n",
    "models.append(('LinR', LinearRegression()))\n",
    "models.append(('Lasso', Lasso(random_state=99)))\n",
    "models.append(('RFC', RandomForestRegressor(random_state=99)))\n",
    "models.append(('KNN', KNeighborsRegressor()))\n",
    "models.append(('DTC', DecisionTreeRegressor(random_state=99)))"
   ]
  },
  {
   "cell_type": "code",
   "execution_count": 42,
   "metadata": {},
   "outputs": [
    {
     "name": "stdout",
     "output_type": "stream",
     "text": [
      "LinR : 0.6870941763007908\n",
      "Lasso : 0.619478531397323\n",
      "RFC : 0.8271544903687111\n",
      "KNN : 0.5400853501798366\n",
      "DTC : 0.7584720193430161\n"
     ]
    }
   ],
   "source": [
    "for name,model in models:\n",
    "    model.fit(X_train,y_train)\n",
    "    score = model.score(X_test, y_test)\n",
    "    print (name,':', (score))"
   ]
  },
  {
   "cell_type": "markdown",
   "metadata": {},
   "source": [
    "Inicialmente se 'descarta':\n",
    "- KNN\n",
    "- Lasso"
   ]
  }
 ],
 "metadata": {
  "kernelspec": {
   "display_name": "Python 3",
   "language": "python",
   "name": "python3"
  },
  "language_info": {
   "codemirror_mode": {
    "name": "ipython",
    "version": 3
   },
   "file_extension": ".py",
   "mimetype": "text/x-python",
   "name": "python",
   "nbconvert_exporter": "python",
   "pygments_lexer": "ipython3",
   "version": "3.8.5"
  }
 },
 "nbformat": 4,
 "nbformat_minor": 4
}
