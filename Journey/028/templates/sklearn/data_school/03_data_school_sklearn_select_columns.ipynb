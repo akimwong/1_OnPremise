{
 "cells": [
  {
   "cell_type": "markdown",
   "metadata": {},
   "source": [
    "# 03_data_school_sklearn_select_columns"
   ]
  },
  {
   "cell_type": "markdown",
   "metadata": {},
   "source": [
    "1. column name\n",
    "2. integer position\n",
    "3. slice\n",
    "4. boolean mask\n",
    "5. regex pattern\n",
    "6. dtypes to include\n",
    "7. dtypes to exclude"
   ]
  },
  {
   "cell_type": "code",
   "execution_count": 1,
   "metadata": {},
   "outputs": [],
   "source": [
    "import pandas as pd\n",
    "import numpy as np\n",
    "import matplotlib.pyplot as plt\n",
    "import seaborn as sns\n",
    "from sklearn.preprocessing import OneHotEncoder\n",
    "from sklearn.compose import make_column_transformer, ColumnTransformer, make_column_selector\n",
    "from sklearn.impute import SimpleImputer, KNNImputer"
   ]
  },
  {
   "cell_type": "code",
   "execution_count": 28,
   "metadata": {},
   "outputs": [
    {
     "name": "stdout",
     "output_type": "stream",
     "text": [
      "['Sex', 'Age', 'Fare', 'Embarked']\n"
     ]
    }
   ],
   "source": [
    "train = pd.read_csv(r'./dataset/train.csv', sep=';')\n",
    "X = train.drop(['PassengerId','Survived','Pclass', 'Name', 'Ticket', 'SibSp', 'Parch', 'Ticket', 'Cabin'], axis=1)\n",
    "X = X.iloc[5:10]\n",
    "print(X.columns.tolist())"
   ]
  },
  {
   "cell_type": "code",
   "execution_count": 29,
   "metadata": {},
   "outputs": [
    {
     "data": {
      "text/html": [
       "<div>\n",
       "<style scoped>\n",
       "    .dataframe tbody tr th:only-of-type {\n",
       "        vertical-align: middle;\n",
       "    }\n",
       "\n",
       "    .dataframe tbody tr th {\n",
       "        vertical-align: top;\n",
       "    }\n",
       "\n",
       "    .dataframe thead th {\n",
       "        text-align: right;\n",
       "    }\n",
       "</style>\n",
       "<table border=\"1\" class=\"dataframe\">\n",
       "  <thead>\n",
       "    <tr style=\"text-align: right;\">\n",
       "      <th></th>\n",
       "      <th>Fare</th>\n",
       "      <th>Embarked</th>\n",
       "      <th>Sex</th>\n",
       "      <th>Age</th>\n",
       "    </tr>\n",
       "  </thead>\n",
       "  <tbody>\n",
       "    <tr>\n",
       "      <th>5</th>\n",
       "      <td>8.4583</td>\n",
       "      <td>Q</td>\n",
       "      <td>male</td>\n",
       "      <td>NaN</td>\n",
       "    </tr>\n",
       "    <tr>\n",
       "      <th>6</th>\n",
       "      <td>51.8625</td>\n",
       "      <td>S</td>\n",
       "      <td>male</td>\n",
       "      <td>54.0</td>\n",
       "    </tr>\n",
       "    <tr>\n",
       "      <th>7</th>\n",
       "      <td>21.0750</td>\n",
       "      <td>S</td>\n",
       "      <td>male</td>\n",
       "      <td>2.0</td>\n",
       "    </tr>\n",
       "    <tr>\n",
       "      <th>8</th>\n",
       "      <td>11.1333</td>\n",
       "      <td>S</td>\n",
       "      <td>female</td>\n",
       "      <td>27.0</td>\n",
       "    </tr>\n",
       "    <tr>\n",
       "      <th>9</th>\n",
       "      <td>30.0708</td>\n",
       "      <td>C</td>\n",
       "      <td>female</td>\n",
       "      <td>14.0</td>\n",
       "    </tr>\n",
       "  </tbody>\n",
       "</table>\n",
       "</div>"
      ],
      "text/plain": [
       "      Fare Embarked     Sex   Age\n",
       "5   8.4583        Q    male   NaN\n",
       "6  51.8625        S    male  54.0\n",
       "7  21.0750        S    male   2.0\n",
       "8  11.1333        S  female  27.0\n",
       "9  30.0708        C  female  14.0"
      ]
     },
     "execution_count": 29,
     "metadata": {},
     "output_type": "execute_result"
    }
   ],
   "source": [
    "X = X[['Fare', 'Embarked', 'Sex', 'Age']] #.reset_index(inplace=True)\n",
    "X"
   ]
  },
  {
   "cell_type": "code",
   "execution_count": 30,
   "metadata": {},
   "outputs": [
    {
     "data": {
      "text/plain": [
       "array([[0., 1., 0., 0., 1.],\n",
       "       [0., 0., 1., 0., 1.],\n",
       "       [0., 0., 1., 0., 1.],\n",
       "       [0., 0., 1., 1., 0.],\n",
       "       [1., 0., 0., 1., 0.]])"
      ]
     },
     "execution_count": 30,
     "metadata": {},
     "output_type": "execute_result"
    }
   ],
   "source": [
    "a = make_column_transformer((OneHotEncoder(),['Embarked','Sex']))\n",
    "a.fit_transform(X)"
   ]
  },
  {
   "cell_type": "code",
   "execution_count": 31,
   "metadata": {},
   "outputs": [
    {
     "name": "stdout",
     "output_type": "stream",
     "text": [
      "<class 'pandas.core.frame.DataFrame'>\n",
      "RangeIndex: 5 entries, 5 to 9\n",
      "Data columns (total 4 columns):\n",
      " #   Column    Non-Null Count  Dtype  \n",
      "---  ------    --------------  -----  \n",
      " 0   Fare      5 non-null      float64\n",
      " 1   Embarked  5 non-null      object \n",
      " 2   Sex       5 non-null      object \n",
      " 3   Age       4 non-null      float64\n",
      "dtypes: float64(2), object(2)\n",
      "memory usage: 292.0+ bytes\n"
     ]
    }
   ],
   "source": [
    "X.info()"
   ]
  },
  {
   "cell_type": "code",
   "execution_count": 32,
   "metadata": {},
   "outputs": [],
   "source": [
    "selectcolumn = [['Embarked','Sex'],\n",
    "                [1,2],  # columnas 1 y 2\n",
    "                slice(1,3), # columnas 1:'Embarked' hasta 2:'Sex' (Python cuenta desde 0 hasta n-1 )\n",
    "                [False,True,True,False],  # boolean \n",
    "                make_column_selector(pattern='E|S'),  # nombres de columnas que contengan 'E' o 'S'\n",
    "                make_column_selector(dtype_include = object),  # columnas tipo objeto\n",
    "                make_column_selector(dtype_exclude = 'number')]  # columnas numéricas"
   ]
  },
  {
   "cell_type": "code",
   "execution_count": 33,
   "metadata": {},
   "outputs": [
    {
     "name": "stdout",
     "output_type": "stream",
     "text": [
      "[[0. 1. 0. 0. 1.]\n",
      " [0. 0. 1. 0. 1.]\n",
      " [0. 0. 1. 0. 1.]\n",
      " [0. 0. 1. 1. 0.]\n",
      " [1. 0. 0. 1. 0.]]\n",
      "-----------\n",
      "[[0. 1. 0. 0. 1.]\n",
      " [0. 0. 1. 0. 1.]\n",
      " [0. 0. 1. 0. 1.]\n",
      " [0. 0. 1. 1. 0.]\n",
      " [1. 0. 0. 1. 0.]]\n",
      "-----------\n",
      "[[0. 1. 0. 0. 1.]\n",
      " [0. 0. 1. 0. 1.]\n",
      " [0. 0. 1. 0. 1.]\n",
      " [0. 0. 1. 1. 0.]\n",
      " [1. 0. 0. 1. 0.]]\n",
      "-----------\n",
      "[[0. 1. 0. 0. 1.]\n",
      " [0. 0. 1. 0. 1.]\n",
      " [0. 0. 1. 0. 1.]\n",
      " [0. 0. 1. 1. 0.]\n",
      " [1. 0. 0. 1. 0.]]\n",
      "-----------\n",
      "[[0. 1. 0. 0. 1.]\n",
      " [0. 0. 1. 0. 1.]\n",
      " [0. 0. 1. 0. 1.]\n",
      " [0. 0. 1. 1. 0.]\n",
      " [1. 0. 0. 1. 0.]]\n",
      "-----------\n",
      "[[0. 1. 0. 0. 1.]\n",
      " [0. 0. 1. 0. 1.]\n",
      " [0. 0. 1. 0. 1.]\n",
      " [0. 0. 1. 1. 0.]\n",
      " [1. 0. 0. 1. 0.]]\n",
      "-----------\n",
      "[[0. 1. 0. 0. 1.]\n",
      " [0. 0. 1. 0. 1.]\n",
      " [0. 0. 1. 0. 1.]\n",
      " [0. 0. 1. 1. 0.]\n",
      " [1. 0. 0. 1. 0.]]\n",
      "-----------\n"
     ]
    }
   ],
   "source": [
    "for i in selectcolumn:\n",
    "    ct = make_column_transformer((OneHotEncoder(), i))\n",
    "    print(ct.fit_transform(X))\n",
    "    print('-----------')"
   ]
  },
  {
   "cell_type": "code",
   "execution_count": null,
   "metadata": {},
   "outputs": [],
   "source": []
  }
 ],
 "metadata": {
  "kernelspec": {
   "display_name": "Python 3",
   "language": "python",
   "name": "python3"
  },
  "language_info": {
   "codemirror_mode": {
    "name": "ipython",
    "version": 3
   },
   "file_extension": ".py",
   "mimetype": "text/x-python",
   "name": "python",
   "nbconvert_exporter": "python",
   "pygments_lexer": "ipython3",
   "version": "3.8.5"
  }
 },
 "nbformat": 4,
 "nbformat_minor": 4
}
