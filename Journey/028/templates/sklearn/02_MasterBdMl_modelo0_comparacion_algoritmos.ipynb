{
 "cells": [
  {
   "cell_type": "markdown",
   "metadata": {},
   "source": [
    "# 02_MasterBDMl_modelo0_comparacion_algoritmos\n",
    "Autor: Carlos Wong <br/>\n",
    "Fecha: 2022_04_15 <br/>\n",
    "Tipo de problema: `CLASIFICACIÓN` <br/>\n",
    "Entradas: `dataset: digits` <br/>\n",
    "Salidas: -  <br/>\n",
    "Propósito: Descarga, entrenamiento, predicción y documentación con `SKLEARN` <br/>\n",
    "1. `Librerías + Descarga de datos <-------- `\n",
    "2. Exploración de la variable objetivo\n",
    "3. EDA\n",
    "4. Feature Engineering\n",
    "5. `Modelos (pipeline, prueba de semilla en train_test split) <-------- `\n",
    "6. Guardado del modelo"
   ]
  },
  {
   "cell_type": "markdown",
   "metadata": {},
   "source": [
    "# 1. Librerías + Descarga de datos"
   ]
  },
  {
   "cell_type": "code",
   "execution_count": 1,
   "metadata": {},
   "outputs": [],
   "source": [
    "# librerías estándar\n",
    "import pandas as pd\n",
    "import numpy as np\n",
    "import matplotlib.pyplot as plt\n",
    "import seaborn as sns\n",
    "\n",
    "sns.set_style('darkgrid')\n",
    "np.set_printoptions(precision=2)"
   ]
  },
  {
   "cell_type": "code",
   "execution_count": 2,
   "metadata": {},
   "outputs": [],
   "source": [
    "import warnings\n",
    "warnings.filterwarnings(\"ignore\")"
   ]
  },
  {
   "cell_type": "code",
   "execution_count": 3,
   "metadata": {},
   "outputs": [],
   "source": [
    "# librerías de modelos\n",
    "import sklearn\n",
    "from sklearn.model_selection import train_test_split\n",
    "from sklearn.preprocessing import MinMaxScaler, StandardScaler, Normalizer, Binarizer\n",
    "from sklearn.pipeline import Pipeline, make_pipeline"
   ]
  },
  {
   "cell_type": "code",
   "execution_count": 4,
   "metadata": {},
   "outputs": [],
   "source": [
    "# algoritmos ML\n",
    "from sklearn.linear_model import LogisticRegression   # <----------\n",
    "from sklearn.ensemble import ExtraTreesClassifier   # <----------\n",
    "from sklearn.tree import DecisionTreeClassifier   # <----------\n",
    "from sklearn.neighbors import KNeighborsClassifier   # <----------\n",
    "from sklearn.discriminant_analysis import LinearDiscriminantAnalysis   # <----------\n",
    "from sklearn.naive_bayes import GaussianNB   # <----------\n",
    "from sklearn.ensemble import RandomForestClassifier   # <----------\n",
    "from sklearn.svm import SVC   # <----------"
   ]
  },
  {
   "cell_type": "code",
   "execution_count": 5,
   "metadata": {},
   "outputs": [],
   "source": [
    "# dataset\n",
    "from sklearn.datasets import load_digits"
   ]
  },
  {
   "cell_type": "markdown",
   "metadata": {},
   "source": [
    "# 5. Modelo"
   ]
  },
  {
   "cell_type": "code",
   "execution_count": 6,
   "metadata": {},
   "outputs": [],
   "source": [
    "digits = load_digits(as_frame=True)\n",
    "features = digits.data\n",
    "target = digits.target\n",
    "X_train, X_test, y_train, y_test = train_test_split(features, target)"
   ]
  },
  {
   "cell_type": "code",
   "execution_count": 7,
   "metadata": {},
   "outputs": [],
   "source": [
    "models = []\n",
    "models.append(('LR', LogisticRegression()))\n",
    "models.append(('LDA', LinearDiscriminantAnalysis()))\n",
    "models.append(('KNN', KNeighborsClassifier()))\n",
    "models.append(('DTC', DecisionTreeClassifier()))\n",
    "models.append(('NB', GaussianNB()))\n",
    "models.append(('RFC', RandomForestClassifier()))\n",
    "models.append(('SVM', SVC()))"
   ]
  },
  {
   "cell_type": "code",
   "execution_count": 13,
   "metadata": {},
   "outputs": [
    {
     "name": "stdout",
     "output_type": "stream",
     "text": [
      "LR : 0.9611111111111111\n",
      "LDA : 0.9583333333333334\n",
      "KNN : 0.9861111111111112\n",
      "DTC : 0.8277777777777777\n",
      "NB : 0.8416666666666667\n",
      "RFC : 0.9666666666666667\n",
      "SVM : 0.975\n"
     ]
    }
   ],
   "source": [
    "# Esta exploración de modelos rápida sirve principalmente para DESCARTAR los primeros modelos que responden PEOR\n",
    "# al entrenamiento.  En éste caso Decission Tree (DTC) y Naive Bayes (NV)\n",
    "# Una vez se decide qué modelos son mejores se puede empezar con la PARAMETRIZACIÓN\n",
    "# A tener en cuenta que hay modelos que permiten establecer una SEMILLA para estabilizar el resultado\n",
    "for name,model in models:\n",
    "    model.fit(X_train,y_train)\n",
    "    score = model.score(X_test, y_test)\n",
    "    print (name,':', (score))"
   ]
  }
 ],
 "metadata": {
  "kernelspec": {
   "display_name": "Python 3",
   "language": "python",
   "name": "python3"
  },
  "language_info": {
   "codemirror_mode": {
    "name": "ipython",
    "version": 3
   },
   "file_extension": ".py",
   "mimetype": "text/x-python",
   "name": "python",
   "nbconvert_exporter": "python",
   "pygments_lexer": "ipython3",
   "version": "3.8.5"
  }
 },
 "nbformat": 4,
 "nbformat_minor": 4
}
