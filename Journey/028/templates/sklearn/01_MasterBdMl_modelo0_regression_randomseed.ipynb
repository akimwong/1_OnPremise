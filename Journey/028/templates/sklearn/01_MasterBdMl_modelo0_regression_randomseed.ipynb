{
 "cells": [
  {
   "cell_type": "markdown",
   "metadata": {},
   "source": [
    "# 01_MasterBDMl_modelo0_regression_randomseed\n",
    "Autor: Carlos Wong <br/>\n",
    "Fecha: 2022_04_14 <br/>\n",
    "Tipo de problema: `REGRESIÓN` <br/>\n",
    "Entradas: `dataset: Boston_housing` <br/>\n",
    "Salidas: -  <br/>\n",
    "Propósito: Descarga, entrenamiento, predicción y documentación con `SKLEARN` <br/>\n",
    "1. `Librerías + Descarga de datos <-------- `\n",
    "2. Exploración de la variable objetivo\n",
    "3. EDA\n",
    "4. Feature Engineering\n",
    "5. `Modelos (pipeline, prueba de semilla en train_test split) <-------- `\n",
    "6. Guardado del modelo"
   ]
  },
  {
   "cell_type": "markdown",
   "metadata": {},
   "source": [
    "# 1. Librerías + Descarga de datos"
   ]
  },
  {
   "cell_type": "code",
   "execution_count": 153,
   "metadata": {},
   "outputs": [],
   "source": [
    "# librerías estándar\n",
    "import pandas as pd\n",
    "import numpy as np\n",
    "import matplotlib.pyplot as plt\n",
    "import seaborn as sns\n",
    "\n",
    "sns.set_style('darkgrid')\n",
    "np.set_printoptions(precision=2)"
   ]
  },
  {
   "cell_type": "code",
   "execution_count": 154,
   "metadata": {},
   "outputs": [],
   "source": [
    "import warnings\n",
    "warnings.filterwarnings(\"ignore\")"
   ]
  },
  {
   "cell_type": "code",
   "execution_count": 155,
   "metadata": {},
   "outputs": [],
   "source": [
    "# para guardar/serializar el modelo previamente entrenado\n",
    "import pickle\n",
    "from pickle import dump   # dump: volcar"
   ]
  },
  {
   "cell_type": "code",
   "execution_count": 156,
   "metadata": {},
   "outputs": [],
   "source": [
    "# librerías de modelos\n",
    "import sklearn\n",
    "from sklearn.linear_model import Lasso   # <----------\n",
    "from sklearn.model_selection import train_test_split\n",
    "from sklearn.preprocessing import MinMaxScaler, StandardScaler, Normalizer, Binarizer\n",
    "from sklearn.pipeline import Pipeline, make_pipeline"
   ]
  },
  {
   "cell_type": "markdown",
   "metadata": {},
   "source": [
    "# 5. Modelo -> pipeline"
   ]
  },
  {
   "cell_type": "code",
   "execution_count": 220,
   "metadata": {},
   "outputs": [],
   "source": [
    "column_names = ['CRIM', 'ZN', 'INDUS', 'CHAS', 'NOX', 'RM', 'AGE', 'DIS', 'RAD', 'TAX', 'PTRATIO', 'B', 'LSTAT', 'MEDV']\n",
    "# en Kaggle el fichero indica .csv pero al descargar tiene extensión .xls\n",
    "# https://www.kaggle.com/code/prasadperera/the-boston-housing-dataset/data\n",
    "data = pd.read_csv(r'.\\datasets\\housing.xls', header=None, delimiter=r\"\\s+\", names=column_names)"
   ]
  },
  {
   "cell_type": "code",
   "execution_count": 260,
   "metadata": {},
   "outputs": [],
   "source": [
    "features = data.drop('MEDV', axis=1)\n",
    "target = data.MEDV"
   ]
  },
  {
   "cell_type": "code",
   "execution_count": 265,
   "metadata": {},
   "outputs": [
    {
     "name": "stdout",
     "output_type": "stream",
     "text": [
      "0.619478531397323\n",
      "0.6169413290107338\n"
     ]
    }
   ],
   "source": [
    "# Se marca semilla en train_test split\n",
    "features_train, features_test, target_train, target_test = train_test_split(features, \n",
    "                                                                            target, \n",
    "                                                                            random_state = 99)\n",
    "# sin standard scaler\n",
    "model = Lasso()\n",
    "model.fit(features_train, target_train)\n",
    "scores1 = model.score(features_test, target_test)\n",
    "print(scores1)\n",
    "\n",
    "# con standard scaler\n",
    "model = Lasso()\n",
    "scaler = StandardScaler()\n",
    "pipeline = Pipeline([('scaler', scaler),('lasso', model)])\n",
    "pipeline.fit(features_train, target_train)\n",
    "scores2 = pipeline.score(features_test, target_test)\n",
    "print(scores2)"
   ]
  },
  {
   "cell_type": "markdown",
   "metadata": {},
   "source": [
    "`No se aprecia diferencia` en resultado del modelo CON StandardScaler y SIN StandardScaler"
   ]
  },
  {
   "cell_type": "markdown",
   "metadata": {},
   "source": [
    "## Semilla"
   ]
  },
  {
   "cell_type": "code",
   "execution_count": 266,
   "metadata": {},
   "outputs": [
    {
     "name": "stdout",
     "output_type": "stream",
     "text": [
      "0.5121922633857766\n",
      "0.8126209616521135\n",
      "0.6125260668293881\n",
      "0.7217553174317995\n",
      "0.29187606817063316\n"
     ]
    }
   ],
   "source": [
    "# sin semilla\n",
    "for i in range (5):\n",
    "    n = np.random.rand()\n",
    "    print (n)"
   ]
  },
  {
   "cell_type": "code",
   "execution_count": 267,
   "metadata": {},
   "outputs": [
    {
     "name": "stdout",
     "output_type": "stream",
     "text": [
      "0.771320643266746\n",
      "0.771320643266746\n",
      "0.771320643266746\n",
      "0.771320643266746\n",
      "0.771320643266746\n"
     ]
    }
   ],
   "source": [
    "# con semilla\n",
    "for i in range (5):\n",
    "    np.random.seed(10)\n",
    "    n = np.random.rand()\n",
    "    print (n)"
   ]
  },
  {
   "cell_type": "code",
   "execution_count": null,
   "metadata": {},
   "outputs": [],
   "source": []
  }
 ],
 "metadata": {
  "kernelspec": {
   "display_name": "Python 3",
   "language": "python",
   "name": "python3"
  },
  "language_info": {
   "codemirror_mode": {
    "name": "ipython",
    "version": 3
   },
   "file_extension": ".py",
   "mimetype": "text/x-python",
   "name": "python",
   "nbconvert_exporter": "python",
   "pygments_lexer": "ipython3",
   "version": "3.8.5"
  }
 },
 "nbformat": 4,
 "nbformat_minor": 4
}
