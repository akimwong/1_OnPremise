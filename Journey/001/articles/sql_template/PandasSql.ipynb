{
 "cells": [
  {
   "cell_type": "code",
   "execution_count": 7,
   "metadata": {},
   "outputs": [],
   "source": [
    "import pandas as pd\n",
    "import numpy as np\n",
    "import sqlite3"
   ]
  },
  {
   "cell_type": "code",
   "execution_count": 24,
   "metadata": {},
   "outputs": [],
   "source": [
    "url_csv =  'https://github.com/ChawlaAvi/SQL-to-Pandas/blob/main/data.csv?raw=true'\n",
    "df = pd.read_csv(url_csv)"
   ]
  },
  {
   "cell_type": "code",
   "execution_count": 25,
   "metadata": {},
   "outputs": [
    {
     "data": {
      "text/html": [
       "<div>\n",
       "<style scoped>\n",
       "    .dataframe tbody tr th:only-of-type {\n",
       "        vertical-align: middle;\n",
       "    }\n",
       "\n",
       "    .dataframe tbody tr th {\n",
       "        vertical-align: top;\n",
       "    }\n",
       "\n",
       "    .dataframe thead th {\n",
       "        text-align: right;\n",
       "    }\n",
       "</style>\n",
       "<table border=\"1\" class=\"dataframe\">\n",
       "  <thead>\n",
       "    <tr style=\"text-align: right;\">\n",
       "      <th></th>\n",
       "      <th>ID</th>\n",
       "      <th>first_name</th>\n",
       "      <th>last_name</th>\n",
       "      <th>gender</th>\n",
       "      <th>salary</th>\n",
       "      <th>level</th>\n",
       "      <th>date_of_joining</th>\n",
       "    </tr>\n",
       "  </thead>\n",
       "  <tbody>\n",
       "    <tr>\n",
       "      <th>0</th>\n",
       "      <td>1</td>\n",
       "      <td>Peter</td>\n",
       "      <td>Sanders</td>\n",
       "      <td>M</td>\n",
       "      <td>10000</td>\n",
       "      <td>2</td>\n",
       "      <td>10/03/20</td>\n",
       "    </tr>\n",
       "    <tr>\n",
       "      <th>1</th>\n",
       "      <td>2</td>\n",
       "      <td>Julie</td>\n",
       "      <td>Miller</td>\n",
       "      <td>F</td>\n",
       "      <td>12000</td>\n",
       "      <td>2</td>\n",
       "      <td>14/01/20</td>\n",
       "    </tr>\n",
       "    <tr>\n",
       "      <th>2</th>\n",
       "      <td>3</td>\n",
       "      <td>Rachel</td>\n",
       "      <td>Bray</td>\n",
       "      <td>F</td>\n",
       "      <td>9000</td>\n",
       "      <td>1</td>\n",
       "      <td>09/03/20</td>\n",
       "    </tr>\n",
       "    <tr>\n",
       "      <th>3</th>\n",
       "      <td>4</td>\n",
       "      <td>Priti</td>\n",
       "      <td>Agarwal</td>\n",
       "      <td>F</td>\n",
       "      <td>10000</td>\n",
       "      <td>2</td>\n",
       "      <td>01/03/20</td>\n",
       "    </tr>\n",
       "    <tr>\n",
       "      <th>4</th>\n",
       "      <td>5</td>\n",
       "      <td>David</td>\n",
       "      <td>Cox</td>\n",
       "      <td>M</td>\n",
       "      <td>5000</td>\n",
       "      <td>1</td>\n",
       "      <td>28/05/20</td>\n",
       "    </tr>\n",
       "    <tr>\n",
       "      <th>5</th>\n",
       "      <td>6</td>\n",
       "      <td>Helly</td>\n",
       "      <td>Raval</td>\n",
       "      <td>F</td>\n",
       "      <td>8000</td>\n",
       "      <td>1</td>\n",
       "      <td>19/06/20</td>\n",
       "    </tr>\n",
       "    <tr>\n",
       "      <th>6</th>\n",
       "      <td>7</td>\n",
       "      <td>John</td>\n",
       "      <td>Frank</td>\n",
       "      <td>M</td>\n",
       "      <td>13000</td>\n",
       "      <td>3</td>\n",
       "      <td>12/11/19</td>\n",
       "    </tr>\n",
       "    <tr>\n",
       "      <th>7</th>\n",
       "      <td>8</td>\n",
       "      <td>Mark</td>\n",
       "      <td>Franklin</td>\n",
       "      <td>M</td>\n",
       "      <td>13500</td>\n",
       "      <td>3</td>\n",
       "      <td>12/11/19</td>\n",
       "    </tr>\n",
       "    <tr>\n",
       "      <th>8</th>\n",
       "      <td>9</td>\n",
       "      <td>Cristina</td>\n",
       "      <td>Rel</td>\n",
       "      <td>F</td>\n",
       "      <td>15000</td>\n",
       "      <td>4</td>\n",
       "      <td>22/09/19</td>\n",
       "    </tr>\n",
       "    <tr>\n",
       "      <th>9</th>\n",
       "      <td>10</td>\n",
       "      <td>Brock</td>\n",
       "      <td>Murray</td>\n",
       "      <td>M</td>\n",
       "      <td>11000</td>\n",
       "      <td>2</td>\n",
       "      <td>13/02/20</td>\n",
       "    </tr>\n",
       "  </tbody>\n",
       "</table>\n",
       "</div>"
      ],
      "text/plain": [
       "   ID first_name last_name gender  salary  level date_of_joining\n",
       "0   1      Peter   Sanders      M   10000      2        10/03/20\n",
       "1   2      Julie    Miller      F   12000      2        14/01/20\n",
       "2   3     Rachel      Bray      F    9000      1        09/03/20\n",
       "3   4      Priti   Agarwal      F   10000      2        01/03/20\n",
       "4   5      David       Cox      M    5000      1        28/05/20\n",
       "5   6      Helly     Raval      F    8000      1        19/06/20\n",
       "6   7       John     Frank      M   13000      3        12/11/19\n",
       "7   8       Mark  Franklin      M   13500      3        12/11/19\n",
       "8   9   Cristina       Rel      F   15000      4        22/09/19\n",
       "9  10      Brock    Murray      M   11000      2        13/02/20"
      ]
     },
     "execution_count": 25,
     "metadata": {},
     "output_type": "execute_result"
    }
   ],
   "source": [
    "df"
   ]
  },
  {
   "cell_type": "code",
   "execution_count": 26,
   "metadata": {},
   "outputs": [],
   "source": [
    "df[\"date_of_joining\"] = pd.to_datetime(df.date_of_joining)"
   ]
  },
  {
   "cell_type": "code",
   "execution_count": 27,
   "metadata": {},
   "outputs": [
    {
     "data": {
      "text/html": [
       "<div>\n",
       "<style scoped>\n",
       "    .dataframe tbody tr th:only-of-type {\n",
       "        vertical-align: middle;\n",
       "    }\n",
       "\n",
       "    .dataframe tbody tr th {\n",
       "        vertical-align: top;\n",
       "    }\n",
       "\n",
       "    .dataframe thead th {\n",
       "        text-align: right;\n",
       "    }\n",
       "</style>\n",
       "<table border=\"1\" class=\"dataframe\">\n",
       "  <thead>\n",
       "    <tr style=\"text-align: right;\">\n",
       "      <th></th>\n",
       "      <th>ID</th>\n",
       "      <th>first_name</th>\n",
       "      <th>last_name</th>\n",
       "      <th>gender</th>\n",
       "      <th>salary</th>\n",
       "      <th>level</th>\n",
       "      <th>date_of_joining</th>\n",
       "    </tr>\n",
       "  </thead>\n",
       "  <tbody>\n",
       "    <tr>\n",
       "      <th>0</th>\n",
       "      <td>1</td>\n",
       "      <td>Peter</td>\n",
       "      <td>Sanders</td>\n",
       "      <td>M</td>\n",
       "      <td>10000</td>\n",
       "      <td>2</td>\n",
       "      <td>2020-10-03</td>\n",
       "    </tr>\n",
       "    <tr>\n",
       "      <th>1</th>\n",
       "      <td>2</td>\n",
       "      <td>Julie</td>\n",
       "      <td>Miller</td>\n",
       "      <td>F</td>\n",
       "      <td>12000</td>\n",
       "      <td>2</td>\n",
       "      <td>2020-01-14</td>\n",
       "    </tr>\n",
       "    <tr>\n",
       "      <th>2</th>\n",
       "      <td>3</td>\n",
       "      <td>Rachel</td>\n",
       "      <td>Bray</td>\n",
       "      <td>F</td>\n",
       "      <td>9000</td>\n",
       "      <td>1</td>\n",
       "      <td>2020-09-03</td>\n",
       "    </tr>\n",
       "    <tr>\n",
       "      <th>3</th>\n",
       "      <td>4</td>\n",
       "      <td>Priti</td>\n",
       "      <td>Agarwal</td>\n",
       "      <td>F</td>\n",
       "      <td>10000</td>\n",
       "      <td>2</td>\n",
       "      <td>2020-01-03</td>\n",
       "    </tr>\n",
       "    <tr>\n",
       "      <th>4</th>\n",
       "      <td>5</td>\n",
       "      <td>David</td>\n",
       "      <td>Cox</td>\n",
       "      <td>M</td>\n",
       "      <td>5000</td>\n",
       "      <td>1</td>\n",
       "      <td>2020-05-28</td>\n",
       "    </tr>\n",
       "    <tr>\n",
       "      <th>5</th>\n",
       "      <td>6</td>\n",
       "      <td>Helly</td>\n",
       "      <td>Raval</td>\n",
       "      <td>F</td>\n",
       "      <td>8000</td>\n",
       "      <td>1</td>\n",
       "      <td>2020-06-19</td>\n",
       "    </tr>\n",
       "    <tr>\n",
       "      <th>6</th>\n",
       "      <td>7</td>\n",
       "      <td>John</td>\n",
       "      <td>Frank</td>\n",
       "      <td>M</td>\n",
       "      <td>13000</td>\n",
       "      <td>3</td>\n",
       "      <td>2019-12-11</td>\n",
       "    </tr>\n",
       "    <tr>\n",
       "      <th>7</th>\n",
       "      <td>8</td>\n",
       "      <td>Mark</td>\n",
       "      <td>Franklin</td>\n",
       "      <td>M</td>\n",
       "      <td>13500</td>\n",
       "      <td>3</td>\n",
       "      <td>2019-12-11</td>\n",
       "    </tr>\n",
       "    <tr>\n",
       "      <th>8</th>\n",
       "      <td>9</td>\n",
       "      <td>Cristina</td>\n",
       "      <td>Rel</td>\n",
       "      <td>F</td>\n",
       "      <td>15000</td>\n",
       "      <td>4</td>\n",
       "      <td>2019-09-22</td>\n",
       "    </tr>\n",
       "    <tr>\n",
       "      <th>9</th>\n",
       "      <td>10</td>\n",
       "      <td>Brock</td>\n",
       "      <td>Murray</td>\n",
       "      <td>M</td>\n",
       "      <td>11000</td>\n",
       "      <td>2</td>\n",
       "      <td>2020-02-13</td>\n",
       "    </tr>\n",
       "  </tbody>\n",
       "</table>\n",
       "</div>"
      ],
      "text/plain": [
       "   ID first_name last_name gender  salary  level date_of_joining\n",
       "0   1      Peter   Sanders      M   10000      2      2020-10-03\n",
       "1   2      Julie    Miller      F   12000      2      2020-01-14\n",
       "2   3     Rachel      Bray      F    9000      1      2020-09-03\n",
       "3   4      Priti   Agarwal      F   10000      2      2020-01-03\n",
       "4   5      David       Cox      M    5000      1      2020-05-28\n",
       "5   6      Helly     Raval      F    8000      1      2020-06-19\n",
       "6   7       John     Frank      M   13000      3      2019-12-11\n",
       "7   8       Mark  Franklin      M   13500      3      2019-12-11\n",
       "8   9   Cristina       Rel      F   15000      4      2019-09-22\n",
       "9  10      Brock    Murray      M   11000      2      2020-02-13"
      ]
     },
     "execution_count": 27,
     "metadata": {},
     "output_type": "execute_result"
    }
   ],
   "source": [
    "df"
   ]
  },
  {
   "cell_type": "code",
   "execution_count": 9,
   "metadata": {},
   "outputs": [],
   "source": [
    "df.to_csv(\"data.csv\")"
   ]
  },
  {
   "cell_type": "code",
   "execution_count": 11,
   "metadata": {},
   "outputs": [
    {
     "name": "stdout",
     "output_type": "stream",
     "text": [
      "Collecting ipython-sql\n",
      "  Using cached ipython_sql-0.4.1-py3-none-any.whl (21 kB)\n",
      "Requirement already satisfied: sqlalchemy>=0.6.7 in c:\\users\\carlos\\anaconda3\\lib\\site-packages (from ipython-sql) (1.3.20)\n",
      "Requirement already satisfied: six in c:\\users\\carlos\\anaconda3\\lib\\site-packages (from ipython-sql) (1.15.0)\n",
      "Collecting prettytable<1\n",
      "  Using cached prettytable-0.7.2.zip (28 kB)\n",
      "  Preparing metadata (setup.py): started\n",
      "  Preparing metadata (setup.py): finished with status 'done'\n",
      "Collecting sqlparse\n",
      "  Using cached sqlparse-0.4.3-py3-none-any.whl (42 kB)\n",
      "Requirement already satisfied: ipython>=1.0 in c:\\users\\carlos\\anaconda3\\lib\\site-packages (from ipython-sql) (7.19.0)\n",
      "Requirement already satisfied: ipython-genutils>=0.1.0 in c:\\users\\carlos\\anaconda3\\lib\\site-packages (from ipython-sql) (0.2.0)\n",
      "Requirement already satisfied: backcall in c:\\users\\carlos\\anaconda3\\lib\\site-packages (from ipython>=1.0->ipython-sql) (0.2.0)\n",
      "Requirement already satisfied: setuptools>=18.5 in c:\\users\\carlos\\anaconda3\\lib\\site-packages (from ipython>=1.0->ipython-sql) (50.3.1.post20201107)\n",
      "Requirement already satisfied: colorama in c:\\users\\carlos\\anaconda3\\lib\\site-packages (from ipython>=1.0->ipython-sql) (0.4.4)\n",
      "Requirement already satisfied: jedi>=0.10 in c:\\users\\carlos\\anaconda3\\lib\\site-packages (from ipython>=1.0->ipython-sql) (0.17.1)\n",
      "Requirement already satisfied: decorator in c:\\users\\carlos\\anaconda3\\lib\\site-packages (from ipython>=1.0->ipython-sql) (4.4.2)\n",
      "Requirement already satisfied: pygments in c:\\users\\carlos\\anaconda3\\lib\\site-packages (from ipython>=1.0->ipython-sql) (2.7.2)\n",
      "Requirement already satisfied: pickleshare in c:\\users\\carlos\\anaconda3\\lib\\site-packages (from ipython>=1.0->ipython-sql) (0.7.5)\n",
      "Requirement already satisfied: traitlets>=4.2 in c:\\users\\carlos\\anaconda3\\lib\\site-packages (from ipython>=1.0->ipython-sql) (5.0.5)\n",
      "Requirement already satisfied: prompt-toolkit!=3.0.0,!=3.0.1,<3.1.0,>=2.0.0 in c:\\users\\carlos\\anaconda3\\lib\\site-packages (from ipython>=1.0->ipython-sql) (3.0.8)\n",
      "Requirement already satisfied: parso<0.8.0,>=0.7.0 in c:\\users\\carlos\\anaconda3\\lib\\site-packages (from jedi>=0.10->ipython>=1.0->ipython-sql) (0.7.0)\n",
      "Requirement already satisfied: wcwidth in c:\\users\\carlos\\anaconda3\\lib\\site-packages (from prompt-toolkit!=3.0.0,!=3.0.1,<3.1.0,>=2.0.0->ipython>=1.0->ipython-sql) (0.2.5)\n",
      "Building wheels for collected packages: prettytable\n",
      "  Building wheel for prettytable (setup.py): started\n",
      "  Building wheel for prettytable (setup.py): finished with status 'done'\n",
      "  Created wheel for prettytable: filename=prettytable-0.7.2-py3-none-any.whl size=13705 sha256=35bb50dac2ca816ba12931bd51474d14361649f8adb3244b098e4f432373237b\n",
      "  Stored in directory: c:\\users\\carlos\\appdata\\local\\pip\\cache\\wheels\\48\\6d\\77\\9517cb933af254f51a446f1a5ec9c2be3e45f17384940bce68\n",
      "Successfully built prettytable\n",
      "Installing collected packages: sqlparse, prettytable, ipython-sql\n",
      "Successfully installed ipython-sql-0.4.1 prettytable-0.7.2 sqlparse-0.4.3\n",
      "Note: you may need to restart the kernel to use updated packages.\n"
     ]
    },
    {
     "name": "stderr",
     "output_type": "stream",
     "text": [
      "WARNING: Ignoring invalid distribution -rpcio (c:\\users\\carlos\\anaconda3\\lib\\site-packages)\n",
      "WARNING: Ignoring invalid distribution -rpcio (c:\\users\\carlos\\anaconda3\\lib\\site-packages)\n",
      "WARNING: Ignoring invalid distribution -rpcio (c:\\users\\carlos\\anaconda3\\lib\\site-packages)\n",
      "WARNING: Ignoring invalid distribution -rpcio (c:\\users\\carlos\\anaconda3\\lib\\site-packages)\n",
      "WARNING: Ignoring invalid distribution -rpcio (c:\\users\\carlos\\anaconda3\\lib\\site-packages)\n",
      "WARNING: Ignoring invalid distribution -rpcio (c:\\users\\carlos\\anaconda3\\lib\\site-packages)\n",
      "WARNING: Ignoring invalid distribution -rpcio (c:\\users\\carlos\\anaconda3\\lib\\site-packages)\n",
      "WARNING: Ignoring invalid distribution -rpcio (c:\\users\\carlos\\anaconda3\\lib\\site-packages)\n",
      "WARNING: Ignoring invalid distribution -rpcio (c:\\users\\carlos\\anaconda3\\lib\\site-packages)\n",
      "WARNING: You are using pip version 21.3.1; however, version 22.3.1 is available.\n",
      "You should consider upgrading via the 'C:\\Users\\Carlos\\anaconda3\\python.exe -m pip install --upgrade pip' command.\n"
     ]
    }
   ],
   "source": [
    "pip install ipython-sql"
   ]
  },
  {
   "cell_type": "code",
   "execution_count": 12,
   "metadata": {},
   "outputs": [],
   "source": [
    "%load_ext sql"
   ]
  },
  {
   "cell_type": "code",
   "execution_count": 13,
   "metadata": {},
   "outputs": [],
   "source": [
    "%sql sqlite://"
   ]
  },
  {
   "cell_type": "code",
   "execution_count": 14,
   "metadata": {},
   "outputs": [
    {
     "name": "stdout",
     "output_type": "stream",
     "text": [
      " * sqlite://\n",
      "Done.\n",
      "Done.\n",
      "10 rows affected.\n"
     ]
    },
    {
     "data": {
      "text/plain": [
       "[]"
      ]
     },
     "execution_count": 14,
     "metadata": {},
     "output_type": "execute_result"
    }
   ],
   "source": [
    "%%sql\n",
    "drop table if exists employee;\n",
    "CREATE TABLE employee\n",
    "(\n",
    "    ID       integer,\n",
    "    first_name        varchar(20),\n",
    "    last_name   varchar(20),\n",
    "    gender varchar(2),\n",
    "    salary     integer,\n",
    "    level integer,\n",
    "    date_of_joining date\n",
    ");\n",
    "\n",
    "INSERT INTO employee\n",
    "values (1, 'Peter',    'Sanders',  'M', 10000, 2, '2020-03-10'),\n",
    "       (2, 'Julie',    'Miller',   'F', 12000, 2, '2020-01-14'),\n",
    "       (3, 'Rachel',   'Bray',     'F', 9000,  1, '2020-03-09'),\n",
    "       (4, 'Priti',    'Agarwal',  'F', 10000, 2, '2020-03-01'),\n",
    "       (5, 'David',    'Cox',      'M', 5000,  1, '2020-05-28'),\n",
    "       (6, 'Helly',    'Raval',    'F', 8000,  1, '2020-06-19'),\n",
    "       (7, 'John',     'Frank',    'M', 13000, 3, '2019-11-12'),\n",
    "       (8, 'Mark',     'Franklin', 'M', 13500, 3, '2019-11-12'),\n",
    "       (9, 'Cristina', 'Rel',      'F', 15000, 4, '2019-09-22'),\n",
    "       (10, 'Brock',   'Murray',   'M', 11000, 2,' 2020-02-13');"
   ]
  },
  {
   "cell_type": "markdown",
   "metadata": {},
   "source": [
    "# Printing the Dimensions"
   ]
  },
  {
   "cell_type": "code",
   "execution_count": 122,
   "metadata": {},
   "outputs": [
    {
     "data": {
      "text/plain": [
       "(10, 7)"
      ]
     },
     "execution_count": 122,
     "metadata": {},
     "output_type": "execute_result"
    }
   ],
   "source": [
    "df.shape"
   ]
  },
  {
   "cell_type": "code",
   "execution_count": 123,
   "metadata": {},
   "outputs": [
    {
     "name": "stdout",
     "output_type": "stream",
     "text": [
      " * sqlite://\n",
      "Done.\n"
     ]
    },
    {
     "data": {
      "text/html": [
       "<table>\n",
       "    <tr>\n",
       "        <th>count(1)</th>\n",
       "    </tr>\n",
       "    <tr>\n",
       "        <td>10</td>\n",
       "    </tr>\n",
       "</table>"
      ],
      "text/plain": [
       "[(10,)]"
      ]
     },
     "execution_count": 123,
     "metadata": {},
     "output_type": "execute_result"
    }
   ],
   "source": [
    "%%sql\n",
    "select count(1)\n",
    "from employee;"
   ]
  },
  {
   "cell_type": "code",
   "execution_count": 18,
   "metadata": {},
   "outputs": [
    {
     "name": "stdout",
     "output_type": "stream",
     "text": [
      " * sqlite://\n",
      "Done.\n"
     ]
    },
    {
     "data": {
      "text/html": [
       "<table>\n",
       "    <tr>\n",
       "        <th>ID</th>\n",
       "        <th>first_name</th>\n",
       "        <th>last_name</th>\n",
       "        <th>gender</th>\n",
       "        <th>salary</th>\n",
       "        <th>level</th>\n",
       "        <th>date_of_joining</th>\n",
       "    </tr>\n",
       "    <tr>\n",
       "        <td>1</td>\n",
       "        <td>Peter</td>\n",
       "        <td>Sanders</td>\n",
       "        <td>M</td>\n",
       "        <td>10000</td>\n",
       "        <td>2</td>\n",
       "        <td>2020-03-10</td>\n",
       "    </tr>\n",
       "    <tr>\n",
       "        <td>2</td>\n",
       "        <td>Julie</td>\n",
       "        <td>Miller</td>\n",
       "        <td>F</td>\n",
       "        <td>12000</td>\n",
       "        <td>2</td>\n",
       "        <td>2020-01-14</td>\n",
       "    </tr>\n",
       "    <tr>\n",
       "        <td>3</td>\n",
       "        <td>Rachel</td>\n",
       "        <td>Bray</td>\n",
       "        <td>F</td>\n",
       "        <td>9000</td>\n",
       "        <td>1</td>\n",
       "        <td>2020-03-09</td>\n",
       "    </tr>\n",
       "    <tr>\n",
       "        <td>4</td>\n",
       "        <td>Priti</td>\n",
       "        <td>Agarwal</td>\n",
       "        <td>F</td>\n",
       "        <td>10000</td>\n",
       "        <td>2</td>\n",
       "        <td>2020-03-01</td>\n",
       "    </tr>\n",
       "    <tr>\n",
       "        <td>5</td>\n",
       "        <td>David</td>\n",
       "        <td>Cox</td>\n",
       "        <td>M</td>\n",
       "        <td>5000</td>\n",
       "        <td>1</td>\n",
       "        <td>2020-05-28</td>\n",
       "    </tr>\n",
       "    <tr>\n",
       "        <td>6</td>\n",
       "        <td>Helly</td>\n",
       "        <td>Raval</td>\n",
       "        <td>F</td>\n",
       "        <td>8000</td>\n",
       "        <td>1</td>\n",
       "        <td>2020-06-19</td>\n",
       "    </tr>\n",
       "    <tr>\n",
       "        <td>7</td>\n",
       "        <td>John</td>\n",
       "        <td>Frank</td>\n",
       "        <td>M</td>\n",
       "        <td>13000</td>\n",
       "        <td>3</td>\n",
       "        <td>2019-11-12</td>\n",
       "    </tr>\n",
       "    <tr>\n",
       "        <td>8</td>\n",
       "        <td>Mark</td>\n",
       "        <td>Franklin</td>\n",
       "        <td>M</td>\n",
       "        <td>13500</td>\n",
       "        <td>3</td>\n",
       "        <td>2019-11-12</td>\n",
       "    </tr>\n",
       "    <tr>\n",
       "        <td>9</td>\n",
       "        <td>Cristina</td>\n",
       "        <td>Rel</td>\n",
       "        <td>F</td>\n",
       "        <td>15000</td>\n",
       "        <td>4</td>\n",
       "        <td>2019-09-22</td>\n",
       "    </tr>\n",
       "    <tr>\n",
       "        <td>10</td>\n",
       "        <td>Brock</td>\n",
       "        <td>Murray</td>\n",
       "        <td>M</td>\n",
       "        <td>11000</td>\n",
       "        <td>2</td>\n",
       "        <td> 2020-02-13</td>\n",
       "    </tr>\n",
       "</table>"
      ],
      "text/plain": [
       "[(1, 'Peter', 'Sanders', 'M', 10000, 2, '2020-03-10'),\n",
       " (2, 'Julie', 'Miller', 'F', 12000, 2, '2020-01-14'),\n",
       " (3, 'Rachel', 'Bray', 'F', 9000, 1, '2020-03-09'),\n",
       " (4, 'Priti', 'Agarwal', 'F', 10000, 2, '2020-03-01'),\n",
       " (5, 'David', 'Cox', 'M', 5000, 1, '2020-05-28'),\n",
       " (6, 'Helly', 'Raval', 'F', 8000, 1, '2020-06-19'),\n",
       " (7, 'John', 'Frank', 'M', 13000, 3, '2019-11-12'),\n",
       " (8, 'Mark', 'Franklin', 'M', 13500, 3, '2019-11-12'),\n",
       " (9, 'Cristina', 'Rel', 'F', 15000, 4, '2019-09-22'),\n",
       " (10, 'Brock', 'Murray', 'M', 11000, 2, ' 2020-02-13')]"
      ]
     },
     "execution_count": 18,
     "metadata": {},
     "output_type": "execute_result"
    }
   ],
   "source": [
    "%%sql\n",
    "select * \n",
    "from employee \n",
    "limit 15;"
   ]
  },
  {
   "cell_type": "code",
   "execution_count": 124,
   "metadata": {},
   "outputs": [
    {
     "data": {
      "text/plain": [
       "ID                          int64\n",
       "first_name                 object\n",
       "last_name                  object\n",
       "gender                     object\n",
       "salary                      int64\n",
       "level                       int64\n",
       "date_of_joining    datetime64[ns]\n",
       "dtype: object"
      ]
     },
     "execution_count": 124,
     "metadata": {},
     "output_type": "execute_result"
    }
   ],
   "source": [
    "df.dtypes"
   ]
  },
  {
   "cell_type": "code",
   "execution_count": 125,
   "metadata": {},
   "outputs": [
    {
     "name": "stdout",
     "output_type": "stream",
     "text": [
      " * sqlite://\n",
      "(sqlite3.OperationalError) near \"describe\": syntax error\n",
      "[SQL: describe employee;]\n",
      "(Background on this error at: http://sqlalche.me/e/13/e3q8)\n"
     ]
    }
   ],
   "source": [
    "%%sql\n",
    "describe employee;"
   ]
  },
  {
   "cell_type": "markdown",
   "metadata": {},
   "source": [
    "# Modifying the Datatype of a column"
   ]
  },
  {
   "cell_type": "code",
   "execution_count": 126,
   "metadata": {},
   "outputs": [
    {
     "data": {
      "text/plain": [
       "0     1\n",
       "1     2\n",
       "2     3\n",
       "3     4\n",
       "4     5\n",
       "5     6\n",
       "6     7\n",
       "7     8\n",
       "8     9\n",
       "9    10\n",
       "Name: ID, dtype: object"
      ]
     },
     "execution_count": 126,
     "metadata": {},
     "output_type": "execute_result"
    }
   ],
   "source": [
    "df.ID.astype(str)"
   ]
  },
  {
   "cell_type": "code",
   "execution_count": 129,
   "metadata": {},
   "outputs": [
    {
     "name": "stdout",
     "output_type": "stream",
     "text": [
      " * sqlite://\n",
      "(sqlite3.OperationalError) near \"alter\": syntax error\n",
      "[SQL: alter table employee\n",
      "alter column ID varchar(5);]\n",
      "(Background on this error at: http://sqlalche.me/e/13/e3q8)\n"
     ]
    }
   ],
   "source": [
    "%%sql\n",
    "alter table employee\n",
    "alter column ID varchar(5);"
   ]
  },
  {
   "cell_type": "code",
   "execution_count": 130,
   "metadata": {},
   "outputs": [
    {
     "name": "stdout",
     "output_type": "stream",
     "text": [
      " * sqlite://\n",
      "Done.\n"
     ]
    },
    {
     "data": {
      "text/html": [
       "<table>\n",
       "    <tr>\n",
       "        <th>cast (ID as string)</th>\n",
       "    </tr>\n",
       "    <tr>\n",
       "        <td>1</td>\n",
       "    </tr>\n",
       "    <tr>\n",
       "        <td>2</td>\n",
       "    </tr>\n",
       "    <tr>\n",
       "        <td>3</td>\n",
       "    </tr>\n",
       "    <tr>\n",
       "        <td>4</td>\n",
       "    </tr>\n",
       "    <tr>\n",
       "        <td>5</td>\n",
       "    </tr>\n",
       "    <tr>\n",
       "        <td>6</td>\n",
       "    </tr>\n",
       "    <tr>\n",
       "        <td>7</td>\n",
       "    </tr>\n",
       "    <tr>\n",
       "        <td>8</td>\n",
       "    </tr>\n",
       "    <tr>\n",
       "        <td>9</td>\n",
       "    </tr>\n",
       "    <tr>\n",
       "        <td>10</td>\n",
       "    </tr>\n",
       "</table>"
      ],
      "text/plain": [
       "[(1,), (2,), (3,), (4,), (5,), (6,), (7,), (8,), (9,), (10,)]"
      ]
     },
     "execution_count": 130,
     "metadata": {},
     "output_type": "execute_result"
    }
   ],
   "source": [
    "%%sql\n",
    "select cast (ID as string)\n",
    "from employee;"
   ]
  },
  {
   "cell_type": "markdown",
   "metadata": {},
   "source": [
    "# Select with Condition on One (or more) Columns"
   ]
  },
  {
   "cell_type": "markdown",
   "metadata": {},
   "source": [
    "### One Condition"
   ]
  },
  {
   "cell_type": "code",
   "execution_count": 20,
   "metadata": {},
   "outputs": [
    {
     "name": "stdout",
     "output_type": "stream",
     "text": [
      " * sqlite://\n",
      "Done.\n"
     ]
    },
    {
     "data": {
      "text/html": [
       "<table>\n",
       "    <tr>\n",
       "        <th>ID</th>\n",
       "        <th>first_name</th>\n",
       "        <th>last_name</th>\n",
       "        <th>gender</th>\n",
       "        <th>salary</th>\n",
       "        <th>level</th>\n",
       "        <th>date_of_joining</th>\n",
       "    </tr>\n",
       "    <tr>\n",
       "        <td>7</td>\n",
       "        <td>John</td>\n",
       "        <td>Frank</td>\n",
       "        <td>M</td>\n",
       "        <td>13000</td>\n",
       "        <td>3</td>\n",
       "        <td>2019-11-12</td>\n",
       "    </tr>\n",
       "    <tr>\n",
       "        <td>8</td>\n",
       "        <td>Mark</td>\n",
       "        <td>Franklin</td>\n",
       "        <td>M</td>\n",
       "        <td>13500</td>\n",
       "        <td>3</td>\n",
       "        <td>2019-11-12</td>\n",
       "    </tr>\n",
       "</table>"
      ],
      "text/plain": [
       "[(7, 'John', 'Frank', 'M', 13000, 3, '2019-11-12'),\n",
       " (8, 'Mark', 'Franklin', 'M', 13500, 3, '2019-11-12')]"
      ]
     },
     "execution_count": 20,
     "metadata": {},
     "output_type": "execute_result"
    }
   ],
   "source": [
    "%%sql\n",
    "select * \n",
    "from employee \n",
    "where level == 3;"
   ]
  },
  {
   "cell_type": "code",
   "execution_count": 31,
   "metadata": {},
   "outputs": [
    {
     "data": {
      "text/html": [
       "<div>\n",
       "<style scoped>\n",
       "    .dataframe tbody tr th:only-of-type {\n",
       "        vertical-align: middle;\n",
       "    }\n",
       "\n",
       "    .dataframe tbody tr th {\n",
       "        vertical-align: top;\n",
       "    }\n",
       "\n",
       "    .dataframe thead th {\n",
       "        text-align: right;\n",
       "    }\n",
       "</style>\n",
       "<table border=\"1\" class=\"dataframe\">\n",
       "  <thead>\n",
       "    <tr style=\"text-align: right;\">\n",
       "      <th></th>\n",
       "      <th>ID</th>\n",
       "      <th>first_name</th>\n",
       "      <th>last_name</th>\n",
       "      <th>gender</th>\n",
       "      <th>salary</th>\n",
       "      <th>level</th>\n",
       "      <th>date_of_joining</th>\n",
       "    </tr>\n",
       "  </thead>\n",
       "  <tbody>\n",
       "    <tr>\n",
       "      <th>6</th>\n",
       "      <td>7</td>\n",
       "      <td>John</td>\n",
       "      <td>Frank</td>\n",
       "      <td>M</td>\n",
       "      <td>13000</td>\n",
       "      <td>3</td>\n",
       "      <td>2019-12-11</td>\n",
       "    </tr>\n",
       "    <tr>\n",
       "      <th>7</th>\n",
       "      <td>8</td>\n",
       "      <td>Mark</td>\n",
       "      <td>Franklin</td>\n",
       "      <td>M</td>\n",
       "      <td>13500</td>\n",
       "      <td>3</td>\n",
       "      <td>2019-12-11</td>\n",
       "    </tr>\n",
       "  </tbody>\n",
       "</table>\n",
       "</div>"
      ],
      "text/plain": [
       "   ID first_name last_name gender  salary  level date_of_joining\n",
       "6   7       John     Frank      M   13000      3      2019-12-11\n",
       "7   8       Mark  Franklin      M   13500      3      2019-12-11"
      ]
     },
     "execution_count": 31,
     "metadata": {},
     "output_type": "execute_result"
    }
   ],
   "source": [
    "df[df['level'] == 3]"
   ]
  },
  {
   "cell_type": "code",
   "execution_count": 32,
   "metadata": {},
   "outputs": [
    {
     "data": {
      "text/html": [
       "<div>\n",
       "<style scoped>\n",
       "    .dataframe tbody tr th:only-of-type {\n",
       "        vertical-align: middle;\n",
       "    }\n",
       "\n",
       "    .dataframe tbody tr th {\n",
       "        vertical-align: top;\n",
       "    }\n",
       "\n",
       "    .dataframe thead th {\n",
       "        text-align: right;\n",
       "    }\n",
       "</style>\n",
       "<table border=\"1\" class=\"dataframe\">\n",
       "  <thead>\n",
       "    <tr style=\"text-align: right;\">\n",
       "      <th></th>\n",
       "      <th>ID</th>\n",
       "      <th>first_name</th>\n",
       "      <th>last_name</th>\n",
       "      <th>gender</th>\n",
       "      <th>salary</th>\n",
       "      <th>level</th>\n",
       "      <th>date_of_joining</th>\n",
       "    </tr>\n",
       "  </thead>\n",
       "  <tbody>\n",
       "    <tr>\n",
       "      <th>6</th>\n",
       "      <td>7</td>\n",
       "      <td>John</td>\n",
       "      <td>Frank</td>\n",
       "      <td>M</td>\n",
       "      <td>13000</td>\n",
       "      <td>3</td>\n",
       "      <td>2019-12-11</td>\n",
       "    </tr>\n",
       "    <tr>\n",
       "      <th>7</th>\n",
       "      <td>8</td>\n",
       "      <td>Mark</td>\n",
       "      <td>Franklin</td>\n",
       "      <td>M</td>\n",
       "      <td>13500</td>\n",
       "      <td>3</td>\n",
       "      <td>2019-12-11</td>\n",
       "    </tr>\n",
       "  </tbody>\n",
       "</table>\n",
       "</div>"
      ],
      "text/plain": [
       "   ID first_name last_name gender  salary  level date_of_joining\n",
       "6   7       John     Frank      M   13000      3      2019-12-11\n",
       "7   8       Mark  Franklin      M   13500      3      2019-12-11"
      ]
     },
     "execution_count": 32,
     "metadata": {},
     "output_type": "execute_result"
    }
   ],
   "source": [
    "df[df.level==3]"
   ]
  },
  {
   "cell_type": "code",
   "execution_count": 132,
   "metadata": {},
   "outputs": [
    {
     "name": "stdout",
     "output_type": "stream",
     "text": [
      " * sqlite://\n",
      "Done.\n"
     ]
    },
    {
     "data": {
      "text/html": [
       "<table>\n",
       "    <tr>\n",
       "        <th>ID</th>\n",
       "        <th>first_name</th>\n",
       "        <th>last_name</th>\n",
       "        <th>gender</th>\n",
       "        <th>salary</th>\n",
       "        <th>level</th>\n",
       "        <th>date_of_joining</th>\n",
       "    </tr>\n",
       "    <tr>\n",
       "        <td>1</td>\n",
       "        <td>Peter</td>\n",
       "        <td>Sanders</td>\n",
       "        <td>M</td>\n",
       "        <td>10000</td>\n",
       "        <td>2</td>\n",
       "        <td>2020-03-10</td>\n",
       "    </tr>\n",
       "    <tr>\n",
       "        <td>10</td>\n",
       "        <td>Brock</td>\n",
       "        <td>Murray</td>\n",
       "        <td>M</td>\n",
       "        <td>11000</td>\n",
       "        <td>2</td>\n",
       "        <td> 2020-02-13</td>\n",
       "    </tr>\n",
       "</table>"
      ],
      "text/plain": [
       "[(1, 'Peter', 'Sanders', 'M', 10000, 2, '2020-03-10'),\n",
       " (10, 'Brock', 'Murray', 'M', 11000, 2, ' 2020-02-13')]"
      ]
     },
     "execution_count": 132,
     "metadata": {},
     "output_type": "execute_result"
    }
   ],
   "source": [
    "%%sql\n",
    "select * \n",
    "from employee \n",
    "where level == 2 and gender == 'M';"
   ]
  },
  {
   "cell_type": "code",
   "execution_count": 138,
   "metadata": {},
   "outputs": [
    {
     "data": {
      "text/html": [
       "<div>\n",
       "<style scoped>\n",
       "    .dataframe tbody tr th:only-of-type {\n",
       "        vertical-align: middle;\n",
       "    }\n",
       "\n",
       "    .dataframe tbody tr th {\n",
       "        vertical-align: top;\n",
       "    }\n",
       "\n",
       "    .dataframe thead th {\n",
       "        text-align: right;\n",
       "    }\n",
       "</style>\n",
       "<table border=\"1\" class=\"dataframe\">\n",
       "  <thead>\n",
       "    <tr style=\"text-align: right;\">\n",
       "      <th></th>\n",
       "      <th>ID</th>\n",
       "      <th>first_name</th>\n",
       "      <th>last_name</th>\n",
       "      <th>gender</th>\n",
       "      <th>salary</th>\n",
       "      <th>level</th>\n",
       "      <th>date_of_joining</th>\n",
       "    </tr>\n",
       "  </thead>\n",
       "  <tbody>\n",
       "    <tr>\n",
       "      <th>0</th>\n",
       "      <td>1</td>\n",
       "      <td>Peter</td>\n",
       "      <td>Sanders</td>\n",
       "      <td>M</td>\n",
       "      <td>10000</td>\n",
       "      <td>2</td>\n",
       "      <td>2020-10-03</td>\n",
       "    </tr>\n",
       "    <tr>\n",
       "      <th>9</th>\n",
       "      <td>10</td>\n",
       "      <td>Brock</td>\n",
       "      <td>Murray</td>\n",
       "      <td>M</td>\n",
       "      <td>11000</td>\n",
       "      <td>2</td>\n",
       "      <td>2020-02-13</td>\n",
       "    </tr>\n",
       "  </tbody>\n",
       "</table>\n",
       "</div>"
      ],
      "text/plain": [
       "   ID first_name last_name gender  salary  level date_of_joining\n",
       "0   1      Peter   Sanders      M   10000      2      2020-10-03\n",
       "9  10      Brock    Murray      M   11000      2      2020-02-13"
      ]
     },
     "execution_count": 138,
     "metadata": {},
     "output_type": "execute_result"
    }
   ],
   "source": [
    "df.loc[(df['level']== 2) & (df['gender'] == 'M')]"
   ]
  },
  {
   "cell_type": "markdown",
   "metadata": {},
   "source": [
    "# Select a Subset of Columns"
   ]
  },
  {
   "cell_type": "code",
   "execution_count": 49,
   "metadata": {},
   "outputs": [
    {
     "name": "stdout",
     "output_type": "stream",
     "text": [
      " * sqlite://\n",
      "Done.\n"
     ]
    },
    {
     "data": {
      "text/html": [
       "<table>\n",
       "    <tr>\n",
       "        <th>first_name</th>\n",
       "        <th>gender</th>\n",
       "        <th>date_of_joining</th>\n",
       "    </tr>\n",
       "    <tr>\n",
       "        <td>Julie</td>\n",
       "        <td>F</td>\n",
       "        <td>2020-01-14</td>\n",
       "    </tr>\n",
       "    <tr>\n",
       "        <td>John</td>\n",
       "        <td>M</td>\n",
       "        <td>2019-11-12</td>\n",
       "    </tr>\n",
       "    <tr>\n",
       "        <td>Mark</td>\n",
       "        <td>M</td>\n",
       "        <td>2019-11-12</td>\n",
       "    </tr>\n",
       "    <tr>\n",
       "        <td>Cristina</td>\n",
       "        <td>F</td>\n",
       "        <td>2019-09-22</td>\n",
       "    </tr>\n",
       "    <tr>\n",
       "        <td>Brock</td>\n",
       "        <td>M</td>\n",
       "        <td> 2020-02-13</td>\n",
       "    </tr>\n",
       "</table>"
      ],
      "text/plain": [
       "[('Julie', 'F', '2020-01-14'),\n",
       " ('John', 'M', '2019-11-12'),\n",
       " ('Mark', 'M', '2019-11-12'),\n",
       " ('Cristina', 'F', '2019-09-22'),\n",
       " ('Brock', 'M', ' 2020-02-13')]"
      ]
     },
     "execution_count": 49,
     "metadata": {},
     "output_type": "execute_result"
    }
   ],
   "source": [
    "%%sql\n",
    "select\n",
    "first_name, gender, date_of_joining\n",
    "from employee\n",
    "where salary > 10000;"
   ]
  },
  {
   "cell_type": "code",
   "execution_count": 105,
   "metadata": {},
   "outputs": [],
   "source": [
    "filt = (df['salary'] > 10000)"
   ]
  },
  {
   "cell_type": "code",
   "execution_count": 107,
   "metadata": {},
   "outputs": [
    {
     "data": {
      "text/html": [
       "<div>\n",
       "<style scoped>\n",
       "    .dataframe tbody tr th:only-of-type {\n",
       "        vertical-align: middle;\n",
       "    }\n",
       "\n",
       "    .dataframe tbody tr th {\n",
       "        vertical-align: top;\n",
       "    }\n",
       "\n",
       "    .dataframe thead th {\n",
       "        text-align: right;\n",
       "    }\n",
       "</style>\n",
       "<table border=\"1\" class=\"dataframe\">\n",
       "  <thead>\n",
       "    <tr style=\"text-align: right;\">\n",
       "      <th></th>\n",
       "      <th>first_name</th>\n",
       "      <th>gender</th>\n",
       "      <th>date_of_joining</th>\n",
       "    </tr>\n",
       "  </thead>\n",
       "  <tbody>\n",
       "    <tr>\n",
       "      <th>1</th>\n",
       "      <td>Julie</td>\n",
       "      <td>F</td>\n",
       "      <td>2020-01-14</td>\n",
       "    </tr>\n",
       "    <tr>\n",
       "      <th>6</th>\n",
       "      <td>John</td>\n",
       "      <td>M</td>\n",
       "      <td>2019-12-11</td>\n",
       "    </tr>\n",
       "    <tr>\n",
       "      <th>7</th>\n",
       "      <td>Mark</td>\n",
       "      <td>M</td>\n",
       "      <td>2019-12-11</td>\n",
       "    </tr>\n",
       "    <tr>\n",
       "      <th>8</th>\n",
       "      <td>Cristina</td>\n",
       "      <td>F</td>\n",
       "      <td>2019-09-22</td>\n",
       "    </tr>\n",
       "    <tr>\n",
       "      <th>9</th>\n",
       "      <td>Brock</td>\n",
       "      <td>M</td>\n",
       "      <td>2020-02-13</td>\n",
       "    </tr>\n",
       "  </tbody>\n",
       "</table>\n",
       "</div>"
      ],
      "text/plain": [
       "  first_name gender date_of_joining\n",
       "1      Julie      F      2020-01-14\n",
       "6       John      M      2019-12-11\n",
       "7       Mark      M      2019-12-11\n",
       "8   Cristina      F      2019-09-22\n",
       "9      Brock      M      2020-02-13"
      ]
     },
     "execution_count": 107,
     "metadata": {},
     "output_type": "execute_result"
    }
   ],
   "source": [
    "df.loc[filt,['first_name','gender','date_of_joining']]"
   ]
  },
  {
   "cell_type": "markdown",
   "metadata": {},
   "source": [
    "# Sorting the records based on Column values"
   ]
  },
  {
   "cell_type": "code",
   "execution_count": 116,
   "metadata": {},
   "outputs": [
    {
     "name": "stdout",
     "output_type": "stream",
     "text": [
      " * sqlite://\n",
      "Done.\n"
     ]
    },
    {
     "data": {
      "text/html": [
       "<table>\n",
       "    <tr>\n",
       "        <th>ID</th>\n",
       "        <th>first_name</th>\n",
       "        <th>last_name</th>\n",
       "        <th>gender</th>\n",
       "        <th>salary</th>\n",
       "        <th>level</th>\n",
       "        <th>date_of_joining</th>\n",
       "    </tr>\n",
       "    <tr>\n",
       "        <td>5</td>\n",
       "        <td>David</td>\n",
       "        <td>Cox</td>\n",
       "        <td>M</td>\n",
       "        <td>5000</td>\n",
       "        <td>1</td>\n",
       "        <td>2020-05-28</td>\n",
       "    </tr>\n",
       "    <tr>\n",
       "        <td>1</td>\n",
       "        <td>Peter</td>\n",
       "        <td>Sanders</td>\n",
       "        <td>M</td>\n",
       "        <td>10000</td>\n",
       "        <td>2</td>\n",
       "        <td>2020-03-10</td>\n",
       "    </tr>\n",
       "    <tr>\n",
       "        <td>10</td>\n",
       "        <td>Brock</td>\n",
       "        <td>Murray</td>\n",
       "        <td>M</td>\n",
       "        <td>11000</td>\n",
       "        <td>2</td>\n",
       "        <td> 2020-02-13</td>\n",
       "    </tr>\n",
       "    <tr>\n",
       "        <td>7</td>\n",
       "        <td>John</td>\n",
       "        <td>Frank</td>\n",
       "        <td>M</td>\n",
       "        <td>13000</td>\n",
       "        <td>3</td>\n",
       "        <td>2019-11-12</td>\n",
       "    </tr>\n",
       "    <tr>\n",
       "        <td>8</td>\n",
       "        <td>Mark</td>\n",
       "        <td>Franklin</td>\n",
       "        <td>M</td>\n",
       "        <td>13500</td>\n",
       "        <td>3</td>\n",
       "        <td>2019-11-12</td>\n",
       "    </tr>\n",
       "    <tr>\n",
       "        <td>6</td>\n",
       "        <td>Helly</td>\n",
       "        <td>Raval</td>\n",
       "        <td>F</td>\n",
       "        <td>8000</td>\n",
       "        <td>1</td>\n",
       "        <td>2020-06-19</td>\n",
       "    </tr>\n",
       "    <tr>\n",
       "        <td>3</td>\n",
       "        <td>Rachel</td>\n",
       "        <td>Bray</td>\n",
       "        <td>F</td>\n",
       "        <td>9000</td>\n",
       "        <td>1</td>\n",
       "        <td>2020-03-09</td>\n",
       "    </tr>\n",
       "    <tr>\n",
       "        <td>4</td>\n",
       "        <td>Priti</td>\n",
       "        <td>Agarwal</td>\n",
       "        <td>F</td>\n",
       "        <td>10000</td>\n",
       "        <td>2</td>\n",
       "        <td>2020-03-01</td>\n",
       "    </tr>\n",
       "    <tr>\n",
       "        <td>2</td>\n",
       "        <td>Julie</td>\n",
       "        <td>Miller</td>\n",
       "        <td>F</td>\n",
       "        <td>12000</td>\n",
       "        <td>2</td>\n",
       "        <td>2020-01-14</td>\n",
       "    </tr>\n",
       "    <tr>\n",
       "        <td>9</td>\n",
       "        <td>Cristina</td>\n",
       "        <td>Rel</td>\n",
       "        <td>F</td>\n",
       "        <td>15000</td>\n",
       "        <td>4</td>\n",
       "        <td>2019-09-22</td>\n",
       "    </tr>\n",
       "</table>"
      ],
      "text/plain": [
       "[(5, 'David', 'Cox', 'M', 5000, 1, '2020-05-28'),\n",
       " (1, 'Peter', 'Sanders', 'M', 10000, 2, '2020-03-10'),\n",
       " (10, 'Brock', 'Murray', 'M', 11000, 2, ' 2020-02-13'),\n",
       " (7, 'John', 'Frank', 'M', 13000, 3, '2019-11-12'),\n",
       " (8, 'Mark', 'Franklin', 'M', 13500, 3, '2019-11-12'),\n",
       " (6, 'Helly', 'Raval', 'F', 8000, 1, '2020-06-19'),\n",
       " (3, 'Rachel', 'Bray', 'F', 9000, 1, '2020-03-09'),\n",
       " (4, 'Priti', 'Agarwal', 'F', 10000, 2, '2020-03-01'),\n",
       " (2, 'Julie', 'Miller', 'F', 12000, 2, '2020-01-14'),\n",
       " (9, 'Cristina', 'Rel', 'F', 15000, 4, '2019-09-22')]"
      ]
     },
     "execution_count": 116,
     "metadata": {},
     "output_type": "execute_result"
    }
   ],
   "source": [
    "%%sql\n",
    "select *\n",
    "from employee\n",
    "order by \n",
    "gender DESC,\n",
    "salary ASC;"
   ]
  },
  {
   "cell_type": "code",
   "execution_count": 119,
   "metadata": {},
   "outputs": [
    {
     "data": {
      "text/html": [
       "<div>\n",
       "<style scoped>\n",
       "    .dataframe tbody tr th:only-of-type {\n",
       "        vertical-align: middle;\n",
       "    }\n",
       "\n",
       "    .dataframe tbody tr th {\n",
       "        vertical-align: top;\n",
       "    }\n",
       "\n",
       "    .dataframe thead th {\n",
       "        text-align: right;\n",
       "    }\n",
       "</style>\n",
       "<table border=\"1\" class=\"dataframe\">\n",
       "  <thead>\n",
       "    <tr style=\"text-align: right;\">\n",
       "      <th></th>\n",
       "      <th>ID</th>\n",
       "      <th>first_name</th>\n",
       "      <th>last_name</th>\n",
       "      <th>gender</th>\n",
       "      <th>salary</th>\n",
       "      <th>level</th>\n",
       "      <th>date_of_joining</th>\n",
       "    </tr>\n",
       "  </thead>\n",
       "  <tbody>\n",
       "    <tr>\n",
       "      <th>4</th>\n",
       "      <td>5</td>\n",
       "      <td>David</td>\n",
       "      <td>Cox</td>\n",
       "      <td>M</td>\n",
       "      <td>5000</td>\n",
       "      <td>1</td>\n",
       "      <td>2020-05-28</td>\n",
       "    </tr>\n",
       "    <tr>\n",
       "      <th>0</th>\n",
       "      <td>1</td>\n",
       "      <td>Peter</td>\n",
       "      <td>Sanders</td>\n",
       "      <td>M</td>\n",
       "      <td>10000</td>\n",
       "      <td>2</td>\n",
       "      <td>2020-10-03</td>\n",
       "    </tr>\n",
       "    <tr>\n",
       "      <th>9</th>\n",
       "      <td>10</td>\n",
       "      <td>Brock</td>\n",
       "      <td>Murray</td>\n",
       "      <td>M</td>\n",
       "      <td>11000</td>\n",
       "      <td>2</td>\n",
       "      <td>2020-02-13</td>\n",
       "    </tr>\n",
       "    <tr>\n",
       "      <th>6</th>\n",
       "      <td>7</td>\n",
       "      <td>John</td>\n",
       "      <td>Frank</td>\n",
       "      <td>M</td>\n",
       "      <td>13000</td>\n",
       "      <td>3</td>\n",
       "      <td>2019-12-11</td>\n",
       "    </tr>\n",
       "    <tr>\n",
       "      <th>7</th>\n",
       "      <td>8</td>\n",
       "      <td>Mark</td>\n",
       "      <td>Franklin</td>\n",
       "      <td>M</td>\n",
       "      <td>13500</td>\n",
       "      <td>3</td>\n",
       "      <td>2019-12-11</td>\n",
       "    </tr>\n",
       "    <tr>\n",
       "      <th>5</th>\n",
       "      <td>6</td>\n",
       "      <td>Helly</td>\n",
       "      <td>Raval</td>\n",
       "      <td>F</td>\n",
       "      <td>8000</td>\n",
       "      <td>1</td>\n",
       "      <td>2020-06-19</td>\n",
       "    </tr>\n",
       "    <tr>\n",
       "      <th>2</th>\n",
       "      <td>3</td>\n",
       "      <td>Rachel</td>\n",
       "      <td>Bray</td>\n",
       "      <td>F</td>\n",
       "      <td>9000</td>\n",
       "      <td>1</td>\n",
       "      <td>2020-09-03</td>\n",
       "    </tr>\n",
       "    <tr>\n",
       "      <th>3</th>\n",
       "      <td>4</td>\n",
       "      <td>Priti</td>\n",
       "      <td>Agarwal</td>\n",
       "      <td>F</td>\n",
       "      <td>10000</td>\n",
       "      <td>2</td>\n",
       "      <td>2020-01-03</td>\n",
       "    </tr>\n",
       "    <tr>\n",
       "      <th>1</th>\n",
       "      <td>2</td>\n",
       "      <td>Julie</td>\n",
       "      <td>Miller</td>\n",
       "      <td>F</td>\n",
       "      <td>12000</td>\n",
       "      <td>2</td>\n",
       "      <td>2020-01-14</td>\n",
       "    </tr>\n",
       "    <tr>\n",
       "      <th>8</th>\n",
       "      <td>9</td>\n",
       "      <td>Cristina</td>\n",
       "      <td>Rel</td>\n",
       "      <td>F</td>\n",
       "      <td>15000</td>\n",
       "      <td>4</td>\n",
       "      <td>2019-09-22</td>\n",
       "    </tr>\n",
       "  </tbody>\n",
       "</table>\n",
       "</div>"
      ],
      "text/plain": [
       "   ID first_name last_name gender  salary  level date_of_joining\n",
       "4   5      David       Cox      M    5000      1      2020-05-28\n",
       "0   1      Peter   Sanders      M   10000      2      2020-10-03\n",
       "9  10      Brock    Murray      M   11000      2      2020-02-13\n",
       "6   7       John     Frank      M   13000      3      2019-12-11\n",
       "7   8       Mark  Franklin      M   13500      3      2019-12-11\n",
       "5   6      Helly     Raval      F    8000      1      2020-06-19\n",
       "2   3     Rachel      Bray      F    9000      1      2020-09-03\n",
       "3   4      Priti   Agarwal      F   10000      2      2020-01-03\n",
       "1   2      Julie    Miller      F   12000      2      2020-01-14\n",
       "8   9   Cristina       Rel      F   15000      4      2019-09-22"
      ]
     },
     "execution_count": 119,
     "metadata": {},
     "output_type": "execute_result"
    }
   ],
   "source": [
    "df.sort_values(['gender',\"salary\"],ascending=[0,1])"
   ]
  },
  {
   "cell_type": "markdown",
   "metadata": {},
   "source": [
    "# Grouping records"
   ]
  },
  {
   "cell_type": "code",
   "execution_count": 139,
   "metadata": {},
   "outputs": [
    {
     "name": "stdout",
     "output_type": "stream",
     "text": [
      " * sqlite://\n",
      "Done.\n"
     ]
    },
    {
     "data": {
      "text/html": [
       "<table>\n",
       "    <tr>\n",
       "        <th>level</th>\n",
       "        <th>avg_salary</th>\n",
       "        <th>count</th>\n",
       "    </tr>\n",
       "    <tr>\n",
       "        <td>1</td>\n",
       "        <td>7333.33</td>\n",
       "        <td>3</td>\n",
       "    </tr>\n",
       "    <tr>\n",
       "        <td>2</td>\n",
       "        <td>10750.0</td>\n",
       "        <td>4</td>\n",
       "    </tr>\n",
       "    <tr>\n",
       "        <td>3</td>\n",
       "        <td>13250.0</td>\n",
       "        <td>2</td>\n",
       "    </tr>\n",
       "    <tr>\n",
       "        <td>4</td>\n",
       "        <td>15000.0</td>\n",
       "        <td>1</td>\n",
       "    </tr>\n",
       "</table>"
      ],
      "text/plain": [
       "[(1, 7333.33, 3), (2, 10750.0, 4), (3, 13250.0, 2), (4, 15000.0, 1)]"
      ]
     },
     "execution_count": 139,
     "metadata": {},
     "output_type": "execute_result"
    }
   ],
   "source": [
    "%%sql \n",
    "select level, \n",
    "round(avg(salary), 2) as avg_salary, \n",
    "count(*) as count\n",
    "from employee \n",
    "group by level;"
   ]
  },
  {
   "cell_type": "code",
   "execution_count": 197,
   "metadata": {},
   "outputs": [
    {
     "data": {
      "text/html": [
       "<div>\n",
       "<style scoped>\n",
       "    .dataframe tbody tr th:only-of-type {\n",
       "        vertical-align: middle;\n",
       "    }\n",
       "\n",
       "    .dataframe tbody tr th {\n",
       "        vertical-align: top;\n",
       "    }\n",
       "\n",
       "    .dataframe thead th {\n",
       "        text-align: right;\n",
       "    }\n",
       "</style>\n",
       "<table border=\"1\" class=\"dataframe\">\n",
       "  <thead>\n",
       "    <tr style=\"text-align: right;\">\n",
       "      <th></th>\n",
       "      <th>level</th>\n",
       "      <th>avg_salary</th>\n",
       "    </tr>\n",
       "  </thead>\n",
       "  <tbody>\n",
       "    <tr>\n",
       "      <th>0</th>\n",
       "      <td>1</td>\n",
       "      <td>7333.33</td>\n",
       "    </tr>\n",
       "    <tr>\n",
       "      <th>1</th>\n",
       "      <td>2</td>\n",
       "      <td>10750.00</td>\n",
       "    </tr>\n",
       "    <tr>\n",
       "      <th>2</th>\n",
       "      <td>3</td>\n",
       "      <td>13250.00</td>\n",
       "    </tr>\n",
       "    <tr>\n",
       "      <th>3</th>\n",
       "      <td>4</td>\n",
       "      <td>15000.00</td>\n",
       "    </tr>\n",
       "  </tbody>\n",
       "</table>\n",
       "</div>"
      ],
      "text/plain": [
       "   level  avg_salary\n",
       "0      1     7333.33\n",
       "1      2    10750.00\n",
       "2      3    13250.00\n",
       "3      4    15000.00"
      ]
     },
     "execution_count": 197,
     "metadata": {},
     "output_type": "execute_result"
    }
   ],
   "source": [
    "df.groupby('level').salary.mean().reset_index().round(2).rename(columns={'salary':'avg_salary'})"
   ]
  },
  {
   "cell_type": "code",
   "execution_count": 191,
   "metadata": {},
   "outputs": [
    {
     "data": {
      "text/html": [
       "<div>\n",
       "<style scoped>\n",
       "    .dataframe tbody tr th:only-of-type {\n",
       "        vertical-align: middle;\n",
       "    }\n",
       "\n",
       "    .dataframe tbody tr th {\n",
       "        vertical-align: top;\n",
       "    }\n",
       "\n",
       "    .dataframe thead th {\n",
       "        text-align: right;\n",
       "    }\n",
       "</style>\n",
       "<table border=\"1\" class=\"dataframe\">\n",
       "  <thead>\n",
       "    <tr style=\"text-align: right;\">\n",
       "      <th></th>\n",
       "      <th>level</th>\n",
       "      <th>ID</th>\n",
       "      <th>avg_salary</th>\n",
       "    </tr>\n",
       "  </thead>\n",
       "  <tbody>\n",
       "    <tr>\n",
       "      <th>0</th>\n",
       "      <td>1</td>\n",
       "      <td>4.666667</td>\n",
       "      <td>7333.333333</td>\n",
       "    </tr>\n",
       "    <tr>\n",
       "      <th>1</th>\n",
       "      <td>2</td>\n",
       "      <td>4.250000</td>\n",
       "      <td>10750.000000</td>\n",
       "    </tr>\n",
       "    <tr>\n",
       "      <th>2</th>\n",
       "      <td>3</td>\n",
       "      <td>7.500000</td>\n",
       "      <td>13250.000000</td>\n",
       "    </tr>\n",
       "    <tr>\n",
       "      <th>3</th>\n",
       "      <td>4</td>\n",
       "      <td>9.000000</td>\n",
       "      <td>15000.000000</td>\n",
       "    </tr>\n",
       "  </tbody>\n",
       "</table>\n",
       "</div>"
      ],
      "text/plain": [
       "   level        ID    avg_salary\n",
       "0      1  4.666667   7333.333333\n",
       "1      2  4.250000  10750.000000\n",
       "2      3  7.500000  13250.000000\n",
       "3      4  9.000000  15000.000000"
      ]
     },
     "execution_count": 191,
     "metadata": {},
     "output_type": "execute_result"
    }
   ],
   "source": [
    "df.groupby(['level']).mean().sort_values('salary').reset_index().rename(columns={'salary':'avg_salary'})"
   ]
  },
  {
   "cell_type": "code",
   "execution_count": 151,
   "metadata": {},
   "outputs": [
    {
     "data": {
      "text/html": [
       "<div>\n",
       "<style scoped>\n",
       "    .dataframe tbody tr th:only-of-type {\n",
       "        vertical-align: middle;\n",
       "    }\n",
       "\n",
       "    .dataframe tbody tr th {\n",
       "        vertical-align: top;\n",
       "    }\n",
       "\n",
       "    .dataframe thead th {\n",
       "        text-align: right;\n",
       "    }\n",
       "</style>\n",
       "<table border=\"1\" class=\"dataframe\">\n",
       "  <thead>\n",
       "    <tr style=\"text-align: right;\">\n",
       "      <th></th>\n",
       "      <th>ID</th>\n",
       "      <th>first_name</th>\n",
       "      <th>last_name</th>\n",
       "      <th>gender</th>\n",
       "      <th>salary</th>\n",
       "      <th>level</th>\n",
       "      <th>date_of_joining</th>\n",
       "    </tr>\n",
       "  </thead>\n",
       "  <tbody>\n",
       "    <tr>\n",
       "      <th>2</th>\n",
       "      <td>3</td>\n",
       "      <td>Rachel</td>\n",
       "      <td>Bray</td>\n",
       "      <td>F</td>\n",
       "      <td>9000</td>\n",
       "      <td>1</td>\n",
       "      <td>2020-09-03</td>\n",
       "    </tr>\n",
       "    <tr>\n",
       "      <th>4</th>\n",
       "      <td>5</td>\n",
       "      <td>David</td>\n",
       "      <td>Cox</td>\n",
       "      <td>M</td>\n",
       "      <td>5000</td>\n",
       "      <td>1</td>\n",
       "      <td>2020-05-28</td>\n",
       "    </tr>\n",
       "    <tr>\n",
       "      <th>5</th>\n",
       "      <td>6</td>\n",
       "      <td>Helly</td>\n",
       "      <td>Raval</td>\n",
       "      <td>F</td>\n",
       "      <td>8000</td>\n",
       "      <td>1</td>\n",
       "      <td>2020-06-19</td>\n",
       "    </tr>\n",
       "  </tbody>\n",
       "</table>\n",
       "</div>"
      ],
      "text/plain": [
       "   ID first_name last_name gender  salary  level date_of_joining\n",
       "2   3     Rachel      Bray      F    9000      1      2020-09-03\n",
       "4   5      David       Cox      M    5000      1      2020-05-28\n",
       "5   6      Helly     Raval      F    8000      1      2020-06-19"
      ]
     },
     "execution_count": 151,
     "metadata": {},
     "output_type": "execute_result"
    }
   ],
   "source": [
    "level_grp = df.groupby(['level'])\n",
    "level_grp.get_group(1)"
   ]
  },
  {
   "cell_type": "code",
   "execution_count": 152,
   "metadata": {},
   "outputs": [
    {
     "data": {
      "text/html": [
       "<div>\n",
       "<style scoped>\n",
       "    .dataframe tbody tr th:only-of-type {\n",
       "        vertical-align: middle;\n",
       "    }\n",
       "\n",
       "    .dataframe tbody tr th {\n",
       "        vertical-align: top;\n",
       "    }\n",
       "\n",
       "    .dataframe thead th {\n",
       "        text-align: right;\n",
       "    }\n",
       "</style>\n",
       "<table border=\"1\" class=\"dataframe\">\n",
       "  <thead>\n",
       "    <tr style=\"text-align: right;\">\n",
       "      <th></th>\n",
       "      <th>ID</th>\n",
       "      <th>first_name</th>\n",
       "      <th>last_name</th>\n",
       "      <th>gender</th>\n",
       "      <th>salary</th>\n",
       "      <th>level</th>\n",
       "      <th>date_of_joining</th>\n",
       "    </tr>\n",
       "  </thead>\n",
       "  <tbody>\n",
       "    <tr>\n",
       "      <th>2</th>\n",
       "      <td>3</td>\n",
       "      <td>Rachel</td>\n",
       "      <td>Bray</td>\n",
       "      <td>F</td>\n",
       "      <td>9000</td>\n",
       "      <td>1</td>\n",
       "      <td>2020-09-03</td>\n",
       "    </tr>\n",
       "    <tr>\n",
       "      <th>4</th>\n",
       "      <td>5</td>\n",
       "      <td>David</td>\n",
       "      <td>Cox</td>\n",
       "      <td>M</td>\n",
       "      <td>5000</td>\n",
       "      <td>1</td>\n",
       "      <td>2020-05-28</td>\n",
       "    </tr>\n",
       "    <tr>\n",
       "      <th>5</th>\n",
       "      <td>6</td>\n",
       "      <td>Helly</td>\n",
       "      <td>Raval</td>\n",
       "      <td>F</td>\n",
       "      <td>8000</td>\n",
       "      <td>1</td>\n",
       "      <td>2020-06-19</td>\n",
       "    </tr>\n",
       "  </tbody>\n",
       "</table>\n",
       "</div>"
      ],
      "text/plain": [
       "   ID first_name last_name gender  salary  level date_of_joining\n",
       "2   3     Rachel      Bray      F    9000      1      2020-09-03\n",
       "4   5      David       Cox      M    5000      1      2020-05-28\n",
       "5   6      Helly     Raval      F    8000      1      2020-06-19"
      ]
     },
     "execution_count": 152,
     "metadata": {},
     "output_type": "execute_result"
    }
   ],
   "source": [
    "df.groupby(['level']).get_group(1)"
   ]
  },
  {
   "cell_type": "markdown",
   "metadata": {},
   "source": [
    "# Number of Distinct records"
   ]
  },
  {
   "cell_type": "code",
   "execution_count": 163,
   "metadata": {},
   "outputs": [
    {
     "name": "stdout",
     "output_type": "stream",
     "text": [
      " * sqlite://\n",
      "Done.\n"
     ]
    },
    {
     "data": {
      "text/html": [
       "<table>\n",
       "    <tr>\n",
       "        <th>level</th>\n",
       "    </tr>\n",
       "    <tr>\n",
       "        <td>2</td>\n",
       "    </tr>\n",
       "    <tr>\n",
       "        <td>1</td>\n",
       "    </tr>\n",
       "    <tr>\n",
       "        <td>3</td>\n",
       "    </tr>\n",
       "    <tr>\n",
       "        <td>4</td>\n",
       "    </tr>\n",
       "</table>"
      ],
      "text/plain": [
       "[(2,), (1,), (3,), (4,)]"
      ]
     },
     "execution_count": 163,
     "metadata": {},
     "output_type": "execute_result"
    }
   ],
   "source": [
    "%%sql\n",
    "select distinct level from employee;"
   ]
  },
  {
   "cell_type": "code",
   "execution_count": null,
   "metadata": {},
   "outputs": [],
   "source": []
  },
  {
   "cell_type": "code",
   "execution_count": 164,
   "metadata": {},
   "outputs": [
    {
     "name": "stdout",
     "output_type": "stream",
     "text": [
      " * sqlite://\n",
      "Done.\n"
     ]
    },
    {
     "data": {
      "text/html": [
       "<table>\n",
       "    <tr>\n",
       "        <th>count(distinct level)</th>\n",
       "    </tr>\n",
       "    <tr>\n",
       "        <td>4</td>\n",
       "    </tr>\n",
       "</table>"
      ],
      "text/plain": [
       "[(4,)]"
      ]
     },
     "execution_count": 164,
     "metadata": {},
     "output_type": "execute_result"
    }
   ],
   "source": [
    "%%sql\n",
    "select count(distinct level) from employee;"
   ]
  },
  {
   "cell_type": "code",
   "execution_count": null,
   "metadata": {},
   "outputs": [],
   "source": []
  },
  {
   "cell_type": "markdown",
   "metadata": {},
   "source": [
    "# Number of Rows in the Table"
   ]
  },
  {
   "cell_type": "code",
   "execution_count": 165,
   "metadata": {},
   "outputs": [
    {
     "name": "stdout",
     "output_type": "stream",
     "text": [
      " * sqlite://\n",
      "Done.\n"
     ]
    },
    {
     "data": {
      "text/html": [
       "<table>\n",
       "    <tr>\n",
       "        <th>count(*)</th>\n",
       "    </tr>\n",
       "    <tr>\n",
       "        <td>10</td>\n",
       "    </tr>\n",
       "</table>"
      ],
      "text/plain": [
       "[(10,)]"
      ]
     },
     "execution_count": 165,
     "metadata": {},
     "output_type": "execute_result"
    }
   ],
   "source": [
    "%%sql\n",
    "select count(*) from employee;"
   ]
  },
  {
   "cell_type": "code",
   "execution_count": null,
   "metadata": {},
   "outputs": [],
   "source": []
  },
  {
   "cell_type": "markdown",
   "metadata": {},
   "source": [
    "# Perform some complex pattern-based string filtering"
   ]
  },
  {
   "cell_type": "code",
   "execution_count": 169,
   "metadata": {},
   "outputs": [
    {
     "name": "stdout",
     "output_type": "stream",
     "text": [
      " * sqlite://\n",
      "Done.\n"
     ]
    },
    {
     "data": {
      "text/html": [
       "<table>\n",
       "    <tr>\n",
       "        <th>ID</th>\n",
       "        <th>first_name</th>\n",
       "        <th>last_name</th>\n",
       "        <th>gender</th>\n",
       "        <th>salary</th>\n",
       "        <th>level</th>\n",
       "        <th>date_of_joining</th>\n",
       "    </tr>\n",
       "    <tr>\n",
       "        <td>2</td>\n",
       "        <td>Julie</td>\n",
       "        <td>Miller</td>\n",
       "        <td>F</td>\n",
       "        <td>12000</td>\n",
       "        <td>2</td>\n",
       "        <td>2020-01-14</td>\n",
       "    </tr>\n",
       "    <tr>\n",
       "        <td>7</td>\n",
       "        <td>John</td>\n",
       "        <td>Frank</td>\n",
       "        <td>M</td>\n",
       "        <td>13000</td>\n",
       "        <td>3</td>\n",
       "        <td>2019-11-12</td>\n",
       "    </tr>\n",
       "</table>"
      ],
      "text/plain": [
       "[(2, 'Julie', 'Miller', 'F', 12000, 2, '2020-01-14'),\n",
       " (7, 'John', 'Frank', 'M', 13000, 3, '2019-11-12')]"
      ]
     },
     "execution_count": 169,
     "metadata": {},
     "output_type": "execute_result"
    }
   ],
   "source": [
    "%%sql\n",
    "select * from employee\n",
    "where first_name LIKE \"J%\";"
   ]
  },
  {
   "cell_type": "code",
   "execution_count": null,
   "metadata": {},
   "outputs": [],
   "source": []
  },
  {
   "cell_type": "markdown",
   "metadata": {},
   "source": [
    "# Search for a substring within a string. \n",
    "For instance, say we want to find all the records in which last_name contains the substring “an\""
   ]
  },
  {
   "cell_type": "code",
   "execution_count": 170,
   "metadata": {},
   "outputs": [
    {
     "name": "stdout",
     "output_type": "stream",
     "text": [
      " * sqlite://\n",
      "Done.\n"
     ]
    },
    {
     "data": {
      "text/html": [
       "<table>\n",
       "    <tr>\n",
       "        <th>ID</th>\n",
       "        <th>first_name</th>\n",
       "        <th>last_name</th>\n",
       "        <th>gender</th>\n",
       "        <th>salary</th>\n",
       "        <th>level</th>\n",
       "        <th>date_of_joining</th>\n",
       "    </tr>\n",
       "    <tr>\n",
       "        <td>1</td>\n",
       "        <td>Peter</td>\n",
       "        <td>Sanders</td>\n",
       "        <td>M</td>\n",
       "        <td>10000</td>\n",
       "        <td>2</td>\n",
       "        <td>2020-03-10</td>\n",
       "    </tr>\n",
       "    <tr>\n",
       "        <td>7</td>\n",
       "        <td>John</td>\n",
       "        <td>Frank</td>\n",
       "        <td>M</td>\n",
       "        <td>13000</td>\n",
       "        <td>3</td>\n",
       "        <td>2019-11-12</td>\n",
       "    </tr>\n",
       "    <tr>\n",
       "        <td>8</td>\n",
       "        <td>Mark</td>\n",
       "        <td>Franklin</td>\n",
       "        <td>M</td>\n",
       "        <td>13500</td>\n",
       "        <td>3</td>\n",
       "        <td>2019-11-12</td>\n",
       "    </tr>\n",
       "</table>"
      ],
      "text/plain": [
       "[(1, 'Peter', 'Sanders', 'M', 10000, 2, '2020-03-10'),\n",
       " (7, 'John', 'Frank', 'M', 13000, 3, '2019-11-12'),\n",
       " (8, 'Mark', 'Franklin', 'M', 13500, 3, '2019-11-12')]"
      ]
     },
     "execution_count": 170,
     "metadata": {},
     "output_type": "execute_result"
    }
   ],
   "source": [
    "%%sql\n",
    "select * from employee\n",
    "where last_name LIKE \"%an%\";"
   ]
  },
  {
   "cell_type": "code",
   "execution_count": null,
   "metadata": {},
   "outputs": [],
   "source": []
  },
  {
   "cell_type": "markdown",
   "metadata": {},
   "source": [
    "# Fill NaN values\n",
    "For this one, I have intentionally removed a couple of values in the salary column. This is the updated DataFrame:"
   ]
  },
  {
   "cell_type": "code",
   "execution_count": null,
   "metadata": {},
   "outputs": [],
   "source": []
  },
  {
   "cell_type": "code",
   "execution_count": null,
   "metadata": {},
   "outputs": [],
   "source": []
  },
  {
   "cell_type": "code",
   "execution_count": null,
   "metadata": {},
   "outputs": [],
   "source": []
  },
  {
   "cell_type": "code",
   "execution_count": null,
   "metadata": {},
   "outputs": [],
   "source": []
  },
  {
   "cell_type": "code",
   "execution_count": null,
   "metadata": {},
   "outputs": [],
   "source": []
  },
  {
   "cell_type": "code",
   "execution_count": null,
   "metadata": {},
   "outputs": [],
   "source": []
  },
  {
   "cell_type": "code",
   "execution_count": null,
   "metadata": {},
   "outputs": [],
   "source": []
  }
 ],
 "metadata": {
  "kernelspec": {
   "display_name": "Python 3",
   "language": "python",
   "name": "python3"
  },
  "language_info": {
   "codemirror_mode": {
    "name": "ipython",
    "version": 3
   },
   "file_extension": ".py",
   "mimetype": "text/x-python",
   "name": "python",
   "nbconvert_exporter": "python",
   "pygments_lexer": "ipython3",
   "version": "3.8.5"
  }
 },
 "nbformat": 4,
 "nbformat_minor": 4
}
